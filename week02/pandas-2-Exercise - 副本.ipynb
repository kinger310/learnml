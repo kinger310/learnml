{
 "cells": [
  {
   "cell_type": "markdown",
   "metadata": {
    "collapsed": true
   },
   "source": [
    "***\n",
    "\n",
    "## Pandas第二课作业\n",
    "\n",
    "####  作业提交说明：\n",
    "- 位置：作业文件统一放置于/0.Teacher/Exercise/Pandas2/下\n",
    "- 文件名：请先复制该notebook文件，并重新命名为(课程名)+(您姓名的全拼)，并按要求完成后保存\n",
    "- 时间：课程结束后的第二天前提交。\n",
    "- 注意：请勿抄袭，移动，修改，删除其他同学和原始空白的练习文件。\n"
   ]
  },
  {
   "cell_type": "markdown",
   "metadata": {},
   "source": [
    "## 作业\n",
    "- 作业所需数据文件位于0.Teacher/data目录下\n",
    "***"
   ]
  },
  {
   "cell_type": "code",
   "execution_count": 41,
   "metadata": {
    "ExecuteTime": {
     "end_time": "2019-05-16T14:34:57.699500Z",
     "start_time": "2019-05-16T14:34:57.690000Z"
    }
   },
   "outputs": [],
   "source": [
    "import pandas as pd\n",
    "import numpy as np\n",
    "import matplotlib.pyplot as plt\n",
    "%matplotlib inline"
   ]
  },
  {
   "cell_type": "markdown",
   "metadata": {},
   "source": [
    "\n",
    "#### 1.读入0.Teacher/Data/下NVDA.csv中的数据\n"
   ]
  },
  {
   "cell_type": "code",
   "execution_count": 11,
   "metadata": {
    "ExecuteTime": {
     "end_time": "2019-05-16T13:58:11.126000Z",
     "start_time": "2019-05-16T13:58:11.091000Z"
    }
   },
   "outputs": [
    {
     "data": {
      "text/html": [
       "<div>\n",
       "<style scoped>\n",
       "    .dataframe tbody tr th:only-of-type {\n",
       "        vertical-align: middle;\n",
       "    }\n",
       "\n",
       "    .dataframe tbody tr th {\n",
       "        vertical-align: top;\n",
       "    }\n",
       "\n",
       "    .dataframe thead th {\n",
       "        text-align: right;\n",
       "    }\n",
       "</style>\n",
       "<table border=\"1\" class=\"dataframe\">\n",
       "  <thead>\n",
       "    <tr style=\"text-align: right;\">\n",
       "      <th></th>\n",
       "      <th>date</th>\n",
       "      <th>open</th>\n",
       "      <th>high</th>\n",
       "      <th>low</th>\n",
       "      <th>close</th>\n",
       "      <th>adj_close</th>\n",
       "      <th>volume</th>\n",
       "    </tr>\n",
       "  </thead>\n",
       "  <tbody>\n",
       "    <tr>\n",
       "      <th>0</th>\n",
       "      <td>1999-01-22</td>\n",
       "      <td>1.750000</td>\n",
       "      <td>1.953125</td>\n",
       "      <td>1.552083</td>\n",
       "      <td>1.640625</td>\n",
       "      <td>1.523430</td>\n",
       "      <td>67867200</td>\n",
       "    </tr>\n",
       "    <tr>\n",
       "      <th>1</th>\n",
       "      <td>1999-01-25</td>\n",
       "      <td>1.770833</td>\n",
       "      <td>1.833333</td>\n",
       "      <td>1.640625</td>\n",
       "      <td>1.812500</td>\n",
       "      <td>1.683028</td>\n",
       "      <td>12762000</td>\n",
       "    </tr>\n",
       "    <tr>\n",
       "      <th>2</th>\n",
       "      <td>1999-01-26</td>\n",
       "      <td>1.833333</td>\n",
       "      <td>1.869792</td>\n",
       "      <td>1.645833</td>\n",
       "      <td>1.671875</td>\n",
       "      <td>1.552448</td>\n",
       "      <td>8580000</td>\n",
       "    </tr>\n",
       "    <tr>\n",
       "      <th>3</th>\n",
       "      <td>1999-01-27</td>\n",
       "      <td>1.677083</td>\n",
       "      <td>1.718750</td>\n",
       "      <td>1.583333</td>\n",
       "      <td>1.666667</td>\n",
       "      <td>1.547611</td>\n",
       "      <td>6109200</td>\n",
       "    </tr>\n",
       "    <tr>\n",
       "      <th>4</th>\n",
       "      <td>1999-01-28</td>\n",
       "      <td>1.666667</td>\n",
       "      <td>1.677083</td>\n",
       "      <td>1.651042</td>\n",
       "      <td>1.661458</td>\n",
       "      <td>1.542776</td>\n",
       "      <td>5688000</td>\n",
       "    </tr>\n",
       "  </tbody>\n",
       "</table>\n",
       "</div>"
      ],
      "text/plain": [
       "         date      open      high       low     close  adj_close    volume\n",
       "0  1999-01-22  1.750000  1.953125  1.552083  1.640625   1.523430  67867200\n",
       "1  1999-01-25  1.770833  1.833333  1.640625  1.812500   1.683028  12762000\n",
       "2  1999-01-26  1.833333  1.869792  1.645833  1.671875   1.552448   8580000\n",
       "3  1999-01-27  1.677083  1.718750  1.583333  1.666667   1.547611   6109200\n",
       "4  1999-01-28  1.666667  1.677083  1.651042  1.661458   1.542776   5688000"
      ]
     },
     "execution_count": 11,
     "metadata": {},
     "output_type": "execute_result"
    }
   ],
   "source": [
    "df = pd.read_csv(\"NVDA.csv\")\n",
    "df.columns = [x.lower().replace(\" \", \"_\") for x in df.columns]\n",
    "df.head()"
   ]
  },
  {
   "cell_type": "markdown",
   "metadata": {
    "collapsed": true
   },
   "source": [
    "#### 2.请计算nvda股票Adj Close每天的log return (log return就是今天的价格除以昨天的，然后取log)"
   ]
  },
  {
   "cell_type": "code",
   "execution_count": 12,
   "metadata": {
    "ExecuteTime": {
     "end_time": "2019-05-16T13:58:36.767000Z",
     "start_time": "2019-05-16T13:58:36.754500Z"
    }
   },
   "outputs": [
    {
     "data": {
      "text/html": [
       "<div>\n",
       "<style scoped>\n",
       "    .dataframe tbody tr th:only-of-type {\n",
       "        vertical-align: middle;\n",
       "    }\n",
       "\n",
       "    .dataframe tbody tr th {\n",
       "        vertical-align: top;\n",
       "    }\n",
       "\n",
       "    .dataframe thead th {\n",
       "        text-align: right;\n",
       "    }\n",
       "</style>\n",
       "<table border=\"1\" class=\"dataframe\">\n",
       "  <thead>\n",
       "    <tr style=\"text-align: right;\">\n",
       "      <th></th>\n",
       "      <th>date</th>\n",
       "      <th>open</th>\n",
       "      <th>high</th>\n",
       "      <th>low</th>\n",
       "      <th>close</th>\n",
       "      <th>adj_close</th>\n",
       "      <th>volume</th>\n",
       "      <th>yesterday_close</th>\n",
       "      <th>log_return</th>\n",
       "    </tr>\n",
       "  </thead>\n",
       "  <tbody>\n",
       "    <tr>\n",
       "      <th>0</th>\n",
       "      <td>1999-01-22</td>\n",
       "      <td>1.750000</td>\n",
       "      <td>1.953125</td>\n",
       "      <td>1.552083</td>\n",
       "      <td>1.640625</td>\n",
       "      <td>1.523430</td>\n",
       "      <td>67867200</td>\n",
       "      <td>NaN</td>\n",
       "      <td>NaN</td>\n",
       "    </tr>\n",
       "    <tr>\n",
       "      <th>1</th>\n",
       "      <td>1999-01-25</td>\n",
       "      <td>1.770833</td>\n",
       "      <td>1.833333</td>\n",
       "      <td>1.640625</td>\n",
       "      <td>1.812500</td>\n",
       "      <td>1.683028</td>\n",
       "      <td>12762000</td>\n",
       "      <td>1.523430</td>\n",
       "      <td>0.099630</td>\n",
       "    </tr>\n",
       "    <tr>\n",
       "      <th>2</th>\n",
       "      <td>1999-01-26</td>\n",
       "      <td>1.833333</td>\n",
       "      <td>1.869792</td>\n",
       "      <td>1.645833</td>\n",
       "      <td>1.671875</td>\n",
       "      <td>1.552448</td>\n",
       "      <td>8580000</td>\n",
       "      <td>1.683028</td>\n",
       "      <td>-0.080762</td>\n",
       "    </tr>\n",
       "    <tr>\n",
       "      <th>3</th>\n",
       "      <td>1999-01-27</td>\n",
       "      <td>1.677083</td>\n",
       "      <td>1.718750</td>\n",
       "      <td>1.583333</td>\n",
       "      <td>1.666667</td>\n",
       "      <td>1.547611</td>\n",
       "      <td>6109200</td>\n",
       "      <td>1.552448</td>\n",
       "      <td>-0.003121</td>\n",
       "    </tr>\n",
       "    <tr>\n",
       "      <th>4</th>\n",
       "      <td>1999-01-28</td>\n",
       "      <td>1.666667</td>\n",
       "      <td>1.677083</td>\n",
       "      <td>1.651042</td>\n",
       "      <td>1.661458</td>\n",
       "      <td>1.542776</td>\n",
       "      <td>5688000</td>\n",
       "      <td>1.547611</td>\n",
       "      <td>-0.003129</td>\n",
       "    </tr>\n",
       "  </tbody>\n",
       "</table>\n",
       "</div>"
      ],
      "text/plain": [
       "         date      open      high       low     close  adj_close    volume  \\\n",
       "0  1999-01-22  1.750000  1.953125  1.552083  1.640625   1.523430  67867200   \n",
       "1  1999-01-25  1.770833  1.833333  1.640625  1.812500   1.683028  12762000   \n",
       "2  1999-01-26  1.833333  1.869792  1.645833  1.671875   1.552448   8580000   \n",
       "3  1999-01-27  1.677083  1.718750  1.583333  1.666667   1.547611   6109200   \n",
       "4  1999-01-28  1.666667  1.677083  1.651042  1.661458   1.542776   5688000   \n",
       "\n",
       "   yesterday_close  log_return  \n",
       "0              NaN         NaN  \n",
       "1         1.523430    0.099630  \n",
       "2         1.683028   -0.080762  \n",
       "3         1.552448   -0.003121  \n",
       "4         1.547611   -0.003129  "
      ]
     },
     "execution_count": 12,
     "metadata": {},
     "output_type": "execute_result"
    }
   ],
   "source": [
    "df[\"yesterday_close\"] = df.adj_close.shift(1)\n",
    "df[\"log_return\"] = np.log(df.adj_close / df.yesterday_close)\n",
    "df.head()"
   ]
  },
  {
   "cell_type": "markdown",
   "metadata": {},
   "source": [
    "#### 3.请找出nvda股票涨幅最大的10天"
   ]
  },
  {
   "cell_type": "code",
   "execution_count": 16,
   "metadata": {
    "ExecuteTime": {
     "end_time": "2019-05-16T14:01:55.707000Z",
     "start_time": "2019-05-16T14:01:55.701000Z"
    }
   },
   "outputs": [
    {
     "data": {
      "text/plain": [
       "['2000-03-07',\n",
       " '2003-05-09',\n",
       " '2001-01-03',\n",
       " '2016-11-11',\n",
       " '2000-03-13',\n",
       " '2000-12-22',\n",
       " '2000-12-08',\n",
       " '2000-04-05',\n",
       " '2003-02-14',\n",
       " '1999-08-19']"
      ]
     },
     "execution_count": 16,
     "metadata": {},
     "output_type": "execute_result"
    }
   ],
   "source": [
    "max_increase_10days = df.sort_values(by=[\"log_return\"], ascending=False).iloc[:10][\"date\"].tolist()\n",
    "max_increase_10days"
   ]
  },
  {
   "cell_type": "markdown",
   "metadata": {},
   "source": [
    "#### 4. 将这十天的股票信息都输出来"
   ]
  },
  {
   "cell_type": "code",
   "execution_count": 17,
   "metadata": {
    "ExecuteTime": {
     "end_time": "2019-05-16T14:02:17.162000Z",
     "start_time": "2019-05-16T14:02:17.149000Z"
    }
   },
   "outputs": [
    {
     "data": {
      "text/html": [
       "<div>\n",
       "<style scoped>\n",
       "    .dataframe tbody tr th:only-of-type {\n",
       "        vertical-align: middle;\n",
       "    }\n",
       "\n",
       "    .dataframe tbody tr th {\n",
       "        vertical-align: top;\n",
       "    }\n",
       "\n",
       "    .dataframe thead th {\n",
       "        text-align: right;\n",
       "    }\n",
       "</style>\n",
       "<table border=\"1\" class=\"dataframe\">\n",
       "  <thead>\n",
       "    <tr style=\"text-align: right;\">\n",
       "      <th></th>\n",
       "      <th>date</th>\n",
       "      <th>open</th>\n",
       "      <th>high</th>\n",
       "      <th>low</th>\n",
       "      <th>close</th>\n",
       "      <th>adj_close</th>\n",
       "      <th>volume</th>\n",
       "      <th>yesterday_close</th>\n",
       "      <th>log_return</th>\n",
       "    </tr>\n",
       "  </thead>\n",
       "  <tbody>\n",
       "    <tr>\n",
       "      <th>283</th>\n",
       "      <td>2000-03-07</td>\n",
       "      <td>6.250000</td>\n",
       "      <td>7.270833</td>\n",
       "      <td>5.979167</td>\n",
       "      <td>6.942708</td>\n",
       "      <td>6.446771</td>\n",
       "      <td>48805200</td>\n",
       "      <td>4.526765</td>\n",
       "      <td>0.353572</td>\n",
       "    </tr>\n",
       "    <tr>\n",
       "      <th>1079</th>\n",
       "      <td>2003-05-09</td>\n",
       "      <td>6.276667</td>\n",
       "      <td>7.176667</td>\n",
       "      <td>6.100000</td>\n",
       "      <td>7.123333</td>\n",
       "      <td>6.614493</td>\n",
       "      <td>230771400</td>\n",
       "      <td>4.970930</td>\n",
       "      <td>0.285656</td>\n",
       "    </tr>\n",
       "    <tr>\n",
       "      <th>492</th>\n",
       "      <td>2001-01-03</td>\n",
       "      <td>4.833333</td>\n",
       "      <td>6.572917</td>\n",
       "      <td>4.708333</td>\n",
       "      <td>6.520833</td>\n",
       "      <td>6.055031</td>\n",
       "      <td>22759200</td>\n",
       "      <td>4.633162</td>\n",
       "      <td>0.267650</td>\n",
       "    </tr>\n",
       "    <tr>\n",
       "      <th>4482</th>\n",
       "      <td>2016-11-11</td>\n",
       "      <td>79.510002</td>\n",
       "      <td>88.769997</td>\n",
       "      <td>78.500000</td>\n",
       "      <td>87.970001</td>\n",
       "      <td>87.635475</td>\n",
       "      <td>54335100</td>\n",
       "      <td>67.512283</td>\n",
       "      <td>0.260876</td>\n",
       "    </tr>\n",
       "    <tr>\n",
       "      <th>287</th>\n",
       "      <td>2000-03-13</td>\n",
       "      <td>8.916667</td>\n",
       "      <td>12.500000</td>\n",
       "      <td>8.833333</td>\n",
       "      <td>12.437500</td>\n",
       "      <td>11.549053</td>\n",
       "      <td>60379200</td>\n",
       "      <td>9.130910</td>\n",
       "      <td>0.234938</td>\n",
       "    </tr>\n",
       "    <tr>\n",
       "      <th>486</th>\n",
       "      <td>2000-12-22</td>\n",
       "      <td>5.020833</td>\n",
       "      <td>6.375000</td>\n",
       "      <td>5.020833</td>\n",
       "      <td>5.843750</td>\n",
       "      <td>5.426314</td>\n",
       "      <td>23727000</td>\n",
       "      <td>4.313969</td>\n",
       "      <td>0.229402</td>\n",
       "    </tr>\n",
       "    <tr>\n",
       "      <th>476</th>\n",
       "      <td>2000-12-08</td>\n",
       "      <td>7.447917</td>\n",
       "      <td>8.333333</td>\n",
       "      <td>6.752600</td>\n",
       "      <td>8.291667</td>\n",
       "      <td>7.699371</td>\n",
       "      <td>21334800</td>\n",
       "      <td>6.267828</td>\n",
       "      <td>0.205709</td>\n",
       "    </tr>\n",
       "    <tr>\n",
       "      <th>304</th>\n",
       "      <td>2000-04-05</td>\n",
       "      <td>6.312500</td>\n",
       "      <td>8.125000</td>\n",
       "      <td>5.989583</td>\n",
       "      <td>7.640625</td>\n",
       "      <td>7.094833</td>\n",
       "      <td>15990000</td>\n",
       "      <td>5.803545</td>\n",
       "      <td>0.200898</td>\n",
       "    </tr>\n",
       "    <tr>\n",
       "      <th>1021</th>\n",
       "      <td>2003-02-14</td>\n",
       "      <td>3.740000</td>\n",
       "      <td>4.016667</td>\n",
       "      <td>3.650000</td>\n",
       "      <td>4.013333</td>\n",
       "      <td>3.726649</td>\n",
       "      <td>88721100</td>\n",
       "      <td>3.054985</td>\n",
       "      <td>0.198735</td>\n",
       "    </tr>\n",
       "    <tr>\n",
       "      <th>145</th>\n",
       "      <td>1999-08-19</td>\n",
       "      <td>1.994792</td>\n",
       "      <td>2.364583</td>\n",
       "      <td>1.927083</td>\n",
       "      <td>2.260417</td>\n",
       "      <td>2.098948</td>\n",
       "      <td>49174800</td>\n",
       "      <td>1.731391</td>\n",
       "      <td>0.192511</td>\n",
       "    </tr>\n",
       "  </tbody>\n",
       "</table>\n",
       "</div>"
      ],
      "text/plain": [
       "            date       open       high        low      close  adj_close  \\\n",
       "283   2000-03-07   6.250000   7.270833   5.979167   6.942708   6.446771   \n",
       "1079  2003-05-09   6.276667   7.176667   6.100000   7.123333   6.614493   \n",
       "492   2001-01-03   4.833333   6.572917   4.708333   6.520833   6.055031   \n",
       "4482  2016-11-11  79.510002  88.769997  78.500000  87.970001  87.635475   \n",
       "287   2000-03-13   8.916667  12.500000   8.833333  12.437500  11.549053   \n",
       "486   2000-12-22   5.020833   6.375000   5.020833   5.843750   5.426314   \n",
       "476   2000-12-08   7.447917   8.333333   6.752600   8.291667   7.699371   \n",
       "304   2000-04-05   6.312500   8.125000   5.989583   7.640625   7.094833   \n",
       "1021  2003-02-14   3.740000   4.016667   3.650000   4.013333   3.726649   \n",
       "145   1999-08-19   1.994792   2.364583   1.927083   2.260417   2.098948   \n",
       "\n",
       "         volume  yesterday_close  log_return  \n",
       "283    48805200         4.526765    0.353572  \n",
       "1079  230771400         4.970930    0.285656  \n",
       "492    22759200         4.633162    0.267650  \n",
       "4482   54335100        67.512283    0.260876  \n",
       "287    60379200         9.130910    0.234938  \n",
       "486    23727000         4.313969    0.229402  \n",
       "476    21334800         6.267828    0.205709  \n",
       "304    15990000         5.803545    0.200898  \n",
       "1021   88721100         3.054985    0.198735  \n",
       "145    49174800         1.731391    0.192511  "
      ]
     },
     "execution_count": 17,
     "metadata": {},
     "output_type": "execute_result"
    }
   ],
   "source": [
    "df.sort_values(by=[\"log_return\"], ascending=False).iloc[:10]"
   ]
  },
  {
   "cell_type": "markdown",
   "metadata": {},
   "source": [
    "#### 5把英伟达每个月最后一天的股价记录下来，做成一张新的月线图，然后把Adj Close画成一张图"
   ]
  },
  {
   "cell_type": "code",
   "execution_count": 42,
   "metadata": {
    "ExecuteTime": {
     "end_time": "2019-05-16T14:35:00.698500Z",
     "start_time": "2019-05-16T14:35:00.546500Z"
    }
   },
   "outputs": [
    {
     "data": {
      "image/png": "[encoded data removed]",
      "text/plain": [
       "<Figure size 432x288 with 1 Axes>"
      ]
     },
     "metadata": {
      "needs_background": "light"
     },
     "output_type": "display_data"
    }
   ],
   "source": [
    "from datetime import datetime, timedelta\n",
    "\n",
    "\n",
    "def get_end_month_date(end_date, months):\n",
    "    # end_date = \"2019-04-15\"\n",
    "    lst = [end_date]\n",
    "    now_date = datetime.strptime(end_date, \"%Y-%m-%d\")\n",
    "    for _ in range(1, months):\n",
    "        first_day = now_date.replace(day=1)\n",
    "        now_date =  first_day - timedelta(days=1)\n",
    "        lst.append(datetime.strftime(now_date, \"%Y-%m-%d\"))\n",
    "    return set(lst)\n",
    "\n",
    "end_dates_of_month = get_end_month_date(\"2017-07-20\", 18*12)\n",
    "df_end_dates = df[df.date.isin(end_dates_of_month)]\n",
    "# df_end_dates\n",
    "df_end_dates.set_index(pd.to_datetime(df_end_dates.date), inplace=True)\n",
    "\n",
    "plt.plot(df_end_dates.index, df_end_dates.adj_close)\n",
    "plt.show()"
   ]
  },
  {
   "cell_type": "markdown",
   "metadata": {},
   "source": [
    "#### 6.使用concat方法把英伟达的Adj Close与其他三只股票拼接在一起"
   ]
  },
  {
   "cell_type": "code",
   "execution_count": 44,
   "metadata": {
    "ExecuteTime": {
     "end_time": "2019-05-16T14:47:00.111500Z",
     "start_time": "2019-05-16T14:46:59.967500Z"
    }
   },
   "outputs": [
    {
     "data": {
      "text/html": [
       "<div>\n",
       "<style scoped>\n",
       "    .dataframe tbody tr th:only-of-type {\n",
       "        vertical-align: middle;\n",
       "    }\n",
       "\n",
       "    .dataframe tbody tr th {\n",
       "        vertical-align: top;\n",
       "    }\n",
       "\n",
       "    .dataframe thead th {\n",
       "        text-align: right;\n",
       "    }\n",
       "</style>\n",
       "<table border=\"1\" class=\"dataframe\">\n",
       "  <thead>\n",
       "    <tr style=\"text-align: right;\">\n",
       "      <th></th>\n",
       "      <th>date</th>\n",
       "      <th>open</th>\n",
       "      <th>high</th>\n",
       "      <th>low</th>\n",
       "      <th>close</th>\n",
       "      <th>adj_close</th>\n",
       "      <th>volume</th>\n",
       "    </tr>\n",
       "  </thead>\n",
       "  <tbody>\n",
       "    <tr>\n",
       "      <th>0</th>\n",
       "      <td>1999-01-22</td>\n",
       "      <td>1.750000</td>\n",
       "      <td>1.953125</td>\n",
       "      <td>1.552083</td>\n",
       "      <td>1.640625</td>\n",
       "      <td>1.523430</td>\n",
       "      <td>67867200.0</td>\n",
       "    </tr>\n",
       "    <tr>\n",
       "      <th>1</th>\n",
       "      <td>1999-01-25</td>\n",
       "      <td>1.770833</td>\n",
       "      <td>1.833333</td>\n",
       "      <td>1.640625</td>\n",
       "      <td>1.812500</td>\n",
       "      <td>1.683028</td>\n",
       "      <td>12762000.0</td>\n",
       "    </tr>\n",
       "    <tr>\n",
       "      <th>2</th>\n",
       "      <td>1999-01-26</td>\n",
       "      <td>1.833333</td>\n",
       "      <td>1.869792</td>\n",
       "      <td>1.645833</td>\n",
       "      <td>1.671875</td>\n",
       "      <td>1.552448</td>\n",
       "      <td>8580000.0</td>\n",
       "    </tr>\n",
       "    <tr>\n",
       "      <th>3</th>\n",
       "      <td>1999-01-27</td>\n",
       "      <td>1.677083</td>\n",
       "      <td>1.718750</td>\n",
       "      <td>1.583333</td>\n",
       "      <td>1.666667</td>\n",
       "      <td>1.547611</td>\n",
       "      <td>6109200.0</td>\n",
       "    </tr>\n",
       "    <tr>\n",
       "      <th>4</th>\n",
       "      <td>1999-01-28</td>\n",
       "      <td>1.666667</td>\n",
       "      <td>1.677083</td>\n",
       "      <td>1.651042</td>\n",
       "      <td>1.661458</td>\n",
       "      <td>1.542776</td>\n",
       "      <td>5688000.0</td>\n",
       "    </tr>\n",
       "  </tbody>\n",
       "</table>\n",
       "</div>"
      ],
      "text/plain": [
       "         date      open      high       low     close  adj_close      volume\n",
       "0  1999-01-22  1.750000  1.953125  1.552083  1.640625   1.523430  67867200.0\n",
       "1  1999-01-25  1.770833  1.833333  1.640625  1.812500   1.683028  12762000.0\n",
       "2  1999-01-26  1.833333  1.869792  1.645833  1.671875   1.552448   8580000.0\n",
       "3  1999-01-27  1.677083  1.718750  1.583333  1.666667   1.547611   6109200.0\n",
       "4  1999-01-28  1.666667  1.677083  1.651042  1.661458   1.542776   5688000.0"
      ]
     },
     "execution_count": 44,
     "metadata": {},
     "output_type": "execute_result"
    }
   ],
   "source": [
    "df_nvda = pd.read_csv(\"NVDA.csv\")\n",
    "df_nvda.columns = [x.lower().replace(\" \", \"_\") for x in df_nvda.columns]\n",
    "df_apple = pd.read_csv(\"AAPL.csv\")\n",
    "df_apple.columns = [x.lower().replace(\" \", \"_\") for x in df_apple.columns]\n",
    "df_google = pd.read_csv(\"GOOG.csv\")\n",
    "df_google.columns = [x.lower().replace(\" \", \"_\") for x in df_google.columns]\n",
    "df_ms = pd.read_csv(\"MSFT.csv\")\n",
    "df_ms.columns = [x.lower().replace(\" \", \"_\") for x in df_ms.columns]\n",
    "\n",
    "df_new = pd.concat([df_nvda, df_ms, df_apple, df_google])\n",
    "df_new.head()"
   ]
  },
  {
   "cell_type": "markdown",
   "metadata": {},
   "source": [
    "#### 7.从Google有数据的那一天起开始画出四只股票的Adj Close折线图\n"
   ]
  },
  {
   "cell_type": "code",
   "execution_count": 52,
   "metadata": {
    "ExecuteTime": {
     "end_time": "2019-05-16T15:03:51.951000Z",
     "start_time": "2019-05-16T15:03:51.727500Z"
    }
   },
   "outputs": [
    {
     "data": {
      "text/plain": [
       "[]"
      ]
     },
     "execution_count": 52,
     "metadata": {},
     "output_type": "execute_result"
    },
    {
     "data": {
      "image/png": "[encoded data removed]",
      "text/plain": [
       "<Figure size 432x288 with 1 Axes>"
      ]
     },
     "metadata": {
      "needs_background": "light"
     },
     "output_type": "display_data"
    }
   ],
   "source": [
    "startdate = df_google.loc[0, \"date\"]\n",
    "\n",
    "def draw(df, label):\n",
    "    df = df[df.date > startdate]\n",
    "    plt.plot(pd.to_datetime(df.date), df.adj_close, label=label)\n",
    "\n",
    "draw(df_nvda, \"NVDA\")\n",
    "draw(df_google, \"GOOGLE\")\n",
    "draw(df_ms, \"MICROSOFT\")\n",
    "draw(df_apple, \"APPLE\")\n",
    "plt.legend(bbox_to_anchor=(1.05, 1), loc='upper left', borderaxespad=0.)\n",
    "plt.plot()\n",
    "\n"
   ]
  }
 ],
 "metadata": {
  "kernelspec": {
   "display_name": "Python 3",
   "language": "python",
   "name": "python3"
  },
  "language_info": {
   "codemirror_mode": {
    "name": "ipython",
    "version": 3
   },
   "file_extension": ".py",
   "mimetype": "text/x-python",
   "name": "python",
   "nbconvert_exporter": "python",
   "pygments_lexer": "ipython3",
   "version": "3.7.0"
  },
  "toc": {
   "base_numbering": 1,
   "nav_menu": {},
   "number_sections": true,
   "sideBar": true,
   "skip_h1_title": false,
   "title_cell": "Table of Contents",
   "title_sidebar": "Contents",
   "toc_cell": false,
   "toc_position": {
    "height": "calc(100% - 180px)",
    "left": "10px",
    "top": "150px",
    "width": "339.141px"
   },
   "toc_section_display": true,
   "toc_window_display": true
  },
  "varInspector": {
   "cols": {
    "lenName": 16,
    "lenType": 16,
    "lenVar": 40
   },
   "kernels_config": {
    "python": {
     "delete_cmd_postfix": "",
     "delete_cmd_prefix": "del ",
     "library": "var_list.py",
     "varRefreshCmd": "print(var_dic_list())"
    },
    "r": {
     "delete_cmd_postfix": ") ",
     "delete_cmd_prefix": "rm(",
     "library": "var_list.r",
     "varRefreshCmd": "cat(var_dic_list()) "
    }
   },
   "types_to_exclude": [
    "module",
    "function",
    "builtin_function_or_method",
    "instance",
    "_Feature"
   ],
   "window_display": false
  }
 },
 "nbformat": 4,
 "nbformat_minor": 2
}
