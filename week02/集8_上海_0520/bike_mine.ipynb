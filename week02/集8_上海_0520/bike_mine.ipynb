{
 "cells": [
  {
   "cell_type": "code",
   "execution_count": 1,
   "metadata": {},
   "outputs": [],
   "source": [
    "import matplotlib.pyplot as plt\n",
    "import numpy as np\n",
    "import pandas as pd\n",
    "import seaborn as sns\n",
    "from datetime import datetime\n",
    "from pandas import Series, DataFrame\n",
    "%config ZMQInteractiveShell.ast_node_interactivity='all' \n",
    "%matplotlib inline"
   ]
  },
  {
   "cell_type": "code",
   "execution_count": 2,
   "metadata": {},
   "outputs": [
    {
     "name": "stdout",
     "output_type": "stream",
     "text": [
      "(181376, 15)\n"
     ]
    },
    {
     "data": {
      "text/html": [
       "<div>\n",
       "<style scoped>\n",
       "    .dataframe tbody tr th:only-of-type {\n",
       "        vertical-align: middle;\n",
       "    }\n",
       "\n",
       "    .dataframe tbody tr th {\n",
       "        vertical-align: top;\n",
       "    }\n",
       "\n",
       "    .dataframe thead th {\n",
       "        text-align: right;\n",
       "    }\n",
       "</style>\n",
       "<table border=\"1\" class=\"dataframe\">\n",
       "  <thead>\n",
       "    <tr style=\"text-align: right;\">\n",
       "      <th></th>\n",
       "      <th>tripduration</th>\n",
       "      <th>starttime</th>\n",
       "      <th>stoptime</th>\n",
       "      <th>start station id</th>\n",
       "      <th>start station name</th>\n",
       "      <th>start station latitude</th>\n",
       "      <th>start station longitude</th>\n",
       "      <th>end station id</th>\n",
       "      <th>end station name</th>\n",
       "      <th>end station latitude</th>\n",
       "      <th>end station longitude</th>\n",
       "      <th>bikeid</th>\n",
       "      <th>usertype</th>\n",
       "      <th>birth year</th>\n",
       "      <th>gender</th>\n",
       "    </tr>\n",
       "  </thead>\n",
       "  <tbody>\n",
       "    <tr>\n",
       "      <th>0</th>\n",
       "      <td>252</td>\n",
       "      <td>2017-04-01 00:14:36</td>\n",
       "      <td>2017-04-01 00:18:48</td>\n",
       "      <td>3186</td>\n",
       "      <td>Grove St PATH</td>\n",
       "      <td>40.719586</td>\n",
       "      <td>-74.043117</td>\n",
       "      <td>3203</td>\n",
       "      <td>Hamilton Park</td>\n",
       "      <td>40.727596</td>\n",
       "      <td>-74.044247</td>\n",
       "      <td>26238</td>\n",
       "      <td>Subscriber</td>\n",
       "      <td>NaN</td>\n",
       "      <td>0</td>\n",
       "    </tr>\n",
       "    <tr>\n",
       "      <th>1</th>\n",
       "      <td>452</td>\n",
       "      <td>2017-04-01 00:15:47</td>\n",
       "      <td>2017-04-01 00:23:20</td>\n",
       "      <td>3203</td>\n",
       "      <td>Hamilton Park</td>\n",
       "      <td>40.727596</td>\n",
       "      <td>-74.044247</td>\n",
       "      <td>3213</td>\n",
       "      <td>Van Vorst Park</td>\n",
       "      <td>40.718489</td>\n",
       "      <td>-74.047727</td>\n",
       "      <td>26186</td>\n",
       "      <td>Subscriber</td>\n",
       "      <td>1962.0</td>\n",
       "      <td>1</td>\n",
       "    </tr>\n",
       "    <tr>\n",
       "      <th>2</th>\n",
       "      <td>465</td>\n",
       "      <td>2017-04-01 00:46:27</td>\n",
       "      <td>2017-04-01 00:54:13</td>\n",
       "      <td>3271</td>\n",
       "      <td>Danforth Light Rail</td>\n",
       "      <td>40.692640</td>\n",
       "      <td>-74.088012</td>\n",
       "      <td>3216</td>\n",
       "      <td>Columbia Park</td>\n",
       "      <td>40.697030</td>\n",
       "      <td>-74.096937</td>\n",
       "      <td>24659</td>\n",
       "      <td>Subscriber</td>\n",
       "      <td>1996.0</td>\n",
       "      <td>1</td>\n",
       "    </tr>\n",
       "    <tr>\n",
       "      <th>3</th>\n",
       "      <td>417</td>\n",
       "      <td>2017-04-01 00:47:15</td>\n",
       "      <td>2017-04-01 00:54:13</td>\n",
       "      <td>3271</td>\n",
       "      <td>Danforth Light Rail</td>\n",
       "      <td>40.692640</td>\n",
       "      <td>-74.088012</td>\n",
       "      <td>3216</td>\n",
       "      <td>Columbia Park</td>\n",
       "      <td>40.697030</td>\n",
       "      <td>-74.096937</td>\n",
       "      <td>24471</td>\n",
       "      <td>Subscriber</td>\n",
       "      <td>1994.0</td>\n",
       "      <td>1</td>\n",
       "    </tr>\n",
       "    <tr>\n",
       "      <th>4</th>\n",
       "      <td>391</td>\n",
       "      <td>2017-04-01 01:13:12</td>\n",
       "      <td>2017-04-01 01:19:44</td>\n",
       "      <td>3183</td>\n",
       "      <td>Exchange Place</td>\n",
       "      <td>40.716247</td>\n",
       "      <td>-74.033459</td>\n",
       "      <td>3202</td>\n",
       "      <td>Newport PATH</td>\n",
       "      <td>40.727224</td>\n",
       "      <td>-74.033759</td>\n",
       "      <td>24624</td>\n",
       "      <td>Subscriber</td>\n",
       "      <td>1983.0</td>\n",
       "      <td>1</td>\n",
       "    </tr>\n",
       "  </tbody>\n",
       "</table>\n",
       "</div>"
      ],
      "text/plain": [
       "   tripduration            starttime             stoptime  start station id  \\\n",
       "0           252  2017-04-01 00:14:36  2017-04-01 00:18:48              3186   \n",
       "1           452  2017-04-01 00:15:47  2017-04-01 00:23:20              3203   \n",
       "2           465  2017-04-01 00:46:27  2017-04-01 00:54:13              3271   \n",
       "3           417  2017-04-01 00:47:15  2017-04-01 00:54:13              3271   \n",
       "4           391  2017-04-01 01:13:12  2017-04-01 01:19:44              3183   \n",
       "\n",
       "    start station name  start station latitude  start station longitude  \\\n",
       "0        Grove St PATH               40.719586               -74.043117   \n",
       "1        Hamilton Park               40.727596               -74.044247   \n",
       "2  Danforth Light Rail               40.692640               -74.088012   \n",
       "3  Danforth Light Rail               40.692640               -74.088012   \n",
       "4       Exchange Place               40.716247               -74.033459   \n",
       "\n",
       "   end station id end station name  end station latitude  \\\n",
       "0            3203    Hamilton Park             40.727596   \n",
       "1            3213   Van Vorst Park             40.718489   \n",
       "2            3216    Columbia Park             40.697030   \n",
       "3            3216    Columbia Park             40.697030   \n",
       "4            3202     Newport PATH             40.727224   \n",
       "\n",
       "   end station longitude  bikeid    usertype  birth year  gender  \n",
       "0             -74.044247   26238  Subscriber         NaN       0  \n",
       "1             -74.047727   26186  Subscriber      1962.0       1  \n",
       "2             -74.096937   24659  Subscriber      1996.0       1  \n",
       "3             -74.096937   24471  Subscriber      1994.0       1  \n",
       "4             -74.033759   24624  Subscriber      1983.0       1  "
      ]
     },
     "execution_count": 2,
     "metadata": {},
     "output_type": "execute_result"
    }
   ],
   "source": [
    "# 数据来源：https://s3.amazonaws.com/tripdata/index.html\n",
    "# 偷懒只处理最近6个月数据\n",
    "bike_df = pd.read_csv('data/citibike/JC-201704-citibike-tripdata.csv')\n",
    "bike_df = bike_df.append(pd.read_csv('data/citibike/JC-201705-citibike-tripdata.csv'), ignore_index=False)\n",
    "bike_df = bike_df.append(pd.read_csv('data/citibike/JC-201706-citibike-tripdata.csv'), ignore_index=False)\n",
    "bike_df = bike_df.append(pd.read_csv('data/citibike/JC-201707-citibike-tripdata.csv'), ignore_index=False)\n",
    "bike_df = bike_df.append(pd.read_csv('data/citibike/JC-201708-citibike-tripdata.csv'), ignore_index=False)\n",
    "bike_df = bike_df.append(pd.read_csv('data/citibike/JC-201709-citibike-tripdata.csv'), ignore_index=False)\n",
    "print(bike_df.shape)\n",
    "bike_df.head()"
   ]
  },
  {
   "cell_type": "code",
   "execution_count": 3,
   "metadata": {},
   "outputs": [
    {
     "name": "stdout",
     "output_type": "stream",
     "text": [
      "租赁点：52\n",
      "被骑自行车数量：883\n",
      "骑行次数：181376\n",
      "每部骑行时长（分钟）：14.09\n",
      "租借频率：205.41\n"
     ]
    }
   ],
   "source": [
    "print('租赁点：%d' % len(bike_df['start station name'].unique()))\n",
    "print('被骑自行车数量：%d' % len(bike_df['bikeid'].unique()))\n",
    "print('骑行次数：%d' % bike_df.shape[0])\n",
    "print('每部骑行时长（分钟）：%.2f' % float(bike_df['tripduration'].sum() / bike_df['bikeid'].count() / 60))\n",
    "print('租借频率：%.2f' % float(bike_df['bikeid'].count() / len(bike_df['bikeid'].unique())))"
   ]
  },
  {
   "cell_type": "code",
   "execution_count": 4,
   "metadata": {},
   "outputs": [],
   "source": [
    "# 按月统计\n",
    "bike_df['starttime']=pd.to_datetime(bike_df['starttime'])\n",
    "bike_df = bike_df.set_index('starttime') # 转成时间序列\n"
   ]
  },
  {
   "cell_type": "code",
   "execution_count": 15,
   "metadata": {},
   "outputs": [
    {
     "data": {
      "text/plain": [
       "starttime\n",
       "2017-04-30    21186\n",
       "2017-05-31    25966\n",
       "2017-06-30    32060\n",
       "2017-07-31    33573\n",
       "2017-08-31    35472\n",
       "2017-09-30    33119\n",
       "Freq: M, Name: bikeid, dtype: int64"
      ]
     },
     "execution_count": 15,
     "metadata": {},
     "output_type": "execute_result"
    }
   ],
   "source": [
    "df_bike = bike_df.copy()\n",
    "bike_df_by_month = df_bike.resample(\"M\").apply(len)\n",
    "# resample 简化时间的groupby处理\n",
    "\n",
    "bike_df_by_month = bike_df_by_month['bikeid']\n",
    "bike_df_by_month\n"
   ]
  },
  {
   "cell_type": "code",
   "execution_count": 16,
   "metadata": {},
   "outputs": [
    {
     "data": {
      "text/plain": [
       "[<matplotlib.lines.Line2D at 0x2d6493f3d30>,\n",
       " <matplotlib.lines.Line2D at 0x2d6493a8320>]"
      ]
     },
     "execution_count": 16,
     "metadata": {},
     "output_type": "execute_result"
    },
    {
     "data": {
      "text/plain": [
       "Text(0.5,0,'月份')"
      ]
     },
     "execution_count": 16,
     "metadata": {},
     "output_type": "execute_result"
    },
    {
     "data": {
      "text/plain": [
       "Text(0,0.5,'租赁骑行次数')"
      ]
     },
     "execution_count": 16,
     "metadata": {},
     "output_type": "execute_result"
    },
    {
     "data": {
      "text/plain": [
       "Text(0.5,1,'最近半年Citi Bike每月骑行次数')"
      ]
     },
     "execution_count": 16,
     "metadata": {},
     "output_type": "execute_result"
    },
    {
     "data": {
      "image/png": "[encoded data removed]",
      "text/plain": [
       "<matplotlib.figure.Figure at 0x2d6493c52e8>"
      ]
     },
     "metadata": {
      "needs_background": "light"
     },
     "output_type": "display_data"
    }
   ],
   "source": [
    "# 画出每月骑行次数\n",
    "plt.rcParams['font.sans-serif']=['SimHei'] #用来正常显示中文标签\n",
    "plt.rcParams['axes.unicode_minus']=False   #用来正常显示负号\n",
    "plt.rc('font', family='SimHei', size=15)\n",
    "plt.plot(bike_df_by_month, 'r8', bike_df_by_month, 'g-', linewidth=1, markeredgewidth=5, alpha=0.8)\n",
    "plt.xlabel('月份')\n",
    "plt.ylabel('租赁骑行次数')\n",
    "plt.title('最近半年Citi Bike每月骑行次数')\n",
    "plt.show()"
   ]
  },
  {
   "cell_type": "code",
   "execution_count": 17,
   "metadata": {},
   "outputs": [
    {
     "name": "stdout",
     "output_type": "stream",
     "text": [
      "starttime\n",
      "2017-06-30     79212\n",
      "2017-09-30    102164\n",
      "Freq: Q-DEC, Name: bikeid, dtype: int64\n"
     ]
    }
   ],
   "source": [
    "# 画出按季度的分布\n",
    "bike_df_by_quarter = bike_df.resample('Q').apply(len)\n",
    "bike_df_by_quarter = bike_df_by_quarter['bikeid']\n",
    "print(bike_df_by_quarter)"
   ]
  },
  {
   "cell_type": "code",
   "execution_count": 20,
   "metadata": {},
   "outputs": [
    {
     "data": {
      "text/plain": [
       "gender\n",
       "0     15183\n",
       "1    128186\n",
       "2     38007\n",
       "Name: bikeid, dtype: int64"
      ]
     },
     "execution_count": 20,
     "metadata": {},
     "output_type": "execute_result"
    },
    {
     "data": {
      "text/plain": [
       "181376"
      ]
     },
     "execution_count": 20,
     "metadata": {},
     "output_type": "execute_result"
    }
   ],
   "source": [
    "bike_df.groupby('gender')['bikeid'].agg(len) \n",
    "bike_df[\"bikeid\"].count()"
   ]
  },
  {
   "cell_type": "code",
   "execution_count": 21,
   "metadata": {},
   "outputs": [
    {
     "name": "stdout",
     "output_type": "stream",
     "text": [
      "gender\n",
      "0     8.371008\n",
      "1    70.674180\n",
      "2    20.954812\n",
      "Name: bikeid, dtype: float64\n"
     ]
    },
    {
     "data": {
      "text/plain": [
       "([<matplotlib.patches.Wedge at 0x2d649d34cc0>,\n",
       "  <matplotlib.patches.Wedge at 0x2d649d3f470>,\n",
       "  <matplotlib.patches.Wedge at 0x2d649d3fc18>],\n",
       " [Text(0.283443,1.06285,'未知'),\n",
       "  Text(-0.874449,-0.667338,'男性'),\n",
       "  Text(1.01787,0.41707,'女性')],\n",
       " [Text(0.154605,0.579739,'8.4%'),\n",
       "  Text(-0.476972,-0.364002,'70.7%'),\n",
       "  Text(0.5552,0.227493,'21.0%')])"
      ]
     },
     "execution_count": 21,
     "metadata": {},
     "output_type": "execute_result"
    },
    {
     "data": {
      "text/plain": [
       "Text(0.5,1,'Citi Bike用户性别占比')"
      ]
     },
     "execution_count": 21,
     "metadata": {},
     "output_type": "execute_result"
    },
    {
     "data": {
      "text/plain": [
       "<matplotlib.legend.Legend at 0x2d649d475c0>"
      ]
     },
     "execution_count": 21,
     "metadata": {},
     "output_type": "execute_result"
    },
    {
     "data": {
      "image/png": "[encoded data removed]",
      "text/plain": [
       "<matplotlib.figure.Figure at 0x2d6494676a0>"
      ]
     },
     "metadata": {},
     "output_type": "display_data"
    }
   ],
   "source": [
    "# 左闭右开\n",
    "\n",
    "# 画出性别分布\n",
    "bike_df_by_gender= bike_df.groupby('gender')['bikeid'].agg(len) / bike_df[\"bikeid\"].count() * 100\n",
    "print(bike_df_by_gender)\n",
    "# plt.pie(bike_df_by_gender,labels=['未知', '男性', '女性'], colors=['red', 'blue', 'green'],explode=(0, 0, 0),startangle=60,autopct='%1.1f%%')\n",
    "plt.pie(bike_df_by_gender,labels=['未知', '男性', '女性'], colors=['red', 'blue', 'green'], explode=(0, 0, 0), startangle=60, autopct='%1.1f%%')\n",
    "plt.title('Citi Bike用户性别占比')\n",
    "plt.legend(['未知', '男性', '女性'], bbox_to_anchor=(1.05, 1),\n",
    "               loc='upper left',\n",
    "               borderaxespad=0.)\n",
    "plt.show()"
   ]
  },
  {
   "cell_type": "code",
   "execution_count": null,
   "metadata": {},
   "outputs": [],
   "source": []
  },
  {
   "cell_type": "code",
   "execution_count": null,
   "metadata": {},
   "outputs": [],
   "source": []
  },
  {
   "cell_type": "code",
   "execution_count": null,
   "metadata": {},
   "outputs": [],
   "source": []
  },
  {
   "cell_type": "code",
   "execution_count": null,
   "metadata": {},
   "outputs": [],
   "source": []
  }
 ],
 "metadata": {
  "kernelspec": {
   "display_name": "Python 3",
   "language": "python",
   "name": "python3"
  },
  "language_info": {
   "codemirror_mode": {
    "name": "ipython",
    "version": 3
   },
   "file_extension": ".py",
   "mimetype": "text/x-python",
   "name": "python",
   "nbconvert_exporter": "python",
   "pygments_lexer": "ipython3",
   "version": "3.6.4"
  }
 },
 "nbformat": 4,
 "nbformat_minor": 2
}
