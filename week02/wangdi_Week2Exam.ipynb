{
 "cells": [
  {
   "cell_type": "markdown",
   "metadata": {},
   "source": [
    "## 七月在线机器学习集训营八期第二周(Pandas数据处理)考试\n",
    "#### 考试说明:\n",
    "- 起止时间：请同学在2019年05月17日至05月20日期间完成，最晚提交时间下周一（05月20日12:00时之前）结束，<b>逾期不接受补考,该考试分数计入平时成绩</b>\n",
    "- 考试提交方式：请同学<font color=red><b>拷贝</b></font>该试卷后，将文件更名为同学姓名拼音-exam1（例如wangwei-exam2）后，移动至/0.Teacher/Exam/2/目录下进行作答。\n",
    "- 注意事项：为确保同学们真正了解自身对本周课程的掌握程度，<font color=red><b>请勿翻阅，移动，更改</b></font>其它同学试卷。如发现按0分处理\n",
    "- 请同学在下方同学姓名处填写自己的姓名，批改人和最终得分处不用填写"
   ]
  },
  {
   "cell_type": "code",
   "execution_count": 1,
   "metadata": {
    "ExecuteTime": {
     "end_time": "2019-05-18T10:46:36.088394Z",
     "start_time": "2019-05-18T10:46:34.327791Z"
    }
   },
   "outputs": [],
   "source": [
    "import pandas as pd\n",
    "import numpy as np\n",
    "import matplotlib.pyplot as plt\n",
    "\n",
    "%matplotlib inline\n",
    "%config ZMQInteractiveShell.ast_node_interactivity='all' "
   ]
  },
  {
   "cell_type": "markdown",
   "metadata": {},
   "source": [
    "- 同学姓名：王迪\n",
    "- 批改人：   \n",
    "- 最终得分:"
   ]
  },
  {
   "cell_type": "markdown",
   "metadata": {},
   "source": [
    "<center><h1>####答卷开始####</h1></center>\n",
    "***"
   ]
  },
  {
   "cell_type": "markdown",
   "metadata": {},
   "source": [
    "## Pandas操作题(共两题。每题每个步骤分数均已标明。总分100分)"
   ]
  },
  {
   "cell_type": "markdown",
   "metadata": {},
   "source": [
    "### 1.学生数据分析（总分数：60）"
   ]
  },
  {
   "cell_type": "markdown",
   "metadata": {},
   "source": [
    "#### 1.数据导入并展示, 文件位置位于0.Teacher/data/下（10分）\n",
    "   - 请将文件student-info.csv中的内容读入pandas DataFrame \"df_info\"，注意该文件的分隔符是分号，并展示前五行（5分）   \n",
    "   - 请将文件student-score.csv中的内容读入pandas DataFrame \"df_score\"，注意该文件的分隔符是分号，并展示前五行（5分）"
   ]
  },
  {
   "cell_type": "markdown",
   "metadata": {},
   "source": [
    "#### 2.把两个DataFrame \"df_info\" 和 \"df_score\" 按照学生ID对齐拼接起来，结果存在一个新DataFrame \"df\" 中 (5分）"
   ]
  },
  {
   "cell_type": "code",
   "execution_count": 2,
   "metadata": {
    "ExecuteTime": {
     "end_time": "2019-05-18T10:46:36.155014Z",
     "start_time": "2019-05-18T10:46:36.094297Z"
    }
   },
   "outputs": [
    {
     "data": {
      "text/html": [
       "<div>\n",
       "<style scoped>\n",
       "    .dataframe tbody tr th:only-of-type {\n",
       "        vertical-align: middle;\n",
       "    }\n",
       "\n",
       "    .dataframe tbody tr th {\n",
       "        vertical-align: top;\n",
       "    }\n",
       "\n",
       "    .dataframe thead th {\n",
       "        text-align: right;\n",
       "    }\n",
       "</style>\n",
       "<table border=\"1\" class=\"dataframe\">\n",
       "  <thead>\n",
       "    <tr style=\"text-align: right;\">\n",
       "      <th></th>\n",
       "      <th>ID</th>\n",
       "      <th>school</th>\n",
       "      <th>sex</th>\n",
       "      <th>age</th>\n",
       "      <th>address</th>\n",
       "      <th>famsize</th>\n",
       "      <th>Pstatus</th>\n",
       "      <th>Medu</th>\n",
       "      <th>Fedu</th>\n",
       "      <th>Mjob</th>\n",
       "      <th>...</th>\n",
       "      <th>famrel</th>\n",
       "      <th>freetime</th>\n",
       "      <th>goout</th>\n",
       "      <th>Dalc</th>\n",
       "      <th>Walc</th>\n",
       "      <th>health</th>\n",
       "      <th>absences</th>\n",
       "      <th>G1</th>\n",
       "      <th>G2</th>\n",
       "      <th>G3</th>\n",
       "    </tr>\n",
       "  </thead>\n",
       "  <tbody>\n",
       "    <tr>\n",
       "      <th>0</th>\n",
       "      <td>0</td>\n",
       "      <td>GP</td>\n",
       "      <td>F</td>\n",
       "      <td>18</td>\n",
       "      <td>U</td>\n",
       "      <td>GT3</td>\n",
       "      <td>A</td>\n",
       "      <td>4</td>\n",
       "      <td>4</td>\n",
       "      <td>at_home</td>\n",
       "      <td>...</td>\n",
       "      <td>4</td>\n",
       "      <td>3</td>\n",
       "      <td>4</td>\n",
       "      <td>1</td>\n",
       "      <td>1</td>\n",
       "      <td>3</td>\n",
       "      <td>6</td>\n",
       "      <td>5</td>\n",
       "      <td>6</td>\n",
       "      <td>6</td>\n",
       "    </tr>\n",
       "    <tr>\n",
       "      <th>1</th>\n",
       "      <td>1</td>\n",
       "      <td>GP</td>\n",
       "      <td>F</td>\n",
       "      <td>17</td>\n",
       "      <td>U</td>\n",
       "      <td>GT3</td>\n",
       "      <td>T</td>\n",
       "      <td>1</td>\n",
       "      <td>1</td>\n",
       "      <td>at_home</td>\n",
       "      <td>...</td>\n",
       "      <td>5</td>\n",
       "      <td>3</td>\n",
       "      <td>3</td>\n",
       "      <td>1</td>\n",
       "      <td>1</td>\n",
       "      <td>3</td>\n",
       "      <td>4</td>\n",
       "      <td>5</td>\n",
       "      <td>5</td>\n",
       "      <td>6</td>\n",
       "    </tr>\n",
       "    <tr>\n",
       "      <th>2</th>\n",
       "      <td>2</td>\n",
       "      <td>GP</td>\n",
       "      <td>F</td>\n",
       "      <td>15</td>\n",
       "      <td>U</td>\n",
       "      <td>LE3</td>\n",
       "      <td>T</td>\n",
       "      <td>1</td>\n",
       "      <td>1</td>\n",
       "      <td>at_home</td>\n",
       "      <td>...</td>\n",
       "      <td>4</td>\n",
       "      <td>3</td>\n",
       "      <td>2</td>\n",
       "      <td>2</td>\n",
       "      <td>3</td>\n",
       "      <td>3</td>\n",
       "      <td>10</td>\n",
       "      <td>7</td>\n",
       "      <td>8</td>\n",
       "      <td>10</td>\n",
       "    </tr>\n",
       "    <tr>\n",
       "      <th>3</th>\n",
       "      <td>3</td>\n",
       "      <td>GP</td>\n",
       "      <td>F</td>\n",
       "      <td>15</td>\n",
       "      <td>U</td>\n",
       "      <td>GT3</td>\n",
       "      <td>T</td>\n",
       "      <td>4</td>\n",
       "      <td>2</td>\n",
       "      <td>health</td>\n",
       "      <td>...</td>\n",
       "      <td>3</td>\n",
       "      <td>2</td>\n",
       "      <td>2</td>\n",
       "      <td>1</td>\n",
       "      <td>1</td>\n",
       "      <td>5</td>\n",
       "      <td>2</td>\n",
       "      <td>15</td>\n",
       "      <td>14</td>\n",
       "      <td>15</td>\n",
       "    </tr>\n",
       "    <tr>\n",
       "      <th>4</th>\n",
       "      <td>4</td>\n",
       "      <td>GP</td>\n",
       "      <td>F</td>\n",
       "      <td>16</td>\n",
       "      <td>U</td>\n",
       "      <td>GT3</td>\n",
       "      <td>T</td>\n",
       "      <td>3</td>\n",
       "      <td>3</td>\n",
       "      <td>other</td>\n",
       "      <td>...</td>\n",
       "      <td>4</td>\n",
       "      <td>3</td>\n",
       "      <td>2</td>\n",
       "      <td>1</td>\n",
       "      <td>2</td>\n",
       "      <td>5</td>\n",
       "      <td>4</td>\n",
       "      <td>6</td>\n",
       "      <td>10</td>\n",
       "      <td>10</td>\n",
       "    </tr>\n",
       "  </tbody>\n",
       "</table>\n",
       "<p>5 rows × 34 columns</p>\n",
       "</div>"
      ],
      "text/plain": [
       "   ID school sex  age address famsize Pstatus  Medu  Fedu     Mjob  ...  \\\n",
       "0   0     GP   F   18       U     GT3       A     4     4  at_home  ...   \n",
       "1   1     GP   F   17       U     GT3       T     1     1  at_home  ...   \n",
       "2   2     GP   F   15       U     LE3       T     1     1  at_home  ...   \n",
       "3   3     GP   F   15       U     GT3       T     4     2   health  ...   \n",
       "4   4     GP   F   16       U     GT3       T     3     3    other  ...   \n",
       "\n",
       "  famrel freetime goout  Dalc  Walc  health absences  G1  G2  G3  \n",
       "0      4        3     4     1     1       3        6   5   6   6  \n",
       "1      5        3     3     1     1       3        4   5   5   6  \n",
       "2      4        3     2     2     3       3       10   7   8  10  \n",
       "3      3        2     2     1     1       5        2  15  14  15  \n",
       "4      4        3     2     1     2       5        4   6  10  10  \n",
       "\n",
       "[5 rows x 34 columns]"
      ]
     },
     "execution_count": 2,
     "metadata": {},
     "output_type": "execute_result"
    },
    {
     "data": {
      "text/plain": [
       "(395, 34)"
      ]
     },
     "execution_count": 2,
     "metadata": {},
     "output_type": "execute_result"
    }
   ],
   "source": [
    "df_info = pd.read_csv(r\"../../Data/student-info.csv\", sep=\";\")\n",
    "df_score = pd.read_csv(r\"../../Data/student-score.csv\", sep=\";\")\n",
    "df = pd.merge(df_info, df_score, on=[\"ID\"])\n",
    "df.head()\n",
    "df.shape"
   ]
  },
  {
   "cell_type": "markdown",
   "metadata": {},
   "source": [
    "#### 3.把\"df\"所有的列展示出来(5分)"
   ]
  },
  {
   "cell_type": "code",
   "execution_count": 3,
   "metadata": {
    "ExecuteTime": {
     "end_time": "2019-05-18T10:46:36.167628Z",
     "start_time": "2019-05-18T10:46:36.157627Z"
    }
   },
   "outputs": [
    {
     "data": {
      "text/plain": [
       "Index(['ID', 'school', 'sex', 'age', 'address', 'famsize', 'Pstatus', 'Medu',\n",
       "       'Fedu', 'Mjob', 'Fjob', 'reason', 'guardian', 'traveltime', 'studytime',\n",
       "       'failures', 'schoolsup', 'famsup', 'paid', 'activities', 'nursery',\n",
       "       'higher', 'internet', 'romantic', 'famrel', 'freetime', 'goout', 'Dalc',\n",
       "       'Walc', 'health', 'absences', 'G1', 'G2', 'G3'],\n",
       "      dtype='object')"
      ]
     },
     "execution_count": 3,
     "metadata": {},
     "output_type": "execute_result"
    }
   ],
   "source": [
    "df.columns"
   ]
  },
  {
   "cell_type": "markdown",
   "metadata": {},
   "source": [
    "#### 4.统计男生的平均分和女生的平均分(G1, G2, G3)，使用groupby和aggregate来操作(10分)"
   ]
  },
  {
   "cell_type": "code",
   "execution_count": 4,
   "metadata": {
    "ExecuteTime": {
     "end_time": "2019-05-18T10:46:36.192491Z",
     "start_time": "2019-05-18T10:46:36.172633Z"
    }
   },
   "outputs": [
    {
     "data": {
      "text/html": [
       "<div>\n",
       "<style scoped>\n",
       "    .dataframe tbody tr th:only-of-type {\n",
       "        vertical-align: middle;\n",
       "    }\n",
       "\n",
       "    .dataframe tbody tr th {\n",
       "        vertical-align: top;\n",
       "    }\n",
       "\n",
       "    .dataframe thead th {\n",
       "        text-align: right;\n",
       "    }\n",
       "</style>\n",
       "<table border=\"1\" class=\"dataframe\">\n",
       "  <thead>\n",
       "    <tr style=\"text-align: right;\">\n",
       "      <th></th>\n",
       "      <th>G3</th>\n",
       "      <th>G1</th>\n",
       "      <th>G2</th>\n",
       "    </tr>\n",
       "    <tr>\n",
       "      <th>sex</th>\n",
       "      <th></th>\n",
       "      <th></th>\n",
       "      <th></th>\n",
       "    </tr>\n",
       "  </thead>\n",
       "  <tbody>\n",
       "    <tr>\n",
       "      <th>F</th>\n",
       "      <td>9.966346</td>\n",
       "      <td>10.620192</td>\n",
       "      <td>10.389423</td>\n",
       "    </tr>\n",
       "    <tr>\n",
       "      <th>M</th>\n",
       "      <td>10.914439</td>\n",
       "      <td>11.229947</td>\n",
       "      <td>11.074866</td>\n",
       "    </tr>\n",
       "  </tbody>\n",
       "</table>\n",
       "</div>"
      ],
      "text/plain": [
       "            G3         G1         G2\n",
       "sex                                 \n",
       "F     9.966346  10.620192  10.389423\n",
       "M    10.914439  11.229947  11.074866"
      ]
     },
     "execution_count": 4,
     "metadata": {},
     "output_type": "execute_result"
    }
   ],
   "source": [
    "df_sex = df.groupby(by=[\"sex\"]).agg({\n",
    "    \"G1\": np.mean,\n",
    "    \"G2\": np.mean,\n",
    "    \"G3\": np.mean\n",
    "})\n",
    "df_sex"
   ]
  },
  {
   "cell_type": "markdown",
   "metadata": {},
   "source": [
    "#### 5.统计不同年龄的学生(G1, G2, G3)的平均分，并作出柱状图展示（10分）"
   ]
  },
  {
   "cell_type": "code",
   "execution_count": 5,
   "metadata": {
    "ExecuteTime": {
     "end_time": "2019-05-18T10:46:36.238543Z",
     "start_time": "2019-05-18T10:46:36.198721Z"
    }
   },
   "outputs": [
    {
     "data": {
      "text/html": [
       "<div>\n",
       "<style scoped>\n",
       "    .dataframe tbody tr th:only-of-type {\n",
       "        vertical-align: middle;\n",
       "    }\n",
       "\n",
       "    .dataframe tbody tr th {\n",
       "        vertical-align: top;\n",
       "    }\n",
       "\n",
       "    .dataframe thead th {\n",
       "        text-align: right;\n",
       "    }\n",
       "</style>\n",
       "<table border=\"1\" class=\"dataframe\">\n",
       "  <thead>\n",
       "    <tr style=\"text-align: right;\">\n",
       "      <th></th>\n",
       "      <th>G3</th>\n",
       "      <th>G1</th>\n",
       "      <th>G2</th>\n",
       "    </tr>\n",
       "    <tr>\n",
       "      <th>age</th>\n",
       "      <th></th>\n",
       "      <th></th>\n",
       "      <th></th>\n",
       "    </tr>\n",
       "  </thead>\n",
       "  <tbody>\n",
       "    <tr>\n",
       "      <th>15</th>\n",
       "      <td>11.256098</td>\n",
       "      <td>11.231707</td>\n",
       "      <td>11.365854</td>\n",
       "    </tr>\n",
       "    <tr>\n",
       "      <th>16</th>\n",
       "      <td>11.028846</td>\n",
       "      <td>10.942308</td>\n",
       "      <td>11.182692</td>\n",
       "    </tr>\n",
       "    <tr>\n",
       "      <th>17</th>\n",
       "      <td>10.275510</td>\n",
       "      <td>10.897959</td>\n",
       "      <td>10.479592</td>\n",
       "    </tr>\n",
       "    <tr>\n",
       "      <th>18</th>\n",
       "      <td>9.548780</td>\n",
       "      <td>10.719512</td>\n",
       "      <td>10.134146</td>\n",
       "    </tr>\n",
       "    <tr>\n",
       "      <th>19</th>\n",
       "      <td>8.208333</td>\n",
       "      <td>10.250000</td>\n",
       "      <td>9.250000</td>\n",
       "    </tr>\n",
       "    <tr>\n",
       "      <th>20</th>\n",
       "      <td>14.000000</td>\n",
       "      <td>13.666667</td>\n",
       "      <td>13.666667</td>\n",
       "    </tr>\n",
       "    <tr>\n",
       "      <th>21</th>\n",
       "      <td>7.000000</td>\n",
       "      <td>10.000000</td>\n",
       "      <td>8.000000</td>\n",
       "    </tr>\n",
       "    <tr>\n",
       "      <th>22</th>\n",
       "      <td>8.000000</td>\n",
       "      <td>6.000000</td>\n",
       "      <td>8.000000</td>\n",
       "    </tr>\n",
       "  </tbody>\n",
       "</table>\n",
       "</div>"
      ],
      "text/plain": [
       "            G3         G1         G2\n",
       "age                                 \n",
       "15   11.256098  11.231707  11.365854\n",
       "16   11.028846  10.942308  11.182692\n",
       "17   10.275510  10.897959  10.479592\n",
       "18    9.548780  10.719512  10.134146\n",
       "19    8.208333  10.250000   9.250000\n",
       "20   14.000000  13.666667  13.666667\n",
       "21    7.000000  10.000000   8.000000\n",
       "22    8.000000   6.000000   8.000000"
      ]
     },
     "execution_count": 5,
     "metadata": {},
     "output_type": "execute_result"
    }
   ],
   "source": [
    "df_age = df.groupby(by=[\"age\"]).agg({\n",
    "    \"G1\": np.mean,\n",
    "    \"G2\": np.mean,\n",
    "    \"G3\": np.mean\n",
    "})\n",
    "df_age"
   ]
  },
  {
   "cell_type": "code",
   "execution_count": 6,
   "metadata": {
    "ExecuteTime": {
     "end_time": "2019-05-18T10:46:36.584836Z",
     "start_time": "2019-05-18T10:46:36.243010Z"
    }
   },
   "outputs": [
    {
     "data": {
      "image/png": "[encoded data removed]",
      "text/plain": [
       "<Figure size 432x288 with 1 Axes>"
      ]
     },
     "metadata": {
      "needs_background": "light"
     },
     "output_type": "display_data"
    }
   ],
   "source": [
    "def draw(df):\n",
    "    x = df.index\n",
    "    total_width, n = 0.8, 3\n",
    "    width = total_width / n\n",
    "    plt.bar(x - width, df.G1, width=width, label='G1')\n",
    "    plt.bar(x, df.G2, width=width, label='G2')\n",
    "    plt.bar(x + width, df.G3, width=width, label='G3')\n",
    "    plt.xlabel(\"age\")\n",
    "    plt.ylabel(\"score\")\n",
    "    plt.legend(title=\"courses\",\n",
    "               bbox_to_anchor=(1.05, 1),\n",
    "               loc='upper left',\n",
    "               borderaxespad=0.)\n",
    "\n",
    "\n",
    "draw(df_age)"
   ]
  },
  {
   "cell_type": "markdown",
   "metadata": {},
   "source": [
    "#### 6.统计不同学校(school一列)的学生的平均分，并作柱状图展示，要求同一科目的两个学校成绩贴在一起展示(10分）"
   ]
  },
  {
   "cell_type": "code",
   "execution_count": 7,
   "metadata": {
    "ExecuteTime": {
     "end_time": "2019-05-18T10:46:36.814054Z",
     "start_time": "2019-05-18T10:46:36.587650Z"
    }
   },
   "outputs": [
    {
     "data": {
      "text/html": [
       "<div>\n",
       "<style scoped>\n",
       "    .dataframe tbody tr th:only-of-type {\n",
       "        vertical-align: middle;\n",
       "    }\n",
       "\n",
       "    .dataframe tbody tr th {\n",
       "        vertical-align: top;\n",
       "    }\n",
       "\n",
       "    .dataframe thead th {\n",
       "        text-align: right;\n",
       "    }\n",
       "</style>\n",
       "<table border=\"1\" class=\"dataframe\">\n",
       "  <thead>\n",
       "    <tr style=\"text-align: right;\">\n",
       "      <th>school</th>\n",
       "      <th>GP</th>\n",
       "      <th>MS</th>\n",
       "    </tr>\n",
       "  </thead>\n",
       "  <tbody>\n",
       "    <tr>\n",
       "      <th>G1</th>\n",
       "      <td>10.939828</td>\n",
       "      <td>10.673913</td>\n",
       "    </tr>\n",
       "    <tr>\n",
       "      <th>G2</th>\n",
       "      <td>10.782235</td>\n",
       "      <td>10.195652</td>\n",
       "    </tr>\n",
       "    <tr>\n",
       "      <th>G3</th>\n",
       "      <td>10.489971</td>\n",
       "      <td>9.847826</td>\n",
       "    </tr>\n",
       "  </tbody>\n",
       "</table>\n",
       "</div>"
      ],
      "text/plain": [
       "school         GP         MS\n",
       "G1      10.939828  10.673913\n",
       "G2      10.782235  10.195652\n",
       "G3      10.489971   9.847826"
      ]
     },
     "execution_count": 7,
     "metadata": {},
     "output_type": "execute_result"
    },
    {
     "data": {
      "image/png": "[encoded data removed]",
      "text/plain": [
       "<Figure size 432x288 with 1 Axes>"
      ]
     },
     "metadata": {
      "needs_background": "light"
     },
     "output_type": "display_data"
    }
   ],
   "source": [
    "# df.school.value_counts()\n",
    "\n",
    "df_school = df.groupby(by=[\"school\"]).agg({\n",
    "    \"G1\": np.mean,\n",
    "    \"G2\": np.mean,\n",
    "    \"G3\": np.mean\n",
    "})\n",
    "df_school_new = df_school.T.sort_index()\n",
    "df_school_new\n",
    "\n",
    "\n",
    "def draw(df):\n",
    "    names = df.index\n",
    "    df = df.reset_index()\n",
    "    x = df.index\n",
    "    total_width, n = 0.8, 2\n",
    "    width = total_width / n\n",
    "\n",
    "    plt.bar(x - width / 2, df.GP, width=width, label='GP')\n",
    "    plt.bar(x + width / 2, df.MS, width=width, label='MS')\n",
    "    #     plt.bar(x + width, df.G3, width=width, label='G3')\n",
    "    plt.xticks(x, names, rotation=45)\n",
    "    plt.xlabel(\"courses\")\n",
    "    plt.ylabel(\"score\")\n",
    "    plt.legend(title=\"school\",\n",
    "               bbox_to_anchor=(1.05, 1),\n",
    "               loc='upper left',\n",
    "               borderaxespad=0.)\n",
    "\n",
    "\n",
    "draw(df_school_new)\n",
    "# df_school.index"
   ]
  },
  {
   "cell_type": "markdown",
   "metadata": {},
   "source": [
    "#### 7.统计一下每个学校三个科目总分的前十名，然后把前十名的同学所有信息输出(10分)"
   ]
  },
  {
   "cell_type": "code",
   "execution_count": 8,
   "metadata": {
    "ExecuteTime": {
     "end_time": "2019-05-18T10:46:36.840189Z",
     "start_time": "2019-05-18T10:46:36.816321Z"
    }
   },
   "outputs": [
    {
     "name": "stdout",
     "output_type": "stream",
     "text": [
      "GP: No.1  {'Pstatus': 'T', 'Dalc': 1, 'schoolsup': 'no', 'Fedu': 3, 'traveltime': 1, 'studytime': 4, 'guardian': 'mother', 'paid': 'no', 'Fjob': 'services', 'address': 'U', 'age': 16, 'Walc': 1, 'G3': 20, 'famsize': 'GT3', 'school': 'GP', 'total': 58, 'ID': 47, 'failures': 0, 'reason': 'reputation', 'higher': 'yes', 'G1': 19, 'famrel': 4, 'Medu': 4, 'activities': 'yes', 'absences': 4, 'internet': 'yes', 'freetime': 2, 'goout': 2, 'famsup': 'no', 'G2': 19, 'romantic': 'no', 'sex': 'M', 'nursery': 'yes', 'health': 2, 'Mjob': 'health'}\n",
      "GP: No.2  {'Pstatus': 'T', 'Dalc': 1, 'schoolsup': 'no', 'Fedu': 2, 'traveltime': 1, 'studytime': 1, 'guardian': 'mother', 'paid': 'no', 'Fjob': 'other', 'address': 'U', 'age': 15, 'Walc': 1, 'G3': 19, 'famsize': 'LE3', 'school': 'GP', 'total': 56, 'ID': 113, 'failures': 0, 'reason': 'course', 'higher': 'yes', 'G1': 18, 'famrel': 3, 'Medu': 4, 'activities': 'no', 'absences': 10, 'internet': 'yes', 'freetime': 5, 'goout': 2, 'famsup': 'no', 'G2': 19, 'romantic': 'no', 'sex': 'M', 'nursery': 'yes', 'health': 3, 'Mjob': 'teacher'}\n",
      "GP: No.3  {'Pstatus': 'A', 'Dalc': 1, 'schoolsup': 'no', 'Fedu': 4, 'traveltime': 1, 'studytime': 1, 'guardian': 'mother', 'paid': 'no', 'Fjob': 'teacher', 'address': 'U', 'age': 15, 'Walc': 1, 'G3': 19, 'famsize': 'LE3', 'school': 'GP', 'total': 56, 'ID': 110, 'failures': 0, 'reason': 'course', 'higher': 'yes', 'G1': 18, 'famrel': 5, 'Medu': 4, 'activities': 'yes', 'absences': 6, 'internet': 'yes', 'freetime': 5, 'goout': 3, 'famsup': 'no', 'G2': 19, 'romantic': 'no', 'sex': 'M', 'nursery': 'yes', 'health': 4, 'Mjob': 'teacher'}\n",
      "GP: No.4  {'Pstatus': 'T', 'Dalc': 1, 'schoolsup': 'no', 'Fedu': 4, 'traveltime': 1, 'studytime': 2, 'guardian': 'father', 'paid': 'no', 'Fjob': 'teacher', 'address': 'U', 'age': 15, 'Walc': 1, 'G3': 18, 'famsize': 'GT3', 'school': 'GP', 'total': 55, 'ID': 42, 'failures': 0, 'reason': 'course', 'higher': 'yes', 'G1': 19, 'famrel': 4, 'Medu': 4, 'activities': 'yes', 'absences': 2, 'internet': 'yes', 'freetime': 3, 'goout': 3, 'famsup': 'yes', 'G2': 18, 'romantic': 'no', 'sex': 'M', 'nursery': 'yes', 'health': 5, 'Mjob': 'services'}\n",
      "GP: No.5  {'Pstatus': 'T', 'Dalc': 1, 'schoolsup': 'no', 'Fedu': 2, 'traveltime': 1, 'studytime': 3, 'guardian': 'mother', 'paid': 'yes', 'Fjob': 'at_home', 'address': 'U', 'age': 18, 'Walc': 2, 'G3': 19, 'famsize': 'GT3', 'school': 'GP', 'total': 55, 'ID': 286, 'failures': 0, 'reason': 'other', 'higher': 'yes', 'G1': 18, 'famrel': 4, 'Medu': 2, 'activities': 'no', 'absences': 5, 'internet': 'yes', 'freetime': 3, 'goout': 3, 'famsup': 'yes', 'G2': 18, 'romantic': 'no', 'sex': 'F', 'nursery': 'yes', 'health': 2, 'Mjob': 'at_home'}\n",
      "GP: No.6  {'Pstatus': 'T', 'Dalc': 2, 'schoolsup': 'no', 'Fedu': 4, 'traveltime': 1, 'studytime': 1, 'guardian': 'mother', 'paid': 'yes', 'Fjob': 'teacher', 'address': 'R', 'age': 16, 'Walc': 5, 'G3': 18, 'famsize': 'GT3', 'school': 'GP', 'total': 54, 'ID': 129, 'failures': 0, 'reason': 'course', 'higher': 'yes', 'G1': 18, 'famrel': 3, 'Medu': 4, 'activities': 'yes', 'absences': 8, 'internet': 'yes', 'freetime': 5, 'goout': 5, 'famsup': 'no', 'G2': 18, 'romantic': 'no', 'sex': 'M', 'nursery': 'yes', 'health': 4, 'Mjob': 'teacher'}\n",
      "GP: No.7  {'Pstatus': 'T', 'Dalc': 1, 'schoolsup': 'no', 'Fedu': 1, 'traveltime': 3, 'studytime': 1, 'guardian': 'mother', 'paid': 'no', 'Fjob': 'other', 'address': 'U', 'age': 16, 'Walc': 1, 'G3': 18, 'famsize': 'GT3', 'school': 'GP', 'total': 54, 'ID': 245, 'failures': 0, 'reason': 'course', 'higher': 'yes', 'G1': 18, 'famrel': 4, 'Medu': 2, 'activities': 'no', 'absences': 6, 'internet': 'yes', 'freetime': 3, 'goout': 3, 'famsup': 'no', 'G2': 18, 'romantic': 'no', 'sex': 'M', 'nursery': 'yes', 'health': 4, 'Mjob': 'other'}\n",
      "GP: No.8  {'Pstatus': 'T', 'Dalc': 1, 'schoolsup': 'no', 'Fedu': 1, 'traveltime': 2, 'studytime': 4, 'guardian': 'mother', 'paid': 'yes', 'Fjob': 'other', 'address': 'R', 'age': 17, 'Walc': 1, 'G3': 18, 'famsize': 'LE3', 'school': 'GP', 'total': 54, 'ID': 293, 'failures': 0, 'reason': 'reputation', 'higher': 'yes', 'G1': 18, 'famrel': 3, 'Medu': 3, 'activities': 'no', 'absences': 6, 'internet': 'no', 'freetime': 1, 'goout': 2, 'famsup': 'yes', 'G2': 18, 'romantic': 'no', 'sex': 'F', 'nursery': 'yes', 'health': 3, 'Mjob': 'services'}\n",
      "GP: No.9  {'Pstatus': 'T', 'Dalc': 2, 'schoolsup': 'no', 'Fedu': 4, 'traveltime': 2, 'studytime': 1, 'guardian': 'mother', 'paid': 'no', 'Fjob': 'teacher', 'address': 'U', 'age': 17, 'Walc': 3, 'G3': 18, 'famsize': 'GT3', 'school': 'GP', 'total': 54, 'ID': 198, 'failures': 1, 'reason': 'home', 'higher': 'yes', 'G1': 18, 'famrel': 4, 'Medu': 4, 'activities': 'no', 'absences': 24, 'internet': 'yes', 'freetime': 2, 'goout': 4, 'famsup': 'yes', 'G2': 18, 'romantic': 'no', 'sex': 'F', 'nursery': 'yes', 'health': 2, 'Mjob': 'services'}\n",
      "GP: No.10  {'Pstatus': 'A', 'Dalc': 1, 'schoolsup': 'no', 'Fedu': 2, 'traveltime': 1, 'studytime': 1, 'guardian': 'other', 'paid': 'no', 'Fjob': 'other', 'address': 'U', 'age': 20, 'Walc': 1, 'G3': 18, 'famsize': 'GT3', 'school': 'GP', 'total': 53, 'ID': 306, 'failures': 0, 'reason': 'course', 'higher': 'yes', 'G1': 17, 'famrel': 5, 'Medu': 3, 'activities': 'yes', 'absences': 0, 'internet': 'no', 'freetime': 5, 'goout': 3, 'famsup': 'no', 'G2': 18, 'romantic': 'no', 'sex': 'M', 'nursery': 'yes', 'health': 5, 'Mjob': 'services'}\n",
      "MS: No.1  {'Pstatus': 'T', 'Dalc': 1, 'schoolsup': 'no', 'Fedu': 4, 'traveltime': 2, 'studytime': 3, 'guardian': 'mother', 'paid': 'no', 'Fjob': 'other', 'address': 'R', 'age': 18, 'Walc': 1, 'G3': 19, 'famsize': 'LE3', 'school': 'MS', 'total': 56, 'ID': 374, 'failures': 0, 'reason': 'reputation', 'higher': 'yes', 'G1': 19, 'famrel': 5, 'Medu': 4, 'activities': 'no', 'absences': 0, 'internet': 'yes', 'freetime': 4, 'goout': 4, 'famsup': 'no', 'G2': 18, 'romantic': 'no', 'sex': 'F', 'nursery': 'yes', 'health': 1, 'Mjob': 'other'}\n",
      "MS: No.2  {'Pstatus': 'T', 'Dalc': 1, 'schoolsup': 'no', 'Fedu': 1, 'traveltime': 2, 'studytime': 3, 'guardian': 'father', 'paid': 'no', 'Fjob': 'services', 'address': 'U', 'age': 18, 'Walc': 1, 'G3': 16, 'famsize': 'LE3', 'school': 'MS', 'total': 50, 'ID': 359, 'failures': 0, 'reason': 'course', 'higher': 'yes', 'G1': 18, 'famrel': 5, 'Medu': 1, 'activities': 'no', 'absences': 0, 'internet': 'yes', 'freetime': 3, 'goout': 2, 'famsup': 'no', 'G2': 16, 'romantic': 'no', 'sex': 'F', 'nursery': 'yes', 'health': 4, 'Mjob': 'at_home'}\n",
      "MS: No.3  {'Pstatus': 'T', 'Dalc': 3, 'schoolsup': 'no', 'Fedu': 1, 'traveltime': 2, 'studytime': 1, 'guardian': 'mother', 'paid': 'no', 'Fjob': 'services', 'address': 'U', 'age': 17, 'Walc': 4, 'G3': 16, 'famsize': 'LE3', 'school': 'MS', 'total': 46, 'ID': 391, 'failures': 0, 'reason': 'course', 'higher': 'yes', 'G1': 14, 'famrel': 2, 'Medu': 3, 'activities': 'no', 'absences': 3, 'internet': 'yes', 'freetime': 4, 'goout': 5, 'famsup': 'no', 'G2': 16, 'romantic': 'no', 'sex': 'M', 'nursery': 'no', 'health': 2, 'Mjob': 'services'}\n",
      "MS: No.4  {'Pstatus': 'T', 'Dalc': 1, 'schoolsup': 'no', 'Fedu': 4, 'traveltime': 1, 'studytime': 2, 'guardian': 'mother', 'paid': 'yes', 'Fjob': 'at_home', 'address': 'U', 'age': 17, 'Walc': 1, 'G3': 15, 'famsize': 'LE3', 'school': 'MS', 'total': 46, 'ID': 363, 'failures': 0, 'reason': 'course', 'higher': 'yes', 'G1': 16, 'famrel': 2, 'Medu': 4, 'activities': 'yes', 'absences': 0, 'internet': 'yes', 'freetime': 3, 'goout': 4, 'famsup': 'yes', 'G2': 15, 'romantic': 'yes', 'sex': 'F', 'nursery': 'yes', 'health': 1, 'Mjob': 'at_home'}\n",
      "MS: No.5  {'Pstatus': 'T', 'Dalc': 1, 'schoolsup': 'no', 'Fedu': 3, 'traveltime': 1, 'studytime': 2, 'guardian': 'mother', 'paid': 'yes', 'Fjob': 'other', 'address': 'U', 'age': 18, 'Walc': 2, 'G3': 15, 'famsize': 'GT3', 'school': 'MS', 'total': 45, 'ID': 378, 'failures': 0, 'reason': 'home', 'higher': 'yes', 'G1': 15, 'famrel': 4, 'Medu': 3, 'activities': 'no', 'absences': 0, 'internet': 'yes', 'freetime': 1, 'goout': 3, 'famsup': 'no', 'G2': 15, 'romantic': 'yes', 'sex': 'F', 'nursery': 'yes', 'health': 1, 'Mjob': 'other'}\n",
      "MS: No.6  {'Pstatus': 'T', 'Dalc': 1, 'schoolsup': 'no', 'Fedu': 2, 'traveltime': 2, 'studytime': 3, 'guardian': 'other', 'paid': 'yes', 'Fjob': 'other', 'address': 'U', 'age': 20, 'Walc': 1, 'G3': 15, 'famsize': 'GT3', 'school': 'MS', 'total': 44, 'ID': 376, 'failures': 2, 'reason': 'course', 'higher': 'yes', 'G1': 15, 'famrel': 5, 'Medu': 4, 'activities': 'no', 'absences': 4, 'internet': 'yes', 'freetime': 4, 'goout': 3, 'famsup': 'yes', 'G2': 14, 'romantic': 'yes', 'sex': 'F', 'nursery': 'no', 'health': 3, 'Mjob': 'health'}\n",
      "MS: No.7  {'Pstatus': 'T', 'Dalc': 1, 'schoolsup': 'no', 'Fedu': 4, 'traveltime': 1, 'studytime': 2, 'guardian': 'father', 'paid': 'yes', 'Fjob': 'teacher', 'address': 'U', 'age': 18, 'Walc': 4, 'G3': 14, 'famsize': 'GT3', 'school': 'MS', 'total': 43, 'ID': 380, 'failures': 0, 'reason': 'home', 'higher': 'yes', 'G1': 15, 'famrel': 3, 'Medu': 4, 'activities': 'yes', 'absences': 4, 'internet': 'yes', 'freetime': 2, 'goout': 4, 'famsup': 'no', 'G2': 14, 'romantic': 'no', 'sex': 'M', 'nursery': 'no', 'health': 2, 'Mjob': 'teacher'}\n",
      "MS: No.8  {'Pstatus': 'T', 'Dalc': 2, 'schoolsup': 'no', 'Fedu': 4, 'traveltime': 2, 'studytime': 3, 'guardian': 'mother', 'paid': 'yes', 'Fjob': 'services', 'address': 'U', 'age': 18, 'Walc': 2, 'G3': 13, 'famsize': 'LE3', 'school': 'MS', 'total': 39, 'ID': 366, 'failures': 0, 'reason': 'other', 'higher': 'yes', 'G1': 13, 'famrel': 4, 'Medu': 4, 'activities': 'no', 'absences': 0, 'internet': 'yes', 'freetime': 2, 'goout': 2, 'famsup': 'no', 'G2': 13, 'romantic': 'yes', 'sex': 'M', 'nursery': 'yes', 'health': 5, 'Mjob': 'teacher'}\n",
      "MS: No.9  {'Pstatus': 'T', 'Dalc': 2, 'schoolsup': 'no', 'Fedu': 3, 'traveltime': 2, 'studytime': 2, 'guardian': 'mother', 'paid': 'yes', 'Fjob': 'other', 'address': 'U', 'age': 17, 'Walc': 3, 'G3': 13, 'famsize': 'GT3', 'school': 'MS', 'total': 39, 'ID': 351, 'failures': 0, 'reason': 'course', 'higher': 'yes', 'G1': 13, 'famrel': 4, 'Medu': 3, 'activities': 'no', 'absences': 2, 'internet': 'yes', 'freetime': 5, 'goout': 4, 'famsup': 'yes', 'G2': 13, 'romantic': 'no', 'sex': 'M', 'nursery': 'yes', 'health': 3, 'Mjob': 'health'}\n",
      "MS: No.10  {'Pstatus': 'A', 'Dalc': 1, 'schoolsup': 'no', 'Fedu': 4, 'traveltime': 3, 'studytime': 2, 'guardian': 'mother', 'paid': 'no', 'Fjob': 'other', 'address': 'R', 'age': 18, 'Walc': 4, 'G3': 13, 'famsize': 'LE3', 'school': 'MS', 'total': 39, 'ID': 360, 'failures': 0, 'reason': 'course', 'higher': 'yes', 'G1': 13, 'famrel': 4, 'Medu': 1, 'activities': 'no', 'absences': 0, 'internet': 'no', 'freetime': 3, 'goout': 4, 'famsup': 'no', 'G2': 13, 'romantic': 'yes', 'sex': 'F', 'nursery': 'yes', 'health': 5, 'Mjob': 'at_home'}\n"
     ]
    }
   ],
   "source": [
    "# from pprint import pprint\n",
    "\n",
    "df[\"total\"] = df.G1 + df.G2 + df.G3\n",
    "grouped = df.groupby(by=[\"school\"])\n",
    "dct = {}\n",
    "for school, dg in grouped:\n",
    "    dg_top10 = dg.sort_values(by=[\"total\"], ascending=False).iloc[:10]\n",
    "    dct[school] = dg_top10.to_dict(orient=\"records\")\n",
    "\n",
    "for key, lst in dct.items():\n",
    "    for idx, i in enumerate(lst):\n",
    "        print(key + \": No.\" + str(idx + 1) + \"  \" + str(i))"
   ]
  },
  {
   "cell_type": "markdown",
   "metadata": {},
   "source": [
    "### 2.沃尔玛销售数据整理（共40分）"
   ]
  },
  {
   "cell_type": "markdown",
   "metadata": {},
   "source": [
    "#### 1. 数据导入并展示, 文件位置位于0.Teacher/data/walmart下 （10分）\n",
    "\n",
    "   - 请将文件 stores.csv 中的内容读入pandas DataFrame \"df_stores\"，并展示前五行以及打印df_stores的shape （2分）"
   ]
  },
  {
   "cell_type": "code",
   "execution_count": 9,
   "metadata": {
    "ExecuteTime": {
     "end_time": "2019-05-18T10:46:36.862645Z",
     "start_time": "2019-05-18T10:46:36.842463Z"
    }
   },
   "outputs": [
    {
     "data": {
      "text/html": [
       "<div>\n",
       "<style scoped>\n",
       "    .dataframe tbody tr th:only-of-type {\n",
       "        vertical-align: middle;\n",
       "    }\n",
       "\n",
       "    .dataframe tbody tr th {\n",
       "        vertical-align: top;\n",
       "    }\n",
       "\n",
       "    .dataframe thead th {\n",
       "        text-align: right;\n",
       "    }\n",
       "</style>\n",
       "<table border=\"1\" class=\"dataframe\">\n",
       "  <thead>\n",
       "    <tr style=\"text-align: right;\">\n",
       "      <th></th>\n",
       "      <th>Store</th>\n",
       "      <th>Type</th>\n",
       "      <th>Size</th>\n",
       "    </tr>\n",
       "  </thead>\n",
       "  <tbody>\n",
       "    <tr>\n",
       "      <th>0</th>\n",
       "      <td>1</td>\n",
       "      <td>A</td>\n",
       "      <td>151315</td>\n",
       "    </tr>\n",
       "    <tr>\n",
       "      <th>1</th>\n",
       "      <td>2</td>\n",
       "      <td>A</td>\n",
       "      <td>202307</td>\n",
       "    </tr>\n",
       "    <tr>\n",
       "      <th>2</th>\n",
       "      <td>3</td>\n",
       "      <td>B</td>\n",
       "      <td>37392</td>\n",
       "    </tr>\n",
       "    <tr>\n",
       "      <th>3</th>\n",
       "      <td>4</td>\n",
       "      <td>A</td>\n",
       "      <td>205863</td>\n",
       "    </tr>\n",
       "    <tr>\n",
       "      <th>4</th>\n",
       "      <td>5</td>\n",
       "      <td>B</td>\n",
       "      <td>34875</td>\n",
       "    </tr>\n",
       "  </tbody>\n",
       "</table>\n",
       "</div>"
      ],
      "text/plain": [
       "   Store Type    Size\n",
       "0      1    A  151315\n",
       "1      2    A  202307\n",
       "2      3    B   37392\n",
       "3      4    A  205863\n",
       "4      5    B   34875"
      ]
     },
     "execution_count": 9,
     "metadata": {},
     "output_type": "execute_result"
    },
    {
     "data": {
      "text/plain": [
       "(45, 3)"
      ]
     },
     "execution_count": 9,
     "metadata": {},
     "output_type": "execute_result"
    }
   ],
   "source": [
    "df_stores = pd.read_csv(r\"../../Data/Walmart/stores.csv\")\n",
    "df_stores.head()\n",
    "df_stores.shape"
   ]
  },
  {
   "cell_type": "markdown",
   "metadata": {},
   "source": [
    "   - 请将文件 features.csv 中的内容读入pandas DataFrame \"df_feats\"，将df_feats改成只留下以下几个columns: \"Store\", \"Date\", \"Temperature\", \"Fuel_Price\", \"CPI\", \"Unemployment\", 并展示前五行以及打印df_feats的shape  （4分）"
   ]
  },
  {
   "cell_type": "code",
   "execution_count": 10,
   "metadata": {
    "ExecuteTime": {
     "end_time": "2019-05-18T10:46:36.913875Z",
     "start_time": "2019-05-18T10:46:36.869081Z"
    }
   },
   "outputs": [
    {
     "data": {
      "text/html": [
       "<div>\n",
       "<style scoped>\n",
       "    .dataframe tbody tr th:only-of-type {\n",
       "        vertical-align: middle;\n",
       "    }\n",
       "\n",
       "    .dataframe tbody tr th {\n",
       "        vertical-align: top;\n",
       "    }\n",
       "\n",
       "    .dataframe thead th {\n",
       "        text-align: right;\n",
       "    }\n",
       "</style>\n",
       "<table border=\"1\" class=\"dataframe\">\n",
       "  <thead>\n",
       "    <tr style=\"text-align: right;\">\n",
       "      <th></th>\n",
       "      <th>Store</th>\n",
       "      <th>Date</th>\n",
       "      <th>Temperature</th>\n",
       "      <th>Fuel_Price</th>\n",
       "      <th>CPI</th>\n",
       "      <th>Unemployment</th>\n",
       "    </tr>\n",
       "  </thead>\n",
       "  <tbody>\n",
       "    <tr>\n",
       "      <th>0</th>\n",
       "      <td>1</td>\n",
       "      <td>2010-02-05</td>\n",
       "      <td>42.31</td>\n",
       "      <td>2.572</td>\n",
       "      <td>211.096358</td>\n",
       "      <td>8.106</td>\n",
       "    </tr>\n",
       "    <tr>\n",
       "      <th>1</th>\n",
       "      <td>1</td>\n",
       "      <td>2010-02-12</td>\n",
       "      <td>38.51</td>\n",
       "      <td>2.548</td>\n",
       "      <td>211.242170</td>\n",
       "      <td>8.106</td>\n",
       "    </tr>\n",
       "    <tr>\n",
       "      <th>2</th>\n",
       "      <td>1</td>\n",
       "      <td>2010-02-19</td>\n",
       "      <td>39.93</td>\n",
       "      <td>2.514</td>\n",
       "      <td>211.289143</td>\n",
       "      <td>8.106</td>\n",
       "    </tr>\n",
       "    <tr>\n",
       "      <th>3</th>\n",
       "      <td>1</td>\n",
       "      <td>2010-02-26</td>\n",
       "      <td>46.63</td>\n",
       "      <td>2.561</td>\n",
       "      <td>211.319643</td>\n",
       "      <td>8.106</td>\n",
       "    </tr>\n",
       "    <tr>\n",
       "      <th>4</th>\n",
       "      <td>1</td>\n",
       "      <td>2010-03-05</td>\n",
       "      <td>46.50</td>\n",
       "      <td>2.625</td>\n",
       "      <td>211.350143</td>\n",
       "      <td>8.106</td>\n",
       "    </tr>\n",
       "  </tbody>\n",
       "</table>\n",
       "</div>"
      ],
      "text/plain": [
       "   Store        Date  Temperature  Fuel_Price         CPI  Unemployment\n",
       "0      1  2010-02-05        42.31       2.572  211.096358         8.106\n",
       "1      1  2010-02-12        38.51       2.548  211.242170         8.106\n",
       "2      1  2010-02-19        39.93       2.514  211.289143         8.106\n",
       "3      1  2010-02-26        46.63       2.561  211.319643         8.106\n",
       "4      1  2010-03-05        46.50       2.625  211.350143         8.106"
      ]
     },
     "execution_count": 10,
     "metadata": {},
     "output_type": "execute_result"
    },
    {
     "data": {
      "text/plain": [
       "(8190, 6)"
      ]
     },
     "execution_count": 10,
     "metadata": {},
     "output_type": "execute_result"
    }
   ],
   "source": [
    "df_feats = pd.read_csv(r\"../../Data/Walmart/features.csv\")\n",
    "df_feats = df_feats[[\"Store\", \"Date\", \"Temperature\", \"Fuel_Price\", \"CPI\", \"Unemployment\"]]\n",
    "df_feats.head()\n",
    "df_feats.shape"
   ]
  },
  {
   "cell_type": "markdown",
   "metadata": {},
   "source": [
    "   - 请将文件 sales.csv 中的内容读入pandas DataFrame \"df_sales\"，并展示前五行以及打印df_sales的shape（4分）"
   ]
  },
  {
   "cell_type": "code",
   "execution_count": 11,
   "metadata": {
    "ExecuteTime": {
     "end_time": "2019-05-18T10:46:37.225509Z",
     "start_time": "2019-05-18T10:46:36.920453Z"
    }
   },
   "outputs": [
    {
     "data": {
      "text/html": [
       "<div>\n",
       "<style scoped>\n",
       "    .dataframe tbody tr th:only-of-type {\n",
       "        vertical-align: middle;\n",
       "    }\n",
       "\n",
       "    .dataframe tbody tr th {\n",
       "        vertical-align: top;\n",
       "    }\n",
       "\n",
       "    .dataframe thead th {\n",
       "        text-align: right;\n",
       "    }\n",
       "</style>\n",
       "<table border=\"1\" class=\"dataframe\">\n",
       "  <thead>\n",
       "    <tr style=\"text-align: right;\">\n",
       "      <th></th>\n",
       "      <th>Store</th>\n",
       "      <th>Dept</th>\n",
       "      <th>Date</th>\n",
       "      <th>Weekly_Sales</th>\n",
       "      <th>IsHoliday</th>\n",
       "    </tr>\n",
       "  </thead>\n",
       "  <tbody>\n",
       "    <tr>\n",
       "      <th>0</th>\n",
       "      <td>1</td>\n",
       "      <td>1</td>\n",
       "      <td>2010-02-05</td>\n",
       "      <td>24924.50</td>\n",
       "      <td>False</td>\n",
       "    </tr>\n",
       "    <tr>\n",
       "      <th>1</th>\n",
       "      <td>1</td>\n",
       "      <td>1</td>\n",
       "      <td>2010-02-12</td>\n",
       "      <td>46039.49</td>\n",
       "      <td>True</td>\n",
       "    </tr>\n",
       "    <tr>\n",
       "      <th>2</th>\n",
       "      <td>1</td>\n",
       "      <td>1</td>\n",
       "      <td>2010-02-19</td>\n",
       "      <td>41595.55</td>\n",
       "      <td>False</td>\n",
       "    </tr>\n",
       "    <tr>\n",
       "      <th>3</th>\n",
       "      <td>1</td>\n",
       "      <td>1</td>\n",
       "      <td>2010-02-26</td>\n",
       "      <td>19403.54</td>\n",
       "      <td>False</td>\n",
       "    </tr>\n",
       "    <tr>\n",
       "      <th>4</th>\n",
       "      <td>1</td>\n",
       "      <td>1</td>\n",
       "      <td>2010-03-05</td>\n",
       "      <td>21827.90</td>\n",
       "      <td>False</td>\n",
       "    </tr>\n",
       "  </tbody>\n",
       "</table>\n",
       "</div>"
      ],
      "text/plain": [
       "   Store  Dept        Date  Weekly_Sales  IsHoliday\n",
       "0      1     1  2010-02-05      24924.50      False\n",
       "1      1     1  2010-02-12      46039.49       True\n",
       "2      1     1  2010-02-19      41595.55      False\n",
       "3      1     1  2010-02-26      19403.54      False\n",
       "4      1     1  2010-03-05      21827.90      False"
      ]
     },
     "execution_count": 11,
     "metadata": {},
     "output_type": "execute_result"
    },
    {
     "data": {
      "text/plain": [
       "(421570, 5)"
      ]
     },
     "execution_count": 11,
     "metadata": {},
     "output_type": "execute_result"
    }
   ],
   "source": [
    "df_sales = pd.read_csv(r\"../../Data/Walmart/sales.csv\")\n",
    "df_sales.head()\n",
    "df_sales.shape"
   ]
  },
  {
   "cell_type": "markdown",
   "metadata": {},
   "source": [
    "#### 8. 我们发现 df_sales 中每个Store有很多个Dept(department)， 我们只关心整家店的销售情况，所以请把这张表格按照Store和Date来计算整店销售总额，IsHoliday这一列不必保留。结果保存在df_sales_by_store中。（10分）"
   ]
  },
  {
   "cell_type": "code",
   "execution_count": 12,
   "metadata": {
    "ExecuteTime": {
     "end_time": "2019-05-18T10:46:37.307334Z",
     "start_time": "2019-05-18T10:46:37.230329Z"
    }
   },
   "outputs": [
    {
     "data": {
      "text/html": [
       "<div>\n",
       "<style scoped>\n",
       "    .dataframe tbody tr th:only-of-type {\n",
       "        vertical-align: middle;\n",
       "    }\n",
       "\n",
       "    .dataframe tbody tr th {\n",
       "        vertical-align: top;\n",
       "    }\n",
       "\n",
       "    .dataframe thead th {\n",
       "        text-align: right;\n",
       "    }\n",
       "</style>\n",
       "<table border=\"1\" class=\"dataframe\">\n",
       "  <thead>\n",
       "    <tr style=\"text-align: right;\">\n",
       "      <th></th>\n",
       "      <th>Store</th>\n",
       "      <th>Date</th>\n",
       "      <th>Weekly_Sales</th>\n",
       "    </tr>\n",
       "  </thead>\n",
       "  <tbody>\n",
       "    <tr>\n",
       "      <th>0</th>\n",
       "      <td>1</td>\n",
       "      <td>2010-02-05</td>\n",
       "      <td>1643690.90</td>\n",
       "    </tr>\n",
       "    <tr>\n",
       "      <th>1</th>\n",
       "      <td>1</td>\n",
       "      <td>2010-02-12</td>\n",
       "      <td>1641957.44</td>\n",
       "    </tr>\n",
       "    <tr>\n",
       "      <th>2</th>\n",
       "      <td>1</td>\n",
       "      <td>2010-02-19</td>\n",
       "      <td>1611968.17</td>\n",
       "    </tr>\n",
       "    <tr>\n",
       "      <th>3</th>\n",
       "      <td>1</td>\n",
       "      <td>2010-02-26</td>\n",
       "      <td>1409727.59</td>\n",
       "    </tr>\n",
       "    <tr>\n",
       "      <th>4</th>\n",
       "      <td>1</td>\n",
       "      <td>2010-03-05</td>\n",
       "      <td>1554806.68</td>\n",
       "    </tr>\n",
       "  </tbody>\n",
       "</table>\n",
       "</div>"
      ],
      "text/plain": [
       "   Store        Date  Weekly_Sales\n",
       "0      1  2010-02-05    1643690.90\n",
       "1      1  2010-02-12    1641957.44\n",
       "2      1  2010-02-19    1611968.17\n",
       "3      1  2010-02-26    1409727.59\n",
       "4      1  2010-03-05    1554806.68"
      ]
     },
     "execution_count": 12,
     "metadata": {},
     "output_type": "execute_result"
    },
    {
     "data": {
      "text/plain": [
       "(6435, 3)"
      ]
     },
     "execution_count": 12,
     "metadata": {},
     "output_type": "execute_result"
    }
   ],
   "source": [
    "df_sales_by_store = df_sales.groupby(by=[\"Store\",\"Date\"])[\"Weekly_Sales\"].sum().reset_index()\n",
    "df_sales_by_store.head()\n",
    "df_sales_by_store.shape"
   ]
  },
  {
   "cell_type": "markdown",
   "metadata": {},
   "source": [
    "#### 9. 使用 Store 和 Date 这两列合并 df_sales_by_store 和 df_feats 两张表格，结果保存在 df_sale_feats 。（10分）"
   ]
  },
  {
   "cell_type": "code",
   "execution_count": 13,
   "metadata": {
    "ExecuteTime": {
     "end_time": "2019-05-18T10:46:37.353638Z",
     "start_time": "2019-05-18T10:46:37.310983Z"
    }
   },
   "outputs": [
    {
     "data": {
      "text/html": [
       "<div>\n",
       "<style scoped>\n",
       "    .dataframe tbody tr th:only-of-type {\n",
       "        vertical-align: middle;\n",
       "    }\n",
       "\n",
       "    .dataframe tbody tr th {\n",
       "        vertical-align: top;\n",
       "    }\n",
       "\n",
       "    .dataframe thead th {\n",
       "        text-align: right;\n",
       "    }\n",
       "</style>\n",
       "<table border=\"1\" class=\"dataframe\">\n",
       "  <thead>\n",
       "    <tr style=\"text-align: right;\">\n",
       "      <th></th>\n",
       "      <th>Store</th>\n",
       "      <th>Date</th>\n",
       "      <th>Temperature</th>\n",
       "      <th>Fuel_Price</th>\n",
       "      <th>CPI</th>\n",
       "      <th>Unemployment</th>\n",
       "      <th>Weekly_Sales</th>\n",
       "    </tr>\n",
       "  </thead>\n",
       "  <tbody>\n",
       "    <tr>\n",
       "      <th>0</th>\n",
       "      <td>1</td>\n",
       "      <td>2010-02-05</td>\n",
       "      <td>42.31</td>\n",
       "      <td>2.572</td>\n",
       "      <td>211.096358</td>\n",
       "      <td>8.106</td>\n",
       "      <td>1643690.90</td>\n",
       "    </tr>\n",
       "    <tr>\n",
       "      <th>1</th>\n",
       "      <td>1</td>\n",
       "      <td>2010-02-12</td>\n",
       "      <td>38.51</td>\n",
       "      <td>2.548</td>\n",
       "      <td>211.242170</td>\n",
       "      <td>8.106</td>\n",
       "      <td>1641957.44</td>\n",
       "    </tr>\n",
       "    <tr>\n",
       "      <th>2</th>\n",
       "      <td>1</td>\n",
       "      <td>2010-02-19</td>\n",
       "      <td>39.93</td>\n",
       "      <td>2.514</td>\n",
       "      <td>211.289143</td>\n",
       "      <td>8.106</td>\n",
       "      <td>1611968.17</td>\n",
       "    </tr>\n",
       "    <tr>\n",
       "      <th>3</th>\n",
       "      <td>1</td>\n",
       "      <td>2010-02-26</td>\n",
       "      <td>46.63</td>\n",
       "      <td>2.561</td>\n",
       "      <td>211.319643</td>\n",
       "      <td>8.106</td>\n",
       "      <td>1409727.59</td>\n",
       "    </tr>\n",
       "    <tr>\n",
       "      <th>4</th>\n",
       "      <td>1</td>\n",
       "      <td>2010-03-05</td>\n",
       "      <td>46.50</td>\n",
       "      <td>2.625</td>\n",
       "      <td>211.350143</td>\n",
       "      <td>8.106</td>\n",
       "      <td>1554806.68</td>\n",
       "    </tr>\n",
       "  </tbody>\n",
       "</table>\n",
       "</div>"
      ],
      "text/plain": [
       "   Store        Date  Temperature  Fuel_Price         CPI  Unemployment  \\\n",
       "0      1  2010-02-05        42.31       2.572  211.096358         8.106   \n",
       "1      1  2010-02-12        38.51       2.548  211.242170         8.106   \n",
       "2      1  2010-02-19        39.93       2.514  211.289143         8.106   \n",
       "3      1  2010-02-26        46.63       2.561  211.319643         8.106   \n",
       "4      1  2010-03-05        46.50       2.625  211.350143         8.106   \n",
       "\n",
       "   Weekly_Sales  \n",
       "0    1643690.90  \n",
       "1    1641957.44  \n",
       "2    1611968.17  \n",
       "3    1409727.59  \n",
       "4    1554806.68  "
      ]
     },
     "execution_count": 13,
     "metadata": {},
     "output_type": "execute_result"
    },
    {
     "data": {
      "text/plain": [
       "(6435, 7)"
      ]
     },
     "execution_count": 13,
     "metadata": {},
     "output_type": "execute_result"
    }
   ],
   "source": [
    "# df_feats.head()\n",
    "df_sale_feats = pd.merge(df_feats, df_sales_by_store, on=[\"Store\", \"Date\"])\n",
    "df_sale_feats.head()\n",
    "df_sale_feats.shape"
   ]
  },
  {
   "cell_type": "markdown",
   "metadata": {},
   "source": [
    "#### 10. 使用 Store 这一列合并 df_sale_feats 和 df_stores 两张表格，结果仍然保留在df_sale_feats 中。（10分）"
   ]
  },
  {
   "cell_type": "code",
   "execution_count": 14,
   "metadata": {
    "ExecuteTime": {
     "end_time": "2019-05-18T10:46:37.384227Z",
     "start_time": "2019-05-18T10:46:37.356939Z"
    }
   },
   "outputs": [
    {
     "data": {
      "text/html": [
       "<div>\n",
       "<style scoped>\n",
       "    .dataframe tbody tr th:only-of-type {\n",
       "        vertical-align: middle;\n",
       "    }\n",
       "\n",
       "    .dataframe tbody tr th {\n",
       "        vertical-align: top;\n",
       "    }\n",
       "\n",
       "    .dataframe thead th {\n",
       "        text-align: right;\n",
       "    }\n",
       "</style>\n",
       "<table border=\"1\" class=\"dataframe\">\n",
       "  <thead>\n",
       "    <tr style=\"text-align: right;\">\n",
       "      <th></th>\n",
       "      <th>Store</th>\n",
       "      <th>Date</th>\n",
       "      <th>Temperature</th>\n",
       "      <th>Fuel_Price</th>\n",
       "      <th>CPI</th>\n",
       "      <th>Unemployment</th>\n",
       "      <th>Weekly_Sales</th>\n",
       "      <th>Type</th>\n",
       "      <th>Size</th>\n",
       "    </tr>\n",
       "  </thead>\n",
       "  <tbody>\n",
       "    <tr>\n",
       "      <th>0</th>\n",
       "      <td>1</td>\n",
       "      <td>2010-02-05</td>\n",
       "      <td>42.31</td>\n",
       "      <td>2.572</td>\n",
       "      <td>211.096358</td>\n",
       "      <td>8.106</td>\n",
       "      <td>1643690.90</td>\n",
       "      <td>A</td>\n",
       "      <td>151315</td>\n",
       "    </tr>\n",
       "    <tr>\n",
       "      <th>1</th>\n",
       "      <td>1</td>\n",
       "      <td>2010-02-12</td>\n",
       "      <td>38.51</td>\n",
       "      <td>2.548</td>\n",
       "      <td>211.242170</td>\n",
       "      <td>8.106</td>\n",
       "      <td>1641957.44</td>\n",
       "      <td>A</td>\n",
       "      <td>151315</td>\n",
       "    </tr>\n",
       "    <tr>\n",
       "      <th>2</th>\n",
       "      <td>1</td>\n",
       "      <td>2010-02-19</td>\n",
       "      <td>39.93</td>\n",
       "      <td>2.514</td>\n",
       "      <td>211.289143</td>\n",
       "      <td>8.106</td>\n",
       "      <td>1611968.17</td>\n",
       "      <td>A</td>\n",
       "      <td>151315</td>\n",
       "    </tr>\n",
       "    <tr>\n",
       "      <th>3</th>\n",
       "      <td>1</td>\n",
       "      <td>2010-02-26</td>\n",
       "      <td>46.63</td>\n",
       "      <td>2.561</td>\n",
       "      <td>211.319643</td>\n",
       "      <td>8.106</td>\n",
       "      <td>1409727.59</td>\n",
       "      <td>A</td>\n",
       "      <td>151315</td>\n",
       "    </tr>\n",
       "    <tr>\n",
       "      <th>4</th>\n",
       "      <td>1</td>\n",
       "      <td>2010-03-05</td>\n",
       "      <td>46.50</td>\n",
       "      <td>2.625</td>\n",
       "      <td>211.350143</td>\n",
       "      <td>8.106</td>\n",
       "      <td>1554806.68</td>\n",
       "      <td>A</td>\n",
       "      <td>151315</td>\n",
       "    </tr>\n",
       "  </tbody>\n",
       "</table>\n",
       "</div>"
      ],
      "text/plain": [
       "   Store        Date  Temperature  Fuel_Price         CPI  Unemployment  \\\n",
       "0      1  2010-02-05        42.31       2.572  211.096358         8.106   \n",
       "1      1  2010-02-12        38.51       2.548  211.242170         8.106   \n",
       "2      1  2010-02-19        39.93       2.514  211.289143         8.106   \n",
       "3      1  2010-02-26        46.63       2.561  211.319643         8.106   \n",
       "4      1  2010-03-05        46.50       2.625  211.350143         8.106   \n",
       "\n",
       "   Weekly_Sales Type    Size  \n",
       "0    1643690.90    A  151315  \n",
       "1    1641957.44    A  151315  \n",
       "2    1611968.17    A  151315  \n",
       "3    1409727.59    A  151315  \n",
       "4    1554806.68    A  151315  "
      ]
     },
     "execution_count": 14,
     "metadata": {},
     "output_type": "execute_result"
    },
    {
     "data": {
      "text/plain": [
       "(6435, 9)"
      ]
     },
     "execution_count": 14,
     "metadata": {},
     "output_type": "execute_result"
    }
   ],
   "source": [
    "df_sale_feats = pd.merge(df_sale_feats, df_stores, how=\"left\", on=[\"Store\"])\n",
    "df_sale_feats.head()\n",
    "df_sale_feats.shape"
   ]
  },
  {
   "cell_type": "markdown",
   "metadata": {},
   "source": [
    "***\n",
    "<center><h1>####答卷结束####</h1></center>"
   ]
  },
  {
   "cell_type": "markdown",
   "metadata": {},
   "source": [
    "### 本周课程意见反馈(非必答)\n",
    "请同学围绕以下两点进行回答：\n",
    "- 自身总结：您自己在本周课程的学习，收获，技能掌握等方面进行总结，包括自身在哪些方面存在哪些不足，欠缺，困惑。作为将来回顾学习路径时的依据。\n",
    "- 课程反馈：也可以就知识点，进度，难易度，教学方式，考试方式等等进行意见反馈，督促我们进行更有效的改进，为大家提供更优质的服务。"
   ]
  }
 ],
 "metadata": {
  "kernelspec": {
   "display_name": "Python 3",
   "language": "python",
   "name": "python3"
  },
  "language_info": {
   "codemirror_mode": {
    "name": "ipython",
    "version": 3
   },
   "file_extension": ".py",
   "mimetype": "text/x-python",
   "name": "python",
   "nbconvert_exporter": "python",
   "pygments_lexer": "ipython3",
   "version": "3.6.4"
  },
  "toc": {
   "base_numbering": 1,
   "nav_menu": {},
   "number_sections": true,
   "sideBar": true,
   "skip_h1_title": false,
   "title_cell": "Table of Contents",
   "title_sidebar": "Contents",
   "toc_cell": false,
   "toc_position": {},
   "toc_section_display": true,
   "toc_window_display": false
  }
 },
 "nbformat": 4,
 "nbformat_minor": 2
}
