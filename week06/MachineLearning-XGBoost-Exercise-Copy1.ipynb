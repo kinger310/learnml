{
 "cells": [
  {
   "cell_type": "markdown",
   "metadata": {},
   "source": [
    "***\n",
    "\n",
    "## MachineLearning XGBoost作业\n",
    "\n",
    "####  作业提交说明：\n",
    "- 位置：作业文件统一放置于/0.Teacher/Exercise/ML/MachineLearning-XGBoost/下\n",
    "- 文件名：请先复制该notebook文件，并重新命名为(课程名)+(您姓名的全拼)，并按要求完成后保存\n",
    "- 时间：课程结束后的第二天前提交。\n",
    "- 注意：请勿抄袭，移动，修改，删除其他同学和原始空白的练习文件。\n",
    "***"
   ]
  },
  {
   "cell_type": "markdown",
   "metadata": {},
   "source": [
    "### 简答题"
   ]
  },
  {
   "cell_type": "markdown",
   "metadata": {},
   "source": [
    "#### 1. 简述Boosting集成方法中的加法模型和前向分布算法。"
   ]
  },
  {
   "cell_type": "markdown",
   "metadata": {},
   "source": [
    "1. Boosting常采用加法模型\n",
    "$$F(x) = \\sum_{m=0}^M \\beta_m b(x; \\gamma_m)$$ \n",
    "其中，$b(x; \\gamma_m)$为基函数，常采用回归树或者逻辑回归；$\\gamma_m$是基函数的参数, $\\beta_m$是基函数的系数\n",
    "\n",
    "2. 前向分步算法\n",
    "\n",
    "(1) 初始化$f_0(x) = 0$  \n",
    "(2) 对$m = 1, 2, 3, \\cdots, M$  \n",
    "(2.1) 极小化损失函数\n",
    "$$(\\beta_m, \\gamma_m) = \\arg \\min _{\\beta, \\gamma} \\sum_{i=1}^N L(y_i, f_{m-1}(x_i)+\\beta b(x_i; \\gamma))$$\n",
    "更新参数$\\beta_m$, $\\gamma_m$  \n",
    "(2.2) 更新加法模型\n",
    "$$f_m(x) = f_{m-1}(x) + \\beta_m b(x; \\gamma_m)$$  \n",
    "(3) 得到最终的加法模型  \n",
    "$$f(x) = f_M(x) =\\sum_{m=1}^M \\beta_m b(x; \\gamma_m)$$  \n",
    "\n",
    "\n"
   ]
  },
  {
   "cell_type": "markdown",
   "metadata": {},
   "source": [
    "#### 2. 简述残差定义以及在提升决策树（BDT）中的作用。"
   ]
  },
  {
   "cell_type": "markdown",
   "metadata": {
    "ExecuteTime": {
     "end_time": "2019-03-13T07:32:18.613753Z",
     "start_time": "2019-03-13T07:32:18.609088Z"
    }
   },
   "source": [
    "残差的定义公式\n",
    "$$r=y-f_{m-1}(x_i)$$\n",
    "是真实值与加法模型的输出值的差值\n",
    "\n",
    "残差的作用是用于训练基分类器，通过拟合残差可以学习一个新的基函数。\n"
   ]
  },
  {
   "cell_type": "markdown",
   "metadata": {},
   "source": [
    "#### 3. XGBoost中决策树是如何定义的？"
   ]
  },
  {
   "cell_type": "markdown",
   "metadata": {},
   "source": [
    "决策树模型\n",
    "$$f(x) = w_{q(x)}$$\n",
    "其中，$q=\\mathbf{R}^m \\rightarrow {1, \\cdots, T}, w \\in \\mathbf{R}^T$, $T$为决策树叶子结点的个数，\n",
    "$w$是一组数，代表每个叶结点的预测输出值，$q(x)$是$w$的索引下标，表示样本$x$向叶结点下标的映射"
   ]
  },
  {
   "cell_type": "markdown",
   "metadata": {},
   "source": [
    "#### 4. XGBoost中正则化目标函数是如何定义的？并给出正则化项的说明。"
   ]
  },
  {
   "cell_type": "markdown",
   "metadata": {},
   "source": [
    "正则化目标函数\n",
    "$$L(\\Phi)=\\sum_{i=1}^n l(\\hat y_i, y_i)+\\sum_k \\Omega(f_k)$$\n",
    "正则化项$\\Omega(f) = \\gamma T + \\frac {1}{2}\\lambda \\|w\\|^2$\n",
    "\n",
    "对叶结点数目$T$加入$L1$正则，是假定该参数服从拉普拉斯分布，通过对参数加入分布约束，使得取值偏向于0(注意到$T\\geqslant 0$)。\n",
    "对叶结点加入正则，相当于在训练过程中做了剪枝处理。 \n",
    "\n",
    "对叶结点的输出值$w_j$加入$L2$正则，是假定参数服从高斯分布，通过对参数加入分布约束，使得其绝对值较小\n"
   ]
  },
  {
   "cell_type": "markdown",
   "metadata": {},
   "source": [
    "#### 5. 简述第$t$轮目标函数的泰勒二次展开，及其对最优解的求解过程。"
   ]
  },
  {
   "cell_type": "markdown",
   "metadata": {},
   "source": []
  },
  {
   "cell_type": "markdown",
   "metadata": {},
   "source": []
  },
  {
   "cell_type": "markdown",
   "metadata": {},
   "source": [
    "#### 6.简述XGBoost中特征分裂点的选择依据。"
   ]
  },
  {
   "cell_type": "markdown",
   "metadata": {},
   "source": []
  },
  {
   "cell_type": "markdown",
   "metadata": {},
   "source": [
    "#### 7.XGBoost的模型参数主要有那三类？"
   ]
  },
  {
   "cell_type": "markdown",
   "metadata": {},
   "source": []
  },
  {
   "cell_type": "markdown",
   "metadata": {},
   "source": [
    "#### 8.说明booster参数的意义。"
   ]
  },
  {
   "cell_type": "markdown",
   "metadata": {},
   "source": [
    " "
   ]
  },
  {
   "cell_type": "markdown",
   "metadata": {},
   "source": [
    "#### 9. 列举出三种控制拟合程度的模型参数，并说明其各自的含义。"
   ]
  },
  {
   "cell_type": "markdown",
   "metadata": {
    "ExecuteTime": {
     "end_time": "2019-03-13T07:27:50.976486Z",
     "start_time": "2019-03-13T07:27:50.970919Z"
    }
   },
   "source": []
  },
  {
   "cell_type": "markdown",
   "metadata": {},
   "source": [
    "#### 10.说明objective参数的意义。"
   ]
  },
  {
   "cell_type": "markdown",
   "metadata": {},
   "source": []
  },
  {
   "cell_type": "code",
   "execution_count": null,
   "metadata": {},
   "outputs": [],
   "source": []
  }
 ],
 "metadata": {
  "kernelspec": {
   "display_name": "Python 3",
   "language": "python",
   "name": "python3"
  },
  "language_info": {
   "codemirror_mode": {
    "name": "ipython",
    "version": 3
   },
   "file_extension": ".py",
   "mimetype": "text/x-python",
   "name": "python",
   "nbconvert_exporter": "python",
   "pygments_lexer": "ipython3",
   "version": "3.7.0"
  },
  "toc": {
   "base_numbering": 1,
   "nav_menu": {},
   "number_sections": true,
   "sideBar": true,
   "skip_h1_title": false,
   "title_cell": "Table of Contents",
   "title_sidebar": "Contents",
   "toc_cell": false,
   "toc_position": {},
   "toc_section_display": true,
   "toc_window_display": false
  },
  "varInspector": {
   "cols": {
    "lenName": 16,
    "lenType": 16,
    "lenVar": 40
   },
   "kernels_config": {
    "python": {
     "delete_cmd_postfix": "",
     "delete_cmd_prefix": "del ",
     "library": "var_list.py",
     "varRefreshCmd": "print(var_dic_list())"
    },
    "r": {
     "delete_cmd_postfix": ") ",
     "delete_cmd_prefix": "rm(",
     "library": "var_list.r",
     "varRefreshCmd": "cat(var_dic_list()) "
    }
   },
   "types_to_exclude": [
    "module",
    "function",
    "builtin_function_or_method",
    "instance",
    "_Feature"
   ],
   "window_display": false
  }
 },
 "nbformat": 4,
 "nbformat_minor": 2
}
