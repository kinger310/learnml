{
 "cells": [
  {
   "cell_type": "markdown",
   "metadata": {},
   "source": [
    "## 3_2_XGBoost 应用"
   ]
  },
  {
   "cell_type": "markdown",
   "metadata": {},
   "source": [
    "## 3_2_1_XGBoost参数\n",
    "1. 通用参数：控制整体功能；\n",
    "2. 提升器参数：在每一步控制单个提升器（tree、regression）；\n",
    "3. 学习任务参数：控制最优化执行。"
   ]
  },
  {
   "cell_type": "markdown",
   "metadata": {},
   "source": [
    "### 1.通用参数\n",
    "booster [default=gbtree]  \n",
    "选择每次迭代的模型，有两个选择：\n",
    "+ gbtree：基于树的模型；\n",
    "+ gbliner：线性模型。  \n",
    "\n",
    "silent [default=0]\n",
    "+ 设置为1，静默模式被开启，不会显示运行信息；\n",
    "+ 通常设置为0，运行信息会更好的帮助理解模型。\n",
    "\n",
    "nthread [default=最大可能的线程数]\n",
    "+ 该参数用以并行处理，应设置为系统内核数；\n",
    "+ 如果你希望使用所有内核，则不应设置该参数，算法会自动检测。"
   ]
  },
  {
   "cell_type": "markdown",
   "metadata": {},
   "source": [
    "### 2.提升器参数\n",
    "eta [default=0.3]\n",
    "+ 学习率；\n",
    "+ 典型值：0.01-0.2。  \n",
    "\n",
    "min_child_weight [default=1]\n",
    "+ 定义最小叶子节点样本权重和；\n",
    "+ 用于控制过拟合。较大的值可以避免模型学习到局部的特殊样本；\n",
    "+ 太大的值会导致欠拟合。\n",
    "\n",
    "max_depth [default=6]\n",
    "+ 树的最大深度；\n",
    "+ 用于控制过拟合。较大的值模型会学到更具体更局部的样本；\n",
    "+ 典型值为3-10。\n",
    "\n",
    "max_leaf_nodes\n",
    "+ 树中终端节点或叶子的最大数目；\n",
    "+ 可以代替max_depth参数。由于创建的是二叉树，一个深度为$n$的树最多生成$2^n$个叶子；\n",
    "+ 如果该参数被定义，max_depth参数将被忽略。\n",
    "\n",
    "gamma [default=0]\n",
    "+ 只有在节点分裂后损失函数值下降，才会分裂该节点。gamma参数指定了节点分裂所需的最小损失函数下降值；\n",
    "+ 该参数的值越大，算法越保守。该参数的值和损失函数相关，所以是需要调整的。\n",
    "\n",
    "max_delta_step [default=0]\n",
    "+ 该参数限制每棵树权重改变的最大步长。如果该参数为0，则表示没有约束。如果将其设置为正值，则使更新步骤更加保守；\n",
    "+ 通常该参数不需要设置。但是当各类别的样本十分不平衡时，它对逻辑回归是很有帮助的。\n",
    "\n",
    "subsample [default=1]\n",
    "+ 该参数控制对于每棵树随机采样的比例；\n",
    "+ 减小该参数的值，算法会更加保守，避免过拟合。但是，如果该设置得过小，它可能会导致欠拟合；\n",
    "+ 典型值：0.5-1。\n",
    "\n",
    "colsample_bytree [default=1]\n",
    "+ 该参数用来控制每棵随机采样的列数的占比(每一列是一个特征)；\n",
    "+ 典型值：0.5-1。\n",
    "\n",
    "colsample_bylevel [default=1]\n",
    "+ 该参数用来控制树的每一级的每一次分裂，对列数的采样的占比；\n",
    "+ 该参数和subsample参数可以起到相同的作用。\n",
    "\n",
    "lambda [default=1]\n",
    "+ 权重的L2正则化项。(类似于岭回归)。\n",
    "\n",
    "alpha [default=0]\n",
    "+ 权重的L1正则化项。(类似于套索回归)；\n",
    "+ 可以应用在很高维度的情况下，使得算法的速度更快。\n",
    "\n",
    "scale_pos_weight [default=1]\n",
    "+ 在各类别样本十分不平衡时，把这个参数设定为一个正值，可以使算法更快收敛。"
   ]
  },
  {
   "cell_type": "markdown",
   "metadata": {},
   "source": [
    "### 3.学习任务参数\n",
    "objective [default=reg:linear]  \n",
    "该参数定义需要被最小化的损失函数。常用值有：\n",
    "+ binary:logistic 二分类的逻辑回归，返回预测的概率(不是类别)；\n",
    "+ multi:softmax 使用softmax的多分类器，返回预测的类别(不是概率)。在这种情况下，你还需要多设一个参数：num_class(类别数目)；\n",
    "+ multi:softprob 和multi:softmax参数一样，但是返回的是每个数据属于各个类别的概率。\n",
    "\n",
    "eval_metric [ default according to objective ]\n",
    "+ 对于有效数据的度量方法；\n",
    "+ 对于回归问题，默认值是rmse，对于分类问题，默认值是error；\n",
    "+ 典型值：\n",
    "    + rmse 均方根误差\n",
    "    + mae 平均绝对误差\n",
    "    + logloss 负对数似然函数值\n",
    "    + error 二分类错误率(阈值为0.5)\n",
    "    + merror 多分类错误率\n",
    "    + mlogloss 多分类logloss损失函数\n",
    "    + auc 曲线下面积\n",
    "    \n",
    "seed [default=0]\n",
    "+ 随机数的种子\n",
    "+ 设置它可以复现随机数据的结果，也可以用于调整参数"
   ]
  },
  {
   "cell_type": "markdown",
   "metadata": {},
   "source": [
    "## 3_2_2_XGBoost应用"
   ]
  },
  {
   "cell_type": "markdown",
   "metadata": {},
   "source": [
    "导入XGBoost等相关包："
   ]
  },
  {
   "cell_type": "code",
   "execution_count": 1,
   "metadata": {},
   "outputs": [],
   "source": [
    "from numpy import loadtxt\n",
    "from xgboost import XGBClassifier\n",
    "from sklearn.model_selection import train_test_split\n",
    "from sklearn.metrics import accuracy_score\n",
    "\n",
    "import os\n",
    "os.environ['KMP_DUPLICATE_LIB_OK']='True'"
   ]
  },
  {
   "cell_type": "markdown",
   "metadata": {},
   "source": [
    "加载数据，提取特征集和标签："
   ]
  },
  {
   "cell_type": "code",
   "execution_count": 2,
   "metadata": {},
   "outputs": [],
   "source": [
    "dataset = loadtxt('./data/pima-indians-diabetes.csv', delimiter=',')\n",
    "\n",
    "X = dataset[:, 0:8]\n",
    "y = dataset[:, 8]"
   ]
  },
  {
   "cell_type": "markdown",
   "metadata": {},
   "source": [
    "将数据划分为训练集和测试集："
   ]
  },
  {
   "cell_type": "code",
   "execution_count": 3,
   "metadata": {},
   "outputs": [],
   "source": [
    "seed = 7 \n",
    "test_size = 0.33\n",
    "X_train, X_test, y_train, y_test = train_test_split(X, y, test_size=test_size, random_state=seed)"
   ]
  },
  {
   "cell_type": "code",
   "execution_count": 4,
   "metadata": {},
   "outputs": [
    {
     "data": {
      "text/plain": [
       "((514, 8), (254, 8), (514,), (254,))"
      ]
     },
     "execution_count": 4,
     "metadata": {},
     "output_type": "execute_result"
    }
   ],
   "source": [
    "X_train.shape, X_test.shape, y_train.shape, y_test.shape"
   ]
  },
  {
   "cell_type": "markdown",
   "metadata": {},
   "source": [
    "创建及训练模型："
   ]
  },
  {
   "cell_type": "code",
   "execution_count": 5,
   "metadata": {},
   "outputs": [
    {
     "data": {
      "text/plain": [
       "XGBClassifier(base_score=0.5, booster='gbtree', colsample_bylevel=1,\n",
       "       colsample_bytree=1, gamma=0, learning_rate=0.1, max_delta_step=0,\n",
       "       max_depth=3, min_child_weight=1, missing=None, n_estimators=100,\n",
       "       n_jobs=-1, nthread=None, objective='binary:logistic',\n",
       "       random_state=0, reg_alpha=0, reg_lambda=1, scale_pos_weight=1,\n",
       "       seed=None, silent=True, subsample=1)"
      ]
     },
     "execution_count": 5,
     "metadata": {},
     "output_type": "execute_result"
    }
   ],
   "source": [
    "model = XGBClassifier(n_jobs=-1)\n",
    "model.fit(X_train, y_train)"
   ]
  },
  {
   "cell_type": "markdown",
   "metadata": {},
   "source": [
    "使用训练后的模型对测试集进行预测，并计算预测值与实际之间的acc值："
   ]
  },
  {
   "cell_type": "code",
   "execution_count": 6,
   "metadata": {},
   "outputs": [
    {
     "name": "stdout",
     "output_type": "stream",
     "text": [
      "Accuracy: 77.95%\n"
     ]
    }
   ],
   "source": [
    "y_pred = model.predict(X_test)\n",
    "accuracy = accuracy_score(y_test, y_pred)\n",
    "print(\"Accuracy: %.2f%%\" % (accuracy * 100.0))"
   ]
  },
  {
   "cell_type": "markdown",
   "metadata": {},
   "source": [
    "使用训练后的模型对测试集进行预测，得到每个类别的预测概率："
   ]
  },
  {
   "cell_type": "code",
   "execution_count": 7,
   "metadata": {},
   "outputs": [
    {
     "data": {
      "text/plain": [
       "array([[0.9545844 , 0.04541559],\n",
       "       [0.05245447, 0.9475455 ],\n",
       "       [0.41897488, 0.5810251 ],\n",
       "       [0.9831998 , 0.0168002 ],\n",
       "       [0.4119159 , 0.5880841 ],\n",
       "       [0.31113452, 0.6888655 ],\n",
       "       [0.9705527 , 0.02944732],\n",
       "       [0.93274003, 0.06725994],\n",
       "       [0.11494881, 0.8850512 ],\n",
       "       [0.6501156 , 0.34988442],\n",
       "       [0.03848034, 0.96151966],\n",
       "       [0.99019825, 0.00980172],\n",
       "       [0.07478714, 0.92521286],\n",
       "       [0.0899508 , 0.9100492 ],\n",
       "       [0.8759558 , 0.12404419],\n",
       "       [0.8833156 , 0.11668438],\n",
       "       [0.7805242 , 0.21947582],\n",
       "       [0.35131902, 0.648681  ],\n",
       "       [0.98205894, 0.01794105],\n",
       "       [0.7698676 , 0.23013239],\n",
       "       [0.6992918 , 0.30070814],\n",
       "       [0.79318744, 0.20681255],\n",
       "       [0.3731498 , 0.6268502 ],\n",
       "       [0.23303777, 0.76696223],\n",
       "       [0.9244116 , 0.07558843],\n",
       "       [0.93374586, 0.06625411],\n",
       "       [0.9396339 , 0.06036608],\n",
       "       [0.5944243 , 0.4055757 ],\n",
       "       [0.5389885 , 0.46101153],\n",
       "       [0.4979669 , 0.5020331 ],\n",
       "       [0.3711158 , 0.6288842 ],\n",
       "       [0.9689762 , 0.03102378],\n",
       "       [0.6525316 , 0.34746838],\n",
       "       [0.6155367 , 0.3844633 ],\n",
       "       [0.9903705 , 0.00962946],\n",
       "       [0.49918646, 0.50081354],\n",
       "       [0.44489336, 0.55510664],\n",
       "       [0.7627247 , 0.23727532],\n",
       "       [0.31710714, 0.68289286],\n",
       "       [0.77836037, 0.22163963],\n",
       "       [0.26101363, 0.7389864 ],\n",
       "       [0.13494265, 0.86505735],\n",
       "       [0.35929406, 0.64070594],\n",
       "       [0.9963932 , 0.00360681],\n",
       "       [0.6170161 , 0.38298395],\n",
       "       [0.92774606, 0.07225396],\n",
       "       [0.15301538, 0.8469846 ],\n",
       "       [0.60130596, 0.39869407],\n",
       "       [0.79963815, 0.20036186],\n",
       "       [0.33829194, 0.66170806],\n",
       "       [0.9839194 , 0.0160806 ],\n",
       "       [0.9502892 , 0.04971079],\n",
       "       [0.5472499 , 0.4527501 ],\n",
       "       [0.9277443 , 0.07225566],\n",
       "       [0.5314773 , 0.46852273],\n",
       "       [0.613425  , 0.386575  ],\n",
       "       [0.7924037 , 0.2075963 ],\n",
       "       [0.9950148 , 0.00498524],\n",
       "       [0.7400504 , 0.25994962],\n",
       "       [0.749115  , 0.25088504],\n",
       "       [0.98180836, 0.01819165],\n",
       "       [0.7836989 , 0.2163011 ],\n",
       "       [0.9104567 , 0.08954328],\n",
       "       [0.19470114, 0.80529886],\n",
       "       [0.41110873, 0.58889127],\n",
       "       [0.13466156, 0.86533844],\n",
       "       [0.9739846 , 0.02601542],\n",
       "       [0.40842408, 0.5915759 ],\n",
       "       [0.03246957, 0.9675304 ],\n",
       "       [0.40166223, 0.59833777],\n",
       "       [0.04176617, 0.95823383],\n",
       "       [0.09635341, 0.9036466 ],\n",
       "       [0.7429416 , 0.2570584 ],\n",
       "       [0.66398585, 0.33601415],\n",
       "       [0.69872403, 0.30127597],\n",
       "       [0.7699315 , 0.23006849],\n",
       "       [0.8938688 , 0.10613122],\n",
       "       [0.74650097, 0.25349906],\n",
       "       [0.99032426, 0.00967571],\n",
       "       [0.810189  , 0.18981098],\n",
       "       [0.89962673, 0.10037328],\n",
       "       [0.9574254 , 0.0425746 ],\n",
       "       [0.772874  , 0.227126  ],\n",
       "       [0.98344105, 0.01655894],\n",
       "       [0.5029772 , 0.4970228 ],\n",
       "       [0.5691345 , 0.43086553],\n",
       "       [0.01497293, 0.9850271 ],\n",
       "       [0.85218066, 0.14781934],\n",
       "       [0.12034631, 0.8796537 ],\n",
       "       [0.9485912 , 0.05140885],\n",
       "       [0.17748964, 0.82251036],\n",
       "       [0.98293597, 0.01706405],\n",
       "       [0.36969757, 0.6303024 ],\n",
       "       [0.7486875 , 0.2513125 ],\n",
       "       [0.9288969 , 0.07110308],\n",
       "       [0.4744296 , 0.5255704 ],\n",
       "       [0.45320487, 0.5467951 ],\n",
       "       [0.9389031 , 0.06109691],\n",
       "       [0.4675269 , 0.5324731 ],\n",
       "       [0.5375776 , 0.46242237],\n",
       "       [0.3889646 , 0.6110354 ],\n",
       "       [0.91216415, 0.08783586],\n",
       "       [0.88084364, 0.11915639],\n",
       "       [0.83369595, 0.16630404],\n",
       "       [0.93547785, 0.06452216],\n",
       "       [0.4981265 , 0.5018735 ],\n",
       "       [0.7939997 , 0.20600031],\n",
       "       [0.7923043 , 0.20769574],\n",
       "       [0.9111986 , 0.08880138],\n",
       "       [0.22100538, 0.7789946 ],\n",
       "       [0.98653555, 0.01346444],\n",
       "       [0.45952702, 0.540473  ],\n",
       "       [0.9085744 , 0.09142561],\n",
       "       [0.9781135 , 0.02188653],\n",
       "       [0.22032976, 0.77967024],\n",
       "       [0.44598758, 0.5540124 ],\n",
       "       [0.9262883 , 0.07371172],\n",
       "       [0.92085296, 0.07914706],\n",
       "       [0.66331017, 0.33668986],\n",
       "       [0.13952333, 0.8604767 ],\n",
       "       [0.81041753, 0.18958248],\n",
       "       [0.9896193 , 0.01038068],\n",
       "       [0.96018237, 0.03981761],\n",
       "       [0.9959437 , 0.0040563 ],\n",
       "       [0.97554094, 0.02445907],\n",
       "       [0.03378391, 0.9662161 ],\n",
       "       [0.99607235, 0.00392762],\n",
       "       [0.7080204 , 0.2919796 ],\n",
       "       [0.9855419 , 0.01445814],\n",
       "       [0.96412593, 0.03587409],\n",
       "       [0.9733594 , 0.02664059],\n",
       "       [0.08533424, 0.91466576],\n",
       "       [0.97558296, 0.02441705],\n",
       "       [0.8622012 , 0.13779879],\n",
       "       [0.8407246 , 0.1592754 ],\n",
       "       [0.9961686 , 0.00383137],\n",
       "       [0.9785708 , 0.0214292 ],\n",
       "       [0.5760479 , 0.4239521 ],\n",
       "       [0.99518293, 0.00481707],\n",
       "       [0.0550918 , 0.9449082 ],\n",
       "       [0.85514486, 0.14485516],\n",
       "       [0.3612969 , 0.6387031 ],\n",
       "       [0.5012821 , 0.49871793],\n",
       "       [0.5099146 , 0.49008542],\n",
       "       [0.8806706 , 0.11932941],\n",
       "       [0.7325761 , 0.26742393],\n",
       "       [0.52149546, 0.47850457],\n",
       "       [0.973495  , 0.02650498],\n",
       "       [0.04164171, 0.9583583 ],\n",
       "       [0.61220694, 0.38779306],\n",
       "       [0.9879225 , 0.01207752],\n",
       "       [0.25952768, 0.7404723 ],\n",
       "       [0.8303682 , 0.16963178],\n",
       "       [0.92665327, 0.07334672],\n",
       "       [0.7389723 , 0.26102766],\n",
       "       [0.92206323, 0.07793678],\n",
       "       [0.14965522, 0.8503448 ],\n",
       "       [0.8748666 , 0.12513341],\n",
       "       [0.33422202, 0.665778  ],\n",
       "       [0.8762611 , 0.12373889],\n",
       "       [0.7751093 , 0.22489071],\n",
       "       [0.93006825, 0.06993173],\n",
       "       [0.9858091 , 0.01419094],\n",
       "       [0.9868426 , 0.01315743],\n",
       "       [0.19853216, 0.80146784],\n",
       "       [0.72698987, 0.2730101 ],\n",
       "       [0.35169834, 0.64830166],\n",
       "       [0.9212139 , 0.07878608],\n",
       "       [0.76613265, 0.23386733],\n",
       "       [0.25219387, 0.74780613],\n",
       "       [0.98060507, 0.01939493],\n",
       "       [0.23698407, 0.7630159 ],\n",
       "       [0.55401087, 0.44598913],\n",
       "       [0.58738816, 0.4126118 ],\n",
       "       [0.33069748, 0.6693025 ],\n",
       "       [0.6730691 , 0.32693088],\n",
       "       [0.10515052, 0.8948495 ],\n",
       "       [0.82272303, 0.17727698],\n",
       "       [0.48799843, 0.5120016 ],\n",
       "       [0.5444821 , 0.4555179 ],\n",
       "       [0.27095395, 0.72904605],\n",
       "       [0.7812414 , 0.21875861],\n",
       "       [0.9742987 , 0.02570128],\n",
       "       [0.5995555 , 0.40044448],\n",
       "       [0.6039266 , 0.3960734 ],\n",
       "       [0.7065661 , 0.2934339 ],\n",
       "       [0.994187  , 0.00581301],\n",
       "       [0.9957897 , 0.00421028],\n",
       "       [0.994171  , 0.00582896],\n",
       "       [0.07712632, 0.9228737 ],\n",
       "       [0.25683784, 0.74316216],\n",
       "       [0.7415335 , 0.25846648],\n",
       "       [0.11841422, 0.8815858 ],\n",
       "       [0.09231913, 0.90768087],\n",
       "       [0.55010295, 0.44989708],\n",
       "       [0.52260685, 0.47739318],\n",
       "       [0.18215257, 0.81784743],\n",
       "       [0.997291  , 0.002709  ],\n",
       "       [0.9826735 , 0.01732648],\n",
       "       [0.37172633, 0.62827367],\n",
       "       [0.565622  , 0.43437806],\n",
       "       [0.46577197, 0.534228  ],\n",
       "       [0.01722312, 0.9827769 ],\n",
       "       [0.07406062, 0.9259394 ],\n",
       "       [0.6765144 , 0.3234856 ],\n",
       "       [0.96793205, 0.03206796],\n",
       "       [0.24381787, 0.75618213],\n",
       "       [0.99477583, 0.00522418],\n",
       "       [0.5577092 , 0.44229078],\n",
       "       [0.9967807 , 0.00321933],\n",
       "       [0.08804113, 0.9119589 ],\n",
       "       [0.04947805, 0.95052195],\n",
       "       [0.8901977 , 0.10980231],\n",
       "       [0.48584348, 0.5141565 ],\n",
       "       [0.6006367 , 0.39936325],\n",
       "       [0.98051137, 0.01948861],\n",
       "       [0.90228915, 0.09771082],\n",
       "       [0.10026193, 0.8997381 ],\n",
       "       [0.9786447 , 0.02135527],\n",
       "       [0.7318948 , 0.2681052 ],\n",
       "       [0.9847726 , 0.01522739],\n",
       "       [0.541728  , 0.45827198],\n",
       "       [0.2931553 , 0.7068447 ],\n",
       "       [0.64007187, 0.35992816],\n",
       "       [0.2672006 , 0.7327994 ],\n",
       "       [0.2482081 , 0.7517919 ],\n",
       "       [0.40669525, 0.59330475],\n",
       "       [0.34259337, 0.6574066 ],\n",
       "       [0.20737344, 0.79262656],\n",
       "       [0.95063394, 0.04936607],\n",
       "       [0.7813139 , 0.21868612],\n",
       "       [0.21015525, 0.78984475],\n",
       "       [0.7676461 , 0.23235396],\n",
       "       [0.8140151 , 0.18598492],\n",
       "       [0.9709272 , 0.02907283],\n",
       "       [0.95962995, 0.04037007],\n",
       "       [0.99101746, 0.00898254],\n",
       "       [0.21600759, 0.7839924 ],\n",
       "       [0.54862547, 0.45137453],\n",
       "       [0.8545133 , 0.14548668],\n",
       "       [0.36117506, 0.63882494],\n",
       "       [0.43292588, 0.5670741 ],\n",
       "       [0.6847279 , 0.31527206],\n",
       "       [0.89733434, 0.10266564],\n",
       "       [0.10231268, 0.8976873 ],\n",
       "       [0.9843091 , 0.01569091],\n",
       "       [0.45564342, 0.5443566 ],\n",
       "       [0.9380262 , 0.06197384],\n",
       "       [0.82817245, 0.17182757],\n",
       "       [0.7848037 , 0.2151963 ],\n",
       "       [0.97062194, 0.02937807],\n",
       "       [0.42821795, 0.57178205],\n",
       "       [0.2364142 , 0.7635858 ],\n",
       "       [0.05780089, 0.9421991 ]], dtype=float32)"
      ]
     },
     "execution_count": 7,
     "metadata": {},
     "output_type": "execute_result"
    }
   ],
   "source": [
    "y_pred_proba = model.predict_proba(X_test)\n",
    "y_pred_proba"
   ]
  },
  {
   "cell_type": "code",
   "execution_count": 8,
   "metadata": {},
   "outputs": [
    {
     "data": {
      "text/plain": [
       "array([0., 1., 1., 0., 1., 1., 0., 0., 1., 0., 1., 0., 1., 1., 0., 0., 0.,\n",
       "       1., 0., 0., 0., 0., 1., 1., 0., 0., 0., 0., 0., 1., 1., 0., 0., 0.,\n",
       "       0., 1., 1., 0., 1., 0., 1., 1., 1., 0., 0., 0., 1., 0., 0., 1., 0.,\n",
       "       0., 0., 0., 0., 0., 0., 0., 0., 0., 0., 0., 0., 1., 1., 1., 0., 1.,\n",
       "       1., 1., 1., 1., 0., 0., 0., 0., 0., 0., 0., 0., 0., 0., 0., 0., 0.,\n",
       "       0., 1., 0., 1., 0., 1., 0., 1., 0., 0., 1., 1., 0., 1., 0., 1., 0.,\n",
       "       0., 0., 0., 1., 0., 0., 0., 1., 0., 1., 0., 0., 1., 1., 0., 0., 0.,\n",
       "       1., 0., 0., 0., 0., 0., 1., 0., 0., 0., 0., 0., 1., 0., 0., 0., 0.,\n",
       "       0., 0., 0., 1., 0., 1., 0., 0., 0., 0., 0., 0., 1., 0., 0., 1., 0.,\n",
       "       0., 0., 0., 1., 0., 1., 0., 0., 0., 0., 0., 1., 0., 1., 0., 0., 1.,\n",
       "       0., 1., 0., 0., 1., 0., 1., 0., 1., 0., 1., 0., 0., 0., 0., 0., 0.,\n",
       "       0., 0., 1., 1., 0., 1., 1., 0., 0., 1., 0., 0., 1., 0., 1., 1., 1.,\n",
       "       0., 0., 1., 0., 0., 0., 1., 1., 0., 1., 0., 0., 0., 1., 0., 0., 0.,\n",
       "       0., 1., 0., 1., 1., 1., 1., 1., 0., 0., 1., 0., 0., 0., 0., 0., 1.,\n",
       "       0., 0., 1., 1., 0., 0., 1., 0., 1., 0., 0., 0., 0., 1., 1., 1.])"
      ]
     },
     "execution_count": 8,
     "metadata": {},
     "output_type": "execute_result"
    }
   ],
   "source": [
    "y_pred = model.predict(X_test)\n",
    "y_pred"
   ]
  },
  {
   "cell_type": "markdown",
   "metadata": {},
   "source": [
    "输出各特征重要程度："
   ]
  },
  {
   "cell_type": "code",
   "execution_count": 10,
   "metadata": {},
   "outputs": [
    {
     "data": {
      "image/png": "[encoded data removed]",
      "text/plain": [
       "<Figure size 432x288 with 1 Axes>"
      ]
     },
     "metadata": {
      "needs_background": "light"
     },
     "output_type": "display_data"
    }
   ],
   "source": [
    "from xgboost import plot_importance\n",
    "from matplotlib import pyplot\n",
    "%matplotlib inline\n",
    "\n",
    "plot_importance(model)\n",
    "pyplot.show()"
   ]
  },
  {
   "cell_type": "markdown",
   "metadata": {},
   "source": [
    "导入调参相关包："
   ]
  },
  {
   "cell_type": "code",
   "execution_count": 11,
   "metadata": {},
   "outputs": [],
   "source": [
    "from sklearn.model_selection import GridSearchCV\n",
    "from sklearn.model_selection import StratifiedKFold"
   ]
  },
  {
   "cell_type": "markdown",
   "metadata": {},
   "source": [
    "创建模型及参数搜索空间："
   ]
  },
  {
   "cell_type": "code",
   "execution_count": 12,
   "metadata": {},
   "outputs": [],
   "source": [
    "model_GS = XGBClassifier()\n",
    "learning_rate = [0.0001, 0.001, 0.01, 0.1, 0.2, 0.3]\n",
    "max_depth = [1, 2, 3, 4, 5]\n",
    "param_grid = dict(learning_rate=learning_rate, max_depth=max_depth)"
   ]
  },
  {
   "cell_type": "markdown",
   "metadata": {},
   "source": [
    "设置分层抽样验证及创建搜索对象："
   ]
  },
  {
   "cell_type": "code",
   "execution_count": 13,
   "metadata": {},
   "outputs": [],
   "source": [
    "kfold = StratifiedKFold(n_splits=10, shuffle=True, random_state=seed)\n",
    "grid_search = GridSearchCV(model_GS, param_grid=param_grid, scoring='neg_log_loss', n_jobs=-1, cv=kfold)\n",
    "grid_result = grid_search.fit(X, y)"
   ]
  },
  {
   "cell_type": "code",
   "execution_count": 14,
   "metadata": {},
   "outputs": [
    {
     "name": "stdout",
     "output_type": "stream",
     "text": [
      "Accuracy: 81.10%\n"
     ]
    }
   ],
   "source": [
    "y_pred = grid_result.predict(X_test)\n",
    "accuracy = accuracy_score(y_test, y_pred)\n",
    "print(\"Accuracy: %.2f%%\" % (accuracy * 100.0))"
   ]
  },
  {
   "cell_type": "code",
   "execution_count": 15,
   "metadata": {},
   "outputs": [
    {
     "data": {
      "text/plain": [
       "(-0.47171179660714796, {'learning_rate': 0.2, 'max_depth': 1})"
      ]
     },
     "execution_count": 15,
     "metadata": {},
     "output_type": "execute_result"
    }
   ],
   "source": [
    "grid_result.best_score_, grid_result.best_params_"
   ]
  },
  {
   "cell_type": "markdown",
   "metadata": {},
   "source": [
    "## 3_2_3_LightGBM的改进"
   ]
  },
  {
   "cell_type": "markdown",
   "metadata": {},
   "source": [
    "### 1.直方图算法"
   ]
  },
  {
   "cell_type": "markdown",
   "metadata": {},
   "source": [
    "<img src=\"./histogram.jpg\" width = \"500\" height = \"300\" alt=\"histogram\" />"
   ]
  },
  {
   "cell_type": "markdown",
   "metadata": {},
   "source": [
    "### 2.树的生成方式  Level-wise VS. Leaf-wise"
   ]
  },
  {
   "cell_type": "markdown",
   "metadata": {},
   "source": [
    "<img src=\"./tree.jpg\" width = \"500\" height = \"300\" alt=\"tree\" />"
   ]
  },
  {
   "cell_type": "markdown",
   "metadata": {},
   "source": [
    "### 3.并行优化"
   ]
  },
  {
   "cell_type": "markdown",
   "metadata": {},
   "source": [
    "特征并行：每个worker保存所有数据，在其特征子集上寻找最优切分点，worker之间相互通信，找到全局最优切分点，进行结点分裂；  \n",
    "数据并行：不同worker合并特征子集的局部直方图，采用直方图做差运算，只需要一个结点直方图数据通信。"
   ]
  },
  {
   "cell_type": "markdown",
   "metadata": {},
   "source": [
    "### 4.基于梯度的单边采样（Gradient-based One Side Sampling，GOSS）"
   ]
  },
  {
   "cell_type": "markdown",
   "metadata": {},
   "source": [
    "在每一次迭代前，利用了GBDT中的样本梯度和误差的关系，对训练样本进行采样:   \n",
    "对误差大（梯度绝对值大）的数据保留；对误差小的数据采样一个子集，但给这个子集的数据一个权重，让这个子集可以近似到误差小的数据的全集。这么采样出来的数据，既不损失误差大的样本，又在减少训练数据的同时不改变数据的分布，从而实现了在几乎不影响精度的情况下加速训练。"
   ]
  },
  {
   "cell_type": "code",
   "execution_count": null,
   "metadata": {},
   "outputs": [],
   "source": []
  }
 ],
 "metadata": {
  "kernelspec": {
   "display_name": "Python 3",
   "language": "python",
   "name": "python3"
  },
  "language_info": {
   "codemirror_mode": {
    "name": "ipython",
    "version": 3
   },
   "file_extension": ".py",
   "mimetype": "text/x-python",
   "name": "python",
   "nbconvert_exporter": "python",
   "pygments_lexer": "ipython3",
   "version": "3.7.3"
  }
 },
 "nbformat": 4,
 "nbformat_minor": 2
}
