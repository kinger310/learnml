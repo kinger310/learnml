{
 "cells": [
  {
   "cell_type": "markdown",
   "metadata": {},
   "source": [
    "## Python第二课作业\n",
    "\n",
    "####  作业提交说明：\n",
    "- 位置：作业文件统一放置于/0.Teacher/Exercise/Python/python2下面\n",
    "- 文件名：请先下载该notebook文件到本地，并重新命名为(课程名)+(您姓名的全拼)，并按要求完成后保存\n",
    "- 时间：课程结束后的第二天前提交。\n",
    "- 注意：请勿抄袭，移动，修改，删除其他同学和原始空白的练习文件。\n",
    "***"
   ]
  },
  {
   "cell_type": "markdown",
   "metadata": {},
   "source": [
    "## 作业"
   ]
  },
  {
   "cell_type": "markdown",
   "metadata": {},
   "source": [
    "#### 简答题"
   ]
  },
  {
   "cell_type": "markdown",
   "metadata": {},
   "source": [
    "- 1.简述继承的理解，继承的方式以及注意事项?"
   ]
  },
  {
   "cell_type": "raw",
   "metadata": {},
   "source": [
    "面向对象的基本概念。子类继承父类的属性和方法。\n",
    "\n",
    "继承方式\n",
    "\n",
    "class SubClass(BaseClass):\n",
    "    pass\n",
    "\n",
    "继承的注意事项\n",
    "1. __init__ 注意事项\n",
    "\n",
    "如果父类有__init__函数，子类没有，则子类自动调用父类__init__函数\n",
    "\n",
    "如果父类有__init__函数，子类也有，则子类必须主动调用父类__init__函数，否则会报错\n",
    "\n",
    "2. 继承有普通继承和super继承两种\n",
    "\n",
    "3. 多重继承的继承链MRO使用C3算法\n"
   ]
  },
  {
   "cell_type": "markdown",
   "metadata": {
    "collapsed": true
   },
   "source": [
    "- 2.简述类对象和实例对象？"
   ]
  },
  {
   "cell_type": "raw",
   "metadata": {},
   "source": [
    "类对象： 我们将具有相似属性和方法的对象总结抽象为类对象\n",
    "\n",
    "实例对象是类对象的实例化。\n"
   ]
  },
  {
   "cell_type": "code",
   "execution_count": 1,
   "metadata": {
    "ExecuteTime": {
     "end_time": "2019-05-09T10:11:57.943515Z",
     "start_time": "2019-05-09T10:11:57.938034Z"
    }
   },
   "outputs": [
    {
     "name": "stdout",
     "output_type": "stream",
     "text": [
      "1\n",
      "aaa\n",
      "3\n",
      "4\n",
      "msg\n",
      "msg\n"
     ]
    }
   ],
   "source": [
    "class A:\n",
    "    a = 1\n",
    "    \n",
    "    def aaa():\n",
    "        print(\"aaa\")\n",
    "    \n",
    "    def bbb(self, i):\n",
    "        return i\n",
    "    \n",
    "    @classmethod\n",
    "    def ccc(self, i):\n",
    "        return i\n",
    "\n",
    "    @staticmethod\n",
    "    def msg():  # 静态方法，可以没有参数\n",
    "        print(\"msg\")\n",
    "\n",
    "foo = A()\n",
    "\n",
    "print(A.a)\n",
    "A.aaa()\n",
    "# foo.aaa()   # 会报错\n",
    "\n",
    "print(foo.bbb(3))\n",
    "\n",
    "print(A.ccc(4))\n",
    "\n",
    "A.msg()\n",
    "foo.msg()"
   ]
  },
  {
   "cell_type": "markdown",
   "metadata": {},
   "source": [
    "- 3.如何理解闭包？"
   ]
  },
  {
   "cell_type": "code",
   "execution_count": 2,
   "metadata": {
    "ExecuteTime": {
     "end_time": "2019-05-09T10:11:58.468724Z",
     "start_time": "2019-05-09T10:11:57.945509Z"
    }
   },
   "outputs": [
    {
     "name": "stdout",
     "output_type": "stream",
     "text": [
      "function foo run 516 ms\n"
     ]
    }
   ],
   "source": [
    "# 闭包将函数作为入参，是返回函数的函数。\n",
    "# 通过闭包可以方便的构造装饰器\n",
    "# 如下是cnt_time是一个闭包\n",
    "\n",
    "import time\n",
    "\n",
    "\n",
    "def cnt_time(fn):\n",
    "    func_name = fn.__name__\n",
    "    def wrapped(*args, **kwargs):\n",
    "        a = time.time()\n",
    "        res = fn(*args, **kwargs)\n",
    "        print(\"function %s run %s ms\" %(func_name, round((time.time() - a)*1000)))\n",
    "        return res\n",
    "    return wrapped\n",
    "\n",
    "@cnt_time\n",
    "def foo(n):\n",
    "    for i in range(n):\n",
    "        j = i + 1\n",
    "        \n",
    "foo(10000000)"
   ]
  },
  {
   "cell_type": "markdown",
   "metadata": {},
   "source": [
    "- 4.简述生成器和迭代器之间的关系"
   ]
  },
  {
   "cell_type": "raw",
   "metadata": {},
   "source": [
    "迭代器（Iterator）是指可迭代的容器对象。\n",
    "for语句会调用容器对象中的 iter()方法，该函数返回了一个定义__next__()方法的迭代器对象。\n",
    "__next__()方法将逐一访问容器对象中的元素。\n",
    "当元素用尽时，__next__() 将引发 StopIteration 异常来通知终止 for 循环。\n",
    "\n",
    "\n",
    "生成器（Generator）是用于创建迭代器的工具（通常是函数）。\n",
    "生成器的写法类似标准的函数，但当它们在返回数据时使用 yield 语句。\n",
    "对生成器调用 next() 时，它会从上次离开位置恢复执行（它会记住上次执行语句时的所有数据值）\n",
    "\n"
   ]
  },
  {
   "cell_type": "code",
   "execution_count": 3,
   "metadata": {
    "ExecuteTime": {
     "end_time": "2019-05-09T10:11:58.476198Z",
     "start_time": "2019-05-09T10:11:58.470219Z"
    }
   },
   "outputs": [
    {
     "name": "stdout",
     "output_type": "stream",
     "text": [
      "u\n",
      "d\n",
      "e\n",
      "y\n",
      "l\n",
      "u\n",
      "j\n"
     ]
    }
   ],
   "source": [
    "# 迭代器（Iterator）例子\n",
    "class Reverse:\n",
    "    \"\"\"Iterator for looping over a sequence backwards.\"\"\"\n",
    "    def __init__(self, data):\n",
    "        self.data = data\n",
    "        self.index = len(data)\n",
    "\n",
    "    def __iter__(self):\n",
    "        return self\n",
    "\n",
    "    def __next__(self):\n",
    "        if self.index == 0:\n",
    "            raise StopIteration\n",
    "        self.index -= 1\n",
    "        return self.data[self.index]\n",
    "   \n",
    "rev = Reverse(\"julyedu\")\n",
    "for c in rev:\n",
    "    print(c)"
   ]
  },
  {
   "cell_type": "code",
   "execution_count": 4,
   "metadata": {
    "ExecuteTime": {
     "end_time": "2019-05-09T10:11:58.487659Z",
     "start_time": "2019-05-09T10:11:58.478191Z"
    }
   },
   "outputs": [
    {
     "name": "stdout",
     "output_type": "stream",
     "text": [
      "u\n",
      "d\n",
      "e\n",
      "y\n",
      "l\n",
      "u\n",
      "j\n"
     ]
    }
   ],
   "source": [
    "# 生成器（Generator）例子\n",
    "def reverse(s):\n",
    "    for c in s[::-1]:\n",
    "        yield c\n",
    "\n",
    "for c in reverse(\"julyedu\"):\n",
    "    print(c)"
   ]
  },
  {
   "cell_type": "markdown",
   "metadata": {},
   "source": [
    "#### 编程题"
   ]
  },
  {
   "cell_type": "markdown",
   "metadata": {},
   "source": [
    "- 5.读取一个文件，显示除了以井号(#)开头的行以外的所有行"
   ]
  },
  {
   "cell_type": "code",
   "execution_count": 5,
   "metadata": {
    "ExecuteTime": {
     "end_time": "2019-05-09T10:11:58.500615Z",
     "start_time": "2019-05-09T10:11:58.489652Z"
    }
   },
   "outputs": [
    {
     "name": "stdout",
     "output_type": "stream",
     "text": [
      "# namespace 是一个从名字到对象的映射\n",
      "\n",
      "# 一个函数的本地命名空间在这个函数被调用时创建，并在函数返回或抛出一个不在函数内部处理的错误时被删除。\n",
      "\n",
      "# 一个 作用域 是一个命名空间可直接访问的Python程序的文本区域。 这里的 “可直接访问” 意味着对名称的非限定引用会尝试在命名空间中查找名称。\n",
      "\n",
      "\n",
      "\n",
      "# Python 的一个特殊之处在于 -- 如果不存在生效的 global 语句 -- 对名称的赋值总是进入最内层作用域。\n",
      "\n",
      "# 赋值不会复制数据 --- 它们只是将名称绑定到对象。 删除也是如此\n",
      "\n",
      "\n",
      "\n",
      "# global 语句可被用来表明特定变量生存于全局作用域并且应当在其中被重新绑定；\n",
      "\n",
      "# nonlocal 语句表明特定变量生存于外层作用域中并且应当在其中被重新绑定。\n",
      "\n",
      "\n",
      "\n",
      "\n",
      "\n",
      "def scope_test():\n",
      "\n",
      "    \"\"\"\n",
      "\n",
      "    the local assignment (which is default) didn't change scope_test's binding of spam. \n",
      "\n",
      "    The nonlocal assignment changed scope_test‘s binding of spam,\n",
      "\n",
      "    and the global assignment changed the module-level binding.\n",
      "\n",
      "    \"\"\"\n",
      "===============================================================================\n",
      "\n",
      "\n",
      "\n",
      "\n",
      "\n",
      "\n",
      "\n",
      "\n",
      "def scope_test():\n",
      "\n",
      "    \"\"\"\n",
      "\n",
      "    the local assignment (which is default) didn't change scope_test's binding of spam. \n",
      "\n",
      "    The nonlocal assignment changed scope_test‘s binding of spam,\n",
      "\n",
      "    and the global assignment changed the module-level binding.\n",
      "\n",
      "    \"\"\"\n"
     ]
    }
   ],
   "source": [
    "with open(\"data.txt\", \"r\") as file:\n",
    "    for line in file:\n",
    "            print(line)\n",
    "print(\"=\" * 79)\n",
    "with open(\"data.txt\", \"r\") as file:\n",
    "    for line in file:\n",
    "        if not line.startswith(\"#\"):\n",
    "            print(line)"
   ]
  },
  {
   "cell_type": "markdown",
   "metadata": {},
   "source": [
    "- 6.模拟斗地主，有3个玩家，一付扑克牌，留3张底牌，\n",
    "将扑克牌随机分配给3个玩家并显示（注意有四种花色和两个王）"
   ]
  },
  {
   "cell_type": "code",
   "execution_count": 6,
   "metadata": {
    "ExecuteTime": {
     "end_time": "2019-05-09T10:11:58.513571Z",
     "start_time": "2019-05-09T10:11:58.504601Z"
    }
   },
   "outputs": [
    {
     "name": "stdout",
     "output_type": "stream",
     "text": [
      "Player1: ['BIG JOKER', '♠10', '♠2', '♠3', '♠7', '♠8', '♠9', '♠A', '♠K', '♣K', '♣Q', '♥A', '♥J', '♦2', '♦3', '♦4', '♦Q']\n",
      "Player2: ['SMALL JOKER', '♠5', '♠6', '♠J', '♠Q', '♣3', '♣4', '♣7', '♣J', '♥3', '♥4', '♥6', '♥8', '♥9', '♦10', '♦5', '♦A']\n",
      "Player3: ['♠4', '♣10', '♣2', '♣5', '♣6', '♣A', '♥10', '♥2', '♥5', '♥7', '♥K', '♥Q', '♦7', '♦8', '♦9', '♦J', '♦K']\n",
      "Bottom cards: ['♣8', '♣9', '♦6']\n"
     ]
    }
   ],
   "source": [
    "import random\n",
    "\n",
    "class Player:\n",
    "    def __init__(self):\n",
    "        self.cards = []\n",
    "\n",
    "class Poker:\n",
    "    colors = {\n",
    "        \"spade\": \"\\u2660\",\n",
    "        \"heart\": \"\\u2665\",\n",
    "        \"diamond\": \"\\u2666\",\n",
    "        \"club\": \"\\u2663\"\n",
    "    }\n",
    "    numbers = ['A', '2', '3', '4', '5', '6', '7', '8', '9', '10', 'J', 'Q', 'K']\n",
    "    \n",
    "    def __init__(self):\n",
    "        self.cards = [c+n for n in self.numbers for c in self.colors.values()] + [\"BIG JOKER\", \"SMALL JOKER\"]\n",
    "    \n",
    "    def shuffle_cards(self):\n",
    "        random.shuffle(self.cards)\n",
    "\n",
    "\n",
    "class Game():\n",
    "    def play(self, bottom):\n",
    "        p1, p2, p3 = Player(), Player(), Player()\n",
    "        p = Poker()\n",
    "        p.shuffle_cards()\n",
    "        while len(p.cards) > bottom:\n",
    "            p1.cards.append(p.cards.pop())\n",
    "            p2.cards.append(p.cards.pop())\n",
    "            p3.cards.append(p.cards.pop())\n",
    "        print(\"Player1:\", sorted(p1.cards))\n",
    "        print(\"Player2:\", sorted(p2.cards))\n",
    "        print(\"Player3:\", sorted(p3.cards))\n",
    "        print(\"Bottom cards:\", sorted(p.cards))\n",
    "\n",
    "\n",
    "g = Game()\n",
    "g.play(3)\n"
   ]
  }
 ],
 "metadata": {
  "kernelspec": {
   "display_name": "Python 3",
   "language": "python",
   "name": "python3"
  },
  "language_info": {
   "codemirror_mode": {
    "name": "ipython",
    "version": 3
   },
   "file_extension": ".py",
   "mimetype": "text/x-python",
   "name": "python",
   "nbconvert_exporter": "python",
   "pygments_lexer": "ipython3",
   "version": "3.7.0"
  },
  "toc": {
   "base_numbering": 1,
   "nav_menu": {},
   "number_sections": true,
   "sideBar": true,
   "skip_h1_title": false,
   "title_cell": "Table of Contents",
   "title_sidebar": "Contents",
   "toc_cell": false,
   "toc_position": {},
   "toc_section_display": true,
   "toc_window_display": false
  },
  "varInspector": {
   "cols": {
    "lenName": 16,
    "lenType": 16,
    "lenVar": 40
   },
   "kernels_config": {
    "python": {
     "delete_cmd_postfix": "",
     "delete_cmd_prefix": "del ",
     "library": "var_list.py",
     "varRefreshCmd": "print(var_dic_list())"
    },
    "r": {
     "delete_cmd_postfix": ") ",
     "delete_cmd_prefix": "rm(",
     "library": "var_list.r",
     "varRefreshCmd": "cat(var_dic_list()) "
    }
   },
   "types_to_exclude": [
    "module",
    "function",
    "builtin_function_or_method",
    "instance",
    "_Feature"
   ],
   "window_display": false
  }
 },
 "nbformat": 4,
 "nbformat_minor": 2
}
