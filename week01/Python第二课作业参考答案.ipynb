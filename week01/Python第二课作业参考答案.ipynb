{
 "cells": [
  {
   "cell_type": "markdown",
   "metadata": {},
   "source": [
    "## Python第二课作业\n",
    "\n",
    "####  作业提交说明：\n",
    "- 位置：作业文件统一放置于/0.Teacher/Exercise/Python/python2下面\n",
    "- 文件名：请先下载该notebook文件到本地，并重新命名为(课程名)+(您姓名的全拼)，并按要求完成后保存\n",
    "- 时间：课程结束后的第二天前提交。\n",
    "- 注意：请勿抄袭，移动，修改，删除其他同学和原始空白的练习文件。\n",
    "***"
   ]
  },
  {
   "cell_type": "markdown",
   "metadata": {},
   "source": [
    "## 作业"
   ]
  },
  {
   "cell_type": "markdown",
   "metadata": {},
   "source": [
    "### 简答题"
   ]
  },
  {
   "cell_type": "markdown",
   "metadata": {},
   "source": [
    "- 1.简述继承的理解，继承的方式以及注意事项?"
   ]
  },
  {
   "cell_type": "markdown",
   "metadata": {},
   "source": [
    "【参考答案】\n",
    "\n",
    "    (1) 在程序中，继承描述的是事物之间的所属关系，例如猫和狗都属于动物，程序中便可以描述为猫和狗继承自动物；\n",
    "\n",
    "    (2) 子类继承父类（属性和方法）的方式是在定义子类时，类名后面的括号里写上父类的名字，即 class 子类名（父类名）：\n",
    "    \n",
    "    (3) 注意事项：私有的属性、方法，不会被子类继承，也不能被访问；\n",
    "        "
   ]
  },
  {
   "cell_type": "markdown",
   "metadata": {
    "collapsed": true
   },
   "source": [
    "- 2.简述类对象和实例对象？"
   ]
  },
  {
   "cell_type": "markdown",
   "metadata": {},
   "source": [
    "【参考答案】\n",
    "\n",
    "    类对象是具有相似属性和方法的对象；实例对象是一类对象中具体的一例对象。例如：水果是一个类，水果A是一个类对象，苹果是实例对象。"
   ]
  },
  {
   "cell_type": "markdown",
   "metadata": {},
   "source": [
    "- 3.如何理解闭包？"
   ]
  },
  {
   "cell_type": "markdown",
   "metadata": {},
   "source": [
    "【参考答案】\n",
    "\n",
    "    外部函数返回内部函数的引用构成闭包，参考下面的代码进行理解："
   ]
  },
  {
   "cell_type": "code",
   "execution_count": 21,
   "metadata": {},
   "outputs": [
    {
     "name": "stdout",
     "output_type": "stream",
     "text": [
      "\n",
      "func1() is starting...\n",
      "3\n",
      "\n",
      "func2() is starting...\n",
      "5.0\n",
      "\n",
      "func3() is starting...\n",
      "I am a student.\n",
      "runing...\n",
      "\n",
      "func4() is starting...\n",
      "runing...\n",
      "13\n",
      "\n",
      "变量名、函数名存储了变量和函数在内存位置中的引用，所以函数的参数列表中既可以是变量也可以是函数。\n"
     ]
    }
   ],
   "source": [
    "# 参考代码\n",
    "def run():\n",
    "    print('runing...')\n",
    "def eat():\n",
    "    print('eating...')\n",
    "\n",
    "# 1.内函数使用外函数的变量\n",
    "def func1(): #外函数（无参数）\n",
    "    x = 1    #外函数变量 x\n",
    "    y = 2    #外函数变量 y\n",
    "    def add(): #内函数：加法实现\n",
    "        print(\"\\nfunc1() is starting...\")\n",
    "        print(x+y)\n",
    "    return add #返回内部函数的引用\n",
    "\n",
    "# 2.内函数使用外函数的参数\n",
    "# 2.1 外函数参数为变量的引用\n",
    "def func2(a): \n",
    "    def half(): #内函数：实现数值减半\n",
    "        print(\"\\nfunc2() is starting...\")\n",
    "        print(a/2) \n",
    "    return half #返回内部函数的引用\n",
    "\n",
    "# 2.2 外函数参数为函数的引用\n",
    "def func3(action): \n",
    "    def student():\n",
    "        print(\"\\nfunc3() is starting...\")\n",
    "        print('I am a student.')\n",
    "        action()\n",
    "    return student #返回内部函数的引用\n",
    "    \n",
    "# 3. 内函数同时使用外函数的变量和参数\n",
    "def func4(a,action):\n",
    "    x = 1  #外函数变量 x\n",
    "    y = 2  #外函数变量 y\n",
    "    def sum(): #内函数：求和\n",
    "        print(\"\\nfunc4() is starting...\")\n",
    "        action()\n",
    "        print(a+x+y)\n",
    "    return sum #返回内部函数的引用\n",
    "\n",
    "f1 = func1()\n",
    "f1()\n",
    "f2 = func2(10)\n",
    "f2()\n",
    "f3 = func3(run)\n",
    "f3()\n",
    "f4 = func4(10,run)\n",
    "f4()\n",
    "print(\"\\n变量名、函数名存储了变量和函数在内存位置中的引用，所以函数的参数列表中既可以是变量也可以是函数。\")"
   ]
  },
  {
   "cell_type": "markdown",
   "metadata": {},
   "source": [
    "- 4.简述生成器和迭代器之间的关系"
   ]
  },
  {
   "cell_type": "markdown",
   "metadata": {},
   "source": [
    "【参考答案】 \n",
    "\n",
    "    在Python中，一边循环一边计算的机制称为生成器；迭代器是一个可以记住遍历位置的对象，迭代器不一定是生成器，生成器一定是迭代器。"
   ]
  },
  {
   "cell_type": "markdown",
   "metadata": {},
   "source": [
    "### 编程题"
   ]
  },
  {
   "cell_type": "markdown",
   "metadata": {},
   "source": [
    "- 5.读取一个文件，显示除了以井号(#)开头的行以外的所有行"
   ]
  },
  {
   "cell_type": "code",
   "execution_count": 22,
   "metadata": {},
   "outputs": [
    {
     "name": "stdout",
     "output_type": "stream",
     "text": [
      "hello world!\n",
      "\n",
      "I am a student.\n"
     ]
    }
   ],
   "source": [
    "# 参考代码\n",
    "import os\n",
    "\n",
    "# 1. 打开文件，写入文本内容\n",
    "f = open('test.txt', 'w')\n",
    "f.write('hello world!\\n')\n",
    "for i in range(20):\n",
    "    f.write('#00000000000000000000000000000\\n')\n",
    "f.write('I am a student.')\n",
    "f.close()\n",
    "\n",
    "# 2. 按行读取文本，存入列表lines\n",
    "f = open('test.txt', 'r')\n",
    "lines = f.readlines()\n",
    "\n",
    "# 3. 只显示文件中非 # 开头的行\n",
    "for i in lines:\n",
    "    if i[0] == \"#\":\n",
    "        continue\n",
    "    print(i)\n",
    "f.close()"
   ]
  },
  {
   "cell_type": "markdown",
   "metadata": {},
   "source": [
    "- 6.模拟斗地主，有3个玩家，一付扑克牌，留3张底牌，\n",
    "将扑克牌随机分配给3个玩家并显示（注意有四种花色和两个王）"
   ]
  },
  {
   "cell_type": "code",
   "execution_count": 20,
   "metadata": {},
   "outputs": [
    {
     "name": "stdout",
     "output_type": "stream",
     "text": [
      "玩家1:\n",
      "♥6 ♦10 ♣K ♦2 ♥Q ♣9 ♦7 ♣6 ♥9 ♠7 ♥4 ♦9 ♣J ♣5 ♥A ♣A ♦J \n",
      "玩家2:\n",
      "♦K ♦5 ♠Q ♦A ♣2 ♦4 ♣4 ♥J ♠9 大王 ♦6 ♠3 ♠5 ♠4 ♠8 ♦Q ♦3 \n",
      "玩家3:\n",
      "♠2 ♠K 小王 ♥5 ♠A ♣3 ♥10 ♥8 ♦8 ♥K ♠J ♣7 ♠6 ♥3 ♣10 ♥2 ♣8 \n",
      "底牌：\n",
      "♥7 ♠10 ♣Q \n"
     ]
    }
   ],
   "source": [
    "# 参考代码\n",
    "import random\n",
    "class Poke:\n",
    "    poke = []  # 扑克牌牌堆\n",
    "    p1 = []   # 玩家一牌堆\n",
    "    p2 = []   #  玩家二牌堆\n",
    "    p3 = []    #  玩家三牌堆\n",
    "    last = None   # 底牌牌堆\n",
    "    def __init__(self,f,num):      # 初始化牌堆\n",
    "        self.flower = f     # 花色\n",
    "        self.num = num    #  点数\n",
    "    def __str__(self):\n",
    "        return \"%s%s\" % (self.flower,self.num)     # 返回牌值\n",
    "    @classmethod\n",
    "    def init(cls):   # 定义牌堆\n",
    "        ph = (\"♥\",\"♠\",\"♣\",\"♦\")                    # 花色元组\n",
    "        pnum = (\"2\",\"3\",\"4\",\"5\",\"6\",\"7\",\"8\",\"9\",\"10\",\"J\",\"Q\",\"K\",\"A\")  # 点数元组\n",
    "        king = {\"big\":\"大王\",\"small\":\"小王\"}        # 大小王\n",
    "        for p in ph:                   # 循环遍历花色\n",
    "            for _nump in pnum:    #  循环遍历点数\n",
    "                cls.poke.append(Poke(p,_nump))  # 装牌\n",
    "        cls.poke.append(Poke(king[\"big\"],\"\"))   # 装大王\n",
    "        cls.poke.append(Poke(king[\"small\"],\"\"))  # 装小王\n",
    "    @classmethod\n",
    "    def wash(cls):     # 洗牌\n",
    "        random.shuffle(cls.poke)\n",
    "    @classmethod\n",
    "    def send(cls):    #  发牌\n",
    "        for _ in range(0,17): # 三个人每人发17张牌 \n",
    "            cls.p1.append(cls.poke.pop(0))   # 玩家一发牌\n",
    "            cls.p2.append(cls.poke.pop(0))\n",
    "            cls.p3.append(cls.poke.pop(0))\n",
    "        cls.last= tuple(cls.poke)            # 最后三张牌做底牌  \n",
    "    @classmethod\n",
    "    def show(cls):    # 展示牌\n",
    "        print(\"玩家1:\")\n",
    "        for pokes in cls.p1:\n",
    "            print(pokes,end = \" \")\n",
    "        print()\n",
    "        print(\"玩家2:\")\n",
    "        for pokes in cls.p2:\n",
    "            print(pokes, end=\" \")\n",
    "        print()\n",
    "        print(\"玩家3:\")\n",
    "        for pokes in cls.p3:\n",
    "            print(pokes, end=\" \")\n",
    "        print()\n",
    "        print(\"底牌：\")\n",
    "        for pokes in cls.last:\n",
    "            print(pokes, end=\" \")\n",
    "        print()\n",
    "        \n",
    "Poke.init()\n",
    "Poke.wash()\n",
    "Poke.send()    \n",
    "Poke.show()"
   ]
  }
 ],
 "metadata": {
  "kernelspec": {
   "display_name": "Python 3",
   "language": "python",
   "name": "python3"
  },
  "language_info": {
   "codemirror_mode": {
    "name": "ipython",
    "version": 3
   },
   "file_extension": ".py",
   "mimetype": "text/x-python",
   "name": "python",
   "nbconvert_exporter": "python",
   "pygments_lexer": "ipython3",
   "version": "3.7.0"
  },
  "toc": {
   "base_numbering": 1,
   "nav_menu": {},
   "number_sections": true,
   "sideBar": true,
   "skip_h1_title": false,
   "title_cell": "Table of Contents",
   "title_sidebar": "Contents",
   "toc_cell": false,
   "toc_position": {},
   "toc_section_display": true,
   "toc_window_display": false
  },
  "varInspector": {
   "cols": {
    "lenName": 16,
    "lenType": 16,
    "lenVar": 40
   },
   "kernels_config": {
    "python": {
     "delete_cmd_postfix": "",
     "delete_cmd_prefix": "del ",
     "library": "var_list.py",
     "varRefreshCmd": "print(var_dic_list())"
    },
    "r": {
     "delete_cmd_postfix": ") ",
     "delete_cmd_prefix": "rm(",
     "library": "var_list.r",
     "varRefreshCmd": "cat(var_dic_list()) "
    }
   },
   "types_to_exclude": [
    "module",
    "function",
    "builtin_function_or_method",
    "instance",
    "_Feature"
   ],
   "window_display": false
  }
 },
 "nbformat": 4,
 "nbformat_minor": 2
}
