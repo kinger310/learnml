{
 "cells": [
  {
   "cell_type": "markdown",
   "metadata": {},
   "source": [
    "## 面向对象\n",
    "\n",
    "面向过程：根据业务逻辑从上到下写代码\n",
    "\n",
    "面向对象：将数据与函数绑定到一起，进行封装，这样能够更快速的开发程序，减少了重复代码的重写过程\n",
    "\n",
    "面向过程编程最易被初学者接受，其往往用一长段代码来实现指定功能，\n",
    "\n",
    "开发过程的思路是将数据与函数按照执行的逻辑顺序组织在一起，数据与函数分开考虑。\n",
    "\n",
    "\n",
    "def 发送邮件(内容)\n",
    "        #发送邮件提醒\n",
    "        连接邮箱服务器\n",
    "        发送邮件\n",
    "        关闭连接\n",
    "\n",
    "while True：\n",
    "\n",
    "        if cpu利用率 > 90%:\n",
    "                发送邮件('CPU报警')\n",
    "\n",
    "        if 硬盘使用空间 > 90%:\n",
    "                发送邮件('硬盘报警')\n",
    "\n",
    "        if 内存占用 > 80%:\n",
    "                发送邮件('内存报警')\n",
    "                \n",
    "                \n",
    "面向对象(object-oriented ;简称: OO) 至今还没有统一的概念 我这里把它定义为: 按人们 认识客观世界的系统思维方式,\n",
    "\n",
    "采用基于对象(实体) 的概念建立模型,模拟客观世界分析、设 计、实现软件的办法。\n",
    "\n",
    "    面向对象编程(Object Oriented Programming-OOP) 是一种解决软件复用的设计和编程方法。 这种方法把软件系统中相近相似的操作逻辑和操作 应用数据、状态,以类的型式描述出来,以对象实例的形式在软件系统中复用,以达到提高软件开发效率的作用。                "
   ]
  },
  {
   "cell_type": "markdown",
   "metadata": {},
   "source": [
    "### 类和对象\n",
    "\n",
    "对象是面向对象编程的核心，在使用对象的过程中，为了将具有共同特征和行为的一组对象抽象定义，提出了另外一个新的概念——类\n",
    "\n",
    "类就相当于制造飞机时的图纸，用它来进行创建的飞机就相当于对象·"
   ]
  },
  {
   "cell_type": "markdown",
   "metadata": {},
   "source": [
    "#### 类\n",
    "\n",
    "俗话说，人以类聚 物以群分。\n",
    "\n",
    "具有相似内部状态和运动规律的实体的集合(或统称为抽象)。 \n",
    "\n",
    "具有相同属性和行为事物的统称\n",
    "\n",
    "定义：\n",
    "\n",
    "类是抽象的,在使用的时候通常会找到这个类的一个具体的存在,使用这个具体的存在。一个类可以找到多个对象\n",
    "\n",
    "类(Class) 由3个部分构成\n",
    "\n",
    "    类的名称:类名\n",
    "    类的属性:一组数据\n",
    "    类的方法:允许对进行操作的方法 (行为)\n",
    "\n",
    "<1> 举例：\n",
    "1）人类设计,只关心3样东西:\n",
    "\n",
    "    事物名称(类名):人(Person)\n",
    "    属性:身高(height)、年龄(age)\n",
    "    方法(行为/功能):跑(run)、打架(fight)\n",
    "\n",
    "2）狗类的设计\n",
    "\n",
    "    类名:狗(Dog)\n",
    "    属性:品种 、毛色、性别、名字、 腿儿的数量\n",
    "    方法(行为/功能):叫 、跑、咬人、吃、摇尾巴"
   ]
  },
  {
   "cell_type": "code",
   "execution_count": 1,
   "metadata": {
    "ExecuteTime": {
     "end_time": "2019-05-10T06:59:45.040824Z",
     "start_time": "2019-05-10T06:59:45.025073Z"
    }
   },
   "outputs": [
    {
     "data": {
      "text/plain": [
       "'\\n说明：\\n\\n    定义类时有2种：新式类和经典类，上面的Car为经典类，如果是Car(object)则为新式类\\n    类名 的命名规则按照\"大驼峰\"\\n'"
      ]
     },
     "execution_count": 1,
     "metadata": {},
     "output_type": "execute_result"
    }
   ],
   "source": [
    "#定义一个类，格式如下：\n",
    "\"\"\"\n",
    "class 类名:\n",
    "    方法列表\n",
    "    \n",
    "\"\"\"    \n",
    "#案例1：\n",
    "class Cat:\n",
    "    #属性\n",
    "\n",
    "    #方法\n",
    "    def eat(self):\n",
    "        print(\"猫在吃鱼....\")\n",
    "\n",
    "    def drink(self):\n",
    "        print(\"猫正在喝kele.....\")\n",
    "\n",
    "\n",
    "#案例2：\n",
    "\n",
    "# 定义类\n",
    "class Car:\n",
    "    # 方法\n",
    "    def getCarInfo(self):\n",
    "        print('车轮子个数:%d, 颜色%s'%(self.wheelNum, self.color))\n",
    "\n",
    "    def move(self):\n",
    "        print(\"车正在移动...\")\n",
    "\n",
    "\"\"\"\n",
    "说明：\n",
    "\n",
    "    定义类时有2种：新式类和经典类，上面的Car为经典类，如果是Car(object)则为新式类\n",
    "    类名 的命名规则按照\"大驼峰\"\n",
    "\"\"\"    "
   ]
  },
  {
   "cell_type": "markdown",
   "metadata": {},
   "source": [
    "#### 对象\n",
    "\n",
    "概述：\n",
    "\n",
    "某一个具体事物的存在 ,在现实世界中可以是看得见摸得着的。\n",
    "\n",
    "可以是直接使用的\n",
    "\n",
    "   类和对象之间的关系：\n",
    "   \n",
    "   就像利用玩具的模型来创建多种不同的玩具\n",
    "   \n",
    "   类就是创建对象的模板\n",
    "   \n",
    "   创建对象的格式为:\n",
    "\n",
    "对象名 = 类名()\n",
    "\n",
    "\n"
   ]
  },
  {
   "cell_type": "code",
   "execution_count": 2,
   "metadata": {
    "ExecuteTime": {
     "end_time": "2019-05-10T07:01:47.810544Z",
     "start_time": "2019-05-10T07:01:47.801865Z"
    },
    "collapsed": true
   },
   "outputs": [
    {
     "name": "stdout",
     "output_type": "stream",
     "text": [
      "车在奔跑...\n",
      "车在鸣笛...嘟嘟..\n",
      "黑色\n",
      "4\n"
     ]
    },
    {
     "data": {
      "text/plain": [
       "\"\\n总结：\\n\\n    BMW = Car()，这样就产生了一个Car的实例对象，此时也可以通过实例对象BMW来访问属性或者方法\\n    第一次使用BMW.color = '黑色'表示给BMW这个对象添加属性，如果后面再次出现BMW.color = xxx表示对属性进行修改\\n    BMW是一个对象，它拥有属性（数据）和方法（函数）\\n    当创建一个对象时，就是用一个模子，来制造一个实物\\n    \\n\""
      ]
     },
     "execution_count": 2,
     "metadata": {},
     "output_type": "execute_result"
    }
   ],
   "source": [
    "# 定义类\n",
    "class Car:\n",
    "    # 移动\n",
    "    def move(self):\n",
    "        print('车在奔跑...')\n",
    "\n",
    "    # 鸣笛\n",
    "    def toot(self):\n",
    "        print(\"车在鸣笛...嘟嘟..\")\n",
    "\n",
    "\n",
    "# 创建一个对象，并用变量BMW来保存它的引用\n",
    "BMW = Car()\n",
    "BMW.color = '黑色'\n",
    "BMW.wheelNum = 4 #轮子数量\n",
    "BMW.move()\n",
    "BMW.toot()\n",
    "print(BMW.color)\n",
    "print(BMW.wheelNum)\n",
    "\n",
    "\"\"\"\n",
    "总结：\n",
    "\n",
    "    BMW = Car()，这样就产生了一个Car的实例对象，此时也可以通过实例对象BMW来访问属性或者方法\n",
    "    第一次使用BMW.color = '黑色'表示给BMW这个对象添加属性，如果后面再次出现BMW.color = xxx表示对属性进行修改\n",
    "    BMW是一个对象，它拥有属性（数据）和方法（函数）\n",
    "    当创建一个对象时，就是用一个模子，来制造一个实物\n",
    "    \n",
    "\"\"\""
   ]
  },
  {
   "cell_type": "markdown",
   "metadata": {},
   "source": [
    "#### 区分类和对象\n",
    "\n",
    "奔驰汽车 类\n",
    "\n",
    "奔驰smart 类 \n",
    "\n",
    "张三的那辆奔驰smart 对象\n",
    "\n",
    "狗 类\n",
    "\n",
    "大黄狗 类 \n",
    "\n",
    "李四家那只大黄狗 对象 \n",
    "\n",
    "水果 类\n",
    "\n",
    "苹果 类 \n",
    "\n",
    "红苹果 类 红富士苹果 类 \n",
    "\n",
    "我嘴里吃了一半的苹果 对象"
   ]
  },
  {
   "cell_type": "markdown",
   "metadata": {},
   "source": [
    "#### 类属性和实例属性\n",
    "在前面的例子中我们接触到的就是实例属性（对象属性），顾名思义，类属性就是类对象所拥有的属性，它被所有类对\n",
    "\n",
    "象的实例对象所共有，在内存中只存在一个副本，这个和C++中类的静态成员变量有点类似。对于公有的类属性，在类\n",
    "\n",
    "外可以通过类对象和实例对象访问"
   ]
  },
  {
   "cell_type": "code",
   "execution_count": 5,
   "metadata": {
    "ExecuteTime": {
     "end_time": "2019-05-10T08:23:12.998487Z",
     "start_time": "2019-05-10T08:23:12.985695Z"
    }
   },
   "outputs": [
    {
     "name": "stdout",
     "output_type": "stream",
     "text": [
      "Tom\n",
      "Tom\n"
     ]
    },
    {
     "ename": "AttributeError",
     "evalue": "'People' object has no attribute '__age'",
     "output_type": "error",
     "traceback": [
      "\u001b[0;31m---------------------------------------------------------------------------\u001b[0m",
      "\u001b[0;31mAttributeError\u001b[0m                            Traceback (most recent call last)",
      "\u001b[0;32m<ipython-input-5-d86580934fc7>\u001b[0m in \u001b[0;36m<module>\u001b[0;34m\u001b[0m\n\u001b[1;32m      8\u001b[0m \u001b[0mprint\u001b[0m\u001b[0;34m(\u001b[0m\u001b[0mp\u001b[0m\u001b[0;34m.\u001b[0m\u001b[0mname\u001b[0m\u001b[0;34m)\u001b[0m           \u001b[0;31m#正确\u001b[0m\u001b[0;34m\u001b[0m\u001b[0;34m\u001b[0m\u001b[0m\n\u001b[1;32m      9\u001b[0m \u001b[0mprint\u001b[0m\u001b[0;34m(\u001b[0m\u001b[0mPeople\u001b[0m\u001b[0;34m.\u001b[0m\u001b[0mname\u001b[0m\u001b[0;34m)\u001b[0m      \u001b[0;31m#正确\u001b[0m\u001b[0;34m\u001b[0m\u001b[0;34m\u001b[0m\u001b[0m\n\u001b[0;32m---> 10\u001b[0;31m \u001b[0mprint\u001b[0m\u001b[0;34m(\u001b[0m\u001b[0mp\u001b[0m\u001b[0;34m.\u001b[0m\u001b[0m__age\u001b[0m\u001b[0;34m)\u001b[0m            \u001b[0;31m#错误，不能在类外通过实例对象访问私有的类属性\u001b[0m\u001b[0;34m\u001b[0m\u001b[0;34m\u001b[0m\u001b[0m\n\u001b[0m\u001b[1;32m     11\u001b[0m \u001b[0mprint\u001b[0m\u001b[0;34m(\u001b[0m\u001b[0mPeople\u001b[0m\u001b[0;34m.\u001b[0m\u001b[0m__age\u001b[0m\u001b[0;34m)\u001b[0m        \u001b[0;31m#错误，不能在类外通过类对象访问私有的类属性\u001b[0m\u001b[0;34m\u001b[0m\u001b[0;34m\u001b[0m\u001b[0m\n",
      "\u001b[0;31mAttributeError\u001b[0m: 'People' object has no attribute '__age'"
     ]
    }
   ],
   "source": [
    "#类属性\n",
    "class People(object):\n",
    "    name = 'Tom'  #公有的类属性\n",
    "    __age = 12     #私有的类属性\n",
    "\n",
    "p = People()\n",
    "\n",
    "print(p.name)           #正确\n",
    "print(People.name)      #正确\n",
    "print(p.__age)            #错误，不能在类外通过实例对象访问私有的类属性\n",
    "print(People.__age)        #错误，不能在类外通过类对象访问私有的类属性"
   ]
  },
  {
   "cell_type": "code",
   "execution_count": 4,
   "metadata": {
    "ExecuteTime": {
     "end_time": "2019-05-10T08:23:06.752951Z",
     "start_time": "2019-05-10T08:23:06.559797Z"
    }
   },
   "outputs": [
    {
     "name": "stdout",
     "output_type": "stream",
     "text": [
      "山东\n",
      "xiaowang\n",
      "12\n",
      "山东\n"
     ]
    },
    {
     "ename": "AttributeError",
     "evalue": "type object 'People' has no attribute 'name'",
     "output_type": "error",
     "traceback": [
      "\u001b[0;31m---------------------------------------------------------------------------\u001b[0m",
      "\u001b[0;31mAttributeError\u001b[0m                            Traceback (most recent call last)",
      "\u001b[0;32m<ipython-input-4-421692d16faf>\u001b[0m in \u001b[0;36m<module>\u001b[0;34m\u001b[0m\n\u001b[1;32m     13\u001b[0m \u001b[0;34m\u001b[0m\u001b[0m\n\u001b[1;32m     14\u001b[0m \u001b[0mprint\u001b[0m\u001b[0;34m(\u001b[0m\u001b[0mPeople\u001b[0m\u001b[0;34m.\u001b[0m\u001b[0maddress\u001b[0m\u001b[0;34m)\u001b[0m \u001b[0;31m#正确\u001b[0m\u001b[0;34m\u001b[0m\u001b[0;34m\u001b[0m\u001b[0m\n\u001b[0;32m---> 15\u001b[0;31m \u001b[0mprint\u001b[0m\u001b[0;34m(\u001b[0m\u001b[0mPeople\u001b[0m\u001b[0;34m.\u001b[0m\u001b[0mname\u001b[0m\u001b[0;34m)\u001b[0m    \u001b[0;31m#错误\u001b[0m\u001b[0;34m\u001b[0m\u001b[0;34m\u001b[0m\u001b[0m\n\u001b[0m\u001b[1;32m     16\u001b[0m \u001b[0mprint\u001b[0m\u001b[0;34m(\u001b[0m\u001b[0mPeople\u001b[0m\u001b[0;34m.\u001b[0m\u001b[0mage\u001b[0m\u001b[0;34m)\u001b[0m     \u001b[0;31m#错误\u001b[0m\u001b[0;34m\u001b[0m\u001b[0;34m\u001b[0m\u001b[0m\n",
      "\u001b[0;31mAttributeError\u001b[0m: type object 'People' has no attribute 'name'"
     ]
    }
   ],
   "source": [
    "#实例属性\n",
    "class People(object):\n",
    "    address = '山东' #类属性\n",
    "    def __init__(self):\n",
    "        self.name = 'xiaowang' #实例属性\n",
    "        self.age = 20 #实例属性\n",
    "\n",
    "p = People()\n",
    "p.age =12 #实例属性\n",
    "print(p.address) #正确\n",
    "print(p.name)    #正确\n",
    "print(p.age)     #正确\n",
    "\n",
    "print(People.address) #正确\n",
    "print(People.name)    #错误\n",
    "print(People.age)     #错误"
   ]
  },
  {
   "cell_type": "code",
   "execution_count": 3,
   "metadata": {
    "ExecuteTime": {
     "end_time": "2019-05-10T08:23:01.879090Z",
     "start_time": "2019-05-10T08:23:01.853461Z"
    }
   },
   "outputs": [
    {
     "name": "stdout",
     "output_type": "stream",
     "text": [
      "china\n",
      "china\n",
      "japan\n",
      "china\n",
      "china\n"
     ]
    },
    {
     "data": {
      "text/plain": [
       "'\\n总结：\\n如果需要在类外修改类属性，必须通过类对象去引用然后进行修改。\\n如果通过实例对象去引用，会产生一个同名的实例属性，\\n这种方式修改的是实例属性，不会影响到类属性，并且之后如果通过实例对象去引用该名称的属性，\\n实例属性会强制屏蔽掉类属性，即引用的是实例属性，除非删除了该实例属性。\\n'"
      ]
     },
     "execution_count": 3,
     "metadata": {},
     "output_type": "execute_result"
    }
   ],
   "source": [
    "#通过实例(对象)去修改类属性\n",
    "class People(object):\n",
    "    country = 'china' #类属性\n",
    "\n",
    "\n",
    "print(People.country)\n",
    "p = People()\n",
    "print(p.country)\n",
    "p.country = 'japan' \n",
    "print(p.country)      #实例属性会屏蔽掉同名的类属性\n",
    "print(People.country)\n",
    "del p.country    #删除实例属性\n",
    "print(p.country)\n",
    "\n",
    "\"\"\"\n",
    "总结：\n",
    "如果需要在类外修改类属性，必须通过类对象去引用然后进行修改。\n",
    "如果通过实例对象去引用，会产生一个同名的实例属性，\n",
    "这种方式修改的是实例属性，不会影响到类属性，并且之后如果通过实例对象去引用该名称的属性，\n",
    "实例属性会强制屏蔽掉类属性，即引用的是实例属性，除非删除了该实例属性。\n",
    "\"\"\""
   ]
  },
  {
   "cell_type": "markdown",
   "metadata": {},
   "source": [
    "#### 实例方法\n",
    "\n",
    "实例方法就是普通函数\n",
    "\n",
    "def 函数名():\n",
    "\n",
    "    函数体"
   ]
  },
  {
   "cell_type": "markdown",
   "metadata": {},
   "source": [
    "#### 类方法\n",
    "\n",
    "是类对象所拥有的方法，需要用修饰器@classmethod来标识其为类方法，对于类方法，\n",
    "\n",
    "第一个参数必须是类对象，一般以cls作为第一个参数（当然可以用其他名称的变量作为其第一个参数，但是大部分人都习惯以'cls'作为第一个参数\n",
    "\n",
    "的名字，就最好用'cls'了），能够通过实例对象和类对象去访问。"
   ]
  },
  {
   "cell_type": "code",
   "execution_count": 6,
   "metadata": {
    "ExecuteTime": {
     "end_time": "2019-05-10T08:27:58.245791Z",
     "start_time": "2019-05-10T08:27:58.238898Z"
    }
   },
   "outputs": [
    {
     "name": "stdout",
     "output_type": "stream",
     "text": [
      "china\n",
      "china\n"
     ]
    }
   ],
   "source": [
    "class People(object):\n",
    "    country = 'china'\n",
    "\n",
    "    #类方法，用classmethod来进行修饰\n",
    "    @classmethod\n",
    "    def getCountry(cls):\n",
    "        return cls.country\n",
    "\n",
    "p = People()\n",
    "print (p.getCountry())    #可以用过实例对象引用\n",
    "print (People.getCountry())   #可以通过类对象引用"
   ]
  },
  {
   "cell_type": "code",
   "execution_count": 7,
   "metadata": {
    "ExecuteTime": {
     "end_time": "2019-05-10T08:28:00.755446Z",
     "start_time": "2019-05-10T08:28:00.744958Z"
    }
   },
   "outputs": [
    {
     "name": "stdout",
     "output_type": "stream",
     "text": [
      "china\n",
      "china\n",
      "japan\n",
      "japan\n"
     ]
    },
    {
     "data": {
      "text/plain": [
       "'\\n发现规律：\\n结果显示在用类方法对类属性修改之后，通过类对象和实例对象访问都发生了改变\\n'"
      ]
     },
     "execution_count": 7,
     "metadata": {},
     "output_type": "execute_result"
    }
   ],
   "source": [
    "#类方法还有一个用途就是可以对类属性进行修改：\n",
    "class People(object):\n",
    "    country = 'china'\n",
    "\n",
    "    #类方法，用classmethod来进行修饰\n",
    "    @classmethod\n",
    "    def getCountry(cls):\n",
    "        return cls.country\n",
    "\n",
    "    @classmethod\n",
    "    def setCountry(cls,country):\n",
    "        cls.country = country\n",
    "\n",
    "\n",
    "p = People()\n",
    "print (p.getCountry())    #可以用过实例对象引用\n",
    "print (People.getCountry())    #可以通过类对象引用\n",
    "\n",
    "p.setCountry('japan')\n",
    "\n",
    "print (p.getCountry())\n",
    "print (People.getCountry())\n",
    "\n",
    "\"\"\"\n",
    "发现规律：\n",
    "结果显示在用类方法对类属性修改之后，通过类对象和实例对象访问都发生了改变\n",
    "\"\"\""
   ]
  },
  {
   "cell_type": "markdown",
   "metadata": {},
   "source": [
    "#### 静态方法\n",
    "\n",
    "需要通过修饰器@staticmethod来进行修饰，静态方法不需要多定义参数\n"
   ]
  },
  {
   "cell_type": "code",
   "execution_count": 9,
   "metadata": {
    "ExecuteTime": {
     "end_time": "2019-05-10T08:28:57.746554Z",
     "start_time": "2019-05-10T08:28:57.741646Z"
    }
   },
   "outputs": [
    {
     "data": {
      "text/plain": [
       "'china'"
      ]
     },
     "execution_count": 9,
     "metadata": {},
     "output_type": "execute_result"
    }
   ],
   "source": [
    "class People(object):\n",
    "    country = 'china'\n",
    "\n",
    "    @staticmethod\n",
    "    #静态方法\n",
    "    def getCountry():\n",
    "        return People.country\n",
    "People.getCountry()"
   ]
  },
  {
   "cell_type": "code",
   "execution_count": null,
   "metadata": {},
   "outputs": [],
   "source": []
  }
 ],
 "metadata": {
  "kernelspec": {
   "display_name": "Python 3",
   "language": "python",
   "name": "python3"
  },
  "language_info": {
   "codemirror_mode": {
    "name": "ipython",
    "version": 3
   },
   "file_extension": ".py",
   "mimetype": "text/x-python",
   "name": "python",
   "nbconvert_exporter": "python",
   "pygments_lexer": "ipython3",
   "version": "3.7.3"
  },
  "toc": {
   "base_numbering": 1,
   "nav_menu": {},
   "number_sections": true,
   "sideBar": true,
   "skip_h1_title": false,
   "title_cell": "Table of Contents",
   "title_sidebar": "Contents",
   "toc_cell": false,
   "toc_position": {},
   "toc_section_display": true,
   "toc_window_display": true
  }
 },
 "nbformat": 4,
 "nbformat_minor": 2
}
