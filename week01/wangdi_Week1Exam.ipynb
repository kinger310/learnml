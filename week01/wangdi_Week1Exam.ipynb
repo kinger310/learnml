{
 "cells": [
  {
   "cell_type": "code",
   "execution_count": 1,
   "metadata": {
    "ExecuteTime": {
     "end_time": "2019-05-12T02:56:04.116165Z",
     "start_time": "2019-05-12T02:56:04.076165Z"
    }
   },
   "outputs": [],
   "source": [
    "%config ZMQInteractiveShell.ast_node_interactivity='all' "
   ]
  },
  {
   "cell_type": "markdown",
   "metadata": {},
   "source": [
    "## 七月在线机器学习集训营八期第一周(Python基础)考试\n",
    "#### 考试说明:\n",
    "- 起止时间：请同学在2019年05月10日至05月13日期间完成，最晚提交时间下周一（05月13日12：00时之前）结束，<b>逾期不接受补考,该考试分数计入平时成绩</b>\n",
    "- 考试提交方式：请同学<font color=red><b>拷贝</b></font>该试卷后，将文件更名为同学姓名拼音-exam1（例如wangwei-exam1）后，移动至/0.Teacher/Exam/1/目录下进行作答。\n",
    "- 注意事项：为确保同学们真正了解自身对本周课程的掌握程度，<font color=red><b>请勿翻阅，移动，更改</b></font>其它同学试卷。如发现按0分处理\n",
    "- 请同学在下方同学姓名处填写自己的姓名，批改人和最终得分处不用填写"
   ]
  },
  {
   "cell_type": "markdown",
   "metadata": {},
   "source": [
    "- 同学姓名：王迪\n",
    "- 批改人：杜老师   \n",
    "- 最终得分:98\n",
    "\n",
    "第1个代码题有点小问题哦，参考一下http://ml8.julyedu.com:8901/notebooks/0.Teacher/Exam/Week1Exam-Solution.ipynb"
   ]
  },
  {
   "cell_type": "markdown",
   "metadata": {},
   "source": [
    "<center><h1>####答卷开始####</h1></center>"
   ]
  },
  {
   "cell_type": "markdown",
   "metadata": {},
   "source": [
    "***"
   ]
  },
  {
   "cell_type": "markdown",
   "metadata": {},
   "source": [
    "### 简答题 (共十题，每题4分，共40分)"
   ]
  },
  {
   "cell_type": "markdown",
   "metadata": {},
   "source": [
    "#### 1.请谈谈Python中is 和 == 的区别(代码演示)\n",
    "\n",
    "\n"
   ]
  },
  {
   "cell_type": "raw",
   "metadata": {},
   "source": [
    "a is b 是指a和b同时指向同一个对象，即a和b的id值相等\n",
    "a == b 是指a和b的值相等，即a和b的hash值相等\n",
    "\n",
    "== 运算符比较两个对象的值（对象中保存的数据）\n",
    "is 比较对象的标识\n",
    "\n",
    "通常is要比==速度快，因为它不能重载"
   ]
  },
  {
   "cell_type": "code",
   "execution_count": 2,
   "metadata": {
    "ExecuteTime": {
     "end_time": "2019-05-12T02:56:04.264163Z",
     "start_time": "2019-05-12T02:56:04.124164Z"
    }
   },
   "outputs": [
    {
     "name": "stdout",
     "output_type": "stream",
     "text": [
      "False\n",
      "True\n",
      "False\n",
      "1 1\n",
      "2601528732848 2601528733040\n"
     ]
    }
   ],
   "source": [
    "a = 1\n",
    "b = 1.0\n",
    "\n",
    "c = 2j\n",
    "d = 2j\n",
    "\n",
    "print(a is b)\n",
    "print(a == b)\n",
    "print(c is d)\n",
    "\n",
    "print(hash(a), hash(b))\n",
    "print(id(c), id(d))"
   ]
  },
  {
   "cell_type": "markdown",
   "metadata": {},
   "source": [
    "2.什么是Python中的自省？"
   ]
  },
  {
   "cell_type": "raw",
   "metadata": {},
   "source": [
    "内省 Introspection\n",
    "Python中的自省就是指在程序运行时，能够知道对象的相关信息\n",
    "比如isinstance(), issubclass(), dir(), callable(), type(), hasattr(), getattr()等函数\n"
   ]
  },
  {
   "cell_type": "code",
   "execution_count": 3,
   "metadata": {
    "ExecuteTime": {
     "end_time": "2019-05-12T02:56:04.416159Z",
     "start_time": "2019-05-12T02:56:04.276160Z"
    }
   },
   "outputs": [
    {
     "data": {
      "text/plain": [
       "['__class__',\n",
       " '__delattr__',\n",
       " '__dict__',\n",
       " '__dir__',\n",
       " '__doc__',\n",
       " '__eq__',\n",
       " '__format__',\n",
       " '__ge__',\n",
       " '__getattribute__',\n",
       " '__gt__',\n",
       " '__hash__',\n",
       " '__init__',\n",
       " '__init_subclass__',\n",
       " '__le__',\n",
       " '__lt__',\n",
       " '__module__',\n",
       " '__ne__',\n",
       " '__new__',\n",
       " '__reduce__',\n",
       " '__reduce_ex__',\n",
       " '__repr__',\n",
       " '__setattr__',\n",
       " '__sizeof__',\n",
       " '__str__',\n",
       " '__subclasshook__',\n",
       " '__weakref__',\n",
       " 'aaa']"
      ]
     },
     "execution_count": 3,
     "metadata": {},
     "output_type": "execute_result"
    },
    {
     "data": {
      "text/plain": [
       "True"
      ]
     },
     "execution_count": 3,
     "metadata": {},
     "output_type": "execute_result"
    },
    {
     "name": "stdout",
     "output_type": "stream",
     "text": [
      "-1\n"
     ]
    }
   ],
   "source": [
    "class A:\n",
    "    def aaa():\n",
    "        return -1\n",
    "\n",
    "dir(A)\n",
    "hasattr(A, 'aaa')\n",
    "print(getattr(A, 'aaa')())"
   ]
  },
  {
   "cell_type": "markdown",
   "metadata": {},
   "source": [
    "#### 3.Python中的高阶函数是指什么？"
   ]
  },
  {
   "cell_type": "raw",
   "metadata": {},
   "source": [
    "接受函数为参数，或者把函数作为结果返回的函数是高阶函数。\n",
    "如下例子，sorted就是一个高阶函数"
   ]
  },
  {
   "cell_type": "code",
   "execution_count": 4,
   "metadata": {
    "ExecuteTime": {
     "end_time": "2019-05-12T02:56:04.512135Z",
     "start_time": "2019-05-12T02:56:04.424159Z"
    }
   },
   "outputs": [
    {
     "data": {
      "text/plain": [
       "['fig', 'apple', 'cherry', 'banana', 'raspberry', 'strawberry']"
      ]
     },
     "execution_count": 4,
     "metadata": {},
     "output_type": "execute_result"
    }
   ],
   "source": [
    "# 根据单词长度给一个列表排序\n",
    "\n",
    "fruits = ['strawberry', 'fig', 'apple', 'cherry', 'raspberry', 'banana']\n",
    "\n",
    "sorted(fruits, key=len)"
   ]
  },
  {
   "cell_type": "markdown",
   "metadata": {},
   "source": [
    "#### 4. Python类中有哪些的成员，如何分类他们，他们各自又有哪些用途？"
   ]
  },
  {
   "cell_type": "raw",
   "metadata": {},
   "source": [
    "Python类的成员可以分为三类：字段、方法和属性\n",
    "\n",
    "字段分为静态字段和普通字段。\n",
    "普通字段需要通过对象来访问，静态字段可通过类访问。\n",
    "\n",
    "方法分为普通方法、静态方法和类方法\n",
    "普通方法：由对象调用；至少一个self参数；执行普通方法时，自动将调用该方法的对象赋值给self；\n",
    "类方法：由类调用； 至少一个cls参数；执行类方法时，自动将调用该方法的类复制给cls；\n",
    "静态方法：由类调用；无默认参数\n",
    "\n",
    "属性，是字段化的方法。注意以下三点：\n",
    "定义时，在普通方法的基础上添加 @property 装饰器；\n",
    "定义时，属性仅有一个self参数\n",
    "调用时，无需括号\n",
    "\n",
    "对于每一个类的成员而言都有两种形式：公有成员和私有成员\n"
   ]
  },
  {
   "cell_type": "code",
   "execution_count": 5,
   "metadata": {
    "ExecuteTime": {
     "end_time": "2019-05-12T02:56:04.632133Z",
     "start_time": "2019-05-12T02:56:04.520159Z"
    }
   },
   "outputs": [
    {
     "name": "stdout",
     "output_type": "stream",
     "text": [
      "['red', 'black']\n",
      "[1, 2]\n",
      "普通方法\n",
      "类方法\n",
      "静态方法\n"
     ]
    }
   ],
   "source": [
    "class Poker:\n",
    "    # 静态字段\n",
    "    color = [\"red\", \"black\"]\n",
    "    def __init__(self, cards):\n",
    "        # 普通字段\n",
    "        self.cards = cards\n",
    "    \n",
    "    def play(self):\n",
    "        print('普通方法')\n",
    "    \n",
    "    @classmethod\n",
    "    def class_func(cls):\n",
    "        print(\"类方法\")\n",
    "    \n",
    "    @staticmethod\n",
    "    def static_func():\n",
    "        print(\"静态方法\")\n",
    "    \n",
    "p = Poker([1,2])\n",
    "print(Poker.color)\n",
    "print(p.cards)\n",
    "p.play()\n",
    "Poker.class_func()\n",
    "Poker.static_func()"
   ]
  },
  {
   "cell_type": "code",
   "execution_count": 6,
   "metadata": {
    "ExecuteTime": {
     "end_time": "2019-05-12T02:56:04.728153Z",
     "start_time": "2019-05-12T02:56:04.640157Z"
    }
   },
   "outputs": [
    {
     "name": "stdout",
     "output_type": "stream",
     "text": [
      "@property\n",
      "@peice.setter\n",
      "123\n",
      "@price.deleter\n"
     ]
    }
   ],
   "source": [
    "# ####定义####\n",
    "class Goods(object):\n",
    "    \n",
    "    @property\n",
    "    def price(self):\n",
    "        print(\"@property\")\n",
    "        \n",
    "    @price.setter\n",
    "    def price(self, value):\n",
    "        print(\"@peice.setter\")\n",
    "        print(value)\n",
    "        \n",
    "    @price.deleter\n",
    "    def price(self):\n",
    "        print('@price.deleter')\n",
    "######调用#####\n",
    "obj = Goods()\n",
    "# 自动执行@property修饰的price方法，并获取方法的返回值\n",
    "obj.price\n",
    "# 自动执行 @price.setter修饰的price方法，并将123赋值给方法的参数\n",
    "obj.price = 123\n",
    "# 自动执行@price.delete修饰的price方法\n",
    "del obj.price\n"
   ]
  },
  {
   "cell_type": "markdown",
   "metadata": {},
   "source": [
    "#### 5 Python中列表，元组的相同之处及区别都有哪些？集合与字典呢？"
   ]
  },
  {
   "cell_type": "raw",
   "metadata": {},
   "source": [
    "列表和元组\n",
    "相同之处：是任意对象的有序集合。可通过索引读取\n",
    "不同之处：列表是可变的，元组不可变\n",
    "\n",
    "集合和字典\n",
    "相同之处: 是任意对象的无序集合。原理都是利用散列表实现，查找复杂度O(1)。key值是不可变对象。\n",
    "不同之处：字典是键值对的集合，可通过key获取value。集合仅含有键。\n"
   ]
  },
  {
   "cell_type": "code",
   "execution_count": 7,
   "metadata": {
    "ExecuteTime": {
     "end_time": "2019-05-12T02:56:08.084404Z",
     "start_time": "2019-05-12T02:56:04.736155Z"
    }
   },
   "outputs": [
    {
     "name": "stdout",
     "output_type": "stream",
     "text": [
      "Wall time: 440 ms\n"
     ]
    },
    {
     "data": {
      "text/plain": [
       "False"
      ]
     },
     "execution_count": 7,
     "metadata": {},
     "output_type": "execute_result"
    },
    {
     "name": "stdout",
     "output_type": "stream",
     "text": [
      "Wall time: 0 ns\n"
     ]
    },
    {
     "data": {
      "text/plain": [
       "False"
      ]
     },
     "execution_count": 7,
     "metadata": {},
     "output_type": "execute_result"
    }
   ],
   "source": [
    "lst = list(range(10000000))\n",
    "s = set(lst)\n",
    "\n",
    "%time 1000000000000001 in lst\n",
    "%time 1000000000000001 in s"
   ]
  },
  {
   "cell_type": "markdown",
   "metadata": {},
   "source": [
    "#### 6.尝试简述一下什么是Python类中的数据封装，以及封装的意义？ "
   ]
  },
  {
   "cell_type": "raw",
   "metadata": {
    "ExecuteTime": {
     "end_time": "2019-05-11T14:47:38.131251Z",
     "start_time": "2019-05-11T14:47:37.959253Z"
    }
   },
   "source": [
    "封装（Encapsulation）是面向对象的三大特征之一（另外两个是继承和多态）。\n",
    "它指的是将对象的状态信息隐藏在对象内部，不允许外部程序直接访问对象内部信息，而是通过该类所提供的方法来实现对内部信息的操作和访问\n",
    "\n",
    "对一个类或对象实现良好的封装，可以达到以下目的：\n",
    "隐藏类的实现细节。\n",
    "让使用者只能通过事先预定的方法来访问数据，从而可以在该方法里加入控制逻辑，限制对属性的不合理访问。\n",
    "可进行数据检查，从而有利于保证对象信息的完整性。\n",
    "便于修改，提高代码的可维护性。"
   ]
  },
  {
   "cell_type": "markdown",
   "metadata": {},
   "source": [
    "#### 7.解释下Python中的LEGB规则 ？ "
   ]
  },
  {
   "cell_type": "raw",
   "metadata": {},
   "source": [
    "LEGB含义解释：\n",
    "L-Local(function)；函数内的名字空间\n",
    "E-Enclosing function locals；外部嵌套函数的名字空间(例如closure)\n",
    "G-Global(module)；函数定义所在模块（文件）的名字空间\n",
    "B-Builtin(Python)；Python内置模块的名字空间\n",
    "\n",
    "\n",
    "Python的命名空间是一个字典，字典内保存了变量名称与对象之间的映射关系，因此，查找变量名就是在命名空间字典中查找键-值对。\n",
    "Python有多个命名空间，因此，需要有规则来规定，按照怎样的顺序来查找命名空间，LEGB就是用来规定命名空间查找顺序的规则。\n",
    "\n",
    "LEGB规定了查找一个名称的顺序为：local-->enclosing function locals-->global-->builtin\n"
   ]
  },
  {
   "cell_type": "code",
   "execution_count": 8,
   "metadata": {
    "ExecuteTime": {
     "end_time": "2019-05-12T02:56:08.220352Z",
     "start_time": "2019-05-12T02:56:08.092360Z"
    }
   },
   "outputs": [
    {
     "name": "stdout",
     "output_type": "stream",
     "text": [
      "locals  3\n",
      "enclosing function locals  2\n",
      "global  3\n"
     ]
    }
   ],
   "source": [
    "x = 1 \n",
    "\n",
    "def foo():\n",
    "    x = 2 \n",
    "    def innerfoo():\n",
    "        global x\n",
    "        x = 3               \n",
    "        print('locals ', x)\n",
    "    innerfoo()\n",
    "    print('enclosing function locals ', x)\n",
    "\n",
    "foo()\n",
    "print('global ', x)"
   ]
  },
  {
   "cell_type": "markdown",
   "metadata": {},
   "source": [
    "#### 8.谈谈您对Python中闭包的理解？"
   ]
  },
  {
   "cell_type": "raw",
   "metadata": {},
   "source": [
    "闭包将函数作为入参，是返回函数的函数。\n",
    "通过闭包可以方便的构造装饰器。\n",
    "如下是cnt_time是一个闭包"
   ]
  },
  {
   "cell_type": "code",
   "execution_count": 9,
   "metadata": {
    "ExecuteTime": {
     "end_time": "2019-05-12T02:56:10.484907Z",
     "start_time": "2019-05-12T02:56:08.228335Z"
    }
   },
   "outputs": [
    {
     "name": "stdout",
     "output_type": "stream",
     "text": [
      "function foo run 2133 ms\n"
     ]
    }
   ],
   "source": [
    "\n",
    "import time\n",
    "\n",
    "\n",
    "def cnt_time(fn):\n",
    "    func_name = fn.__name__\n",
    "    def wrapped(*args, **kwargs):\n",
    "        a = time.time()\n",
    "        res = fn(*args, **kwargs)\n",
    "        print(\"function %s run %s ms\" %(func_name, round((time.time() - a)*1000)))\n",
    "        return res\n",
    "    return wrapped\n",
    "\n",
    "@cnt_time\n",
    "def foo(n):\n",
    "    for i in range(n):\n",
    "        j = i + 1\n",
    "        \n",
    "foo(10000000)"
   ]
  },
  {
   "cell_type": "markdown",
   "metadata": {},
   "source": [
    "#### 9\t简述你理解 的Python中的数据描述符"
   ]
  },
  {
   "cell_type": "raw",
   "metadata": {},
   "source": [
    "描述符是表示对象属性的一个代理。当需要属性时，可通过描述符进行访问\n",
    "\n",
    "我们可以使用类方法创建描述符，也可以使用属性类型创建描述符。\n",
    "下面例子通过类方法创建描述符"
   ]
  },
  {
   "cell_type": "code",
   "execution_count": 10,
   "metadata": {
    "ExecuteTime": {
     "end_time": "2019-05-12T02:56:11.337476Z",
     "start_time": "2019-05-12T02:56:10.496935Z"
    }
   },
   "outputs": [
    {
     "name": "stdout",
     "output_type": "stream",
     "text": [
      "Setting...\n",
      "Geting...\n",
      "50\n",
      "Deleted...\n"
     ]
    }
   ],
   "source": [
    "class Int_validation:\n",
    "    \n",
    "    def __get__(self, instance, owner):\n",
    "        print(\"Geting...\")\n",
    "        return  self.value\n",
    "    \n",
    "    def __set__(self, instance, value):\n",
    "        print(\"Setting...\")\n",
    "        if isinstance(value,int) and 0<value<100:\n",
    "            self.value=value\n",
    "        else:\n",
    "            print(\"请输入合法的数字\")\n",
    "            self.value = -1\n",
    "            \n",
    "    def __delete__(self, instance):\n",
    "        del self.value\n",
    "        print(\"Deleted...\")\n",
    "\n",
    "\n",
    "class Student:\n",
    "    age=Int_validation()\n",
    "\n",
    "stu=Student()   \n",
    "stu.age=50\n",
    "print(stu.age)\n",
    "del stu.age\n",
    "\n",
    "# print(stu.age)\n"
   ]
  },
  {
   "cell_type": "markdown",
   "metadata": {},
   "source": [
    "#### 10.Python中的模块和包是什么，如何自定义并使用？"
   ]
  },
  {
   "cell_type": "raw",
   "metadata": {},
   "source": [
    "模块：为了使代码更容易维护，提高代码重用价值；\n",
    "可以将一组相关功能的代码写入一个单独的.py文件中。供别人导入使用。这个.py文件就被称作是一个模块\n",
    "\n",
    "包：包是一个有层次的文件目录结构，他由n个模块或者n个子包构成。\n",
    "包的具体表现形式：包含__init__.py文件的目录，这个目录下，一定有__init__.py文件和其他模块或子包\n",
    "\n",
    "\n",
    "包或模块的使用，利用import语句。\n",
    "具体使用可以分三种情况\n",
    "\n",
    "内建包（模块）的import\n",
    "第三方包（模块）的import\n",
    "自己开发的包（模块）的import\n",
    "\n",
    "其中，自己开发的包的import需要注意PYTHONPATH和路径的选择是否匹配。\n"
   ]
  },
  {
   "cell_type": "markdown",
   "metadata": {},
   "source": [
    "### 代码题(共十题，每题6分,共60分)"
   ]
  },
  {
   "cell_type": "markdown",
   "metadata": {},
   "source": [
    "#### 1. 创建一个函数，接收一个字符串参数，判断其做为Python标识符是否合法。\n",
    "\n",
    "具体要求： \n",
    "- 如果合法则输出 True，否则输出 False。\n",
    "- 如果该字符串与Python内置的关键字，或Bifs冲突，则打印'conflict'\n",
    "- 注:Python标识符的规则，关键字和Bifs可搜索得到"
   ]
  },
  {
   "cell_type": "code",
   "execution_count": 21,
   "metadata": {
    "ExecuteTime": {
     "end_time": "2019-05-13T13:58:50.913301Z",
     "start_time": "2019-05-13T13:58:50.908016Z"
    }
   },
   "outputs": [
    {
     "name": "stdout",
     "output_type": "stream",
     "text": [
      "if\n",
      "ok\n"
     ]
    }
   ],
   "source": [
    "import re\n",
    "pat = re.compile(r\"[A-Za-z_]\\w*\")\n",
    "gg = pat.search(\"2if\")\n",
    "if gg:\n",
    "    print(gg.group(0))\n",
    "    print(\"ok\")\n",
    "\n",
    "# import sys\n",
    "# sys.version\n"
   ]
  },
  {
   "cell_type": "code",
   "execution_count": 7,
   "metadata": {
    "ExecuteTime": {
     "end_time": "2019-05-13T13:42:43.740249Z",
     "start_time": "2019-05-13T13:42:43.724977Z"
    }
   },
   "outputs": [
    {
     "name": "stdout",
     "output_type": "stream",
     "text": [
      "conflict\n",
      "False\n",
      "conflict\n",
      "False\n"
     ]
    },
    {
     "ename": "TypeError",
     "evalue": "'_sre.SRE_Match' object is not subscriptable",
     "output_type": "error",
     "traceback": [
      "\u001b[0;31m---------------------------------------------------------------------------\u001b[0m",
      "\u001b[0;31mTypeError\u001b[0m                                 Traceback (most recent call last)",
      "\u001b[0;32m<ipython-input-7-015151bbf8b9>\u001b[0m in \u001b[0;36m<module>\u001b[0;34m\u001b[0m\n\u001b[1;32m     24\u001b[0m \u001b[0mprint\u001b[0m\u001b[0;34m(\u001b[0m\u001b[0mis_legitimate\u001b[0m\u001b[0;34m(\u001b[0m\u001b[0;34m\"if\"\u001b[0m\u001b[0;34m)\u001b[0m\u001b[0;34m)\u001b[0m\u001b[0;34m\u001b[0m\u001b[0m\n\u001b[1;32m     25\u001b[0m \u001b[0mprint\u001b[0m\u001b[0;34m(\u001b[0m\u001b[0mis_legitimate\u001b[0m\u001b[0;34m(\u001b[0m\u001b[0;34m\"all\"\u001b[0m\u001b[0;34m)\u001b[0m\u001b[0;34m)\u001b[0m\u001b[0;34m\u001b[0m\u001b[0m\n\u001b[0;32m---> 26\u001b[0;31m \u001b[0mprint\u001b[0m\u001b[0;34m(\u001b[0m\u001b[0mis_legitimate\u001b[0m\u001b[0;34m(\u001b[0m\u001b[0;34m\"2if\"\u001b[0m\u001b[0;34m)\u001b[0m\u001b[0;34m)\u001b[0m\u001b[0;34m\u001b[0m\u001b[0m\n\u001b[0m\u001b[1;32m     27\u001b[0m \u001b[0mprint\u001b[0m\u001b[0;34m(\u001b[0m\u001b[0mis_legitimate\u001b[0m\u001b[0;34m(\u001b[0m\u001b[0;34m\"_if\"\u001b[0m\u001b[0;34m)\u001b[0m\u001b[0;34m)\u001b[0m\u001b[0;34m\u001b[0m\u001b[0m\n\u001b[1;32m     28\u001b[0m \u001b[0mprint\u001b[0m\u001b[0;34m(\u001b[0m\u001b[0mis_legitimate\u001b[0m\u001b[0;34m(\u001b[0m\u001b[0;34m\"_if2\"\u001b[0m\u001b[0;34m)\u001b[0m\u001b[0;34m)\u001b[0m\u001b[0;34m\u001b[0m\u001b[0m\n",
      "\u001b[0;32m<ipython-input-7-015151bbf8b9>\u001b[0m in \u001b[0;36mis_legitimate\u001b[0;34m(word)\u001b[0m\n\u001b[1;32m      9\u001b[0m     \u001b[0mpat\u001b[0m \u001b[0;34m=\u001b[0m \u001b[0mre\u001b[0m\u001b[0;34m.\u001b[0m\u001b[0mcompile\u001b[0m\u001b[0;34m(\u001b[0m\u001b[0;34mr\"[A-Za-z_]\\w*\"\u001b[0m\u001b[0;34m)\u001b[0m\u001b[0;34m\u001b[0m\u001b[0m\n\u001b[1;32m     10\u001b[0m     \u001b[0mgroup\u001b[0m \u001b[0;34m=\u001b[0m \u001b[0mpat\u001b[0m\u001b[0;34m.\u001b[0m\u001b[0msearch\u001b[0m\u001b[0;34m(\u001b[0m\u001b[0mword\u001b[0m\u001b[0;34m)\u001b[0m\u001b[0;34m\u001b[0m\u001b[0m\n\u001b[0;32m---> 11\u001b[0;31m     \u001b[0;32mif\u001b[0m \u001b[0mgroup\u001b[0m \u001b[0;32mand\u001b[0m \u001b[0mlen\u001b[0m\u001b[0;34m(\u001b[0m\u001b[0mgroup\u001b[0m\u001b[0;34m[\u001b[0m\u001b[0;36m0\u001b[0m\u001b[0;34m]\u001b[0m\u001b[0;34m)\u001b[0m \u001b[0;34m==\u001b[0m \u001b[0mlen\u001b[0m\u001b[0;34m(\u001b[0m\u001b[0mword\u001b[0m\u001b[0;34m)\u001b[0m\u001b[0;34m:\u001b[0m\u001b[0;34m\u001b[0m\u001b[0m\n\u001b[0m\u001b[1;32m     12\u001b[0m         \u001b[0;32mreturn\u001b[0m \u001b[0;32mTrue\u001b[0m\u001b[0;34m\u001b[0m\u001b[0m\n\u001b[1;32m     13\u001b[0m     \u001b[0;32mreturn\u001b[0m \u001b[0;32mFalse\u001b[0m\u001b[0;34m\u001b[0m\u001b[0m\n",
      "\u001b[0;31mTypeError\u001b[0m: '_sre.SRE_Match' object is not subscriptable"
     ]
    }
   ],
   "source": [
    "import keyword\n",
    "import re\n",
    "\n",
    "\n",
    "def is_legitimate(word):\n",
    "    if word in keyword.kwlist or word in dir(__builtins__):\n",
    "        print(\"conflict\")\n",
    "        return False\n",
    "    pat = re.compile(r\"[A-Za-z_]\\w*\")\n",
    "    group = pat.search(word)\n",
    "    if group and len(group[0]) == len(word):\n",
    "        return True\n",
    "    return False\n",
    "\n",
    "\n",
    "def is_legitimate2(word):\n",
    "    if word in keyword.kwlist or word in dir(__builtins__):\n",
    "        print(\"conflict\")\n",
    "        return False\n",
    "    if word.isidentifier():\n",
    "        return True\n",
    "    return False\n",
    "\n",
    "print(is_legitimate(\"if\"))\n",
    "print(is_legitimate(\"all\"))\n",
    "print(is_legitimate(\"2if\"))\n",
    "print(is_legitimate(\"_if\"))\n",
    "print(is_legitimate(\"_if2\"))\n",
    "print(is_legitimate(\"_if!\"))"
   ]
  },
  {
   "cell_type": "markdown",
   "metadata": {},
   "source": [
    "#### 2.编写一个函数，能生成包含20个范围在0-999之间的随机整数的列表，然后将前10个元素升序排列，后10个元素降序排列，并分别打印输出"
   ]
  },
  {
   "cell_type": "code",
   "execution_count": 12,
   "metadata": {
    "ExecuteTime": {
     "end_time": "2019-05-12T02:56:11.581474Z",
     "start_time": "2019-05-12T02:56:11.497475Z"
    }
   },
   "outputs": [
    {
     "name": "stdout",
     "output_type": "stream",
     "text": [
      "[162, 716, 297, 640, 295, 889, 483, 163, 497, 110, 937, 69, 456, 594, 65, 801, 163, 608, 939, 819]\n",
      "[110, 162, 163, 295, 297, 483, 497, 640, 716, 889]\n",
      "[939, 937, 819, 801, 608, 594, 456, 163, 69, 65]\n"
     ]
    }
   ],
   "source": [
    "import random\n",
    "\n",
    "def gen_random():\n",
    "    rand_lst = [random.randint(0, 999) for _ in range(20)]\n",
    "    print(rand_lst)\n",
    "    print(sorted(rand_lst[:10]))\n",
    "    print(sorted(rand_lst[10:], reverse=True))\n",
    "\n",
    "    \n",
    "gen_random()"
   ]
  },
  {
   "cell_type": "markdown",
   "metadata": {},
   "source": [
    "#### 3.有一分数序列为：2/1，3/2，5/3，8/5，13/8，21/13,请使用Python代码生成这种规则的数列，并打印该数列的前30项的和"
   ]
  },
  {
   "cell_type": "code",
   "execution_count": 13,
   "metadata": {
    "ExecuteTime": {
     "end_time": "2019-05-12T02:56:12.041466Z",
     "start_time": "2019-05-12T02:56:11.589473Z"
    }
   },
   "outputs": [
    {
     "name": "stdout",
     "output_type": "stream",
     "text": [
      "48.84060068717216\n"
     ]
    }
   ],
   "source": [
    "def fib_ratio(n):\n",
    "    a, b = 1, 1\n",
    "    for _ in range(n):\n",
    "        a, b = a + b, a\n",
    "        yield a/b\n",
    "# s = [x for x in fib_ratio(1)]\n",
    "s = sum(x for x in fib_ratio(30))\n",
    "print(s)\n",
    "    "
   ]
  },
  {
   "cell_type": "markdown",
   "metadata": {},
   "source": [
    "#### 4. BMI编写\n",
    "身体质量指数（BMI）是根据人的体重和身高计算得出的一个数字，BMI是可靠的身体肥胖指标，其计算公式：BMI=Weight/High2，其中体重单位为公斤，身高单位为米。\n",
    "\n",
    "- 计算公式为：$BMI=体重（kg）÷身高^2（m）$\n",
    "\n",
    "- 提示用户输入体重（kg）和身高的数字(m)(注意单位），然后计算BMI。\n",
    "\n",
    "- 根据BMI指数范围，定义当前健康状态。BMI指数在18至25之间定义为健康的标准体重,小于该范围定义为偏瘦，超过该范围定义为偏重。\n",
    "\n",
    "- 将BMI指数和其所代表状态输出 \n",
    "\n",
    "\n"
   ]
  },
  {
   "cell_type": "code",
   "execution_count": 14,
   "metadata": {
    "ExecuteTime": {
     "end_time": "2019-05-12T02:56:21.927333Z",
     "start_time": "2019-05-12T02:56:12.053466Z"
    }
   },
   "outputs": [
    {
     "name": "stdout",
     "output_type": "stream",
     "text": [
      "输入身高，单位cm  177\n",
      "输入体重，单位kg  65\n",
      "健康\n"
     ]
    }
   ],
   "source": [
    "def bmi():\n",
    "    height = float(input(\"输入身高，单位cm  \")) / 100\n",
    "    weight = float(input(\"输入体重，单位kg  \"))\n",
    "    index = weight / (height*height)\n",
    "    if index < 18:\n",
    "        print(\"偏瘦\")\n",
    "    elif index < 25:\n",
    "        print(\"健康\")\n",
    "    else:\n",
    "        print(\"偏重\")\n",
    "bmi()"
   ]
  },
  {
   "cell_type": "markdown",
   "metadata": {},
   "source": [
    "#### 5.字符统计\n",
    "- 创建一个函数，接收字符串输入，分别统计出其中英文字母、空格、数字和其它字符的个数后打印。\n",
    "- 提示：\n",
    "  - ord('a') 能将字符 'a' 转化为 ASCII 码表上对应的数值，\n",
    "  - 例如，空格为32  \n",
    "  - 数字 0-9 对应的码值为 48-57\n",
    "  - 大写字母 A-Z 对应 65-90\n",
    "  - 小写字母 a-z 对应 97-122\n",
    "  - 比122高的都是其它。"
   ]
  },
  {
   "cell_type": "code",
   "execution_count": 15,
   "metadata": {
    "ExecuteTime": {
     "end_time": "2019-05-12T02:56:22.087334Z",
     "start_time": "2019-05-12T02:56:21.955332Z"
    }
   },
   "outputs": [
    {
     "data": {
      "text/plain": [
       "{'letter': 43, 'number': 5, 'others': 5, 'space': 2}"
      ]
     },
     "execution_count": 15,
     "metadata": {},
     "output_type": "execute_result"
    }
   ],
   "source": [
    "def calc_char(s):\n",
    "    dct = {\n",
    "        \"letter\": 0,\n",
    "        \"space\": 0,\n",
    "        \"number\": 0,\n",
    "        \"others\": 0\n",
    "    }\n",
    "    for c in s:\n",
    "        order = ord(c)\n",
    "        if 65 <= order <= 90 or 97 <= order <= 122:\n",
    "            dct[\"letter\"] += 1\n",
    "        elif order == 32:\n",
    "            dct[\"space\"] += 1\n",
    "        elif 48 <= order <= 57:\n",
    "            dct[\"number\"] += 1\n",
    "        else:\n",
    "            dct[\"others\"] += 1\n",
    "    return dct\n",
    "\n",
    "\n",
    "calc_char(\"oifgbuorbg0 ur-3jt04utggfb volsdj-eytg3rel,x;SNfheZW%fw\")"
   ]
  },
  {
   "cell_type": "markdown",
   "metadata": {
    "collapsed": true
   },
   "source": [
    "#### 6.创建一个函数，可以将去除给定列表中中相邻且重复的元素(只保留一个)后，打印输出结果。\n",
    "- 说明\n",
    "  - 输入参数为 l1=[1,2,3,4,4,4,4,4,4,5,6,6,8,8,12,12,12,12,13]\n",
    "  - 操作后，保证原有整体排序不变，仅处理相邻且重复的元素\n",
    "  - 请勿使用set，否则该题不计分。"
   ]
  },
  {
   "cell_type": "code",
   "execution_count": 1,
   "metadata": {
    "ExecuteTime": {
     "end_time": "2019-05-12T04:56:49.243337Z",
     "start_time": "2019-05-12T04:56:49.228425Z"
    }
   },
   "outputs": [
    {
     "name": "stdout",
     "output_type": "stream",
     "text": [
      "[]\n",
      "[1, 2, 3, 4, 5, 6, 8, 12, 13]\n",
      "[1]\n",
      "[1, 2, 3]\n"
     ]
    }
   ],
   "source": [
    "def remove_duplicate2(nums):\n",
    "    if not nums:\n",
    "        return []\n",
    "    i = 0\n",
    "    j = i + 1\n",
    "    new_nums = [nums[i]]\n",
    "    while j < len(nums):\n",
    "        while j < len(nums) and nums[i] == nums[j]:\n",
    "            j += 1\n",
    "        if j < len(nums):\n",
    "            new_nums.append(nums[j])\n",
    "        i = j\n",
    "        j = i + 1\n",
    "    return new_nums\n",
    "\n",
    "\n",
    "def remove_duplicate1(nums):\n",
    "    result = []\n",
    "    for num in nums:\n",
    "        if (len(result) == 0) or (num != result[-1]):\n",
    "            result.append(num)\n",
    "    return result\n",
    "\n",
    "\n",
    "def remove_duplicate(nums):\n",
    "    newTail = 0\n",
    "    for i in range(1, len(nums)):\n",
    "        if nums[i] != nums[newTail]:\n",
    "            newTail += 1\n",
    "            nums[newTail] = nums[i]\n",
    "    return nums[:newTail+1]\n",
    "\n",
    "print(remove_duplicate([]))\n",
    "print(remove_duplicate([1,2,3,4,4,4,4,4,4,5,6,6,8,8,12,12,12,12,13]))\n",
    "print(remove_duplicate([1,1,1]))\n",
    "print(remove_duplicate([1,1,2,2,3,3]))"
   ]
  },
  {
   "cell_type": "markdown",
   "metadata": {},
   "source": [
    "#### 7 \t创建一个函数，接收一个由整数组成的列表（需对输入列表做检查，长度最少为2,数据类型为整型），并检验后下列条件后输出：\n",
    "- 如列表是升序排列的,则输出\"ASC\";   \n",
    "- 如列表是降序排列的,则输出\"DESC\";   \n",
    "- 如列表无序或对象全部相等，则输出\"WRONG\""
   ]
  },
  {
   "cell_type": "code",
   "execution_count": 17,
   "metadata": {
    "ExecuteTime": {
     "end_time": "2019-05-12T02:56:22.559324Z",
     "start_time": "2019-05-12T02:56:22.303327Z"
    }
   },
   "outputs": [
    {
     "name": "stdout",
     "output_type": "stream",
     "text": [
      "asc\n",
      "desc\n",
      "asc\n",
      "desc\n",
      "wrong\n",
      "wrong\n",
      "wrong\n",
      "wrong\n"
     ]
    }
   ],
   "source": [
    "\n",
    "\n",
    "\n",
    "def check_list(nums):\n",
    "    if len(nums) < 2:\n",
    "        return \"wrong\"\n",
    "    if nums[0] < nums[1]:\n",
    "        asc_flag = 1\n",
    "    elif nums[0] == nums[1]:\n",
    "        asc_flag = 0\n",
    "    else:\n",
    "        asc_flag = -1\n",
    "        \n",
    "    if asc_flag == 1:\n",
    "        for i in range(1, len(nums)-1):\n",
    "            if nums[i] > nums[i+1]:\n",
    "                return \"wrong\"\n",
    "        return \"asc\"\n",
    "    elif asc_flag == -1:\n",
    "        for i in range(1, len(nums)-1):\n",
    "            if nums[i] < nums[i+1]:\n",
    "                return \"wrong\"\n",
    "        return \"desc\"\n",
    "    else:\n",
    "        return check_list(nums[2:])\n",
    "\n",
    "        \n",
    "        \n",
    "        \n",
    "print(check_list([1,2,3]))\n",
    "print(check_list([3,2]))\n",
    "print(check_list([1,2,2,3]))\n",
    "print(check_list([3,2,2,1]))\n",
    "\n",
    "print(check_list([3,2,2,3]))\n",
    "\n",
    "print(check_list([1,1,1]))\n",
    "\n",
    "print(check_list([1,2,2,1]))\n",
    "print(check_list([3]))"
   ]
  },
  {
   "cell_type": "markdown",
   "metadata": {},
   "source": [
    "#### 8.高阶函数综合运用\n",
    "\n",
    "l1=[1,3,6,8,10,11,17]\n",
    "\n",
    "请仅使用map,reduce,filter对上方数组依次进行如下三次操作：\n",
    "\n",
    "\n",
    "- 剔除掉所有的偶数后打印\n",
    "\n",
    "- 对剩下的数字每个数字进行平方后打印\n",
    "\n",
    "- 对数组求和后打印"
   ]
  },
  {
   "cell_type": "code",
   "execution_count": 18,
   "metadata": {
    "ExecuteTime": {
     "end_time": "2019-05-12T02:56:22.667300Z",
     "start_time": "2019-05-12T02:56:22.571327Z"
    }
   },
   "outputs": [
    {
     "name": "stdout",
     "output_type": "stream",
     "text": [
      "[1, 3, 11, 17]\n"
     ]
    }
   ],
   "source": [
    "#剔除掉所有的偶数后打印\n",
    "l1=[1,3,6,8,10,11,17]\n",
    "l2 = list(filter(lambda x: x%2 != 0, l1))\n",
    "print(l2)\n"
   ]
  },
  {
   "cell_type": "code",
   "execution_count": 19,
   "metadata": {
    "ExecuteTime": {
     "end_time": "2019-05-12T02:56:22.767325Z",
     "start_time": "2019-05-12T02:56:22.675323Z"
    }
   },
   "outputs": [
    {
     "name": "stdout",
     "output_type": "stream",
     "text": [
      "[1, 9, 121, 289]\n"
     ]
    }
   ],
   "source": [
    "#对剩下的数字每个数字进行平方后打印\n",
    "l3 = list(map(lambda x: x*x, l2))\n",
    "print(l3)\n"
   ]
  },
  {
   "cell_type": "code",
   "execution_count": 20,
   "metadata": {
    "ExecuteTime": {
     "end_time": "2019-05-12T02:56:22.871286Z",
     "start_time": "2019-05-12T02:56:22.775327Z"
    }
   },
   "outputs": [
    {
     "name": "stdout",
     "output_type": "stream",
     "text": [
      "420\n"
     ]
    }
   ],
   "source": [
    "#对数组求和后打印\n",
    "from functools import reduce\n",
    "s = reduce(lambda x, y: x+y, l3)\n",
    "print(s)\n"
   ]
  },
  {
   "cell_type": "markdown",
   "metadata": {},
   "source": [
    "#### 9.Python类设计\n",
    "设计一个公司类，完成以下要求，<font color=red>并实例化不同对象进行验证</font>\n",
    "\n",
    "类变量\n",
    " - 类下公司的总个数，类下实例的名称列表\n",
    "\n",
    "类方法\n",
    " - 返回公司类共有多少个公司实例\n",
    " - 返回公司类的公司实例有名称列表\n",
    "\n",
    "实例变量\n",
    "- 公司名，简介，利润，销售额，总成本，雇员姓名\n",
    "\n",
    "实例方法：\n",
    "- 招聘人才（每招一个人会有成本产生，影响该实例雇员列表，人数，总成本）\n",
    "- 解雇人员（每解雇一个人会有成本产生，影响该实例雇员列表，人数 ，总成本）\n",
    "- 公司广告推广(影响该实例总成本)\n",
    "- 交社保(按公司雇员总人数计算，影响该实例总成本)\n",
    "- 交税(按公司雇员总人数计算，影响该实例总成本)\n",
    "- 销售（按销售件数*价格计算销售额，利润按销售额*利润率进行计算利润。）\n",
    "- 获取公司雇员列表\n",
    "- 获取公司净利润"
   ]
  },
  {
   "cell_type": "code",
   "execution_count": 21,
   "metadata": {
    "ExecuteTime": {
     "end_time": "2019-05-12T02:56:24.064319Z",
     "start_time": "2019-05-12T02:56:22.879300Z"
    }
   },
   "outputs": [
    {
     "name": "stdout",
     "output_type": "stream",
     "text": [
      "['alice']\n",
      "727000\n",
      "1\n",
      "['aaa']\n",
      "['eric']\n",
      "227000\n",
      "2\n",
      "['aaa', 'bbb']\n"
     ]
    }
   ],
   "source": [
    "class Company(object):\n",
    "\n",
    "    company_cnt = 0\n",
    "    company_lst = []\n",
    "\n",
    "    def __new__(cls, *args, **kwargs):\n",
    "        cls.company_cnt += 1\n",
    "        return super(Company, cls).__new__(cls)\n",
    "\n",
    "    @classmethod\n",
    "    def get_company_count(cls):\n",
    "        print(cls.company_cnt)\n",
    "\n",
    "    @classmethod\n",
    "    def get_company_list(cls):\n",
    "        print(cls.company_lst)\n",
    "\n",
    "    def __init__(self, name, profit, income, cost, employee, headcount):\n",
    "        self.name = name\n",
    "        Company.company_lst.append(name)\n",
    "        self.profit = profit\n",
    "        self.income = income\n",
    "        self.cost = cost\n",
    "        self.employee = employee\n",
    "        self.headcount = headcount\n",
    "\n",
    "    def hire(self, person, salary):\n",
    "        self.headcount += 1\n",
    "        self.cost += salary\n",
    "        self.employee.append(person)\n",
    "\n",
    "    def fire(self, person, compensatory):\n",
    "        self.headcount -= 1\n",
    "        self.cost += compensatory\n",
    "        self.employee.remove(person)\n",
    "\n",
    "    def ad(self, fee):\n",
    "        self.cost += fee\n",
    "\n",
    "    def insure(self, fee_per_person):\n",
    "        self.cost += fee_per_person * self.headcount\n",
    "\n",
    "    def tax(self, tax_per_person):\n",
    "        self.cost += tax_per_person * self.headcount\n",
    "\n",
    "    def sale(self, quantity, price):\n",
    "        self.income += quantity* price\n",
    "\n",
    "    def get_employee(self):\n",
    "        print(self.employee)\n",
    "\n",
    "    def get_profit(self):\n",
    "        self.profit += self.income - self.cost\n",
    "        print(self.profit)\n",
    "\n",
    "a = Company(\"aaa\", 0, 0, 0, [], 0)\n",
    "a.hire(\"alice\", 100000)\n",
    "a.hire(\"bob\", 150000)\n",
    "a.ad(10000)\n",
    "a.insure(1000)\n",
    "a.tax(500)\n",
    "a.sale(10000, 100)\n",
    "a.fire(\"bob\", 10000)\n",
    "a.get_employee()\n",
    "a.get_profit()\n",
    "\n",
    "a.get_company_count()\n",
    "a.get_company_list()\n",
    "\n",
    "\n",
    "b = Company(\"bbb\", 0, 0, 0, [], 0)\n",
    "b.hire(\"tom\", 100000)\n",
    "b.hire(\"eric\", 150000)\n",
    "b.ad(10000)\n",
    "b.insure(1000)\n",
    "b.tax(500)\n",
    "b.sale(10000, 50)\n",
    "b.fire(\"tom\", 10000)\n",
    "b.get_employee()\n",
    "b.get_profit()\n",
    "\n",
    "b.get_company_count()\n",
    "b.get_company_list()\n"
   ]
  },
  {
   "cell_type": "markdown",
   "metadata": {
    "collapsed": true
   },
   "source": [
    "#### 10.结合PIL库，制作一个能生成4位随机数验证码图片的函数。"
   ]
  },
  {
   "cell_type": "code",
   "execution_count": 3,
   "metadata": {
    "ExecuteTime": {
     "end_time": "2019-05-13T11:42:52.737779Z",
     "start_time": "2019-05-13T11:42:52.563722Z"
    }
   },
   "outputs": [],
   "source": [
    "import random\n",
    "from PIL import Image, ImageFont, ImageDraw, ImageFilter\n",
    "\n",
    "# 随机数字\n",
    "def rndChar():\n",
    "    return chr(random.randint(48, 57))\n",
    "\n",
    "# 随机颜色1\n",
    "def rndColor():\n",
    "    return (random.randint(64, 255), random.randint(64, 255), random.randint(64, 255))\n",
    "\n",
    "# 随机颜色2\n",
    "def rndColor2():\n",
    "    return (random.randint(32, 127), random.randint(32, 127), random.randint(32, 127))\n",
    "\n",
    "# 240 x 60:\n",
    "width = 60 * 4\n",
    "height = 60\n",
    "image = Image.new('RGB', (width, height), (255, 255, 255))\n",
    "# 创建Font对象:\n",
    "font = ImageFont.truetype('simsun.ttf', 36)\n",
    "# 创建Draw对象:\n",
    "draw = ImageDraw.Draw(image)\n",
    "# 填充每个像素:\n",
    "for x in range(width):\n",
    "    for y in range(height):\n",
    "        draw.point((x, y), fill=rndColor())\n",
    "# 输出文字:\n",
    "for t in range(4):\n",
    "    draw.text((60 * t + 10, 10), rndChar(), font=font, fill=rndColor2())\n",
    "# 模糊:\n",
    "image = image.filter(ImageFilter.BLUR)\n",
    "image.save('code.jpg', 'jpeg')\n",
    "image.show()"
   ]
  },
  {
   "cell_type": "markdown",
   "metadata": {},
   "source": [
    "***\n",
    "<center><h1>####答卷结束####</h1></center>"
   ]
  },
  {
   "cell_type": "markdown",
   "metadata": {
    "collapsed": true
   },
   "source": [
    "### 本周课程意见反馈(非必答)\n",
    "请同学围绕以下两点进行回答：\n",
    "- 自身总结：您自己在本周课程的学习，收获，技能掌握等方面进行总结，包括自身在哪些方面存在哪些不足，欠缺，困惑。作为将来回顾学习路径时的依据。\n",
    "- 课程反馈：也可以就知识点，进度，难易度，教学方式，考试方式等等进行意见反馈，督促我们进行更有效的改进，为大家提供更优质的服务。\n"
   ]
  },
  {
   "cell_type": "code",
   "execution_count": null,
   "metadata": {},
   "outputs": [],
   "source": []
  },
  {
   "cell_type": "code",
   "execution_count": null,
   "metadata": {},
   "outputs": [],
   "source": []
  }
 ],
 "metadata": {
  "kernelspec": {
   "display_name": "Python 3",
   "language": "python",
   "name": "python3"
  },
  "language_info": {
   "codemirror_mode": {
    "name": "ipython",
    "version": 3
   },
   "file_extension": ".py",
   "mimetype": "text/x-python",
   "name": "python",
   "nbconvert_exporter": "python",
   "pygments_lexer": "ipython3",
   "version": "3.5.2"
  },
  "toc": {
   "base_numbering": 1,
   "nav_menu": {},
   "number_sections": true,
   "sideBar": true,
   "skip_h1_title": false,
   "title_cell": "Table of Contents",
   "title_sidebar": "Contents",
   "toc_cell": false,
   "toc_position": {},
   "toc_section_display": true,
   "toc_window_display": false
  },
  "varInspector": {
   "cols": {
    "lenName": 16,
    "lenType": 16,
    "lenVar": 40
   },
   "kernels_config": {
    "python": {
     "delete_cmd_postfix": "",
     "delete_cmd_prefix": "del ",
     "library": "var_list.py",
     "varRefreshCmd": "print(var_dic_list())"
    },
    "r": {
     "delete_cmd_postfix": ") ",
     "delete_cmd_prefix": "rm(",
     "library": "var_list.r",
     "varRefreshCmd": "cat(var_dic_list()) "
    }
   },
   "oldHeight": 207,
   "position": {
    "height": "40px",
    "left": "1000px",
    "right": "20px",
    "top": "122px",
    "width": "350px"
   },
   "types_to_exclude": [
    "module",
    "function",
    "builtin_function_or_method",
    "instance",
    "_Feature"
   ],
   "varInspector_section_display": "none",
   "window_display": false
  }
 },
 "nbformat": 4,
 "nbformat_minor": 2
}
