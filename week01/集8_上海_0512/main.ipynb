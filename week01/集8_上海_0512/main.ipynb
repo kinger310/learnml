{
 "cells": [
  {
   "cell_type": "code",
   "execution_count": 1,
   "metadata": {
    "ExecuteTime": {
     "end_time": "2019-05-12T01:30:09.697075Z",
     "start_time": "2019-05-12T01:30:09.681001Z"
    }
   },
   "outputs": [],
   "source": [
    "# 通用测试函数\n",
    "def test(got, expected):\n",
    "    prefix = 'OK' if got == expected else 'X'\n",
    "    print('%s got: %s expected: %s' % (prefix, str(got), expected))"
   ]
  },
  {
   "cell_type": "code",
   "execution_count": 2,
   "metadata": {
    "ExecuteTime": {
     "end_time": "2019-05-12T01:30:23.648598Z",
     "start_time": "2019-05-12T01:30:23.608599Z"
    }
   },
   "outputs": [
    {
     "data": {
      "text/plain": [
       "[1, 2, 3, 4, 5]"
      ]
     },
     "execution_count": 2,
     "metadata": {},
     "output_type": "execute_result"
    }
   ],
   "source": [
    "s = '[1, 2, 3, 4, 5]'\n",
    "s = eval(s)\n",
    "s"
   ]
  },
  {
   "cell_type": "code",
   "execution_count": 3,
   "metadata": {
    "ExecuteTime": {
     "end_time": "2019-05-12T01:30:30.490415Z",
     "start_time": "2019-05-12T01:30:30.470416Z"
    }
   },
   "outputs": [
    {
     "data": {
      "text/plain": [
       "'abc100'"
      ]
     },
     "execution_count": 3,
     "metadata": {},
     "output_type": "execute_result"
    }
   ],
   "source": [
    "x = 100\n",
    "'abc' + str(x) # 必须强制转换类型"
   ]
  },
  {
   "cell_type": "code",
   "execution_count": 2,
   "metadata": {},
   "outputs": [
    {
     "data": {
      "text/plain": [
       "'\\n练习1：给定一个单词数组\\n- 单词第一个字母与最后一个字母相等串数组，统计符合如下标准的单词的个数\\n- 单词长度大于等于2\\n'"
      ]
     },
     "execution_count": 2,
     "metadata": {},
     "output_type": "execute_result"
    }
   ],
   "source": [
    "'''\n",
    "练习1：给定一个单词数组，统计符合如下标准的单词的个数：\n",
    "- 单词第一个字母与最后一个字母相等，\n",
    "- 单词长度大于等于2\n",
    "'''"
   ]
  },
  {
   "cell_type": "code",
   "execution_count": 3,
   "metadata": {},
   "outputs": [
    {
     "name": "stdout",
     "output_type": "stream",
     "text": [
      "OK got: 3 expected: 3\n",
      "OK got: 2 expected: 2\n",
      "OK got: 1 expected: 1\n"
     ]
    }
   ],
   "source": [
    "def match_ends(words):\n",
    "    count = 0\n",
    "    for word in words:\n",
    "        if (len(word) >= 2) and (word[0] == word[-1]):\n",
    "            count += 1\n",
    "    return count\n",
    "    \n",
    "test(match_ends(['aba', 'xyz', 'aa', 'x', 'bbb']), 3)\n",
    "test(match_ends(['', 'x', 'xy', 'xyx', 'xx']), 2)\n",
    "test(match_ends(['aaa', 'be', 'abc', 'hello']), 1)"
   ]
  },
  {
   "cell_type": "code",
   "execution_count": 4,
   "metadata": {},
   "outputs": [
    {
     "data": {
      "text/plain": [
       "\"\\n练习2：给定一个字符串数组，按以下规则进行排序\\n- 'x'开头的单词在最前面单独排序\\n- 非'x'开头的单词在'x'开头的单词之后进行排序\\n\""
      ]
     },
     "execution_count": 4,
     "metadata": {},
     "output_type": "execute_result"
    }
   ],
   "source": [
    "'''\n",
    "练习2：给定一个字符串数组，按以下规则进行排序\n",
    "- 'x'开头的单词在最前面单独排序\n",
    "- 非'x'开头的单词在'x'开头的单词之后进行排序\n",
    "'''"
   ]
  },
  {
   "cell_type": "code",
   "execution_count": 5,
   "metadata": {},
   "outputs": [
    {
     "name": "stdout",
     "output_type": "stream",
     "text": [
      "OK got: ['xaa', 'xzz', 'axx', 'bbb', 'ccc'] expected: ['xaa', 'xzz', 'axx', 'bbb', 'ccc']\n",
      "OK got: ['xaa', 'xcc', 'aaa', 'bbb', 'ccc'] expected: ['xaa', 'xcc', 'aaa', 'bbb', 'ccc']\n",
      "OK got: ['xanadu', 'xyz', 'aardvark', 'apple', 'mix'] expected: ['xanadu', 'xyz', 'aardvark', 'apple', 'mix']\n"
     ]
    }
   ],
   "source": [
    "def front_x(words):\n",
    "    x_list = []\n",
    "    other_list = []\n",
    "    for word in words:\n",
    "        if word.startswith('x'):\n",
    "            x_list.append(word)\n",
    "        else:\n",
    "            other_list.append(word)\n",
    "    return sorted(x_list) + sorted(other_list)\n",
    "\n",
    "test(front_x(['bbb', 'ccc', 'axx', 'xzz', 'xaa']), \\\n",
    "             ['xaa', 'xzz', 'axx', 'bbb', 'ccc'])\n",
    "test(front_x(['ccc', 'bbb', 'aaa', 'xcc', 'xaa']), \\\n",
    "             ['xaa', 'xcc', 'aaa', 'bbb', 'ccc'])\n",
    "test(front_x(['mix', 'xyz', 'apple', 'xanadu', 'aardvark']), \\\n",
    "             ['xanadu', 'xyz', 'aardvark', 'apple', 'mix'])"
   ]
  },
  {
   "cell_type": "code",
   "execution_count": 6,
   "metadata": {
    "ExecuteTime": {
     "end_time": "2019-05-12T01:44:22.115014Z",
     "start_time": "2019-05-12T01:44:22.043015Z"
    }
   },
   "outputs": [
    {
     "name": "stdout",
     "output_type": "stream",
     "text": [
      "0 6\n",
      "0 6\n",
      "2 5\n",
      "['xd', 'xa', 'xc', 'xb', 'yc', 'yc', 'ya']\n"
     ]
    }
   ],
   "source": [
    "# x开头的字符串排在非x开头的字符串前面\n",
    "def sort_words(words):\n",
    "    start = 0\n",
    "    end = len(words) - 1\n",
    "    while start < end:\n",
    "        print(start, end)\n",
    "        while (start < end) and words[start].startswith('x'):\n",
    "            start += 1\n",
    "        while (start < end) and (not words[end].startswith('x')):\n",
    "            end -= 1\n",
    "        if start < end:\n",
    "            words[start], words[end] = words[end], words[start]\n",
    "\n",
    "words = ['ya', 'xa', 'yc', 'xb', 'yc', 'xc', 'xd']\n",
    "sort_words(words)\n",
    "print(words)"
   ]
  },
  {
   "cell_type": "code",
   "execution_count": 5,
   "metadata": {},
   "outputs": [
    {
     "name": "stdout",
     "output_type": "stream",
     "text": [
      "1864747829376\n",
      "1864748581416\n",
      "Xbcdefg\n",
      "X,b,c,d,e,f,g\n"
     ]
    }
   ],
   "source": [
    "word = 'Abcdefg'\n",
    "print(id(word))\n",
    "wl = list(word)\n",
    "wl[0] = 'X'\n",
    "word = ''.join(wl)\n",
    "print(id(word))\n",
    "print(word)\n",
    "word = ','.join(wl)\n",
    "print(word)"
   ]
  },
  {
   "cell_type": "code",
   "execution_count": 7,
   "metadata": {},
   "outputs": [
    {
     "data": {
      "text/plain": [
       "[1, 2, 3, 4, 5, 6, 7, 8]"
      ]
     },
     "execution_count": 7,
     "metadata": {},
     "output_type": "execute_result"
    }
   ],
   "source": [
    "s = set([1, 2, 3, 4, 5, 6, 6, 7, 8, 8])\n",
    "l = list(s)\n",
    "l"
   ]
  },
  {
   "cell_type": "code",
   "execution_count": 9,
   "metadata": {},
   "outputs": [
    {
     "data": {
      "text/plain": [
       "['abc', 'def', 'ghi']"
      ]
     },
     "execution_count": 9,
     "metadata": {},
     "output_type": "execute_result"
    }
   ],
   "source": [
    "s = 'abc,+def,+ghi'\n",
    "l = s.split(',+')\n",
    "l"
   ]
  },
  {
   "cell_type": "code",
   "execution_count": 8,
   "metadata": {},
   "outputs": [
    {
     "name": "stdout",
     "output_type": "stream",
     "text": [
      "http://www.baidu.com\n",
      "https://www.sina.com\n"
     ]
    }
   ],
   "source": [
    "urls = ['http://www.baidu.com/?par=xxx', 'https://www.sina.com/news']\n",
    "for url in urls:\n",
    "    parts = url.split('://')\n",
    "    prefix = parts[0]\n",
    "    domain = parts[1].split('/')[0]\n",
    "    # print(prefix, domain)\n",
    "    print('://'.join([prefix, domain]))"
   ]
  },
  {
   "cell_type": "code",
   "execution_count": 9,
   "metadata": {},
   "outputs": [
    {
     "name": "stdout",
     "output_type": "stream",
     "text": [
      "<class 'function'>\n",
      "72\n"
     ]
    }
   ],
   "source": [
    "f = lambda x, y: x * y\n",
    "'''\n",
    "def f(x, y):\n",
    "    return x * y\n",
    "'''\n",
    "print(type(f))\n",
    "print(f(8, 9))"
   ]
  },
  {
   "cell_type": "code",
   "execution_count": 10,
   "metadata": {},
   "outputs": [
    {
     "data": {
      "text/plain": [
       "'\\n练习3：给定一个数组，每个元素是一个元组（不可变数组），按元组最后一个元素的顺序进行排序。\\n'"
      ]
     },
     "execution_count": 10,
     "metadata": {},
     "output_type": "execute_result"
    }
   ],
   "source": [
    "'''\n",
    "练习3：给定一个数组，每个元素是一个元组（不可变数组），按元组最后一个元素的顺序进行排序。\n",
    "'''"
   ]
  },
  {
   "cell_type": "code",
   "execution_count": 7,
   "metadata": {
    "ExecuteTime": {
     "end_time": "2019-05-12T01:47:32.765422Z",
     "start_time": "2019-05-12T01:47:32.709432Z"
    }
   },
   "outputs": [
    {
     "name": "stdout",
     "output_type": "stream",
     "text": [
      "OK got: [(2, 1), (3, 2), (1, 3)] expected: [(2, 1), (3, 2), (1, 3)]\n",
      "OK got: [(3, 1), (1, 2), (2, 3)] expected: [(3, 1), (1, 2), (2, 3)]\n",
      "OK got: [(2, 2), (1, 3), (3, 4, 5), (1, 7)] expected: [(2, 2), (1, 3), (3, 4, 5), (1, 7)]\n"
     ]
    }
   ],
   "source": [
    "'''\n",
    "def sort_last(tuples):\n",
    "    return sorted(tuples, key=lambda t: t[-1])\n",
    "'''\n",
    "\n",
    "def last_item(t):\n",
    "    return t[-1]\n",
    "\n",
    "def sort_last(tuples):\n",
    "    return sorted(tuples, key=lambda x: x[-1])\n",
    "\n",
    "test(sort_last([(1, 3), (3, 2), (2, 1)]), \\\n",
    "               [(2, 1), (3, 2), (1, 3)])\n",
    "test(sort_last([(2, 3), (1, 2), (3, 1)]), \\\n",
    "               [(3, 1), (1, 2), (2, 3)])\n",
    "test(sort_last([(1, 7), (1, 3), (3, 4, 5), (2, 2)]), \\\n",
    "               [(2, 2), (1, 3), (3, 4, 5), (1, 7)])"
   ]
  },
  {
   "cell_type": "code",
   "execution_count": 12,
   "metadata": {},
   "outputs": [
    {
     "data": {
      "text/plain": [
       "'\\n练习4：数组如果有连续相等的元素，则删除只保留一个。\\n'"
      ]
     },
     "execution_count": 12,
     "metadata": {},
     "output_type": "execute_result"
    }
   ],
   "source": [
    "'''\n",
    "练习4：数组如果有连续相等的元素，则删除只保留一个。\n",
    "'''"
   ]
  },
  {
   "cell_type": "code",
   "execution_count": 13,
   "metadata": {},
   "outputs": [
    {
     "name": "stdout",
     "output_type": "stream",
     "text": [
      "OK got: [1, 2, 3] expected: [1, 2, 3]\n",
      "OK got: [2, 3] expected: [2, 3]\n",
      "OK got: [] expected: []\n"
     ]
    }
   ],
   "source": [
    "def remove_adjacent(nums):\n",
    "    result = []\n",
    "    for num in nums:\n",
    "        if (len(result) == 0) or (num != result[-1]):\n",
    "            result.append(num)\n",
    "    return result\n",
    "\n",
    "test(remove_adjacent([1, 2, 2, 3]), [1, 2, 3])\n",
    "test(remove_adjacent([2, 2, 3, 3, 3]), [2, 3])\n",
    "test(remove_adjacent([]), [])"
   ]
  },
  {
   "cell_type": "code",
   "execution_count": 14,
   "metadata": {},
   "outputs": [
    {
     "name": "stdout",
     "output_type": "stream",
     "text": [
      "1631680672\n",
      "<class 'int'>\n",
      "['__abs__', '__add__', '__and__', '__bool__', '__ceil__', '__class__', '__delattr__', '__dir__', '__divmod__', '__doc__', '__eq__', '__float__', '__floor__', '__floordiv__', '__format__', '__ge__', '__getattribute__', '__getnewargs__', '__gt__', '__hash__', '__index__', '__init__', '__init_subclass__', '__int__', '__invert__', '__le__', '__lshift__', '__lt__', '__mod__', '__mul__', '__ne__', '__neg__', '__new__', '__or__', '__pos__', '__pow__', '__radd__', '__rand__', '__rdivmod__', '__reduce__', '__reduce_ex__', '__repr__', '__rfloordiv__', '__rlshift__', '__rmod__', '__rmul__', '__ror__', '__round__', '__rpow__', '__rrshift__', '__rshift__', '__rsub__', '__rtruediv__', '__rxor__', '__setattr__', '__sizeof__', '__str__', '__sub__', '__subclasshook__', '__truediv__', '__trunc__', '__xor__', 'bit_length', 'conjugate', 'denominator', 'from_bytes', 'imag', 'numerator', 'real', 'to_bytes']\n"
     ]
    }
   ],
   "source": [
    "x = 100\n",
    "print(id(x)) # 查看变量的hash\n",
    "print(type(x)) # 查看变量的类型\n",
    "print(dir(x)) # 查看变量的属性和方法"
   ]
  },
  {
   "cell_type": "code",
   "execution_count": 15,
   "metadata": {},
   "outputs": [
    {
     "data": {
      "text/plain": [
       "'\\n练习5：合并有序数组为新的有序数组。\\n'"
      ]
     },
     "execution_count": 15,
     "metadata": {},
     "output_type": "execute_result"
    }
   ],
   "source": [
    "'''\n",
    "练习5：合并有序数组为新的有序数组。\n",
    "'''"
   ]
  },
  {
   "cell_type": "code",
   "execution_count": 16,
   "metadata": {},
   "outputs": [
    {
     "name": "stdout",
     "output_type": "stream",
     "text": [
      "OK got: ['aa', 'bb', 'cc', 'xx', 'zz'] expected: ['aa', 'bb', 'cc', 'xx', 'zz']\n",
      "OK got: ['aa', 'bb', 'cc', 'xx', 'zz'] expected: ['aa', 'bb', 'cc', 'xx', 'zz']\n",
      "OK got: ['aa', 'aa', 'aa', 'bb', 'bb'] expected: ['aa', 'aa', 'aa', 'bb', 'bb']\n"
     ]
    }
   ],
   "source": [
    "def linear_merge(li1, li2):\n",
    "    result = []\n",
    "    '''\n",
    "    i, j = 0, 0\n",
    "    while (i < len(li1)) and (j < len(li2)):\n",
    "        if li1[i] <= li2[j]:\n",
    "            result.append(li1[i])\n",
    "            i += 1\n",
    "        else:\n",
    "            result.append(li2[j])\n",
    "            j += 1\n",
    "    if i < len(li1):\n",
    "        result.extend(li1[i:])\n",
    "    if j < len(li2):\n",
    "        result.extend(li2[j:])\n",
    "    '''\n",
    "    while len(li1) and len(li2):\n",
    "        if li1[0] <= li2[0]:\n",
    "            result.append(li1.pop(0))\n",
    "        else:\n",
    "            result.append(li2.pop(0))\n",
    "    result.extend(li1)\n",
    "    result.extend(li2)\n",
    "    return result\n",
    "\n",
    "test(linear_merge(['aa', 'xx', 'zz'], ['bb', 'cc']), \\\n",
    "                  ['aa', 'bb', 'cc', 'xx', 'zz'])\n",
    "test(linear_merge(['aa', 'xx'], ['bb', 'cc', 'zz']), \\\n",
    "                  ['aa', 'bb', 'cc', 'xx', 'zz'])\n",
    "test(linear_merge(['aa', 'aa'], ['aa', 'bb', 'bb']), \\\n",
    "                  ['aa', 'aa', 'aa', 'bb', 'bb'])"
   ]
  },
  {
   "cell_type": "code",
   "execution_count": 17,
   "metadata": {},
   "outputs": [
    {
     "name": "stdout",
     "output_type": "stream",
     "text": [
      "[1, 2, 3, 1, 2, 3, 4]\n"
     ]
    }
   ],
   "source": [
    "a = [1, 2, 3]\n",
    "b = set([1, 2, 3, 4])\n",
    "def extend(a, b):\n",
    "    for i in b:\n",
    "        a.append(i)\n",
    "extend(a, b)\n",
    "print(a)"
   ]
  },
  {
   "cell_type": "code",
   "execution_count": 18,
   "metadata": {},
   "outputs": [
    {
     "data": {
      "text/plain": [
       "'\\n练习6：利用yield模拟range实现\\n'"
      ]
     },
     "execution_count": 18,
     "metadata": {},
     "output_type": "execute_result"
    }
   ],
   "source": [
    "'''\n",
    "练习6：利用yield模拟range实现\n",
    "'''"
   ]
  },
  {
   "cell_type": "code",
   "execution_count": 17,
   "metadata": {},
   "outputs": [
    {
     "name": "stdout",
     "output_type": "stream",
     "text": [
      "10\n",
      "13\n",
      "16\n",
      "19\n",
      "<class 'StopIteration'>\n",
      "done\n"
     ]
    }
   ],
   "source": [
    "def myrange(start, end, steps=1):\n",
    "    i = start\n",
    "    while i < end:\n",
    "        yield i\n",
    "        i += steps\n",
    "    return 'done'\n",
    "\n",
    "'''\n",
    "for i in myrange(10, 20, 3):\n",
    "    print(i)\n",
    "'''\n",
    "f = myrange(10, 20, 3)\n",
    "try:\n",
    "    print(next(f))\n",
    "    print(next(f))\n",
    "    print(next(f))\n",
    "    print(next(f))\n",
    "    print(next(f))\n",
    "except Exception as e:\n",
    "    print(type(e))\n",
    "    print(str(e))"
   ]
  },
  {
   "cell_type": "code",
   "execution_count": 19,
   "metadata": {},
   "outputs": [
    {
     "name": "stdout",
     "output_type": "stream",
     "text": [
      "zzzzz\n"
     ]
    }
   ],
   "source": [
    "class MyClass:\n",
    "    def __init__(self, x):\n",
    "        self.x = x\n",
    "        \n",
    "    def __str__(self):\n",
    "        return str(self.x) * 5\n",
    "    \n",
    "c = MyClass('z')\n",
    "print(c)"
   ]
  },
  {
   "cell_type": "code",
   "execution_count": 20,
   "metadata": {},
   "outputs": [
    {
     "data": {
      "text/plain": [
       "'\\n练习7：利用yield模拟readlines实现\\n'"
      ]
     },
     "execution_count": 20,
     "metadata": {},
     "output_type": "execute_result"
    }
   ],
   "source": [
    "'''\n",
    "练习7：利用yield模拟readlines实现\n",
    "'''"
   ]
  },
  {
   "cell_type": "code",
   "execution_count": 18,
   "metadata": {},
   "outputs": [
    {
     "ename": "FileNotFoundError",
     "evalue": "[Errno 2] No such file or directory: 'small.txt'",
     "output_type": "error",
     "traceback": [
      "\u001b[1;31m---------------------------------------------------------------------------\u001b[0m",
      "\u001b[1;31mFileNotFoundError\u001b[0m                         Traceback (most recent call last)",
      "\u001b[1;32m<ipython-input-18-8ef94e7a7ea9>\u001b[0m in \u001b[0;36m<module>\u001b[1;34m()\u001b[0m\n\u001b[0;32m      5\u001b[0m         \u001b[0mline\u001b[0m \u001b[1;33m=\u001b[0m \u001b[0mf\u001b[0m\u001b[1;33m.\u001b[0m\u001b[0mreadline\u001b[0m\u001b[1;33m(\u001b[0m\u001b[1;33m)\u001b[0m\u001b[1;33m\u001b[0m\u001b[0m\n\u001b[0;32m      6\u001b[0m \u001b[1;33m\u001b[0m\u001b[0m\n\u001b[1;32m----> 7\u001b[1;33m \u001b[0mf\u001b[0m \u001b[1;33m=\u001b[0m \u001b[0mopen\u001b[0m\u001b[1;33m(\u001b[0m\u001b[1;34m'small.txt'\u001b[0m\u001b[1;33m,\u001b[0m \u001b[1;34m'r'\u001b[0m\u001b[1;33m)\u001b[0m\u001b[1;33m\u001b[0m\u001b[0m\n\u001b[0m\u001b[0;32m      8\u001b[0m \u001b[1;32mtry\u001b[0m\u001b[1;33m:\u001b[0m\u001b[1;33m\u001b[0m\u001b[0m\n\u001b[0;32m      9\u001b[0m     \u001b[1;32mfor\u001b[0m \u001b[0mline\u001b[0m \u001b[1;32min\u001b[0m \u001b[0mreadlines\u001b[0m\u001b[1;33m(\u001b[0m\u001b[0mf\u001b[0m\u001b[1;33m)\u001b[0m\u001b[1;33m:\u001b[0m\u001b[1;33m\u001b[0m\u001b[0m\n",
      "\u001b[1;31mFileNotFoundError\u001b[0m: [Errno 2] No such file or directory: 'small.txt'"
     ]
    }
   ],
   "source": [
    "def readlines(f):\n",
    "    line = f.readline()\n",
    "    while line:\n",
    "        yield line.strip()\n",
    "        line = f.readline()\n",
    "\n",
    "f = open('small.txt', 'r')\n",
    "try:\n",
    "    for line in readlines(f):\n",
    "        print(line)\n",
    "except:\n",
    "    pass\n",
    "finally:\n",
    "    if f:\n",
    "        f.close()\n",
    "\n",
    "'''\n",
    "with open('small.txt', 'r') as f:\n",
    "    for line in readlines(f):\n",
    "        print(line)\n",
    "'''"
   ]
  },
  {
   "cell_type": "code",
   "execution_count": 22,
   "metadata": {},
   "outputs": [
    {
     "data": {
      "text/plain": [
       "'\\n练习8：利用马尔科夫链模拟自动文本生成\\n'"
      ]
     },
     "execution_count": 22,
     "metadata": {},
     "output_type": "execute_result"
    }
   ],
   "source": [
    "'''\n",
    "练习8：利用马尔科夫链模拟自动文本生成\n",
    "'''"
   ]
  },
  {
   "cell_type": "code",
   "execution_count": 1,
   "metadata": {
    "ExecuteTime": {
     "end_time": "2019-05-12T03:14:28.852670Z",
     "start_time": "2019-05-12T03:14:28.591168Z"
    }
   },
   "outputs": [
    {
     "name": "stdout",
     "output_type": "stream",
     "text": [
      "{'': ['Amid'], 'Amid': ['rising'], 'rising': ['global'], 'global': ['trade'], 'trade': ['surplus', 'tensions', 'positively,', 'balance', 'rose', 'tensions,'], 'tensions': ['and'], 'and': ['thereby', 'import', 'world', 'domestic', 'is'], 'domestic': ['economic', 'producers,'], 'economic': ['rebalancing,', 'reasons.\"'], 'rebalancing,': ['the'], 'the': ['competitiveness', 'past', 'renminbi', 'evolution', 'export', 'World', 'value', 'rebalancing', 'economist', 'current', 'period', 'January-September'], 'World': ['Bank'], 'Bank': ['assesses', 'economist', 'lead'], 'assesses': ['the'], 'evolution': ['of'], 'of': [\"China's\", 'world', 'rebalancing', 'domestic', '1.44', 'the', 'rising'], \"China's\": ['trade', 'foreign', 'efforts'], 'foreign': ['trade', 'trade,'], 'positively,': ['and'], 'is': ['something', 'quite', '\"very', 'likely'], '\"very': ['impressed\"'], 'impressed\"': ['with'], 'with': [\"China's\"], 'efforts': ['to'], 'to': ['the', 'worry', 'boost', '22.28'], 'boost': ['foreign'], 'trade,': ['a'], 'a': ['steady', 'World', 'shrinking', 'trade', 'recent'], 'economist': ['for', 'said:', 'has'], 'has': ['said.'], 'said.': [\"China's\", '\"In'], 'rose': ['9.9'], '9.9': ['percent'], 'percent': ['year-on-year', 'in'], 'year-on-year': ['to'], '22.28': ['trillion'], 'trillion': ['yuan', 'yuan,'], 'yuan': ['($3.2'], '($3.2': ['trillion)'], 'trillion)': ['during'], 'during': ['the'], 'January-September': ['period.'], 'period.': ['Exports'], 'Exports': ['increased'], 'increased': ['6.5'], '6.5': ['percent'], 'in': ['preventing', 'a', 'the', 'time.\"'], 'period': ['while', 'of'], 'while': ['imports'], 'imports': ['grew'], 'grew': ['14.1'], '14.1': ['percent,'], 'percent,': ['resulting'], 'resulting': ['in'], 'surplus': ['of'], '1.44': ['trillion'], 'yuan,': ['which'], 'which': ['narrowed'], 'narrowed': ['by'], 'by': ['28.3'], '28.3': ['percent.'], 'percent.': ['\"We'], '\"We': [\"don't\", 'do', 'think'], 'do': ['not'], 'not': ['see'], 'see': ['that'], 'that': ['it', 'as', 'a'], 'as': ['economic', 'an', '\"a', 'well'], 'an': ['increasingly', 'imbalance,\"'], 'imbalance,\"': ['John'], 'John': ['Litwack,'], 'Litwack,': ['World'], 'lead': ['economist'], 'for': ['China,', 'political', 'China'], 'China,': ['told'], 'told': ['Xinhua'], 'Xinhua': ['in'], 'recent': ['interview,'], 'interview,': ['referring'], 'referring': ['to'], 'export': ['and'], 'import': ['growth'], 'growth': ['rates.', 'of'], 'rates.': ['\"We'], 'think': ['that'], 'it': ['is'], 'quite': ['normal'], 'normal': ['at'], 'at': ['this'], 'this': ['is', 'point'], 'point': ['in'], 'time.\"': ['The'], 'The': ['rapid'], 'rapid': ['export-led'], 'export-led': ['growth'], 'past': ['relied'], 'relied': ['on'], 'on': ['China'], 'China': ['occupying', 'to', 'of'], 'occupying': ['an'], 'increasingly': ['larger'], 'larger': ['share'], 'share': ['of'], 'world': ['political', 'trade', 'exports,'], 'exports,': ['he'], 'he': ['said.', 'added.'], '\"In': ['the'], 'current': ['period', 'world'], 'rebalancing': ['and', 'process,'], 'tensions,': ['this', 'saying'], 'likely': ['no'], 'no': ['longer'], 'longer': ['feasible'], 'feasible': ['for'], 'political': ['as', 'situation'], 'well': ['as'], 'reasons.\"': ['Noting'], 'Noting': ['that'], 'steady': ['weakening'], 'weakening': ['of'], 'balance': ['as', 'can', 'is'], '\"a': ['natural'], 'natural': ['part\"'], 'part\"': ['of'], 'process,': ['the'], 'said:': ['\"We'], \"don't\": ['think'], 'shrinking': ['trade'], 'something': ['for'], 'worry': ['about'], 'about': ['right'], 'right': ['now.\"'], 'now.\"': ['A'], 'A': ['weaker'], 'weaker': ['trade'], 'can': ['even'], 'even': ['be'], 'be': ['ignored\".', 'helpful'], 'helpful': ['in'], 'preventing': ['the'], 'value': ['of'], 'renminbi': ['from'], 'from': ['becoming'], 'becoming': ['too'], 'too': ['strong'], 'strong': ['and'], 'thereby': ['hurting'], 'hurting': ['the'], 'competitiveness': ['of'], 'producers,': ['he'], 'added.': ['Meanwhile,'], 'Meanwhile,': ['Litwack'], 'Litwack': ['cautioned'], 'cautioned': ['China'], 'saying': ['\"the'], '\"the': ['current'], 'situation': ['cannot'], 'cannot': ['be']}\n",
      "global trade positively, and domestic producers, he added. Meanwhile, Litwack cautioned China occupying an imbalance,\" John Litwack, World Bank economist has said. \"In the competitiveness\n"
     ]
    }
   ],
   "source": [
    "import random\n",
    "\n",
    "def build_dict(filename):\n",
    "    di = {}\n",
    "    with open(filename, 'r') as f:\n",
    "        text = f.read()\n",
    "    words = text.split()\n",
    "    prev = ''\n",
    "    for word in words:\n",
    "        if prev not in di:\n",
    "            di[prev] = set([word])\n",
    "        else:\n",
    "            di[prev].add(word)\n",
    "        prev = word\n",
    "    for k, v in di.items():\n",
    "        di[k] = list(v)\n",
    "    return di\n",
    "\n",
    "def write_doc(di, word):\n",
    "    words = [word]\n",
    "    for i in range(1, 25):\n",
    "        '''\n",
    "        if word in di:\n",
    "            choices = di[word]\n",
    "        else:\n",
    "            choices = di['']\n",
    "        '''\n",
    "        choices = di[word] if word in di else di['']\n",
    "        word = random.choice(choices)\n",
    "        words.append(word)\n",
    "    print(' '.join(words))\n",
    "        \n",
    "    \n",
    "di = build_dict('trade.txt')\n",
    "print(di)\n",
    "write_doc(di, 'global')"
   ]
  },
  {
   "cell_type": "code",
   "execution_count": 24,
   "metadata": {},
   "outputs": [],
   "source": [
    "# 练习9：给出一串整数流和窗口大小，计算滑动窗口中所有整数的平均值。\n",
    "# 例子：\n",
    "# MovingAverage m = new MovingAverage(3);\n",
    "# m.next(1) = 1 // 返回 1.00000\n",
    "# m.next(10) = (1 + 10) / 2 // 返回 5.50000\n",
    "# m.next(3) = (1 + 10 + 3) / 3 // 返回 4.66667\n",
    "# m.next(5) = (10 + 3 + 5) / 3 // 返回 6.00000"
   ]
  },
  {
   "cell_type": "code",
   "execution_count": 6,
   "metadata": {},
   "outputs": [
    {
     "name": "stdout",
     "output_type": "stream",
     "text": [
      "0.0\n",
      "0.3333333333333333\n",
      "1.0\n",
      "2.0\n",
      "3.0\n",
      "4.0\n",
      "5.0\n",
      "6.0\n",
      "7.0\n",
      "8.0\n",
      "9.0\n",
      "10.0\n",
      "11.0\n",
      "12.0\n",
      "13.0\n",
      "14.0\n",
      "15.0\n",
      "16.0\n",
      "17.0\n",
      "18.0\n",
      "19.0\n",
      "20.0\n",
      "21.0\n",
      "22.0\n",
      "23.0\n",
      "24.0\n",
      "25.0\n",
      "26.0\n",
      "27.0\n",
      "28.0\n",
      "29.0\n",
      "30.0\n",
      "31.0\n",
      "32.0\n",
      "33.0\n",
      "34.0\n",
      "35.0\n",
      "36.0\n",
      "37.0\n",
      "38.0\n",
      "39.0\n",
      "40.0\n",
      "41.0\n",
      "42.0\n",
      "43.0\n",
      "44.0\n",
      "45.0\n",
      "46.0\n",
      "47.0\n",
      "48.0\n",
      "49.0\n",
      "50.0\n",
      "51.0\n",
      "52.0\n",
      "53.0\n",
      "54.0\n",
      "55.0\n",
      "56.0\n",
      "57.0\n",
      "58.0\n",
      "59.0\n",
      "60.0\n",
      "61.0\n",
      "62.0\n",
      "63.0\n",
      "64.0\n",
      "65.0\n",
      "66.0\n",
      "67.0\n",
      "68.0\n",
      "69.0\n",
      "70.0\n",
      "71.0\n",
      "72.0\n",
      "73.0\n",
      "74.0\n",
      "75.0\n",
      "76.0\n",
      "77.0\n",
      "78.0\n",
      "79.0\n",
      "80.0\n",
      "81.0\n",
      "82.0\n",
      "83.0\n",
      "84.0\n",
      "85.0\n",
      "86.0\n",
      "87.0\n",
      "88.0\n",
      "89.0\n",
      "90.0\n",
      "91.0\n",
      "92.0\n",
      "93.0\n",
      "94.0\n",
      "95.0\n",
      "96.0\n",
      "97.0\n",
      "98.0\n"
     ]
    }
   ],
   "source": [
    "class MovingAverage:\n",
    "    \"\"\"\n",
    "    @param: size: An integer\n",
    "    \"\"\"\n",
    "    def __init__(self, size):\n",
    "        # do intialization if necessary\n",
    "        self.size = size\n",
    "        self.queue = [0] * size\n",
    "        self.start = 0\n",
    "        self.total = 0\n",
    "\n",
    "    \"\"\"\n",
    "    @param: val: An integer\n",
    "    @return:  \n",
    "    \"\"\"\n",
    "    def next(self, val):\n",
    "        self.total += val\n",
    "        '''\n",
    "        if len(self.queue) == self.size: # 限制数组大小，实现更优雅。\n",
    "            self.total -= self.queue[self.start]\n",
    "            self.queue[self.start] = val\n",
    "            self.start += 1\n",
    "            self.start %= self.size\n",
    "        else:\n",
    "            self.queue.append(val)\n",
    "        '''\n",
    "        self.total -= self.queue[self.start]\n",
    "        self.queue[self.start] = val\n",
    "        self.start += 1\n",
    "        self.start %= self.size\n",
    "        return self.total / len(self.queue)\n",
    "    \n",
    "ma = MovingAverage(3)\n",
    "for i in range(100):\n",
    "    print(ma.next(i))"
   ]
  },
  {
   "cell_type": "code",
   "execution_count": 26,
   "metadata": {},
   "outputs": [
    {
     "data": {
      "text/plain": [
       "[7, 6, 5, 4, 3, 2, 1]"
      ]
     },
     "execution_count": 26,
     "metadata": {},
     "output_type": "execute_result"
    }
   ],
   "source": [
    "a = [1, 2, 3, 4, 5, 6, 7]\n",
    "a[::-1] # 利用切片反转数组"
   ]
  },
  {
   "cell_type": "code",
   "execution_count": 27,
   "metadata": {},
   "outputs": [
    {
     "data": {
      "text/plain": [
       "[0, 0, 0, 0, 0, 1, 1, 1, 1, 1]"
      ]
     },
     "execution_count": 27,
     "metadata": {},
     "output_type": "execute_result"
    }
   ],
   "source": [
    "[0] * 5 + [1] * 5 # 快速生成数组"
   ]
  },
  {
   "cell_type": "code",
   "execution_count": 28,
   "metadata": {},
   "outputs": [
    {
     "data": {
      "text/plain": [
       "[1, 4, 9, 16, 25]"
      ]
     },
     "execution_count": 28,
     "metadata": {},
     "output_type": "execute_result"
    }
   ],
   "source": [
    "a = [1, 2, 3, 4, 5]\n",
    "[i * i for i in a] # 列表推导"
   ]
  },
  {
   "cell_type": "code",
   "execution_count": 29,
   "metadata": {},
   "outputs": [
    {
     "data": {
      "text/plain": [
       "[0, 105, 210, 315, 420, 525, 630, 735, 840, 945]"
      ]
     },
     "execution_count": 29,
     "metadata": {},
     "output_type": "execute_result"
    }
   ],
   "source": [
    "[i for i in range(1000) if (i % 3 == 0) and (i % 5 == 0) and (i % 7 == 0)] # 列表推导加筛选条件"
   ]
  },
  {
   "cell_type": "code",
   "execution_count": 30,
   "metadata": {},
   "outputs": [
    {
     "name": "stdout",
     "output_type": "stream",
     "text": [
      "1534292030024\n",
      "1534292030088\n",
      "1534291987400\n",
      "[[0, 0, 0], [0, 100, 0], [0, 0, 0]]\n"
     ]
    }
   ],
   "source": [
    "# a = [[0, 0, 0]] * 3\n",
    "a = [[0, 0, 0] for i in range(3)] # 二维数组的快速初始化\n",
    "print(id(a[0]))\n",
    "print(id(a[1]))\n",
    "print(id(a[2]))\n",
    "a[1][1] = 100\n",
    "print(a)"
   ]
  },
  {
   "cell_type": "code",
   "execution_count": 31,
   "metadata": {},
   "outputs": [
    {
     "name": "stdout",
     "output_type": "stream",
     "text": [
      "399\n",
      "29900\n"
     ]
    }
   ],
   "source": [
    "def func(f, x, y): # 利用函数做参数\n",
    "    return f(x, y)\n",
    "\n",
    "print(func(lambda x, y: x + y, 100, 299))\n",
    "print(func(lambda x, y: x * y, 100, 299))"
   ]
  },
  {
   "cell_type": "code",
   "execution_count": 32,
   "metadata": {},
   "outputs": [
    {
     "name": "stdout",
     "output_type": "stream",
     "text": [
      "func\n",
      "<class 'tuple'>\n",
      "<class 'dict'>\n",
      "(100, 200, 300)\n",
      "{'x': 1, 'y': 2}\n"
     ]
    }
   ],
   "source": [
    "def func(*args, **kws):\n",
    "    print(type(args))\n",
    "    print(type(kws))\n",
    "    print(args)\n",
    "    print(kws)\n",
    "    \n",
    "def log(f, *args, **kws):\n",
    "    print(f.__name__)\n",
    "    f(*args, **kws)\n",
    "\n",
    "log(func, 100, 200, 300, x=1, y=2)"
   ]
  },
  {
   "cell_type": "code",
   "execution_count": 33,
   "metadata": {},
   "outputs": [
    {
     "name": "stdout",
     "output_type": "stream",
     "text": [
      "300\n",
      "500\n",
      "500\n",
      "700\n"
     ]
    }
   ],
   "source": [
    "def f(x, y): return x + y\n",
    "\n",
    "def high_f(f, x, y):\n",
    "    def wrapper():\n",
    "        return f(x, y)\n",
    "    return wrapper\n",
    "\n",
    "def partial_f(f, x): # 偏函数的实现\n",
    "    def wrapper(y):\n",
    "        return f(x,y)\n",
    "    return wrapper\n",
    "\n",
    "f1 = high_f(f, 100, 200)\n",
    "f2 = high_f(f, 200, 300)\n",
    "print(f1())\n",
    "print(f2())\n",
    "fp1 = partial_f(f, 200)\n",
    "print(fp1(300))\n",
    "print(fp1(500))"
   ]
  },
  {
   "cell_type": "code",
   "execution_count": 34,
   "metadata": {},
   "outputs": [
    {
     "name": "stdout",
     "output_type": "stream",
     "text": [
      "log fadd\n",
      "300\n",
      "log fmul\n",
      "20000\n"
     ]
    }
   ],
   "source": [
    "def log(f):\n",
    "    def wrapper(*args, **kws):\n",
    "        '''\n",
    "        print('log %s' % f.__name__)\n",
    "        return f(*args, **kws)\n",
    "        '''\n",
    "        r = f(*args, **kws)\n",
    "        print('log %s' % f.__name__)\n",
    "        return r\n",
    "    return wrapper\n",
    "\n",
    "@log\n",
    "def fadd(x, y): return x + y\n",
    "\n",
    "@log\n",
    "def fmul(x, y): return x * y\n",
    "\n",
    "# log_fadd = log(fadd)\n",
    "print(fadd(100, 200))\n",
    "print(fmul(100, 200))"
   ]
  },
  {
   "cell_type": "code",
   "execution_count": 35,
   "metadata": {},
   "outputs": [
    {
     "data": {
      "text/plain": [
       "'\\n练习9：动态添加属性统计递归调用次数\\n'"
      ]
     },
     "execution_count": 35,
     "metadata": {},
     "output_type": "execute_result"
    }
   ],
   "source": [
    "'''\n",
    "练习9：动态添加属性统计递归调用次数\n",
    "'''"
   ]
  },
  {
   "cell_type": "code",
   "execution_count": 7,
   "metadata": {},
   "outputs": [
    {
     "name": "stdout",
     "output_type": "stream",
     "text": [
      "3\n",
      "5\n"
     ]
    }
   ],
   "source": [
    "def fib(n):\n",
    "    # fib.times += 1\n",
    "    '''\n",
    "    if hasattr(fib, 'times'):\n",
    "        fib.times += 1\n",
    "    '''\n",
    "    times = getattr(fib, 'times', 0)\n",
    "    setattr(fib, 'times', times + 1)\n",
    "    if (n == 1) or (n == 2):\n",
    "        return 1\n",
    "    else:\n",
    "        return fib(n - 1) + fib(n - 2)\n",
    "\n",
    "# fib.times = 0\n",
    "print(fib(4))\n",
    "print(fib.times)"
   ]
  },
  {
   "cell_type": "code",
   "execution_count": 7,
   "metadata": {
    "scrolled": true
   },
   "outputs": [
    {
     "name": "stdout",
     "output_type": "stream",
     "text": [
      "55\n",
      "17\n"
     ]
    }
   ],
   "source": [
    "cache = {}\n",
    "def fib(n):\n",
    "    # fib.times += 1\n",
    "    '''\n",
    "    if hasattr(fib, 'times'):\n",
    "        fib.times += 1\n",
    "    '''\n",
    "    times = getattr(fib, 'times', 0)\n",
    "    setattr(fib, 'times', times + 1)\n",
    "    if (n == 1) or (n == 2):\n",
    "        return 1\n",
    "    if n in cache:\n",
    "        return cache[n]\n",
    "    else:\n",
    "        result = fib(n - 1) + fib(n - 2)\n",
    "        cache[n] = result\n",
    "        return result\n",
    "\n",
    "# fib.times = 0\n",
    "print(fib(10))\n",
    "print(fib.times)"
   ]
  },
  {
   "cell_type": "code",
   "execution_count": 8,
   "metadata": {},
   "outputs": [
    {
     "name": "stdout",
     "output_type": "stream",
     "text": [
      "55\n",
      "109\n"
     ]
    }
   ],
   "source": [
    "def fib(n):\n",
    "    fib.times += 1\n",
    "    if (n == 1) or (n == 2):\n",
    "        return 1\n",
    "    else:\n",
    "        return fib(n - 1) + fib(n - 2)\n",
    "\n",
    "fib.times = 0\n",
    "print(fib(10))\n",
    "print(fib.times)"
   ]
  },
  {
   "cell_type": "code",
   "execution_count": 38,
   "metadata": {},
   "outputs": [
    {
     "name": "stdout",
     "output_type": "stream",
     "text": [
      "1 2 100\n",
      "zzz\n",
      "xxx\n"
     ]
    }
   ],
   "source": [
    "class MyClass:\n",
    "    def __init__(self, x, y):\n",
    "        self.x = x\n",
    "        self.y = y\n",
    "\n",
    "a = MyClass(1, 2)\n",
    "b = MyClass(3, 4)\n",
    "a.z = 100 # 动态添加属性\n",
    "print(a.x, a.y, a.z)\n",
    "# print(b.z) # b没有z，报错！\n",
    "print(getattr(b, 'z', 'zzz'))\n",
    "setattr(b, 'z', 'xxx')\n",
    "print(b.z)"
   ]
  },
  {
   "cell_type": "code",
   "execution_count": 39,
   "metadata": {},
   "outputs": [
    {
     "name": "stdout",
     "output_type": "stream",
     "text": [
      "news\n",
      "news\n",
      "news\n",
      "news\n",
      "news\n"
     ]
    }
   ],
   "source": [
    "# 观察者模式，自己补全测试用例。\n",
    "class NewsCenter:\n",
    "    def __init__(self):\n",
    "        self.reporters = []\n",
    "        \n",
    "    def register(self, reporter):\n",
    "        self.reporters.append(reporter)\n",
    "            \n",
    "    def notify(self, message):\n",
    "        for reporter in self.reporters:\n",
    "            reporter.notify(message)\n",
    "            \n",
    "class Reporter:\n",
    "    def register(self, nc):\n",
    "        nc.register(self)\n",
    "        \n",
    "    def notify(self, message):\n",
    "        print(message)\n",
    "        \n",
    "reporters = [Reporter()] * 5\n",
    "nc = NewsCenter()\n",
    "for r in reporters:\n",
    "    r.register(nc)\n",
    "nc.notify('news')"
   ]
  },
  {
   "cell_type": "code",
   "execution_count": 40,
   "metadata": {},
   "outputs": [
    {
     "data": {
      "text/plain": [
       "'\\n练习10：map/reduce使用\\n'"
      ]
     },
     "execution_count": 40,
     "metadata": {},
     "output_type": "execute_result"
    }
   ],
   "source": [
    "'''\n",
    "练习10：map/reduce使用\n",
    "'''"
   ]
  },
  {
   "cell_type": "code",
   "execution_count": 41,
   "metadata": {},
   "outputs": [
    {
     "name": "stdout",
     "output_type": "stream",
     "text": [
      "[1, 4, 9, 16, 25]\n"
     ]
    }
   ],
   "source": [
    "def square(x): return x * x\n",
    "r = map(square, [1, 2, 3, 4, 5])\n",
    "print(list(r))"
   ]
  },
  {
   "cell_type": "code",
   "execution_count": 1,
   "metadata": {},
   "outputs": [
    {
     "data": {
      "text/plain": [
       "55"
      ]
     },
     "execution_count": 1,
     "metadata": {},
     "output_type": "execute_result"
    }
   ],
   "source": [
    "from functools import reduce\n",
    "\n",
    "r = reduce(lambda x, y: x + y, map(lambda x:x*x, [1, 2, 3, 4, 5]))\n",
    "r"
   ]
  },
  {
   "cell_type": "code",
   "execution_count": 43,
   "metadata": {},
   "outputs": [
    {
     "data": {
      "text/plain": [
       "100"
      ]
     },
     "execution_count": 43,
     "metadata": {},
     "output_type": "execute_result"
    }
   ],
   "source": [
    "x = 100\n",
    "y = 200\n",
    "x if x < y else y"
   ]
  },
  {
   "cell_type": "code",
   "execution_count": 44,
   "metadata": {},
   "outputs": [
    {
     "data": {
      "text/plain": [
       "[1, 4, 7]"
      ]
     },
     "execution_count": 44,
     "metadata": {},
     "output_type": "execute_result"
    }
   ],
   "source": [
    "r = map(min, [[1, 2, 3], [4, 5, 6], [7, 8, 9]])\n",
    "r = list(r)\n",
    "r"
   ]
  },
  {
   "cell_type": "code",
   "execution_count": 28,
   "metadata": {},
   "outputs": [
    {
     "data": {
      "text/plain": [
       "[1, 4, 7]"
      ]
     },
     "execution_count": 28,
     "metadata": {},
     "output_type": "execute_result"
    }
   ],
   "source": [
    "def mymap(f, li):\n",
    "    r = []\n",
    "    for i in li:\n",
    "        r.append(f(i))\n",
    "    return r\n",
    "\n",
    "r = mymap(min, [[1, 2, 3], [4, 5, 6], [7, 8, 9]])\n",
    "r"
   ]
  },
  {
   "cell_type": "code",
   "execution_count": 45,
   "metadata": {},
   "outputs": [
    {
     "data": {
      "text/plain": [
       "1"
      ]
     },
     "execution_count": 45,
     "metadata": {},
     "output_type": "execute_result"
    }
   ],
   "source": [
    "r = reduce(min, r)\n",
    "r"
   ]
  },
  {
   "cell_type": "code",
   "execution_count": 10,
   "metadata": {},
   "outputs": [],
   "source": [
    "import os\n",
    "import sys"
   ]
  },
  {
   "cell_type": "code",
   "execution_count": 11,
   "metadata": {
    "scrolled": true
   },
   "outputs": [
    {
     "name": "stdout",
     "output_type": "stream",
     "text": [
      "nt\n",
      "environ({'ALLUSERSPROFILE': 'C:\\\\ProgramData', 'APPDATA': 'C:\\\\Users\\\\Wangdi\\\\AppData\\\\Roaming', 'COMMONPROGRAMFILES': 'C:\\\\Program Files\\\\Common Files', 'COMMONPROGRAMFILES(X86)': 'C:\\\\Program Files (x86)\\\\Common Files', 'COMMONPROGRAMW6432': 'C:\\\\Program Files\\\\Common Files', 'COMPUTERNAME': 'WANGDI-PC', 'COMSPEC': 'C:\\\\WINDOWS\\\\system32\\\\cmd.exe', 'CONDA_DEFAULT_ENV': 'base', 'CONDA_PREFIX': 'D:\\\\Anaconda3', 'CONDA_PROMPT_MODIFIER': '(base) ', 'CONDA_PYTHON_EXE': 'D:\\\\Anaconda3\\\\python.exe', 'CONDA_SHLVL': '1', 'DRIVERDATA': 'C:\\\\Windows\\\\System32\\\\Drivers\\\\DriverData', 'FPS_BROWSER_APP_PROFILE_STRING': 'Internet Explorer', 'FPS_BROWSER_USER_PROFILE_STRING': 'Default', 'GUROBI_HOME': 'E:\\\\gurobi751\\\\win64\\\\bin', 'HOMEDRIVE': 'C:', 'HOMEPATH': '\\\\Users\\\\Wangdi', 'LOCALAPPDATA': 'C:\\\\Users\\\\Wangdi\\\\AppData\\\\Local', 'LOGONSERVER': '\\\\\\\\WANGDI-PC', 'NUMBER_OF_PROCESSORS': '4', 'ONEDRIVE': 'E:\\\\OneDrive', 'ONEDRIVECONSUMER': 'E:\\\\OneDrive', 'OS': 'Windows_NT', 'PATH': 'D:\\\\Anaconda3;D:\\\\Anaconda3\\\\Library\\\\mingw-w64\\\\bin;D:\\\\Anaconda3\\\\Library\\\\usr\\\\bin;D:\\\\Anaconda3\\\\Library\\\\bin;D:\\\\Anaconda3\\\\Scripts;D:\\\\Anaconda3\\\\bin;E:\\\\gurobi751\\\\win64\\\\bin;C:\\\\ProgramData\\\\Oracle\\\\Java\\\\javapath;C:\\\\WINDOWS\\\\system32;C:\\\\WINDOWS;C:\\\\WINDOWS\\\\System32\\\\Wbem;C:\\\\WINDOWS\\\\System32\\\\WindowsPowerShell\\\\v1.0\\\\;C:\\\\Program Files (x86)\\\\ATI Technologies\\\\ATI.ACE\\\\Core-Static;D:\\\\ProgramFiles\\\\mysql-5.7.15-winx64\\\\bin;C:\\\\Program Files\\\\MySQL\\\\MySQL Server 5.7\\\\bin;C:\\\\Program Files (x86)\\\\AMD\\\\ATI.ACE\\\\Core-Static;C:\\\\Program Files\\\\Git\\\\cmd;D:\\\\ProgramFiles\\\\nodejs\\\\;C:\\\\WINDOWS\\\\System32\\\\OpenSSH\\\\;D:\\\\ProgramFiles\\\\MicrosoftVSCode\\\\bin;C:\\\\Users\\\\Wangdi\\\\AppData\\\\Local\\\\Microsoft\\\\WindowsApps;C:\\\\Program Files\\\\MySQL\\\\MySQL Server 5.7\\\\bin;C:\\\\Users\\\\Wangdi\\\\AppData\\\\Local\\\\rodeo\\\\app-2.4.10\\\\bin;C:\\\\Users\\\\Wangdi\\\\AppData\\\\Roaming\\\\npm;C:\\\\Users\\\\Wangdi\\\\AppData\\\\Local\\\\atom\\\\bin;C:\\\\Users\\\\Wangdi\\\\AppData\\\\Local\\\\Microsoft\\\\WindowsApps;D:\\\\ProgramFiles\\\\MicrosoftVSCode\\\\bin;C:\\\\Program Files\\\\Java\\\\jdk1.8.0_101\\\\bin;D:\\\\ProgramFiles\\\\mingw-w64\\\\i686-6.3.0-posix-dwarf-rt_v5-rev1\\\\mingw32\\\\bin;D:\\\\Anaconda3;D:\\\\Anaconda3\\\\Scripts;', 'PATHEXT': '.COM;.EXE;.BAT;.CMD;.VBS;.VBE;.JS;.JSE;.WSF;.WSH;.MSC', 'PROCESSOR_ARCHITECTURE': 'AMD64', 'PROCESSOR_IDENTIFIER': 'AMD64 Family 21 Model 16 Stepping 1, AuthenticAMD', 'PROCESSOR_LEVEL': '21', 'PROCESSOR_REVISION': '1001', 'PROGRAMDATA': 'C:\\\\ProgramData', 'PROGRAMFILES': 'C:\\\\Program Files', 'PROGRAMFILES(X86)': 'C:\\\\Program Files (x86)', 'PROGRAMW6432': 'C:\\\\Program Files', 'PROMPT': '(base) $P$G', 'PSMODULEPATH': 'C:\\\\Program Files\\\\WindowsPowerShell\\\\Modules;C:\\\\WINDOWS\\\\system32\\\\WindowsPowerShell\\\\v1.0\\\\Modules', 'PUBLIC': 'C:\\\\Users\\\\Public', 'PYTHONIOENCODING': '936', 'SESSIONNAME': 'Console', 'SYSTEMDRIVE': 'C:', 'SYSTEMROOT': 'C:\\\\WINDOWS', 'TEMP': 'C:\\\\Users\\\\Wangdi\\\\AppData\\\\Local\\\\Temp', 'TMP': 'C:\\\\Users\\\\Wangdi\\\\AppData\\\\Local\\\\Temp', 'USERDOMAIN': 'WANGDI-PC', 'USERDOMAIN_ROAMINGPROFILE': 'WANGDI-PC', 'USERNAME': 'Wangdi', 'USERPROFILE': 'C:\\\\Users\\\\Wangdi', 'VS140COMNTOOLS': 'C:\\\\Program Files (x86)\\\\Microsoft Visual Studio 14.0\\\\Common7\\\\Tools\\\\', 'WINDIR': 'C:\\\\WINDOWS', 'JPY_INTERRUPT_EVENT': '1204', 'IPY_INTERRUPT_EVENT': '1204', 'JPY_PARENT_PID': '1100', 'TERM': 'xterm-color', 'CLICOLOR': '1', 'PAGER': 'cat', 'GIT_PAGER': 'cat', 'MPLBACKEND': 'module://ipykernel.pylab.backend_inline'})\n",
      "C:\\Users\\Wangdi\\AppData\\Roaming\n",
      "Default\n"
     ]
    }
   ],
   "source": [
    "# 读取系统信息\n",
    "print(os.name)\n",
    "# print(os.uname()) # Windows不支持\n",
    "print(os.environ)\n",
    "print(os.environ.get('APPDATA')) # 获取环境变量\n",
    "print(os.environ.get('Unknown', 'Default')) # 默认值设置"
   ]
  },
  {
   "cell_type": "code",
   "execution_count": 12,
   "metadata": {},
   "outputs": [
    {
     "name": "stdout",
     "output_type": "stream",
     "text": [
      "E:\\july\\jml8\\week01\\集8_上海_0512\n",
      "C:\\users\\lin\\testdir\n",
      "C:\\users\\lin\\testdir\n"
     ]
    }
   ],
   "source": [
    "# 目录操作\n",
    "print(os.path.abspath('.')) # 获取当前绝对路径\n",
    "path = os.path.join('C:\\\\users\\\\lin', 'testdir')\n",
    "print(path)\n",
    "path = os.path.join('C:\\\\users\\\\lin\\\\', 'testdir') # 自动处理多余的分割符号\n",
    "print(path)"
   ]
  },
  {
   "cell_type": "code",
   "execution_count": 49,
   "metadata": {},
   "outputs": [
    {
     "name": "stdout",
     "output_type": "stream",
     "text": [
      "('c:\\\\download\\\\test', 'abc.txt')\n"
     ]
    }
   ],
   "source": [
    "# 拆分文件名和路径\n",
    "print(os.path.split('c:\\\\download\\\\test\\\\abc.txt'))"
   ]
  },
  {
   "cell_type": "code",
   "execution_count": 50,
   "metadata": {},
   "outputs": [
    {
     "name": "stdout",
     "output_type": "stream",
     "text": [
      "('c:\\\\download\\\\test\\\\abc', '.txt')\n"
     ]
    }
   ],
   "source": [
    "# 获取文件后缀名\n",
    "print(os.path.splitext('c:\\\\download\\\\test\\\\abc.txt'))"
   ]
  },
  {
   "cell_type": "code",
   "execution_count": 11,
   "metadata": {},
   "outputs": [
    {
     "data": {
      "text/plain": [
       "'C:\\\\Users\\\\regdz\\\\Downloads\\\\集7_上海_0127'"
      ]
     },
     "execution_count": 11,
     "metadata": {},
     "output_type": "execute_result"
    }
   ],
   "source": [
    "os.getcwd()"
   ]
  },
  {
   "cell_type": "code",
   "execution_count": 14,
   "metadata": {},
   "outputs": [
    {
     "name": "stdout",
     "output_type": "stream",
     "text": [
      "E:\\july\\jml8\\week01\\集8_上海_0512\\root\n",
      "fa.txt\n",
      "fb.txt\n",
      "xa.py\n",
      "xb.py\n",
      "dir1\n",
      "E:\\july\\jml8\\week01\\集8_上海_0512\\root\\dir1\n",
      "\t111.txt\n",
      "\t222.txt\n",
      "dir2\n",
      "E:\\july\\jml8\\week01\\集8_上海_0512\\root\\dir2\n",
      "\txxx.txt\n",
      "\tyyy.txt\n",
      "\txxxx\n",
      "E:\\july\\jml8\\week01\\集8_上海_0512\\root\\dir2\\xxxx\n",
      "\t\tNew Text Document.txt\n"
     ]
    }
   ],
   "source": [
    "# 当前路径遍历\n",
    "def path_dir(path, indent=''):\n",
    "    abs_path = os.path.abspath(path)\n",
    "    print(abs_path)\n",
    "    dirs = []\n",
    "    for item in os.listdir(path):\n",
    "        item_abs = os.path.join(abs_path, item)\n",
    "        if not os.path.isdir(item_abs):\n",
    "            print(indent + item)\n",
    "        else:\n",
    "            dirs.append(item)\n",
    "    for dir_ in dirs:\n",
    "        print(indent + dir_)\n",
    "        dir_ = os.path.join(abs_path, dir_)\n",
    "        path_dir(dir_, indent + '\\t')\n",
    "        \n",
    "path_dir('root')"
   ]
  },
  {
   "cell_type": "code",
   "execution_count": 18,
   "metadata": {},
   "outputs": [
    {
     "name": "stdout",
     "output_type": "stream",
     "text": [
      "E:\\july\\jml8\\week01\\集8_上海_0512\\root\\dir1\n",
      "E:\\july\\jml8\\week01\\集8_上海_0512\\root\\dir1\\111.txt\n",
      "E:\\july\\jml8\\week01\\集8_上海_0512\\root\\dir1\\222.txt\n",
      "E:\\july\\jml8\\week01\\集8_上海_0512\\root\\dir2\n",
      "E:\\july\\jml8\\week01\\集8_上海_0512\\root\\dir2\\xxx.txt\n",
      "E:\\july\\jml8\\week01\\集8_上海_0512\\root\\dir2\\xxxx\n",
      "E:\\july\\jml8\\week01\\集8_上海_0512\\root\\dir2\\xxxx\\New Text Document.txt\n",
      "E:\\july\\jml8\\week01\\集8_上海_0512\\root\\dir2\\yyy.txt\n",
      "E:\\july\\jml8\\week01\\集8_上海_0512\\root\\fa.txt\n",
      "E:\\july\\jml8\\week01\\集8_上海_0512\\root\\fb.txt\n",
      "E:\\july\\jml8\\week01\\集8_上海_0512\\root\\xa.py\n",
      "E:\\july\\jml8\\week01\\集8_上海_0512\\root\\xb.py\n"
     ]
    }
   ],
   "source": [
    "def path_dir(path):\n",
    "    abs_path = os.path.abspath(path)\n",
    "    for item in os.listdir(abs_path):\n",
    "        item_abs = os.path.join(abs_path, item)\n",
    "        print(item_abs)\n",
    "        if os.path.isdir(item_abs):\n",
    "            path_dir(item_abs)\n",
    "\n",
    "path_dir('root') "
   ]
  },
  {
   "cell_type": "code",
   "execution_count": 52,
   "metadata": {},
   "outputs": [
    {
     "data": {
      "text/plain": [
       "['xa.py', 'xb.py']"
      ]
     },
     "execution_count": 52,
     "metadata": {},
     "output_type": "execute_result"
    }
   ],
   "source": [
    "# 快速找到当前目录下的py文件（不包含子目录）\n",
    "# [列表推导 过滤条件]\n",
    "[x for x in os.listdir('root') if (os.path.isfile(os.path.join('root', x))) and (x.endswith('.py'))]"
   ]
  },
  {
   "cell_type": "code",
   "execution_count": 22,
   "metadata": {},
   "outputs": [
    {
     "data": {
      "text/plain": [
       "3"
      ]
     },
     "execution_count": 22,
     "metadata": {},
     "output_type": "execute_result"
    }
   ],
   "source": [
    "def walk(m, n):\n",
    "    dp = [[1] * n for _ in range(m)]\n",
    "    for i in range(1,m):\n",
    "        for j in range(1, n):\n",
    "            dp[i][j] = dp[i-1][j]+dp[i][j-1]\n",
    "    return dp[-1][-1]\n",
    "\n",
    "\n",
    "walk(2,3)"
   ]
  }
 ],
 "metadata": {
  "kernelspec": {
   "display_name": "Python 3",
   "language": "python",
   "name": "python3"
  },
  "language_info": {
   "codemirror_mode": {
    "name": "ipython",
    "version": 3
   },
   "file_extension": ".py",
   "mimetype": "text/x-python",
   "name": "python",
   "nbconvert_exporter": "python",
   "pygments_lexer": "ipython3",
   "version": "3.6.4"
  },
  "toc": {
   "base_numbering": 1,
   "nav_menu": {},
   "number_sections": true,
   "sideBar": true,
   "skip_h1_title": false,
   "title_cell": "Table of Contents",
   "title_sidebar": "Contents",
   "toc_cell": false,
   "toc_position": {},
   "toc_section_display": true,
   "toc_window_display": false
  },
  "varInspector": {
   "cols": {
    "lenName": 16,
    "lenType": 16,
    "lenVar": 40
   },
   "kernels_config": {
    "python": {
     "delete_cmd_postfix": "",
     "delete_cmd_prefix": "del ",
     "library": "var_list.py",
     "varRefreshCmd": "print(var_dic_list())"
    },
    "r": {
     "delete_cmd_postfix": ") ",
     "delete_cmd_prefix": "rm(",
     "library": "var_list.r",
     "varRefreshCmd": "cat(var_dic_list()) "
    }
   },
   "types_to_exclude": [
    "module",
    "function",
    "builtin_function_or_method",
    "instance",
    "_Feature"
   ],
   "window_display": false
  }
 },
 "nbformat": 4,
 "nbformat_minor": 2
}
