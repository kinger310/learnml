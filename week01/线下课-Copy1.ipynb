{
 "cells": [
  {
   "cell_type": "markdown",
   "metadata": {},
   "source": [
    "# 知识点补充"
   ]
  },
  {
   "cell_type": "markdown",
   "metadata": {},
   "source": [
    "## Python命名空间\n",
    "\n",
    "从四个方面阐述：\n",
    "\n",
    "- 1.命名空间的定义\n",
    "- 2.命名空间的查找顺序\n",
    "- 3.命名空间的生命周期\n",
    "- 4.通过locals()和globals() BIF访问命名空间"
   ]
  },
  {
   "cell_type": "markdown",
   "metadata": {},
   "source": [
    "### 定义\n",
    "\n",
    "定义：\n",
    "&emsp;&emsp;Python使用叫做命名空间的东西来记录变量的轨迹。\n",
    "\n",
    "命名空间是一个 字典（dictionary） ，它的键就是变量名，它的值就是那些变量的值。\n",
    "    \n",
    "python是面向对象语言，也就是万事万物皆对象，Python 的名称是对象的一个标识--->名称到对象的映射\n",
    " \n",
    "在一个 Python 程序中的任何一个地方，都存在几个可用的命名空间。\n",
    "\n",
    "- 每个函数都有着自已的命名空间，叫做局部命名空间，它记录了函数的变量，包括函数的参数和局部定义的变量。\n",
    "- 每个模块拥有它自已的命名空间，叫做全局命名空间，它记录了模块的变量，包括函数、类、其它导入的模块、模块级的变量和常量。\n",
    "- 还有就是内置命名空间，任何模块均可访问它，它存放着内置的函数和异常。"
   ]
  },
  {
   "cell_type": "markdown",
   "metadata": {},
   "source": [
    "### 命名空间查找顺序\n",
    "\n",
    "当一行代码要使用变量 x 的值时，Python 会到所有可用的名字空间去查找变量，按照如下顺序：\n",
    "\n",
    "- 1.局部命名空间：特指当前函数或类的方法。如果函数定义了一个局部变量 x，或一个参数 x，Python 将使用它，然后停止搜索。\n",
    "- 2.全局命名空间：特指当前的模块。如果模块定义了一个名为 x 的变量，函数或类，Python 将使用它然后停止搜索。\n",
    "- 3.内置命名空间：对每个模块都是全局的。作为最后的尝试，Python 将假设 x 是内置函数或变量。\n",
    "- 4.如果 Python 在这些名字空间找不到 x，它将放弃查找并引发一个 NameError 异常，如，NameError: name 'aa' is not defined。\n",
    "\n",
    "嵌套函数的情况：\n",
    "\n",
    "     1、先在当前 (嵌套的或 lambda) 函数的命名空间中搜索\n",
    "     2、然后是在父函数的命名空间中搜索\n",
    "     3、接着是模块命名空间中搜索\n",
    "     4、最后在内置命名空间中搜索\n"
   ]
  },
  {
   "cell_type": "markdown",
   "metadata": {},
   "source": [
    "###  生命周期\n",
    "\n",
    "- 1、内置命名空间在 Python 解释器启动时创建，会一直保留，不被删除。\n",
    "- 2、模块的全局命名空间在模块定义被读入时创建，通常模块命名空间也会一直保存到解释器退出。\n",
    "- 3、当函数被调用时创建一个局部命名空间，当函数返回结果 或 抛出异常时，被删除。每一个递归调用的函数都拥有自己的命名空间。\n",
    " \n",
    " 如果一个命名声明为全局的，那么对它的所有引用和赋值会直接搜索包含这个模块全局命名的作用域。\n",
    "   \n",
    "否则，在最里面作用域之外找到的所有变量都是只读的（对这样的变量赋值会在最里面的作用域创建一个新 的局部变量，\n",
    "     \n",
    "外部具有相同命名的那个变量不会改变）。\n",
    "     \n",
    "Python 的一个特别之处在于其赋值操作总是在最里层的作用域。\n",
    "  \n",
    "  赋值不会复制数据——只是将命名绑定到对象。\n",
    "  \n",
    "  删除也是如此：\"del y\" 只是从局部作用域的命名空间中删除命名 y 。\n",
    "  \n",
    "  事实上，所有引入新命名的操作都作用于局部作用域。"
   ]
  },
  {
   "cell_type": "markdown",
   "metadata": {},
   "source": [
    "### locals()\n",
    "局部命名空间可以 locals()  BIF来访问。\n",
    "\n",
    "locals 返回一个名字/值对的字典。这个 字典 的键是字符串形式的变量名字，字典 的值是变量的实际值。"
   ]
  },
  {
   "cell_type": "code",
   "execution_count": 10,
   "metadata": {
    "ExecuteTime": {
     "end_time": "2019-05-11T13:39:33.492864Z",
     "start_time": "2019-05-11T13:39:33.476972Z"
    }
   },
   "outputs": [
    {
     "name": "stdout",
     "output_type": "stream",
     "text": [
      "{'i': 1, 'str': 'first', 'x': 12345}\n"
     ]
    }
   ],
   "source": [
    "def func1(i, str ):\n",
    "    x = 12345\n",
    "    print(locals())\n",
    " \n",
    "func1(1 , \"first\")"
   ]
  },
  {
   "cell_type": "markdown",
   "metadata": {},
   "source": [
    "### globals()BIF来访问"
   ]
  },
  {
   "cell_type": "code",
   "execution_count": 11,
   "metadata": {
    "ExecuteTime": {
     "end_time": "2019-05-11T13:45:17.065457Z",
     "start_time": "2019-05-11T13:45:17.059337Z"
    },
    "collapsed": true
   },
   "outputs": [
    {
     "name": "stdout",
     "output_type": "stream",
     "text": [
      "{'__name__': '__main__', '__doc__': 'Automatically created module for IPython interactive environment', '__package__': None, '__loader__': None, '__spec__': None, '__builtin__': <module 'builtins' (built-in)>, '__builtins__': <module 'builtins' (built-in)>, '_ih': ['', '### 变量', '#例如：\\ndef test1():\\n    a = 10\\n    b = 10\\ndef test2():\\n    a = 10\\n    b = 20\\n  \\n\"\"\"\\n 以上函数中的变量a,b称之为局部函数     \\n \\n总结：\\n \\n    局部变量，就是在函数内部定义的变量\\n    不同的函数，可以定义相同的名字的局部变量，但是各用个的不会产生影响\\n    局部变量的作用，为了临时保存数据需要在函数中定义变量来进行存储，这就是它的作用\\n    \\n    \"\"\"', '# 定义全局变量\\na = 100\\n\\ndef test1():\\n    print(a)\\n\\ndef test2():\\n    print(a)\\n\\n# 调用函数\\ntest1()   #100\\ntest2()   #100', '\\na = 100\\ndef test1():\\n    a = 200\\n    print(a)\\n    a = 300\\n    print(a)\\n\\ndef test2():\\n    print(a)\\n\\ntest1()\\ntest2()\\n\\n#总结：就近原则', 'a = 100\\ndef test1():\\n    a = 200\\n    print(a)\\n    a = 300\\n    print(a)\\n\\ndef test2():\\n    print(a)\\n\\ntest1()\\ntest2()\\n\\n#总结：就近原则', '#既然全局变量，就是能够在所以的函数中进行使用，那么可否进行修改呢？\\na = 100\\ndef test1():\\n    global a\\n    print(a)\\n    a = 200\\n    print(a)\\n\\ndef test2():\\n    print(a)\\n\\ntest1()\\ntest2()', 'import demo', 'import demo.ipynb', 'print(1)', 'def func1(i, str ):\\n    x = 12345\\n    print(locals())\\n \\nfunc1(1 , \"first\")', 'dictionary=globals()\\nprint(dictionary)'], '_oh': {2: '\\n 以上函数中的变量a,b称之为局部函数     \\n \\n总结：\\n \\n    局部变量，就是在函数内部定义的变量\\n    不同的函数，可以定义相同的名字的局部变量，但是各用个的不会产生影响\\n    局部变量的作用，为了临时保存数据需要在函数中定义变量来进行存储，这就是它的作用\\n    \\n    '}, '_dh': ['/Users/sxl/七月在线/机器学习第8期'], 'In': ['', '### 变量', '#例如：\\ndef test1():\\n    a = 10\\n    b = 10\\ndef test2():\\n    a = 10\\n    b = 20\\n  \\n\"\"\"\\n 以上函数中的变量a,b称之为局部函数     \\n \\n总结：\\n \\n    局部变量，就是在函数内部定义的变量\\n    不同的函数，可以定义相同的名字的局部变量，但是各用个的不会产生影响\\n    局部变量的作用，为了临时保存数据需要在函数中定义变量来进行存储，这就是它的作用\\n    \\n    \"\"\"', '# 定义全局变量\\na = 100\\n\\ndef test1():\\n    print(a)\\n\\ndef test2():\\n    print(a)\\n\\n# 调用函数\\ntest1()   #100\\ntest2()   #100', '\\na = 100\\ndef test1():\\n    a = 200\\n    print(a)\\n    a = 300\\n    print(a)\\n\\ndef test2():\\n    print(a)\\n\\ntest1()\\ntest2()\\n\\n#总结：就近原则', 'a = 100\\ndef test1():\\n    a = 200\\n    print(a)\\n    a = 300\\n    print(a)\\n\\ndef test2():\\n    print(a)\\n\\ntest1()\\ntest2()\\n\\n#总结：就近原则', '#既然全局变量，就是能够在所以的函数中进行使用，那么可否进行修改呢？\\na = 100\\ndef test1():\\n    global a\\n    print(a)\\n    a = 200\\n    print(a)\\n\\ndef test2():\\n    print(a)\\n\\ntest1()\\ntest2()', 'import demo', 'import demo.ipynb', 'print(1)', 'def func1(i, str ):\\n    x = 12345\\n    print(locals())\\n \\nfunc1(1 , \"first\")', 'dictionary=globals()\\nprint(dictionary)'], 'Out': {2: '\\n 以上函数中的变量a,b称之为局部函数     \\n \\n总结：\\n \\n    局部变量，就是在函数内部定义的变量\\n    不同的函数，可以定义相同的名字的局部变量，但是各用个的不会产生影响\\n    局部变量的作用，为了临时保存数据需要在函数中定义变量来进行存储，这就是它的作用\\n    \\n    '}, 'get_ipython': <bound method InteractiveShell.get_ipython of <ipykernel.zmqshell.ZMQInteractiveShell object at 0x10a0932e8>>, 'exit': <IPython.core.autocall.ZMQExitAutocall object at 0x10a23a780>, 'quit': <IPython.core.autocall.ZMQExitAutocall object at 0x10a23a780>, '_': '\\n 以上函数中的变量a,b称之为局部函数     \\n \\n总结：\\n \\n    局部变量，就是在函数内部定义的变量\\n    不同的函数，可以定义相同的名字的局部变量，但是各用个的不会产生影响\\n    局部变量的作用，为了临时保存数据需要在函数中定义变量来进行存储，这就是它的作用\\n    \\n    ', '__': '', '___': '', '_i': 'def func1(i, str ):\\n    x = 12345\\n    print(locals())\\n \\nfunc1(1 , \"first\")', '_ii': 'print(1)', '_iii': 'import demo.ipynb', '_i1': '### 变量', '_i2': '#例如：\\ndef test1():\\n    a = 10\\n    b = 10\\ndef test2():\\n    a = 10\\n    b = 20\\n  \\n\"\"\"\\n 以上函数中的变量a,b称之为局部函数     \\n \\n总结：\\n \\n    局部变量，就是在函数内部定义的变量\\n    不同的函数，可以定义相同的名字的局部变量，但是各用个的不会产生影响\\n    局部变量的作用，为了临时保存数据需要在函数中定义变量来进行存储，这就是它的作用\\n    \\n    \"\"\"', 'test1': <function test1 at 0x10a326b70>, 'test2': <function test2 at 0x10a326c80>, '_2': '\\n 以上函数中的变量a,b称之为局部函数     \\n \\n总结：\\n \\n    局部变量，就是在函数内部定义的变量\\n    不同的函数，可以定义相同的名字的局部变量，但是各用个的不会产生影响\\n    局部变量的作用，为了临时保存数据需要在函数中定义变量来进行存储，这就是它的作用\\n    \\n    ', '_i3': '# 定义全局变量\\na = 100\\n\\ndef test1():\\n    print(a)\\n\\ndef test2():\\n    print(a)\\n\\n# 调用函数\\ntest1()   #100\\ntest2()   #100', 'a': 200, '_i4': '\\na = 100\\ndef test1():\\n    a = 200\\n    print(a)\\n    a = 300\\n    print(a)\\n\\ndef test2():\\n    print(a)\\n\\ntest1()\\ntest2()\\n\\n#总结：就近原则', '_i5': 'a = 100\\ndef test1():\\n    a = 200\\n    print(a)\\n    a = 300\\n    print(a)\\n\\ndef test2():\\n    print(a)\\n\\ntest1()\\ntest2()\\n\\n#总结：就近原则', '_i6': '#既然全局变量，就是能够在所以的函数中进行使用，那么可否进行修改呢？\\na = 100\\ndef test1():\\n    global a\\n    print(a)\\n    a = 200\\n    print(a)\\n\\ndef test2():\\n    print(a)\\n\\ntest1()\\ntest2()', '_i7': 'import demo', '_i8': 'import demo.ipynb', '_i9': 'print(1)', '_i10': 'def func1(i, str ):\\n    x = 12345\\n    print(locals())\\n \\nfunc1(1 , \"first\")', 'func1': <function func1 at 0x10a739730>, '_i11': 'dictionary=globals()\\nprint(dictionary)', 'dictionary': {...}}\n"
     ]
    }
   ],
   "source": [
    "dictionary=globals()\n",
    "print(dictionary)"
   ]
  },
  {
   "cell_type": "markdown",
   "metadata": {},
   "source": [
    "命名空间总结：\n",
    "\n",
    "-  Local，局部命名空间，每个函数所拥有的命名空间，记录了函数中定义的所有变量，包括函数的入参、内部定义的局部变量。\n",
    "-  Global，全局命名空间，每个模块加载执行时创建的，记录了模块中定义的变量，\n",
    "\n",
    "包括模块中定义的函数、类、其他导入的模块、模块级的变量与常量。\n",
    "\n",
    "- Built-in，python自带的内建命名空间，任何模块均可以访问，放着内置的函数和异常。\n",
    "\n",
    "命名空间作用域：\n",
    "\n",
    "- Local(函数内部)局部作用域\n",
    "- Enclosing（嵌套函数的外层函数内部）嵌套作用域（闭包）\n",
    "- Global（模块全局）全局作用域\n",
    "- Built-in（内建）内建作用域"
   ]
  },
  {
   "cell_type": "code",
   "execution_count": null,
   "metadata": {},
   "outputs": [],
   "source": []
  },
  {
   "cell_type": "code",
   "execution_count": null,
   "metadata": {},
   "outputs": [],
   "source": []
  },
  {
   "cell_type": "code",
   "execution_count": null,
   "metadata": {},
   "outputs": [],
   "source": []
  },
  {
   "cell_type": "code",
   "execution_count": null,
   "metadata": {},
   "outputs": [],
   "source": []
  },
  {
   "cell_type": "markdown",
   "metadata": {
    "ExecuteTime": {
     "end_time": "2019-05-11T03:59:14.447996Z",
     "start_time": "2019-05-11T03:59:14.442529Z"
    }
   },
   "source": [
    "## 变量"
   ]
  },
  {
   "cell_type": "markdown",
   "metadata": {},
   "source": [
    "#### 分类\n",
    "\n",
    "&emsp;&emsp;局部变量和全局变量"
   ]
  },
  {
   "cell_type": "markdown",
   "metadata": {},
   "source": [
    "#### 局部变量\n",
    "&emsp;&emsp;定义在函数内部的变量\n"
   ]
  },
  {
   "cell_type": "markdown",
   "metadata": {},
   "source": [
    "#### 全局变量\n",
    "\n",
    "定义：\n",
    "\n",
    "&emsp;&emsp;如果一个变量，既能在一个函数中使用，也能在其他的函数中使用，这样的变量就是全局变量"
   ]
  },
  {
   "cell_type": "markdown",
   "metadata": {},
   "source": [
    "#### 全局变量变量和局部变量的名字相同问题"
   ]
  },
  {
   "cell_type": "markdown",
   "metadata": {},
   "source": [
    "#### 修改全局变量\n",
    "\n",
    "global修饰符"
   ]
  },
  {
   "cell_type": "markdown",
   "metadata": {},
   "source": [
    "#### 局部变量和全局变量的区别\n",
    "- 在函数外边定义的变量叫做全局变量\n",
    "- 全局变量能够在所有的函数中进行访问\n",
    "- 如果在函数中修改全局变量，那么就需要使用global进行声明，否则出错\n",
    "- 如果全局变量的名字和局部变量的名字相同，那么使用的是局部变量的\n",
    "- 全局变量与局部变量两者的本质区别就是在于作用域\n",
    "   \n",
    "用通俗的话来理解的话，\n",
    "\n",
    "全局变量是在整个py文件中声明，全局范围内都可以访问\n",
    "\n",
    "局部变量是在某个函数中声明的，只能在该函数中调用它，如果试图在超出范围的地方调用，程序就爆掉了\n",
    "\n",
    "如果在函数内部定义与某个全局变量一样名称的局部变量，就可能会导致意外的效果，可能不是你期望的。\n",
    "\n",
    "因此不建议这样使用，这样会使得程序很不健全"
   ]
  },
  {
   "cell_type": "markdown",
   "metadata": {},
   "source": [
    "## 元类\n",
    "\n",
    "在大多数编程语言中，类就是一组用来描述如何生成一个对象的代码段。\n",
    "\n",
    "在Python中这一点仍然成立：\n",
    "\n",
    "例如：\n",
    "\n",
    "    class Test(object):\n",
    "        pass\n",
    "    test = Test()\n",
    "    print(test)#结果为类创建对象在内存中的地址\n",
    "\n",
    "但是，Python中的类还远不止如此。类同样也是一种对象。是的，没错，就是对象。\n",
    "\n",
    "只要你使用关键字class，Python解释器在执行的时候就会创建一个对象。\n",
    "\n",
    "下面的代码段：\n",
    "\t\n",
    "    上面的代码\n",
    "\tclass Test(object):\n",
    "\t\tpass\n",
    "\t\t\n",
    "将在内存中创建一个对象，名字就是Test。这个对象（类对象Test）拥有创建对象（实例对象）的能力。\n",
    "\n",
    "但是，它的本质仍然是一个对象，于是乎你可以对它做如下的操作：\n",
    "\n",
    "    你可以将它赋值给一个变量\n",
    "    你可以拷贝它\n",
    "    你可以为它增加属性\n",
    "    你可以将它作为函数参数进行传递"
   ]
  },
  {
   "cell_type": "markdown",
   "metadata": {},
   "source": [
    "### 动态创建类"
   ]
  },
  {
   "cell_type": "code",
   "execution_count": 12,
   "metadata": {
    "ExecuteTime": {
     "end_time": "2019-05-11T15:43:55.272600Z",
     "start_time": "2019-05-11T15:43:55.257340Z"
    },
    "collapsed": true
   },
   "outputs": [
    {
     "name": "stdout",
     "output_type": "stream",
     "text": [
      "<class '__main__.choose_name.<locals>.foo'>\n",
      "<__main__.choose_name.<locals>.foo object at 0x10a74e3c8>\n"
     ]
    },
    {
     "data": {
      "text/plain": [
       "'\\n但这还不够动态，因为你仍然需要自己编写整个类的代码。由于类也是对象，\\n所以它们必须是通过什么东西来生成的才对。\\n当你使用class关键字时，Python解释器自动创建这个对象。\\n但就和Python中的大多数事情一样，Python仍然提供给你手动处理的方法。\\n\\n还记得内建函数type吗？这个古老但强大的函数能够让你知道一个对象的类型是什么，就像这样：\\n\\n在上面类的基础上加以下代码：\\nprint(type(1))\\nprint(type(\"1\"))\\nprint(type(choose_name(\"foo\")))#返回type---》类的类型\\n仔细观察上面的运行结果，发现使用type对ObjectCreator查看类型是，答案为type， 是不是有些惊讶\\n\\n接下来使用type来创建类\\n\\n'"
      ]
     },
     "execution_count": 12,
     "metadata": {},
     "output_type": "execute_result"
    }
   ],
   "source": [
    "\"\"\"\n",
    "动态创建类\n",
    "因为类也是对象，你可以在运行时动态的创建它们，就像其他任何对象一样。\n",
    "首先，你可以在函数中创建类，使用class关键字即可。\n",
    "\"\"\""
   ]
  },
  {
   "cell_type": "markdown",
   "metadata": {},
   "source": [
    "### type创建类"
   ]
  },
  {
   "cell_type": "code",
   "execution_count": 31,
   "metadata": {
    "ExecuteTime": {
     "end_time": "2019-05-11T15:48:24.483087Z",
     "start_time": "2019-05-11T15:48:24.474715Z"
    },
    "collapsed": true
   },
   "outputs": [
    {
     "name": "stdout",
     "output_type": "stream",
     "text": [
      "<__main__.Test2 object at 0x10a782400>\n",
      "<__main__.Test2 object at 0x10a782518>\n",
      "<class '__main__.MyDog'>\n"
     ]
    },
    {
     "data": {
      "text/plain": [
       "\"\\n结果为：\\n<class '__main__.MyDog'>\\n\\n测试：\\n使用help（）函数测试\\nprint(help(Test))\\nprint(help(Test2))\\n结果：\\n显示一样的信息\\n\""
      ]
     },
     "execution_count": 31,
     "metadata": {},
     "output_type": "execute_result"
    }
   ],
   "source": [
    "\"\"\"\n",
    "type还有一种完全不同的功能，动态的创建类。\n",
    "\n",
    "type可以接受一个类的描述作为参数，然后返回一个类。\n",
    "（要知道，根据传入参数的不同，同一个函数拥有两种完全不同的用法是一件很傻的事情，\n",
    "但这在Python中是为了保持向后兼容性）\n",
    "type可以像这样工作：\n",
    "type(类名, 由父类名称组成的元组（针对继承的情况，可以为空），包含属性的字典（名称和值）)\n",
    "\"\"\"\n",
    "#比如下面的代码：\n",
    "\n",
    "class Test(object):\n",
    "    pass\n",
    "print(Test())\n",
    "\n",
    "Test2 = type(\"Test2\",(),{})\n",
    "print(Test2())\n"
   ]
  },
  {
   "cell_type": "markdown",
   "metadata": {},
   "source": [
    "### 动态添加属性和方法"
   ]
  },
  {
   "cell_type": "markdown",
   "metadata": {},
   "source": [
    "## 高阶函数\n",
    "\n",
    "变量可以指向函数，对变量和函数的调用效果是一样的。   函数也是一个对象，在python中一切都是对象。"
   ]
  },
  {
   "cell_type": "markdown",
   "metadata": {},
   "source": [
    "### map"
   ]
  },
  {
   "cell_type": "code",
   "execution_count": 1,
   "metadata": {
    "ExecuteTime": {
     "end_time": "2019-05-11T17:18:26.489004Z",
     "start_time": "2019-05-11T17:18:26.478562Z"
    }
   },
   "outputs": [
    {
     "data": {
      "text/plain": [
       "'\\n定义：\\nmap() 会根据提供的函数对指定序列做映射。\\n\\n语法\\nmap() 函数语法：\\nmap(function, iterable, ...)\\n\\nmap方法的描述：创建一个迭代器，使用每个迭代项。当最短的迭代被耗尽时停止。\\n\\n参数\\n    function -- 函数，有两个参数\\n    iterable -- 一个或多个序列\\n第一个参数 function 以参数序列中的每一个元素调用 function 函数，返回包含每次 function 函数返回值的新列表。\\n\\n返回值\\nPython 2.x 返回列表。\\nPython 3.x 返回迭代器。\\n\\n\\n参数function传的是一个函数名，可以是python内置的，也可以是自定义的。\\n参数iterable传的是一个可以迭代的对象，例如列表，元组，字符串这样的。\\n\\n这个函数的意思就是将function应用于iterable的每一个元素，结果以列表的形式返回。\\n注意到没有，iterable后面还有省略号，意思就是可以传很多个iterable，如果有额外的iterable参数，\\n并行的从这些参数中取元素，并调用function。如果一个iterable参数比另外的iterable参数要短，将以None扩展该参数元素\\n'"
      ]
     },
     "execution_count": 1,
     "metadata": {},
     "output_type": "execute_result"
    }
   ],
   "source": [
    "\"\"\"\n",
    "定义：\n",
    "map() 会根据提供的函数对指定序列做映射。\n",
    "\n",
    "语法\n",
    "map() 函数语法：\n",
    "map(function, iterable, ...)\n",
    "\n",
    "map方法的描述：创建一个迭代器，使用每个迭代项。当最短的迭代被耗尽时停止。\n",
    "\n",
    "参数\n",
    "    function -- 函数，有两个参数\n",
    "    iterable -- 一个或多个序列\n",
    "第一个参数 function 以参数序列中的每一个元素调用 function 函数，返回包含每次 function 函数返回值的新列表。\n",
    "\n",
    "返回值\n",
    "Python 2.x 返回列表。\n",
    "Python 3.x 返回迭代器。\n",
    "\n",
    "\n",
    "参数function传的是一个函数名，可以是python内置的，也可以是自定义的。\n",
    "参数iterable传的是一个可以迭代的对象，例如列表，元组，字符串这样的。\n",
    "\n",
    "这个函数的意思就是将function应用于iterable的每一个元素，结果以列表的形式返回。\n",
    "注意到没有，iterable后面还有省略号，意思就是可以传很多个iterable，如果有额外的iterable参数，\n",
    "并行的从这些参数中取元素，并调用function。如果一个iterable参数比另外的iterable参数要短，将以None扩展该参数元素\n",
    "\"\"\"\n"
   ]
  },
  {
   "cell_type": "markdown",
   "metadata": {},
   "source": [
    "### reduce\n",
    "\n",
    "reduce() 函数会对参数序列中元素进行累积。"
   ]
  },
  {
   "cell_type": "code",
   "execution_count": 2,
   "metadata": {
    "ExecuteTime": {
     "end_time": "2019-05-11T17:19:05.673861Z",
     "start_time": "2019-05-11T17:19:05.669205Z"
    },
    "collapsed": true
   },
   "outputs": [
    {
     "data": {
      "text/plain": [
       "'\\n方法的描述：\\n将两个参数的函数累加到序列的项中，从左到右，以便将序列减少到单个值。\\n例如，减少（lambda x，y:x+y，[1, 2, 3，4, 5 ]）计算\\n（（（1＋2）＋3）＋4＋5）。如果初始存在，则放置在项目之前。\\n在计算中的顺序，当默认为序列空\\n\\n函数将一个数据集合（链表，元组等）中的所有数据进行下列操作：\\n用传给 reduce 中的函数 function（有两个参数）先对集合中的第 1、2 个元素进行操作，\\n得到的结果再与第三个数据用 function 函数运算，最后得到一个结果。\\n\\n格式：\\nreduce(function, iterable[, initializer])\\n\\n\\n参数说明：\\n    function -- 函数，有两个参数\\n    iterable -- 可迭代对象\\n    initializer -- 可选，初始参数\\n注意：一个函数作用在序列上，这个函数必须接受两个参数，reduce把结果继续和序列的下一个元素累计运算\\n\\n返回值\\n返回函数计算结果。\\n'"
      ]
     },
     "execution_count": 2,
     "metadata": {},
     "output_type": "execute_result"
    }
   ],
   "source": [
    "\"\"\"\n",
    "方法的描述：\n",
    "将两个参数的函数累加到序列的项中，从左到右，以便将序列减少到单个值。\n",
    "例如，减少（lambda x，y:x+y，[1, 2, 3，4, 5 ]）计算\n",
    "（（（1＋2）＋3）＋4＋5）。如果初始存在，则放置在项目之前。\n",
    "在计算中的顺序，当默认为序列空\n",
    "\n",
    "函数将一个数据集合（链表，元组等）中的所有数据进行下列操作：\n",
    "用传给 reduce 中的函数 function（有两个参数）先对集合中的第 1、2 个元素进行操作，\n",
    "得到的结果再与第三个数据用 function 函数运算，最后得到一个结果。\n",
    "\n",
    "格式：\n",
    "reduce(function, iterable[, initializer])\n",
    "\n",
    "\n",
    "参数说明：\n",
    "    function -- 函数，有两个参数\n",
    "    iterable -- 可迭代对象\n",
    "    initializer -- 可选，初始参数\n",
    "注意：一个函数作用在序列上，这个函数必须接受两个参数，reduce把结果继续和序列的下一个元素累计运算\n",
    "\n",
    "返回值\n",
    "返回函数计算结果。\n",
    "\"\"\""
   ]
  },
  {
   "cell_type": "markdown",
   "metadata": {},
   "source": [
    "### filter"
   ]
  },
  {
   "cell_type": "code",
   "execution_count": 3,
   "metadata": {
    "ExecuteTime": {
     "end_time": "2019-05-11T17:19:23.434064Z",
     "start_time": "2019-05-11T17:19:23.428110Z"
    }
   },
   "outputs": [
    {
     "data": {
      "text/plain": [
       "\"\\n定义：\\nfilter() 函数用于过滤序列，过滤掉不符合条件的元素，返回由符合条件元素组成的新列表。\\n\\n方法的描述：\\n返回一个迭代器，为其生成函数（项）的可迭代项是真的。如果函数为“否”，则返回真实的项。\\n\\n该接收两个参数，第一个为函数，第二个为序列，序列的每个元素作为参数传递给函数进行判，\\n然后返回 True 或 False，最后将返回 True 的元素放到新列表中。\\n语法\\n\\n格式：\\nfilter(function, iterable)\\n\\n参数\\n    function --参数1为函数 判断函数。\\n    iterable --参数2为序列 可迭代对象。\\n\\n返回值：\\n返回列表。\\n'''\\n\\n原型：filter(fn, lsd)\\n\\n功能：用于过滤序列\\n白话文：把传入的函数依次作用与序列每个元素，根据返回的是True还是False决定是否保留该元素\\n\""
      ]
     },
     "execution_count": 3,
     "metadata": {},
     "output_type": "execute_result"
    }
   ],
   "source": [
    "\"\"\"\n",
    "定义：\n",
    "filter() 函数用于过滤序列，过滤掉不符合条件的元素，返回由符合条件元素组成的新列表。\n",
    "\n",
    "方法的描述：\n",
    "返回一个迭代器，为其生成函数（项）的可迭代项是真的。如果函数为“否”，则返回真实的项。\n",
    "\n",
    "该接收两个参数，第一个为函数，第二个为序列，序列的每个元素作为参数传递给函数进行判，\n",
    "然后返回 True 或 False，最后将返回 True 的元素放到新列表中。\n",
    "语法\n",
    "\n",
    "格式：\n",
    "filter(function, iterable)\n",
    "\n",
    "参数\n",
    "    function --参数1为函数 判断函数。\n",
    "    iterable --参数2为序列 可迭代对象。\n",
    "\n",
    "返回值：\n",
    "返回列表。\n",
    "'''\n",
    "\n",
    "原型：filter(fn, lsd)\n",
    "\n",
    "功能：用于过滤序列\n",
    "白话文：把传入的函数依次作用与序列每个元素，根据返回的是True还是False决定是否保留该元素\n",
    "\"\"\"\n"
   ]
  },
  {
   "cell_type": "markdown",
   "metadata": {},
   "source": [
    "### sorted"
   ]
  },
  {
   "cell_type": "code",
   "execution_count": null,
   "metadata": {},
   "outputs": [],
   "source": [
    "\"\"\"\n",
    "定义：\n",
    "sorted() 函数对所有可迭代的对象进行排序操作。\n",
    "\n",
    "    sort 与 sorted 区别：\n",
    "    sort 是应用在 list 上的方法，sorted 可以对所有可迭代的对象进行排序操作。\n",
    "    list 的 sort 方法返回的是对已经存在的列表进行操作，而内建函数 sorted 方法返回的是一个新的 list，\n",
    "    而不是在原来的基础上进行的操作。\n",
    "\n",
    "格式：\n",
    "sorted(iterable[, cmp[, key[, reverse]]])\n",
    "\n",
    "参数说明：\n",
    "    iterable -- 可迭代对象。\n",
    "    cmp -- 比较的函数，这个具有两个参数，参数的值都是从可迭代对象中取出，此函数必须遵守的规则为，\n",
    "    大于则返回1，小于则返回-1，等于则返回0。\n",
    "    key -- 主要是用来进行比较的元素，只有一个参数，具体的函数的参数就是取自于可迭代对象中，\n",
    "    指定可迭代对象中的一个元素来进行排序。\n",
    "    reverse -- 排序规则，reverse = True 降序 ， reverse = False 升序（默认）。\n",
    "\n",
    "返回值：\n",
    "返回重新排序的列表。\n",
    "\n",
    "\"\"\"\n",
    "\n",
    "#案例：\n",
    "#排序：冒泡，选择     快速，插入，计数器\n",
    "\n",
    "#普通排序\n",
    "list1 = [4,7,2,6,3]\n",
    "list2 = sorted(list1)#默认升序排序\n",
    "print(list1)\n",
    "print(list2)\n",
    "\n",
    "\n",
    "#按绝对值大小排序\n",
    "list3 = [4,-7,2,6,-3]\n",
    "#key接受函数来实现自定义排序规则\n",
    "list4 = sorted(list3, key=abs)\n",
    "print(list3)\n",
    "print(list4)\n",
    "\n",
    "\n",
    "#降序\n",
    "list5 = [4,7,2,6,3]\n",
    "list6 = sorted(list5, reverse=True)#默认升序排序\n",
    "print(list5)\n",
    "print(list6)\n",
    "\n",
    "#函数可以自己写\n",
    "def myLen(str):\n",
    "    return len(str)\n",
    "list7 = ['b333','a1111111','c22','d5554']\n",
    "list8 = sorted(list7,key=myLen)#默认升序排序\n",
    "print(list7)\n",
    "print(list8)"
   ]
  },
  {
   "cell_type": "markdown",
   "metadata": {},
   "source": [
    "### 选择排序"
   ]
  },
  {
   "cell_type": "code",
   "execution_count": 4,
   "metadata": {
    "ExecuteTime": {
     "end_time": "2019-05-11T17:19:42.643896Z",
     "start_time": "2019-05-11T17:19:42.641178Z"
    }
   },
   "outputs": [],
   "source": [
    "#选择排序法：每一次从待排序的数据元素中选出最小（或最大）的一个元素，存放到序列的起始位置，直到全部排完。\n"
   ]
  },
  {
   "cell_type": "markdown",
   "metadata": {},
   "source": [
    "### 冒泡排序"
   ]
  },
  {
   "cell_type": "code",
   "execution_count": 5,
   "metadata": {
    "ExecuteTime": {
     "end_time": "2019-05-11T17:19:55.332088Z",
     "start_time": "2019-05-11T17:19:55.329357Z"
    }
   },
   "outputs": [],
   "source": [
    "#冒泡法：第一趟：相邻的两数相比，大的往下沉。最后一个元素是最大的。\n",
    "           #第二趟：相邻的两数相比，大的往下沉。最后一个元素不用比。\n",
    "           "
   ]
  },
  {
   "cell_type": "markdown",
   "metadata": {},
   "source": [
    "## 正则表达式\n",
    "\n",
    "在开发中会有大量的字符串处理工作，其中经常会涉及到字符串格式的校验。\n",
    "\n",
    "场景：如何判断一个字符串是手机号呢？\n",
    "\n",
    "13811011234\n",
    "\n",
    "1a3hi233rhi3\n",
    "\n",
    "87156340\n",
    "\n",
    "场景：在一个文件中，查找出qiyue开头的语句\n",
    "\n",
    "测试文件\n",
    "\n",
    "qiyue hello python\n",
    "\n",
    "qiyue c++\n",
    "\n",
    "qiyue java\n",
    "\n",
    "qiyue php\n",
    "\n",
    "\n",
    "场景：在一个文件中，找到邮箱为163或者126的所有邮件地址\n",
    "\n",
    "Python自1.5以后增加了re的模块，提供了正则表达式模式\n",
    "\n",
    "re模块使Python语言拥有了全部的正则表达式功能\n",
    "\n",
    "定义：\n",
    "正则表达式，又称正规表示式、正规表示法、正规表达式、规则表达式、常规表示法\n",
    "\n",
    "（Regular Expression，在代码中常简写为regex、regexp或RE），\n",
    "\n",
    "是计算机科学的一个概念。正则表达式使用单个字符串来描述、匹配一系列匹配某个句法规则的字符串。\n",
    "\n",
    "在很多文本编辑器里，正则表达式通常被用来检索、替换那些匹配某个模式的文本。\n",
    "\n",
    "Regular Expression的“Regular”一般被译为“正则”、“正规”、“常规”。此处的“Regular”即是“规则”、“规律”的意思，\n",
    "\n",
    "Regular Expression即“描述某种规则的表达式”之意。"
   ]
  },
  {
   "cell_type": "markdown",
   "metadata": {},
   "source": [
    "### 正则表达式操作\n",
    "\n",
    "在Python中需要通过正则表达式对字符串进行匹配的时候，可以使用一个模块，名字为re\n",
    "\n",
    "re模块的使用过程：\n",
    "\n",
    "    # 导入re模块\n",
    "    import re\n",
    "\n",
    "    # 使用match方法进行匹配操作\n",
    "    result = re.match(正则表达式,要匹配的字符串)\n",
    "\n",
    "    # 如果上一步匹配到数据的话，可以使用group方法来提取数据\n",
    "    result.group()\n",
    "    \n",
    "说明：\n",
    "   re.match是用来进行正则匹配检查的方法，若字符串匹配正则表达式，\n",
    "   \n",
    "   则match方法返回匹配对象（Match Object），否则返回None（注意不是空字符串\"\"）。\n",
    "   \n",
    "匹配对象Macth Object具有group方法，用来返回字符串的匹配部分"
   ]
  },
  {
   "cell_type": "code",
   "execution_count": 35,
   "metadata": {
    "ExecuteTime": {
     "end_time": "2019-05-11T16:29:22.802772Z",
     "start_time": "2019-05-11T16:29:22.792822Z"
    }
   },
   "outputs": [
    {
     "name": "stdout",
     "output_type": "stream",
     "text": [
      "july\n"
     ]
    }
   ],
   "source": [
    "#例如：\n",
    "import re\n",
    "\n",
    "result = re.match(\"july\", \"julyedu.com\")\n",
    "print(result.group())#qianfeng\n",
    "\n",
    "#说明：\n",
    " #re.match() 能够匹配出以xxx开头的字符串"
   ]
  },
  {
   "cell_type": "markdown",
   "metadata": {},
   "source": [
    "### 表示字符串\n",
    "\n",
    "在上一小节中，了解到通过re模块能够完成使用正则表达式来匹配字符串\n",
    "\n",
    "正则表达式的单字符匹配\n",
    "\n",
    "字符 \t功能\n",
    "\n",
    ". \t匹配任意1个字符（除了\\n）\n",
    "\n",
    "[ ] \t匹配[ ]中列举的字符\n",
    "\n",
    "\\d \t匹配数字，即0-9\n",
    "\n",
    "\\D \t匹配非数字，即不是数字\n",
    "\n",
    "\\s \t匹配空白，即 空格，tab键\n",
    "\n",
    "\\S \t匹配非空白\n",
    "\n",
    "\\w \t匹配单词字符，即a-z、A-Z、0-9、_\n",
    "\n",
    "\\W \t匹配非单词字符"
   ]
  },
  {
   "cell_type": "code",
   "execution_count": 36,
   "metadata": {
    "ExecuteTime": {
     "end_time": "2019-05-11T16:34:00.907450Z",
     "start_time": "2019-05-11T16:34:00.891348Z"
    },
    "collapsed": true
   },
   "outputs": [
    {
     "name": "stdout",
     "output_type": "stream",
     "text": [
      "a\n",
      "b\n",
      "M\n",
      "h\n",
      "H\n",
      "h\n",
      "H\n",
      "7\n",
      "7\n",
      "嫦娥1号\n",
      "嫦娥2号\n",
      "嫦娥3号\n",
      "嫦娥1号\n",
      "嫦娥2号\n",
      "嫦娥3号\n"
     ]
    }
   ],
   "source": [
    "#案例1：\n",
    "  # 可以匹配任意一个\n",
    "import re\n",
    "ret = re.match(\".\", \"a\")\n",
    "reslut1 = ret.group()\n",
    "\n",
    "ret = re.match(\".\", \"b\")\n",
    "reslut2 = ret.group()\n",
    "\n",
    "ret = re.match(\".\", \"M\")\n",
    "reslut3 = ret.group()\n",
    "\n",
    "print(reslut1)\n",
    "print(reslut2)\n",
    "print(reslut3)\n",
    "\n",
    "\n",
    "\n",
    "#案例2：\n",
    "import re\n",
    "\n",
    "# 如果hello的首字符小写，那么正则表达式需要小写的h\n",
    "ret = re.match(\"h\",\"hello Python\")\n",
    "print(ret.group())\n",
    "\n",
    "\n",
    "# 如果hello的首字符大写，那么正则表达式需要大写的H\n",
    "ret = re.match(\"H\",\"Hello Python\")\n",
    "print(ret.group())\n",
    "\n",
    "# 大小写h都可以的情况\n",
    "ret = re.match(\"[hH]\",\"hello Python\")\n",
    "print(ret.group())\n",
    "ret = re.match(\"[hH]\",\"Hello Python\")\n",
    "print(ret.group())\n",
    "\n",
    "# 匹配0到9第一种写法\n",
    "ret = re.match(\"[0123456789]\",\"7Hello Python\")\n",
    "print(ret.group())\n",
    "\n",
    "# 匹配0到9第二种写法\n",
    "ret = re.match(\"[0-9]\",\"7Hello Python\")\n",
    "print(ret.group())\n",
    "\n",
    "#案例3：\n",
    "import re\n",
    "\n",
    "# 普通的匹配方式\n",
    "ret = re.match(\"嫦娥1号\", \"嫦娥1号发射成功\")\n",
    "print(ret.group())#嫦娥1号\n",
    "\n",
    "ret = re.match(\"嫦娥2号\", \"嫦娥2号发射成功\")\n",
    "print(ret.group())#嫦娥2号\n",
    "\n",
    "ret = re.match(\"嫦娥3号\", \"嫦娥3号发射成功\")\n",
    "print(ret.group())#嫦娥3号\n",
    "\n",
    "# 使用\\d进行匹配\n",
    "ret = re.match(\"嫦娥\\d号\", \"嫦娥1号发射成功\")\n",
    "print(ret.group())#嫦娥1号\n",
    "\n",
    "ret = re.match(\"嫦娥\\d号\", \"嫦娥2号发射成功\")\n",
    "print(ret.group())#嫦娥2号\n",
    "\n",
    "ret = re.match(\"嫦娥\\d号\", \"嫦娥3号发射成功\")\n",
    "print(ret.group())#嫦娥3号"
   ]
  },
  {
   "cell_type": "markdown",
   "metadata": {},
   "source": [
    "### 原始字符串\n",
    "\n"
   ]
  },
  {
   "cell_type": "code",
   "execution_count": 38,
   "metadata": {
    "ExecuteTime": {
     "end_time": "2019-05-11T16:36:03.220945Z",
     "start_time": "2019-05-11T16:36:03.198564Z"
    }
   },
   "outputs": [
    {
     "name": "stdout",
     "output_type": "stream",
     "text": [
      "c:\\a\\b\\c\n",
      "c:\\\n",
      "c:\\a\n",
      "c:\\a\n"
     ]
    },
    {
     "ename": "AttributeError",
     "evalue": "'NoneType' object has no attribute 'group'",
     "output_type": "error",
     "traceback": [
      "\u001b[0;31m---------------------------------------------------------------------------\u001b[0m",
      "\u001b[0;31mAttributeError\u001b[0m                            Traceback (most recent call last)",
      "\u001b[0;32m<ipython-input-38-b90a1cfe0864>\u001b[0m in \u001b[0;36m<module>\u001b[0;34m\u001b[0m\n\u001b[1;32m     11\u001b[0m \u001b[0mprint\u001b[0m\u001b[0;34m(\u001b[0m\u001b[0mret\u001b[0m\u001b[0;34m)\u001b[0m\u001b[0;31m#c:\\a\u001b[0m\u001b[0;34m\u001b[0m\u001b[0;34m\u001b[0m\u001b[0m\n\u001b[1;32m     12\u001b[0m \u001b[0;34m\u001b[0m\u001b[0m\n\u001b[0;32m---> 13\u001b[0;31m \u001b[0mret\u001b[0m \u001b[0;34m=\u001b[0m \u001b[0mre\u001b[0m\u001b[0;34m.\u001b[0m\u001b[0mmatch\u001b[0m\u001b[0;34m(\u001b[0m\u001b[0;34mr\"c:\\a\"\u001b[0m\u001b[0;34m,\u001b[0m\u001b[0mmm\u001b[0m\u001b[0;34m)\u001b[0m\u001b[0;34m.\u001b[0m\u001b[0mgroup\u001b[0m\u001b[0;34m(\u001b[0m\u001b[0;34m)\u001b[0m\u001b[0;34m\u001b[0m\u001b[0;34m\u001b[0m\u001b[0m\n\u001b[0m\u001b[1;32m     14\u001b[0m \u001b[0mprint\u001b[0m\u001b[0;34m(\u001b[0m\u001b[0mret\u001b[0m\u001b[0;34m)\u001b[0m\u001b[0;31m#报错\u001b[0m\u001b[0;34m\u001b[0m\u001b[0;34m\u001b[0m\u001b[0m\n\u001b[1;32m     15\u001b[0m \u001b[0;34m\u001b[0m\u001b[0m\n",
      "\u001b[0;31mAttributeError\u001b[0m: 'NoneType' object has no attribute 'group'"
     ]
    }
   ],
   "source": [
    "import re\n",
    "mm = \"c:\\\\a\\\\b\\\\c\"\n",
    "print(mm)#c:\\a\\b\\c\n",
    "result = re.match(\"c:\\\\\\\\\",mm).group()\n",
    "print(result)#c:\\\n",
    "\n",
    "ret = re.match(\"c:\\\\\\\\a\",mm).group()\n",
    "print(ret)#c:\\a\n",
    "\n",
    "ret = re.match(r\"c:\\\\a\",mm).group()\n",
    "print(ret)#c:\\a\n",
    "\n",
    "ret = re.match(r\"c:\\a\",mm).group()\n",
    "print(ret)#报错\n",
    "\n",
    "\"\"\"\n",
    "说明\n",
    "Python中字符串前面加上 r 表示原生字符串，\n",
    "与大多数编程语言相同，正则表达式里使用\"\\\"作为转义字符，这就可能造成反斜杠困扰。假如你需要匹配文本中的字符\"\\\"，\n",
    "那么使用编程语言表示的正则表达式里将需要4个反斜杠\"\\\\\"：\n",
    "前两个和后两个分别用于在编程语言里转义成反斜杠，转换成两个反斜杠后再在正则表达式里转义成一个反斜杠。\n",
    "Python里的原生字符串很好地解决了这个问题，有了原始字符串，你再也不用担心是不是漏写了反斜杠，\n",
    "写出来的表达式也更直观。\n",
    "\n",
    "ret = re.match(r\"c:\\\\a\",mm).group()\n",
    "print(ret)#c:\\a\n",
    "\"\"\""
   ]
  },
  {
   "cell_type": "markdown",
   "metadata": {},
   "source": [
    "### 表示数量\n",
    "\n",
    "匹配多个字符的相关格式\n",
    "\n",
    "字符 \t功能\n",
    "\n",
    "\\* \t匹配前一个字符出现0次或者无限次，即可有可无\n",
    "\n",
    "\\+ \t匹配前一个字符出现1次或者无限次，即至少有1次\n",
    "\n",
    "? \t匹配前一个字符出现1次或者0次，即要么有1次，要么没有\n",
    "\n",
    "{m} \t匹配前一个字符出现m次\n",
    "\n",
    "{m,} \t匹配前一个字符至少出现m次\n",
    "\n",
    "{m,n} \t匹配前一个字符出现从m到n次"
   ]
  },
  {
   "cell_type": "code",
   "execution_count": null,
   "metadata": {},
   "outputs": [],
   "source": [
    "#案例1：\n",
    "#需求：匹配出，一个字符串第一个字母为大小字符，后面都是小写字母并且这些小写字母可有可无\n",
    "\n",
    "import re\n",
    "\n",
    "ret = re.match(\"[A-Z][a-z]*\",\"Mm\")\n",
    "print(ret.group())#Mm\n",
    "\n",
    "ret = re.match(\"[A-Z][a-z]*\",\"Aabcdef\")\n",
    "print(ret.group())#Aabcdef\n",
    "\n",
    "#案例2：\n",
    "#需求：匹配出，变量名是否有效\n",
    "\n",
    "import re\n",
    "\n",
    "ret = re.match(\"[a-zA-Z_]+[\\w_]*\",\"name1\")\n",
    "print(ret.group())#name1\n",
    "\n",
    "ret = re.match(\"[a-zA-Z_]+[\\w_]*\",\"_name\")\n",
    "print(ret.group())#_name\n",
    "\n",
    "# ret = re.match(\"[a-zA-Z_]+[\\w_]*\",\"2_name\")\n",
    "# print(ret.group())#报错\n",
    "\n",
    "#案例3：\n",
    "#需求：匹配出，0到99之间的数字\n",
    "import re\n",
    "\n",
    "ret = re.match(\"[1-9]?[0-9]\",\"7\")\n",
    "print(ret.group())#7\n",
    "\n",
    "ret = re.match(\"[1-9]?[0-9]\",\"33\")\n",
    "print(ret.group())#33\n",
    "\n",
    "ret = re.match(\"[1-9]?[0-9]\",\"09\")\n",
    "print(ret.group())#0"
   ]
  },
  {
   "cell_type": "markdown",
   "metadata": {},
   "source": [
    "### 表示边界\n",
    "\n",
    "字符 \t功能\n",
    "\n",
    "^ \t匹配字符串开头\n",
    "\n",
    "$ \t匹配字符串结尾\n",
    "\n",
    "\\b \t匹配一个单词的边界\n",
    "\n",
    "\\B \t匹配非单词边界"
   ]
  },
  {
   "cell_type": "code",
   "execution_count": 39,
   "metadata": {
    "ExecuteTime": {
     "end_time": "2019-05-11T16:38:39.968679Z",
     "start_time": "2019-05-11T16:38:39.962307Z"
    }
   },
   "outputs": [
    {
     "name": "stdout",
     "output_type": "stream",
     "text": [
      "xiaoWang@163.com\n",
      "ho ver\n",
      "hover\n"
     ]
    }
   ],
   "source": [
    "#案例1：\n",
    "#需求：匹配163.com的邮箱地址\n",
    "import re\n",
    "\n",
    "# 正确的地址\n",
    "ret = re.match(\"[\\w]{4,20}@163\\.com\", \"xiaoWang@163.com\")\n",
    "print(ret.group())\n",
    "\n",
    "# 不正确的地址\n",
    "# ret = re.match(\"[\\w]{4,20}@163\\.com\", \"xiaoWang@163.comheihei\")\n",
    "# ret.group()\n",
    "\n",
    "# 通过$来确定末尾（错误）\n",
    "# ret = re.match(\"[\\w]{4,20}@163\\.com$\", \"xiaoWang@163.comheihei\")\n",
    "# ret.group()\n",
    "\n",
    "#案例2：\n",
    "#\\b\n",
    "\n",
    "import re\n",
    "ret = re.match(r\".*\\bver\\b\", \"ho ver abc\").group()\n",
    "print(ret)#ho ver\n",
    "\n",
    "# re.match(r\".*\\bver\\b\", \"ho verabc\").group()#错误\n",
    "\n",
    "# re.match(r\".*\\bver\\b\", \"hover abc\").group()#错误\n",
    "\n",
    "\n",
    "#案例3：\n",
    "#\\B\n",
    "import re\n",
    "ret = re.match(r\".*\\Bver\\B\", \"hoverabc\").group()\n",
    "print(ret)#hover\n",
    "\n",
    "# re.match(r\".*\\Bver\\B\", \"ho verabc\").group()#错误\n",
    "# re.match(r\".*\\Bver\\B\", \"hover abc\").group()#错误\n",
    "# re.match(r\".*\\Bver\\B\", \"ho ver abc\").group()#错误"
   ]
  },
  {
   "cell_type": "code",
   "execution_count": null,
   "metadata": {},
   "outputs": [],
   "source": []
  },
  {
   "cell_type": "code",
   "execution_count": null,
   "metadata": {},
   "outputs": [],
   "source": []
  },
  {
   "cell_type": "code",
   "execution_count": null,
   "metadata": {},
   "outputs": [],
   "source": []
  },
  {
   "cell_type": "code",
   "execution_count": null,
   "metadata": {},
   "outputs": [],
   "source": []
  },
  {
   "cell_type": "code",
   "execution_count": null,
   "metadata": {},
   "outputs": [],
   "source": []
  },
  {
   "cell_type": "code",
   "execution_count": null,
   "metadata": {},
   "outputs": [],
   "source": []
  },
  {
   "cell_type": "code",
   "execution_count": null,
   "metadata": {},
   "outputs": [],
   "source": []
  },
  {
   "cell_type": "code",
   "execution_count": null,
   "metadata": {},
   "outputs": [],
   "source": []
  },
  {
   "cell_type": "code",
   "execution_count": null,
   "metadata": {},
   "outputs": [],
   "source": []
  },
  {
   "cell_type": "code",
   "execution_count": null,
   "metadata": {},
   "outputs": [],
   "source": []
  },
  {
   "cell_type": "code",
   "execution_count": null,
   "metadata": {},
   "outputs": [],
   "source": []
  },
  {
   "cell_type": "code",
   "execution_count": null,
   "metadata": {},
   "outputs": [],
   "source": []
  },
  {
   "cell_type": "code",
   "execution_count": null,
   "metadata": {},
   "outputs": [],
   "source": []
  },
  {
   "cell_type": "code",
   "execution_count": null,
   "metadata": {},
   "outputs": [],
   "source": []
  },
  {
   "cell_type": "code",
   "execution_count": null,
   "metadata": {},
   "outputs": [],
   "source": []
  },
  {
   "cell_type": "code",
   "execution_count": null,
   "metadata": {},
   "outputs": [],
   "source": []
  },
  {
   "cell_type": "code",
   "execution_count": null,
   "metadata": {},
   "outputs": [],
   "source": []
  },
  {
   "cell_type": "code",
   "execution_count": null,
   "metadata": {},
   "outputs": [],
   "source": []
  },
  {
   "cell_type": "code",
   "execution_count": null,
   "metadata": {},
   "outputs": [],
   "source": []
  }
 ],
 "metadata": {
  "kernelspec": {
   "display_name": "Python 3",
   "language": "python",
   "name": "python3"
  },
  "language_info": {
   "codemirror_mode": {
    "name": "ipython",
    "version": 3
   },
   "file_extension": ".py",
   "mimetype": "text/x-python",
   "name": "python",
   "nbconvert_exporter": "python",
   "pygments_lexer": "ipython3",
   "version": "3.6.4"
  },
  "toc": {
   "base_numbering": 1,
   "nav_menu": {},
   "number_sections": true,
   "sideBar": true,
   "skip_h1_title": false,
   "title_cell": "Table of Contents",
   "title_sidebar": "Contents",
   "toc_cell": false,
   "toc_position": {},
   "toc_section_display": true,
   "toc_window_display": true
  },
  "varInspector": {
   "cols": {
    "lenName": 16,
    "lenType": 16,
    "lenVar": 40
   },
   "kernels_config": {
    "python": {
     "delete_cmd_postfix": "",
     "delete_cmd_prefix": "del ",
     "library": "var_list.py",
     "varRefreshCmd": "print(var_dic_list())"
    },
    "r": {
     "delete_cmd_postfix": ") ",
     "delete_cmd_prefix": "rm(",
     "library": "var_list.r",
     "varRefreshCmd": "cat(var_dic_list()) "
    }
   },
   "types_to_exclude": [
    "module",
    "function",
    "builtin_function_or_method",
    "instance",
    "_Feature"
   ],
   "window_display": false
  }
 },
 "nbformat": 4,
 "nbformat_minor": 2
}
