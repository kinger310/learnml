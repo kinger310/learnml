{
 "cells": [
  {
   "cell_type": "markdown",
   "metadata": {},
   "source": [
    "# 1_机器学习介绍"
   ]
  },
  {
   "cell_type": "markdown",
   "metadata": {},
   "source": [
    "## 1_1_基本术语"
   ]
  },
  {
   "cell_type": "markdown",
   "metadata": {},
   "source": [
    "机器学习：利用经验、通过计算、构建模型，来改善系统自身的性能。  "
   ]
  },
  {
   "cell_type": "markdown",
   "metadata": {},
   "source": [
    "属性（特征）：描述事物在特定方面的性质的事项。  \n",
    "属性值：属性上的取值。  \n",
    "属性空间（输入空间）：由属性张成的空间，属性空间$\\mathcal{X}$。  "
   ]
  },
  {
   "cell_type": "markdown",
   "metadata": {},
   "source": [
    "记录（样本）：一个具体事物的属性描述，由属性向量表示。\n",
    "第$j$个记录$\\mathbf{x}_j$的属性向量\n",
    "$$\\mathbf{x} _ { j } = \\left( x _ { j } ^ { ( 1 ) } , x _ { j } ^ { ( 2 ) } , \\cdots , x _ { j } ^ { ( i ) } , \\cdots , x _ { j } ^ { ( n ) } \\right) ^ { \\top } , \\quad j = 1,2 , \\cdots , N, \\quad \\mathbf{x}_j\\in\\mathcal{X}。$$"
   ]
  },
  {
   "cell_type": "markdown",
   "metadata": {},
   "source": [
    "标记：描述事物某个特性的事项。  \n",
    "标记值：标记上的取值。  \n",
    "标记空间（输出空间）：所有标记的集合，标记空间$\\mathcal{Y}$。"
   ]
  },
  {
   "cell_type": "markdown",
   "metadata": {},
   "source": [
    "样例：拥有了对应标记的记录，由（记录，标记）对表示。第$j$个样例\n",
    "$$\\left(\\mathbf{x}_j,y_j\\right),\\quad j=1,2,\\dots,N,\\quad\\mathbf{x}_j\\in\\mathcal{X},y_j\\in\\mathcal{Y}。$$"
   ]
  },
  {
   "cell_type": "markdown",
   "metadata": {},
   "source": [
    "数据集：  \n",
    "记录的集合（无监督），$D=\\{\\mathbf{x}_1,\\mathbf{x}_2,\\dots,\\mathbf{x}_N\\}$；  \n",
    "样例的集合（有监督），$D=\\{\\left(\\mathbf{x}_1,y_1\\right),\\left(\\mathbf{x}_2,y_2\\right),\\dots,\\left(\\mathbf{x}_N,y_N\\right)\\}$。  "
   ]
  },
  {
   "cell_type": "markdown",
   "metadata": {},
   "source": [
    "回归：有监督学习中，标记为连续值，$\\mathcal{Y}=\\mathbb{R}$。  \n",
    "分类：有监督学习中，标记为离散值。其中$|\\mathcal{Y}|=2,\\mathcal{Y}=\\{0,1\\}$或$\\mathcal{Y}=\\{+1,-1\\}$为二分类；$|\\mathcal{Y}|>2,\\mathcal{Y}=\\{c_1,c_2,\\dots,c_n\\}$，为多分类。"
   ]
  },
  {
   "cell_type": "markdown",
   "metadata": {},
   "source": [
    "训练数据集：用以训练模型的数据集的子集，$D_{training} \\subseteq D$。   \n",
    "测试数据集：应用测试模型的数据集的子集，$D_{testing} \\subseteq D$。"
   ]
  },
  {
   "cell_type": "markdown",
   "metadata": {},
   "source": [
    "## 1_2_假设空间与参数空间"
   ]
  },
  {
   "cell_type": "markdown",
   "metadata": {},
   "source": [
    "决策函数（非概率模型）：从输入空间$\\mathcal{X}$到输出空间$\\mathcal{Y}$的映射$f:\\mathcal{X}\\to\\mathcal{Y}$。  \n",
    "假设空间$\\mathcal{F}$定义为决策函数的集合\n",
    "$$\\mathcal{F} = \\left\\{ f | Y = f \\left( \\mathbf{X} \\right) \\right\\}$$\n",
    "其中，$\\mathbf{X}$是定义在输入空间$\\mathcal{X}$上的变量，$\\mathbf{X}\\in\\mathcal{X}$;$Y$是定义在输出空间$\\mathcal{Y}$上的变量。"
   ]
  },
  {
   "cell_type": "markdown",
   "metadata": {
    "collapsed": true
   },
   "source": [
    "假设空间$\\mathcal{F}$通常是由一个参数向量决定的函数族\n",
    "$$\\mathcal{F} = \\left\\{ f | Y = f_{\\mathbf{w}} \\left( \\mathbf{X} \\right), \\mathbf{w} \\in \\mathbb{R}^{n} \\right\\} $$\n",
    "其中，参数向量$\\mathbf{w}$取值于$n$维向量空间$\\mathbb{R}^{n}$，称为参数空间。"
   ]
  },
  {
   "cell_type": "markdown",
   "metadata": {},
   "source": [
    "假设空间$\\mathcal{F}$也可定义为条件概率的集合（概率模型）\n",
    "$$\\mathcal{F} = \\left\\{ P | P \\left( Y | \\mathbf{X} \\right) \\right\\} $$\n",
    "其中，$\\mathbf{X}$是定义在输入空间$\\mathcal{X}$上的随机变量，$Y$是定义在输出空间$\\mathcal{Y}$上的随机变量。"
   ]
  },
  {
   "cell_type": "markdown",
   "metadata": {},
   "source": [
    "假设空间$\\mathcal{F}$通常是由一个参数向量决定的概率分布族\n",
    "$$\\mathcal{F} = \\left\\{ P | P_{\\mathbf{w}} \\left( Y | \\mathbf{X} \\right), \\mathbf{w} \\in \\mathbb{R}^{n} \\right\\} $$\n",
    "其中，参数向量$\\mathbf{w}$取值于$n$维向量空间$\\mathbb{R}^{n}$，称为参数空间。"
   ]
  },
  {
   "cell_type": "markdown",
   "metadata": {},
   "source": [
    "## 1_3_模型策略"
   ]
  },
  {
   "cell_type": "markdown",
   "metadata": {},
   "source": [
    "损失函数（代价函数）度量模型预测错误的程度，是预测输出$f\\left(\\mathbf{X}\\right)$和实际输出$Y$的非负实值函数，记作$L \\left(Y, f \\left( \\mathbf{X} \\right) \\right)$。"
   ]
  },
  {
   "cell_type": "markdown",
   "metadata": {},
   "source": [
    "0-1损失函数\n",
    "\\begin{align*} L \\left(Y, f \\left( \\mathbf{X} \\right) \\right)  &= \\left\\{\n",
    "\\begin{aligned} \n",
    "\\ &  1, \\quad Y \\neq f \\left( \\mathbf{X} \\right)\n",
    "\\\\ & 0, \\quad Y = f \\left( \\mathbf{X} \\right)\n",
    "\\end{aligned}\n",
    "\\right.  \\\\\n",
    "&=I\\left(Y \\neq f \\left( \\mathbf{X}\\right)\\right)\\end{align*}   \n",
    "其中，$I\\left(\\cdot\\right)$是指示函数。"
   ]
  },
  {
   "cell_type": "markdown",
   "metadata": {},
   "source": [
    "平方损失函数\n",
    "\\begin{align*} L \\left(Y, f \\left( \\mathbf{X} \\right) \\right) = \\left( Y - f \\left( \\mathbf{X} \\right) \\right)^{2} \\end{align*} "
   ]
  },
  {
   "cell_type": "markdown",
   "metadata": {},
   "source": [
    "绝对值损失函数\n",
    "\\begin{align*} L \\left(Y, f \\left( \\mathbf{X} \\right) \\right) = \\left| Y - f \\left( \\mathbf{X} \\right) \\right| \\end{align*} "
   ]
  },
  {
   "cell_type": "markdown",
   "metadata": {},
   "source": [
    "对数似然损失函数\n",
    "\\begin{align*} L \\left(Y, P \\left( Y | \\mathbf{X} \\right) \\right) = - \\log P \\left( Y | \\mathbf{X} \\right) \\end{align*} "
   ]
  },
  {
   "cell_type": "markdown",
   "metadata": {},
   "source": [
    "经验风险（经验损失）是模型$f\\left(\\mathbf{X}\\right)$关于训练数据集\n",
    "\\begin{align*} \\\\& D = \\left\\{ \\left( \\mathbf{x}_{1}, y_{1} \\right), \\left( \\mathbf{x}_{2}, y_{2} \\right), \\cdots, \\left( \\mathbf{x}_{N}, y_{N} \\right) \\right\\} \\end{align*}  \n",
    "的平均损失\n",
    "\\begin{align*} R_{emp} \\left( f \\right) = \\dfrac{1}{N} \\sum_{i=1}^{N} L \\left(y_{i}, f \\left( \\mathbf{x}_{i} \\right) \\right) \\end{align*} "
   ]
  },
  {
   "cell_type": "markdown",
   "metadata": {},
   "source": [
    "经验风险最小化\n",
    "$$\\min_{f\\in\\mathcal{F}} R_{emp}\\left(f\\right)$$\n",
    "其中，$\\mathcal{F}$是假设空间。"
   ]
  },
  {
   "cell_type": "markdown",
   "metadata": {},
   "source": [
    "<img style=\"float:left;\" src=\"./images/1.jpg\" width=\"33%\" alt=\"\" />\n",
    "<img style=\"float:left;\" src=\"./images/2.jpg\" width=\"33%\" alt=\"\" />\n",
    "<img style=\"float:left\" src=\"./images/3.jpg\" width=\"33%\" alt=\"3\" />"
   ]
  },
  {
   "cell_type": "markdown",
   "metadata": {},
   "source": [
    "过拟合：学习时选择的模型所包含的参数过多，以至于出现对已知数据预测得很好，但对未知数据预测得很差的现象。  \n",
    "欠拟合：学习时选择的模型所包含的参数过少，以至于出现不能对数据预测很好的现象。  \n",
    "泛化能力：学习得到的模型对未知数据的预测能力。"
   ]
  },
  {
   "cell_type": "markdown",
   "metadata": {},
   "source": [
    "结构风险：在经验风险上增加表示模型复杂度的正则化项。\n",
    "\\begin{align*} R_{str}= \\dfrac{1}{N} \\sum_{i=1}^{N} L \\left(y_{i}, f \\left( \\mathbf{x}_{i} \\right) \\right) + \\lambda J \\left(f\\right) \\end{align*}\n",
    "其中，$J \\left(f\\right)$是模型复杂度，是正则化项，是定义在假设空间$\\mathcal{F}$上的泛函；$\\lambda \\geq 0$是系数，用以权衡风险和模型复杂度。"
   ]
  },
  {
   "cell_type": "markdown",
   "metadata": {},
   "source": [
    "结构风险最小化\n",
    "$$\\min_{f\\in\\mathcal{F}} R_{str}\\left(f\\right)$$\n",
    "其中，$\\mathcal{F}$是假设空间。"
   ]
  },
  {
   "cell_type": "markdown",
   "metadata": {},
   "source": [
    "正则化项可以是参数向量的$L_{2}$范数\n",
    "\\begin{align*}  J_{2} =  \\frac{1}{2}\\| \\mathbf{w} \\|^2\\end{align*} \n",
    "其中，$\\|\\mathbf{w}\\|$表示参数向量$\\mathbf{w}$的$L_{2}$范数。  \n",
    "正则化项可以是参数向量的$L_{1}$范数\n",
    "\\begin{align*}  J_{1} =  \\| \\mathbf{w} \\|_{1} \\end{align*} \n",
    "其中，$\\|\\mathbf{w}\\|_{1}$表示参数向量$\\mathbf{w}$的$L_{1}$范数。"
   ]
  },
  {
   "cell_type": "markdown",
   "metadata": {},
   "source": [
    "## 1_4_优化算法"
   ]
  },
  {
   "cell_type": "markdown",
   "metadata": {},
   "source": [
    "机器学习的训练过程就是使用训练数据集$D$，按照学习准则在假设空间$\\mathcal{F}$中寻找最优模型$f^*$的最优化求解过程\n",
    "$$f^* = \\mathop{\\arg\\min}_{f\\in\\mathcal{F}}R_{str}\\left(f\\right) $$或者在参数空间中寻找最优参数$\\mathbf{w}^*$的最优化求解过程\n",
    "$$\\mathbf{w}^*=\\mathop{\\arg\\min}_{f_{\\mathbf{w}}\\in\\mathcal{F}}R_{str}\\left(f_{\\mathbf{w}}\\right)。$$"
   ]
  },
  {
   "cell_type": "markdown",
   "metadata": {},
   "source": [
    "梯度下降法：通过迭代的方法来计算训练集$D$上的风险函数最小值\n",
    "$$\\begin{align*}\\mathbf{w}_{t+1}&=\\mathbf{w}_t-\\alpha\\frac{\\partial R_D\\left(\\mathbf{w}\\right)}{\\partial\\mathbf{w}} \\\\\n",
    "&=\\mathbf{w}_t-\\alpha\\frac{1}{N}\\sum_{i=1}^N\\frac{\\partial L\\left(y_i,f_{\\mathbf{w}}\\left(\\mathbf{x}_i\\right)\\right) }{\\partial\\mathbf{w}} \\end{align*}$$\n",
    "其中，$\\mathbf{w}_t$为第$t$次迭代的参数值，$\\alpha$为学习率。"
   ]
  },
  {
   "cell_type": "markdown",
   "metadata": {},
   "source": [
    "## 1_5_性能度量与评估方法"
   ]
  },
  {
   "cell_type": "markdown",
   "metadata": {},
   "source": [
    "训练误差：模型$Y = \\hat f \\left(X\\right)$关于训练数据集的平均损失\n",
    "\\begin{align*} R_{emp} \\left( \\hat f \\right) = \\dfrac{1}{N} \\sum_{i=1}^{N} L \\left(y_{i}, \\hat f \\left( \\mathbf{x}_{i} \\right) \\right) \\end{align*} \n",
    "其中，$N$是训练样本容量。"
   ]
  },
  {
   "cell_type": "markdown",
   "metadata": {},
   "source": [
    "测试误差：模型$Y = \\hat f \\left(X\\right)$关于测试数据集的平均损失\n",
    "\\begin{align*} e_{test}  = \\dfrac{1}{N'} \\sum_{i=1}^{N'} L \\left(y_{i}, \\hat f \\left( \\mathbf{x}_{i} \\right) \\right) \\end{align*} \n",
    "其中，$N'$是测试样本容量。"
   ]
  },
  {
   "cell_type": "markdown",
   "metadata": {},
   "source": [
    "当损失函数是0-1损失，测试误差即测试集上的误差率\n",
    "\\begin{align*} e_{test} = \\dfrac{1}{N'} \\sum_{i=1}^{N’} I \\left( y_{i} \\neq \\hat f \\left(\\mathbf{x}_{i} \\right) \\right) \\end{align*} \n",
    "其中，$I$是指示函数，即$y \\neq \\hat f \\left( \\mathbf{x} \\right)$时为1，否则为0。"
   ]
  },
  {
   "cell_type": "markdown",
   "metadata": {},
   "source": [
    "测试集上的准确率\n",
    "\\begin{align*} r_{test} = \\dfrac{1}{N'} \\sum_{i=1}^{N’} I \\left( y_{i} = \\hat f \\left(\\mathbf{x}_{i} \\right) \\right) \\end{align*} \n",
    "则，$r_{test} + e_{test} = 1 $。"
   ]
  },
  {
   "cell_type": "markdown",
   "metadata": {},
   "source": [
    "分类中，模型的预测结果可分为：\n",
    "1. 真正例（True Positive，TP）：将正类预测为正类；  \n",
    "2. 假负类（False Negative，FN）：将正类预测为负类；  \n",
    "3. 假正类（False Positive，FP）：将负类预测为正类；  \n",
    "4. 真负类（True Negative，TN）：将负类预测为负类。  \n"
   ]
  },
  {
   "cell_type": "markdown",
   "metadata": {},
   "source": [
    "精确率（查准率）\n",
    "\\begin{align*}  P = \\dfrac{TP}{TP+FP}\\end{align*} \n",
    "召回率（查全率）\n",
    "\\begin{align*}  R = \\dfrac{TP}{TP+FN}\\end{align*} "
   ]
  },
  {
   "cell_type": "markdown",
   "metadata": {},
   "source": [
    "P-R曲线：根据模型的预测结果对记录进行排序，按此顺序逐个对记录作为正样本进行预测，计算出当前查全率、查准率。在以查全率为横坐标，查准率为纵坐标的坐标系中，绘制各点并连接成线。  \n",
    "平衡点：模型在“查准率=查全率”时的取值。  \n",
    "模型比较：平衡点大的模型性能优于平衡点小的模型。"
   ]
  },
  {
   "cell_type": "markdown",
   "metadata": {},
   "source": [
    "<img style=\"float:center;\" src=\"./images/PR.jpg\" width=\"40%\" alt=\"PR\" />"
   ]
  },
  {
   "cell_type": "markdown",
   "metadata": {
    "collapsed": true
   },
   "source": [
    "$F_{1}$值是精确率和召回率的调和均值\n",
    "\\begin{align*} \\\\ &  \\dfrac{2}{F_{1}} = \\dfrac{1}{P} + \\dfrac{1}{R} \n",
    "\\\\ & F_{1} = \\dfrac{2TP}{2TP+FP+FN}\\end{align*} "
   ]
  },
  {
   "cell_type": "markdown",
   "metadata": {},
   "source": [
    "真正率\n",
    "$$TPR=\\frac{TP}{TP+FN}$$\n",
    "假正率\n",
    "$$FPR=\\frac{FP}{TN+FP}$$"
   ]
  },
  {
   "cell_type": "markdown",
   "metadata": {},
   "source": [
    "ROC曲线：根据模型的预测结果对记录进行排序，按此顺序逐个对记录作为正样本进行预测，计算出当前真正率、假正率。在以假正率为横坐标，真正率为纵坐标的坐标系中，绘制各点并连接成线。   \n",
    "AUC：坐标系中ROC曲线下覆盖面积。  \n",
    "模型比较：模型ROC曲线有交叉时，AUC大的模型性能优于AUC小的模型。"
   ]
  },
  {
   "cell_type": "markdown",
   "metadata": {},
   "source": [
    "留出法：将数据集$D$划分为两个互斥的集合，其中一个集合作为训练集，另一个作为测试集。在训练集上训练模型，在测试集上测试误差，作为对泛华能力的评估。"
   ]
  },
  {
   "cell_type": "markdown",
   "metadata": {},
   "source": [
    "k折交叉验证：将数据集$D$划分为$k$个大小相似的互斥子集，即$D=D_1\\cup D_2\\cup\\dots\\cup D_k$，$D_i\\cap D_j=\\emptyset\\left(i\\neq j\\right)$。每次用$k-1$个子集的并集作为训练集，余下的子集作为测试集。可得到$k$组训练集、测试集。最终返回的是$k$个测试结果的均值。"
   ]
  }
 ],
 "metadata": {
  "kernelspec": {
   "display_name": "Python 3",
   "language": "python",
   "name": "python3"
  },
  "language_info": {
   "codemirror_mode": {
    "name": "ipython",
    "version": 3
   },
   "file_extension": ".py",
   "mimetype": "text/x-python",
   "name": "python",
   "nbconvert_exporter": "python",
   "pygments_lexer": "ipython3",
   "version": "3.6.8"
  }
 },
 "nbformat": 4,
 "nbformat_minor": 1
}
