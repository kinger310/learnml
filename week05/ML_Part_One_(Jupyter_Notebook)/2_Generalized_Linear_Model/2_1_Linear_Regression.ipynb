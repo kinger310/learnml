{
 "cells": [
  {
   "cell_type": "markdown",
   "metadata": {},
   "source": [
    "# 2_广义线性模型"
   ]
  },
  {
   "cell_type": "markdown",
   "metadata": {},
   "source": [
    "## 2_1_线性回归"
   ]
  },
  {
   "cell_type": "markdown",
   "metadata": {},
   "source": [
    "### 2_1_1_多元线性回归模型"
   ]
  },
  {
   "cell_type": "markdown",
   "metadata": {},
   "source": [
    "给定训练数据集\n",
    "\\begin{align*} \\\\& D = \\left\\{ \\left( \\mathbf{x}_{1}, y_{1} \\right), \\left( \\mathbf{x}_{2}, y_{2} \\right), \\cdots, \\left(\\mathbf{x}_i,y_i\\right),\\dots, \\left( \\mathbf{x}_{N}, y_{N} \\right) \\right\\} \\end{align*}   \n",
    "其中，$\\mathbf{x}_{i} \\in \\mathcal{X}\\subseteq\\mathbb{R}^{n}, y_{i} \\in \\mathcal{Y}\\subseteq\\mathbb{R}$。"
   ]
  },
  {
   "cell_type": "markdown",
   "metadata": {},
   "source": [
    "线性回归模型：\n",
    "$$f\\left(\\mathbf{x}\\right)=\\mathbf{w}\\cdot\\mathbf{x}+b=\\sum_{i=1}^n w^{\\left(i\\right)}\\cdot x^{\\left(i\\right)}+b $$\n",
    "其中，$\\mathbf{x} \\in \\mathcal{X}\\subseteq \\mathbb{R}^{n}$是输入，$\\mathbf{w}=\\left(w^{\\left(1\\right)},w^{\\left(2\\right)},\\dots,w^{\\left(n\\right)}\\right)^\\top \\in \\mathbb{R}^{n}$和$b \\in \\mathbb{R}$是参数，$\\mathbf{w}$称为权值向量，$b$称为偏置，$\\mathbf{w} \\cdot \\mathbf{x}$为$\\mathbf{w}$和$\\mathbf{x}$的内积。"
   ]
  },
  {
   "cell_type": "markdown",
   "metadata": {},
   "source": [
    "令\n",
    "$$\\hat{\\mathbf{w}}=\\left(\\mathbf{w},b\\right)^\\top \\\\\n",
    "\\hat{\\mathbf{x}}=\\left(\\mathbf{x},1\\right)^\\top$$\n",
    "则多元线性回归模型可简化为\n",
    "$$f\\left(\\hat{\\mathbf{x}}\\right)=\\hat{\\mathbf{w}}\\cdot\\hat{\\mathbf{x}}$$\n",
    "其中，$\\hat{\\mathbf{x}}$为增广特征向量，$\\hat{\\mathbf{w}}$为增广权重。"
   ]
  },
  {
   "cell_type": "markdown",
   "metadata": {},
   "source": [
    "### 2_1_2_多元线性回归参数学习——经验风险最小化与结构风险最小化"
   ]
  },
  {
   "cell_type": "markdown",
   "metadata": {},
   "source": [
    "损失函数：平方损失损失函数\n",
    "$$L\\left(y,f\\left(\\mathbf{x}\\right)\\right)=\\left(y-f\\left(\\mathbf{x}\\right)\\right)^2$$"
   ]
  },
  {
   "cell_type": "markdown",
   "metadata": {},
   "source": [
    "经验风险\n",
    "$$\\begin{align*} R_{emp} \\left( f \\right) = \\dfrac{1}{N} \\sum_{i=1}^{N} L \\left(y_{i}, f \\left( \\mathbf{x}_{i} \\right) \\right) \\end{align*} $$"
   ]
  },
  {
   "cell_type": "markdown",
   "metadata": {},
   "source": [
    "模型参数最优解：\n",
    "$$\\hat{\\mathbf{w}}^*=\\mathop{\\arg\\min}_{\\hat{\\mathbf{w}}}\\sum_{i=1}^N \\left(y_i-f\\left(\\hat{\\mathbf{x}}_i\\right)\\right)^2$$"
   ]
  },
  {
   "cell_type": "markdown",
   "metadata": {},
   "source": [
    "基于均方误差最小化来进行模型求解的方法称为“最小二乘法”（least square method）。"
   ]
  },
  {
   "cell_type": "markdown",
   "metadata": {},
   "source": [
    "等价的，模型参数最优解：\n",
    "$$\\hat{\\mathbf{w}}^*=\\mathop{\\arg\\min}_{\\hat{\\mathbf{w}}} \\left(\\mathbf{y}-\\mathbf{X}\\hat{\\mathbf{w}}\\right)^\\top\\left(\\mathbf{y}-\\mathbf{X}\\hat{\\mathbf{w}}\\right)$$\n",
    "其中，\n",
    "$$\\mathbf{X}=\\begin{pmatrix} \\mathbf{x}_1^\\top & 1 \\\\ \\mathbf{x}_2^\\top & 1  \\\\ \\vdots & \\vdots  \\\\ \\mathbf{x}_N^\\top & 1\\end{pmatrix} \\\\\n",
    "\\mathbf{y}=\\left(y_1,y_2,\\dots,y_N\\right)^\\top$$"
   ]
  },
  {
   "cell_type": "markdown",
   "metadata": {},
   "source": [
    "令$E_{\\hat{\\mathbf{w}}}=\\left(\\mathbf{y}-\\mathbf{X}\\hat{\\mathbf{w}}\\right)^\\top\\left(\\mathbf{y}-\\mathbf{X}\\hat{\\mathbf{w}}\\right)$，对$\\hat{\\mathbf{w}}$求偏导，得\n",
    "$$\\frac{\\partial E_{\\hat{\\mathbf{w}}}}{\\partial \\hat{\\mathbf{w}}}=2\\mathbf{X}^\\top\\left(\\mathbf{X}\\hat{\\mathbf{w}}-\\mathbf{y}\\right)$$"
   ]
  },
  {
   "cell_type": "markdown",
   "metadata": {},
   "source": [
    "当$\\mathbf{X}^\\top\\mathbf{X}$为满秩矩阵或正定矩阵时，令上式为零可得最优闭式解\n",
    "$$\\hat{\\mathbf{w}}^*=\\left(\\mathbf{X}^\\top\\mathbf{X}\\right)^{-1}\\mathbf{X}^\\top\\mathbf{y}$$"
   ]
  },
  {
   "cell_type": "markdown",
   "metadata": {},
   "source": [
    "当上述条件不满足时，可使用主成分分析（PCA）等方法消除特征间的线性相关性，再使用最小二乘法求解。  \n",
    "或者通过梯度下降法，初始化$\\hat{\\mathbf{w}}_0=\\mathbf{0}$，进行迭代\n",
    "$$\\hat{\\mathbf{w}}\\gets\\hat{\\mathbf{w}}+\\alpha\\mathbf{X}^\\top\\left(\\mathbf{X}\\hat{\\mathbf{w}}-\\mathbf{y}\\right)$$\n",
    "其中，$\\alpha$是学习率。"
   ]
  },
  {
   "cell_type": "markdown",
   "metadata": {},
   "source": [
    "岭回归（Ridge Regression）正则化项：\n",
    "$$\\alpha\\|\\mathbf{w}\\|^2,\\alpha\\geq0.$$"
   ]
  },
  {
   "cell_type": "markdown",
   "metadata": {},
   "source": [
    "套索回归（Lasso Regression）正则化项：\n",
    "$$\\alpha\\|\\mathbf{w}\\|_1,\\alpha\\geq0.$$"
   ]
  },
  {
   "cell_type": "markdown",
   "metadata": {},
   "source": [
    "弹性网络回归（Elastic Net）正则化项：\n",
    "$$\\alpha\\rho\\|\\mathbf{w}\\|_1+\\frac{\\alpha\\left(1-\\rho\\right)}{2}\\|\\mathbf{w}\\|^2,\\alpha\\geq0,1\\geq \\rho\\geq0.$$"
   ]
  },
  {
   "cell_type": "markdown",
   "metadata": {},
   "source": [
    "### 2_1_3_多元线性回归参数学习——最大似然估计"
   ]
  },
  {
   "cell_type": "markdown",
   "metadata": {},
   "source": [
    "设标记$y$为服从均值为$f\\left(\\hat{\\mathbf{x}}\\right)=\\hat{\\mathbf{w}}\\cdot\\hat{\\mathbf{x}}$，方差为$\\sigma^2$的高斯分布\n",
    "$$\\begin{align*} p\\left(y|\\hat{\\mathbf{x}},\\hat{\\mathbf{w}},\\sigma\\right)&=\\mathcal{N}\\left(y|\\hat{\\mathbf{w}}\\cdot\\hat{\\mathbf{x}},\\sigma^2\\right) \\\\\n",
    "&=\\frac{1}{\\sqrt{2 \\pi} \\sigma} \\exp \\left(-\\frac{\\left(y-\\hat{\\mathbf{w}}\\cdot \\hat{\\mathbf{x}}\\right)^{2}}{2 \\sigma^{2}}\\right) \\end{align*}$$\n"
   ]
  },
  {
   "cell_type": "markdown",
   "metadata": {},
   "source": [
    "参数$\\hat{\\mathbf{w}}$在训练集$D$上的似然函数（Likelihood）\n",
    "$$\\begin{aligned} p(\\mathbf{y} | X, \\hat{\\mathbf{w}}, \\sigma) &=\\prod_{i=1}^{N} p\\left(y_i | \\mathbf{x}_i, \\hat{\\mathbf{w}}, \\sigma\\right) \\\\ &=\\prod_{i=1}^{N} \\mathcal{N}\\left(y_i | \\hat{\\mathbf{w}}\\cdot\\hat{\\mathbf{x}}_i, \\sigma^{2}\\right) \\end{aligned}$$"
   ]
  },
  {
   "cell_type": "markdown",
   "metadata": {},
   "source": [
    "参数$\\hat{\\mathbf{w}}$在训练集$D$上的对数似然函数（Log Likelihood）\n",
    "$$\\log p(\\mathbf{y} | X, \\hat{\\mathbf{w}}, \\sigma)=\\sum_{i=1}^{N} \\log \\mathcal{N}\\left(y_i | \\hat{\\mathbf{w}}\\cdot \\hat{\\mathbf{x}}_i, \\sigma^{2}\\right)$$"
   ]
  },
  {
   "cell_type": "markdown",
   "metadata": {},
   "source": [
    "最大似然估计\n",
    "$$\\hat{\\mathbf{w}}^*=\\mathop{\\arg\\max}_{\\hat{\\mathbf{w}}}p(\\mathbf{y} | X, \\hat{\\mathbf{w}}, \\sigma)$$\n",
    "等价的\n",
    "$$\\hat{\\mathbf{w}}^*=\\mathop{\\arg\\max}_{\\hat{\\mathbf{w}}}\\log p(\\mathbf{y} | X, \\hat{\\mathbf{w}}, \\sigma)$$\n",
    "等价的\n",
    "$$\\hat{\\mathbf{w}}^*=\\mathop{\\arg\\min}_{\\hat{\\mathbf{w}}}-\\log p(\\mathbf{y} | X, \\hat{\\mathbf{w}}, \\sigma)$$"
   ]
  },
  {
   "cell_type": "markdown",
   "metadata": {},
   "source": [
    "令$\\frac{\\partial \\log p(\\mathbf{y} | X, \\hat{\\mathbf{w}}, \\sigma)}{\\partial \\hat{\\mathbf{w}}}=0$，得\n",
    "$$\n",
    "\\mathbf{w}^{M L}=\\left(\\mathbf{X}^\\top\\mathbf{X}\\right)^{-1}\\mathbf{X}^\\top\\mathbf{y}\n",
    "$$"
   ]
  },
  {
   "cell_type": "markdown",
   "metadata": {},
   "source": [
    "### 2_1_4_多元线性回归模型应用"
   ]
  },
  {
   "cell_type": "code",
   "execution_count": 3,
   "metadata": {},
   "outputs": [
    {
     "name": "stdout",
     "output_type": "stream",
     "text": [
      "Coefficients:[ -43.26774487 -208.67053951  593.39797213  302.89814903 -560.27689824\n",
      "  261.47657106   -8.83343952  135.93715156  703.22658427   28.34844354], intercept 153.07\n",
      "Residual sum of squares: 3180.20\n",
      "Score: 0.36\n"
     ]
    }
   ],
   "source": [
    "import matplotlib.pyplot as plt\n",
    "import numpy as np\n",
    "from sklearn import datasets, linear_model,model_selection\n",
    "\n",
    "def load_data():\n",
    "    diabetes = datasets.load_diabetes()\n",
    "    return model_selection.train_test_split(diabetes.data,diabetes.target,test_size=0.25,random_state=0) \n",
    "\n",
    "def test_LinearRegression(*data):\n",
    "    X_train,X_test,y_train,y_test=data\n",
    "    regr = linear_model.LinearRegression()\n",
    "    regr.fit(X_train, y_train)\n",
    "    print('Coefficients:%s, intercept %.2f'%(regr.coef_,regr.intercept_))\n",
    "    print(\"Residual sum of squares: %.2f\"% np.mean((regr.predict(X_test) - y_test) ** 2))\n",
    "    print('Score: %.2f' % regr.score(X_test, y_test))\n",
    "\n",
    "if __name__=='__main__':\n",
    "    X_train,X_test,y_train,y_test=load_data() \n",
    "    test_LinearRegression(X_train,X_test,y_train,y_test) "
   ]
  },
  {
   "cell_type": "code",
   "execution_count": 12,
   "metadata": {},
   "outputs": [
    {
     "name": "stdout",
     "output_type": "stream",
     "text": [
      "Coefficients:[  0.          -0.         442.67992538   0.           0.\n",
      "   0.          -0.           0.         330.76014648   0.        ], intercept 152.52\n",
      "Residual sum of squares: 3583.42\n",
      "Score: 0.28\n"
     ]
    },
    {
     "data": {
      "image/png": "[encoded data removed]",
      "text/plain": [
       "<Figure size 432x288 with 1 Axes>"
      ]
     },
     "metadata": {
      "needs_background": "light"
     },
     "output_type": "display_data"
    }
   ],
   "source": [
    "import matplotlib.pyplot as plt\n",
    "import numpy as np\n",
    "from sklearn import datasets, linear_model,model_selection\n",
    "\n",
    "def load_data():\n",
    "    diabetes = datasets.load_diabetes()\n",
    "    return model_selection.train_test_split(diabetes.data,diabetes.target,\n",
    "        test_size=0.25,random_state=0) \n",
    "def test_Lasso(*data):\n",
    "    X_train,X_test,y_train,y_test=data\n",
    "    regr = linear_model.Lasso()\n",
    "    regr.fit(X_train, y_train)\n",
    "    print('Coefficients:%s, intercept %.2f'%(regr.coef_,regr.intercept_))\n",
    "    print(\"Residual sum of squares: %.2f\"% np.mean((regr.predict(X_test) - y_test) ** 2))\n",
    "    print('Score: %.2f' % regr.score(X_test, y_test))\n",
    "    \n",
    "def test_Lasso_alpha(*data):\n",
    "    X_train,X_test,y_train,y_test=data\n",
    "    alphas=[0.01,0.02,0.05,0.1,0.2,0.5,1,2,5,10,20,50,100,200,500,1000]\n",
    "    scores=[]\n",
    "    for i,alpha in enumerate(alphas):\n",
    "        regr = linear_model.Lasso(alpha=alpha)\n",
    "        regr.fit(X_train, y_train)\n",
    "        scores.append(regr.score(X_test, y_test))\n",
    "    \n",
    "    fig=plt.figure()\n",
    "    ax=fig.add_subplot(1,1,1)\n",
    "    ax.plot(alphas,scores)\n",
    "    ax.set_xlabel(r\"$\\alpha$\")\n",
    "    ax.set_ylabel(r\"score\")\n",
    "    ax.set_xscale('log')\n",
    "    ax.set_title(\"Lasso\")\n",
    "    plt.show()\n",
    "    \n",
    "if __name__=='__main__':\n",
    "    X_train,X_test,y_train,y_test=load_data() \n",
    "    test_Lasso(X_train,X_test,y_train,y_test) \n",
    "    test_Lasso_alpha(X_train,X_test,y_train,y_test) "
   ]
  },
  {
   "cell_type": "code",
   "execution_count": 11,
   "metadata": {},
   "outputs": [
    {
     "name": "stdout",
     "output_type": "stream",
     "text": [
      "Coefficients:[  21.19927911  -60.47711393  302.87575204  179.41206395    8.90911449\n",
      "  -28.8080548  -149.30722541  112.67185758  250.53760873   99.57749017], intercept 152.45\n",
      "Residual sum of squares: 3192.33\n",
      "Score: 0.36\n"
     ]
    },
    {
     "data": {
      "image/png": "[encoded data removed]",
      "text/plain": [
       "<Figure size 432x288 with 1 Axes>"
      ]
     },
     "metadata": {
      "needs_background": "light"
     },
     "output_type": "display_data"
    }
   ],
   "source": [
    "import matplotlib.pyplot as plt\n",
    "import numpy as np\n",
    "from sklearn import datasets, linear_model,model_selection\n",
    "\n",
    "def load_data():\n",
    "    diabetes = datasets.load_diabetes()\n",
    "    return model_selection.train_test_split(diabetes.data,diabetes.target,\n",
    "        test_size=0.25,random_state=0) \n",
    "\n",
    "def test_Ridge(*data):\n",
    "    X_train,X_test,y_train,y_test=data\n",
    "    regr = linear_model.Ridge()\n",
    "    regr.fit(X_train, y_train)\n",
    "    print('Coefficients:%s, intercept %.2f'%(regr.coef_,regr.intercept_))\n",
    "    print(\"Residual sum of squares: %.2f\"% np.mean((regr.predict(X_test) - y_test) ** 2))\n",
    "    print('Score: %.2f' % regr.score(X_test, y_test))\n",
    "    \n",
    "def test_Ridge_alpha(*data):\n",
    "    X_train,X_test,y_train,y_test=data\n",
    "    alphas=[0.01,0.02,0.05,0.1,0.2,0.5,1,2,5,10,20,50,100,200,500,1000]\n",
    "    scores=[]\n",
    "    for i,alpha in enumerate(alphas):\n",
    "        regr = linear_model.Ridge(alpha=alpha)\n",
    "        regr.fit(X_train, y_train)\n",
    "        scores.append(regr.score(X_test, y_test))\n",
    "    \n",
    "    fig=plt.figure()\n",
    "    ax=fig.add_subplot(1,1,1)\n",
    "    ax.plot(alphas,scores)\n",
    "    ax.set_xlabel(r\"$\\alpha$\")\n",
    "    ax.set_ylabel(r\"score\")\n",
    "    ax.set_xscale('log')\n",
    "    ax.set_title(\"Ridge\")\n",
    "    plt.show()\n",
    "    \n",
    "if __name__=='__main__':\n",
    "    X_train,X_test,y_train,y_test=load_data() \n",
    "    test_Ridge(X_train,X_test,y_train,y_test) \n",
    "    test_Ridge_alpha(X_train,X_test,y_train,y_test) "
   ]
  }
 ],
 "metadata": {
  "kernelspec": {
   "display_name": "Python 3",
   "language": "python",
   "name": "python3"
  },
  "language_info": {
   "codemirror_mode": {
    "name": "ipython",
    "version": 3
   },
   "file_extension": ".py",
   "mimetype": "text/x-python",
   "name": "python",
   "nbconvert_exporter": "python",
   "pygments_lexer": "ipython3",
   "version": "3.6.8"
  }
 },
 "nbformat": 4,
 "nbformat_minor": 2
}
