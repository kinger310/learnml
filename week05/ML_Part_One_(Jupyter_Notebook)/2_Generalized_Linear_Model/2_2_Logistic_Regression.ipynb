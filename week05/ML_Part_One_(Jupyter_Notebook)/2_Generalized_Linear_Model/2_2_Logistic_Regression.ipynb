{
 "cells": [
  {
   "cell_type": "markdown",
   "metadata": {},
   "source": [
    "# 2_广义线性模型"
   ]
  },
  {
   "cell_type": "markdown",
   "metadata": {},
   "source": [
    "## 2_2_逻辑斯谛回归"
   ]
  },
  {
   "cell_type": "markdown",
   "metadata": {},
   "source": [
    "### 2_2_1_sigmoid函数与二项逻辑斯谛回归模型"
   ]
  },
  {
   "cell_type": "markdown",
   "metadata": {},
   "source": [
    "sigmoid函数：\n",
    "$$sigmoid\\left(z\\right)=\\sigma\\left(z\\right)=\\frac{1}{1+e^{-z}}$$\n",
    "其中，$z\\in\\mathbb{R}$，$sigoid\\left(z\\right)\\in\\left(0,1\\right)$。"
   ]
  },
  {
   "cell_type": "markdown",
   "metadata": {},
   "source": [
    "sigmoid函数的导数：\n",
    "$$\\sigma'\\left(z\\right)=\\sigma\\left(z\\right)\\left(1-\\sigma\\left(z\\right)\\right)$$"
   ]
  },
  {
   "cell_type": "markdown",
   "metadata": {
    "collapsed": true
   },
   "source": [
    "二项逻辑斯谛回归模型是如下的条件概率分布：\n",
    "$$\\begin{align*}   P \\left( y = 1 | \\mathbf{x} \\right) &=\\sigma\\left(\\mathbf{w}\\cdot\\mathbf{x}+b\\right)   \\\\ \n",
    "&=  \\dfrac{1}{1+\\exp{\\left(-\\left(\\mathbf{w} \\cdot \\mathbf{x} + b \\right)\\right)}}\n",
    "\\\\ &= \\dfrac{\\exp{\\left(\\mathbf{w} \\cdot \\mathbf{x} + b \\right)}}{1+\\exp{\\left( \\mathbf{w} \\cdot \\mathbf{x} + b \\right)}}\\\\\n",
    "P \\left( y = 0 | \\mathbf{x} \\right) &=  1- \\sigma\\left(\\mathbf{w}\\cdot\\mathbf{x}+b\\right)\n",
    "\\\\ &=\\dfrac{1}{1+\\exp{\\left( \\mathbf{w} \\cdot \\mathbf{x} + b \\right)}}\\end{align*}$$\n",
    "其中，$\\mathbf{x} \\in \\mathbb{R}^{n}$，$y \\in \\left\\{ 0, 1 \\right\\}$，$\\mathbf{w} \\in \\mathbb{R}^{n}$是权值向量，$b \\in \\mathbb{R}$是偏置，$\\mathbf{w} \\cdot \\mathbf{x}$为向量内积。"
   ]
  },
  {
   "cell_type": "markdown",
   "metadata": {
    "collapsed": true
   },
   "source": [
    "可将权值权值向量和特征向量加以扩充，即增广权值向量$\\hat{\\mathbf{w}} = \\left( w^{\\left(1\\right)},w^{\\left(2\\right)},\\cdots,w^{\\left(n\\right)},b \\right)^\\top$，增广特征向量$\\hat{\\mathbf{x}} = \\left( x^{\\left(1\\right)},x^{\\left(2\\right)},\\cdots,x^{\\left(n\\right)},1 \\right)^\\top$，则逻辑斯谛回归模型：\n",
    "\\begin{align*} \\\\&  P \\left( y = 1 | \\hat{\\mathbf{x}} \\right) = \\dfrac{\\exp{\\left(\\hat{\\mathbf{w}} \\cdot \\hat{\\mathbf{x}} \\right)}}{1+\\exp{\\left( \\hat{\\mathbf{w}} \\cdot \\hat{\\mathbf{x}}  \\right)}}\\\\&  P \\left( y = 0 | \\hat{\\mathbf{x}} \\right) =\\dfrac{1}{1+\\exp{\\left( \\hat{\\mathbf{w}} \\cdot \\hat{\\mathbf{x}}  \\right)}}\\end{align*}"
   ]
  },
  {
   "cell_type": "markdown",
   "metadata": {},
   "source": [
    "### 2_2_2_二项逻辑斯谛回归参数学习——最大似然估计"
   ]
  },
  {
   "cell_type": "markdown",
   "metadata": {},
   "source": [
    "给定训练数据集\n",
    "\\begin{align*} \\\\& D = \\left\\{ \\left( \\hat{\\mathbf{x}}_{1}, y_{1} \\right), \\left( \\hat{\\mathbf{x}}_{2}, y_{2} \\right), \\cdots, \\left( \\hat{\\mathbf{x}}_{N}, y_{N} \\right) \\right\\} \\end{align*}   \n",
    "其中，$\\hat{\\mathbf{x}}_{i} \\in \\mathbb{R}^{n+1}, y_{i} \\in \\left\\{ 0, 1 \\right\\}, i = 1, 2, \\cdots, N$。"
   ]
  },
  {
   "cell_type": "markdown",
   "metadata": {},
   "source": [
    "设\n",
    "$$\\begin{align*} \\\\& P \\left( y =1 | \\hat{\\mathbf{x}} \\right)  =\\sigma \\left( \\hat{\\mathbf{w}}\\cdot\\hat{\\mathbf{x}} \\right) ,\\quad P \\left( y =0 | \\hat{\\mathbf{x}} \\right) = 1 - \\sigma \\left( \\hat{\\mathbf{w}}\\cdot\\hat{\\mathbf{x}} \\right)  \\end{align*}   $$\n",
    "似然函数\n",
    "$$\n",
    "\\begin{align*}  L \\left( \\hat{\\mathbf{w}} \\right)  &= \\prod_{i=1}^N P\\left(y_i|\\hat{\\mathbf{x}}_i\\right)  \\\\\n",
    "&= \\prod_{i=1}^{N} \\left[ \\sigma \\left( \\hat{\\mathbf{w}}\\cdot\\hat{\\mathbf{x}}_{i} \\right) \\right]^{y_{i}}\\left[ 1 - \\sigma \\left( \\hat{\\mathbf{w}}\\cdot\\hat{\\mathbf{x}}_{i} \\right) \\right]^{1 - y_{i}}\\end{align*} $$"
   ]
  },
  {
   "cell_type": "markdown",
   "metadata": {},
   "source": [
    "对数似然函数\n",
    "$$\\begin{align*} \\\\ l \\left( \\hat{\\mathbf{w}} \\right) &= \\log L \\left( \\hat{\\mathbf{w}} \\right) \n",
    "\\\\ & = \\sum_{i=1}^{N} \\left[ y_{i} \\log \\sigma \\left( \\hat{\\mathbf{w}}\\cdot\\hat{\\mathbf{x}}_{i} \\right) + \\left( 1 - y_{i} \\right) \\log \\left( 1 - \\sigma \\left( \\hat{\\mathbf{w}}\\cdot\\hat{\\mathbf{x}}_{i} \\right) \\right) \\right]\\end{align*} $$"
   ]
  },
  {
   "cell_type": "markdown",
   "metadata": {},
   "source": [
    "最大似然估计\n",
    "$$\\hat{\\mathbf{w}}^*=\\mathop{\\arg\\max}_{\\hat{\\mathbf{w}}} l\\left(\\hat{\\mathbf{w}}\\right)$$"
   ]
  },
  {
   "cell_type": "markdown",
   "metadata": {},
   "source": [
    "令$\\hat{y}_i=\\sigma\\left(\\hat{\\mathbf{w}}\\cdot\\hat{\\mathbf{x}}_i\\right)$，则对数似然函数$l\\left(\\hat{\\mathbf{w}}\\right)$关于$\\hat{\\mathbf{w}}$的偏导数\n",
    "$$\\begin{align*}\\frac{\\partial l\\left(\\hat{\\mathbf{w}}\\right)}{\\partial \\hat{\\mathbf{w}}} &=\\sum_{i=1}^N\\left(y_i\\frac{\\hat{y}_i\\left(1-\\hat{y}_i\\right)}{\\hat{y}_i}\\hat{\\mathbf{x}}_i+\\left(1-y_i\\right)\\frac{\\hat{y}_i\\left(1-\\hat{y}_i\\right)}{1-\\hat{y}_i}\\hat{\\mathbf{x}}_i\\right)\\\\\n",
    "&=\\sum_{i=1}^N\\left(y_i\\left(1-\\hat{y}_i\\right)\\hat{\\mathbf{x}}_i+\\left(1-y_i\\right)\\hat{y}_i\\hat{\\mathbf{x}}_i\\right) \\\\\n",
    "&=\\sum_{i=1}^N\\hat{\\mathbf{x}}_i\\left(y_i-\\hat{y}_i\\right)\\end{align*}$$"
   ]
  },
  {
   "cell_type": "markdown",
   "metadata": {},
   "source": [
    "采用梯度上升法，初始化$\\hat{\\mathbf{w}}=\\mathbf{0}$，进行迭代\n",
    "$$\\hat{\\mathbf{w}}_{t+1}\\gets\\hat{\\mathbf{w}}_t+\\alpha\\sum_{i=1}^N\\hat{\\mathbf{x}}_i\\left(y_i-\\hat{y}_i^{\\hat{\\mathbf{w}}_t}\\right)$$\n",
    "其中，$\\alpha$是学习率，$\\hat{y}_i^{\\hat{\\mathbf{w}}_t}$是当参数$\\hat{\\mathbf{w}}_t$时模型的输出。"
   ]
  },
  {
   "cell_type": "markdown",
   "metadata": {},
   "source": [
    "### 2_2_3_softmax函数与多项逻辑斯谛回归模型"
   ]
  },
  {
   "cell_type": "markdown",
   "metadata": {},
   "source": [
    "对于$K$个标量$x_1,x_2,\\dots,x_K$,softmax函数：\n",
    "$$z_k=softmax\\left(x_k\\right)=\\frac{\\exp\\left(x_k\\right)}{\\sum_{i=1}^K\\exp\\left(x_i\\right)}$$\n",
    "其中，$z_k\\in\\left[0,1\\right]$，且$\\forall k,\\sum_{i=1}^K z_k=1$。"
   ]
  },
  {
   "cell_type": "markdown",
   "metadata": {},
   "source": [
    "对于$K$维向量$\\mathbf{x}=\\left[x_1,x_2,\\dots,x_K\\right]$，softmax函数：\n",
    "$$\\mathbf{z}=softmax\\left(\\mathbf{x}\\right)=\\frac{\\exp\\left(\\mathbf{x}\\right)}{\\sum_{i=1}^K\\exp\\left(x_i\\right)}=\\frac{\\exp\\left(\\mathbf{x}\\right)}{\\mathbf{1}^\\top_K\\exp\\left(\\mathbf{x}\\right)}$$\n",
    "其中，$\\mathbf{1}_K=\\left[1,\\dots,1\\right]_{K\\times 1}$是$K$维的全1向量。"
   ]
  },
  {
   "cell_type": "markdown",
   "metadata": {},
   "source": [
    "$K$维向量$\\mathbf{x}$的softmax函数的导数：\n",
    "$$\\frac{\\partial softmax\\left(\\mathbf{x}\\right)}{\\partial\\mathbf{x}}=diag\\left(softmax\\left(\\mathbf{x}\\right)\\right)-softmax\\left(\\mathbf{x}\\right)softmax\\left(\\mathbf{x}\\right)\\top$$"
   ]
  },
  {
   "cell_type": "markdown",
   "metadata": {
    "collapsed": true
   },
   "source": [
    "多项逻辑斯谛回归模型是如下的条件概率分布：\n",
    "$$ \\begin{align*} \\\\&  P \\left( y = k | \\hat{\\mathbf{x}} \\right) = \\dfrac{\\exp{\\left(\\hat{\\mathbf{w}}_{k} \\cdot \\hat{\\mathbf{x}} \\right)}}{\\sum_{i=1}^{K}\\exp{\\left( \\hat{\\mathbf{w}}_{i} \\cdot \\hat{\\mathbf{x}}_i  \\right)}} \\end{align*}$$\n",
    "其中，$\\hat{\\mathbf{x}} \\in \\mathbb{R}^{n+1}$是特征增广向量，$y \\in \\left\\{ 1, 2,\\dots,K \\right\\}$，$\\hat{\\mathbf{w}} \\in \\mathbb{R}^{n}$是权值增广向量，$\\hat{\\mathbf{w}} \\cdot \\hat{\\mathbf{x}}$为向量内积。"
   ]
  },
  {
   "cell_type": "markdown",
   "metadata": {},
   "source": [
    "多项式逻辑回归模型的向量表示\n",
    "$$\\hat{\\mathbf{y}}=softmax\\left(W^\\top\\hat{\\mathbf{x}}\\right)=\\frac{\\exp\\left(W^\\top\\hat{\\mathbf{x}}\\right)}{\\mathbf{1}^\\top_K\\exp\\left(W^\\top\\hat{\\mathbf{x}}\\right)}$$\n",
    "其中，$W=\\left[\\hat{\\mathbf{x}}_1,\\dots,\\hat{\\mathbf{w}}_K\\right]$是由$K$个类别权重向量组成的权重矩阵，$\\mathbf{1}$是全$1$向量，$\\hat{\\mathbf{y}}\\in\\mathbb{R}^K$是所有K个类别的预测输出向量，第$k$维的值是第$k$类别的输出。"
   ]
  },
  {
   "cell_type": "markdown",
   "metadata": {},
   "source": [
    "### 2_2_4_多项逻辑斯谛回归参数学习"
   ]
  },
  {
   "cell_type": "markdown",
   "metadata": {},
   "source": [
    "给定训练数据集\n",
    "\\begin{align*} \\\\& D = \\left\\{ \\left( \\hat{\\mathbf{x}}_{1}, y_{1} \\right), \\left( \\hat{\\mathbf{x}}_{2}, y_{2} \\right), \\cdots, \\left( \\hat{\\mathbf{x}}_{N}, y_{N} \\right) \\right\\} \\end{align*}   \n",
    "其中，$\\hat{\\mathbf{x}}_{i} \\in \\mathbb{R}^{n+1}, y_{i} \\in \\left\\{ 1, 2，\\dots,K \\right\\}, i = 1, 2, \\cdots, N$。"
   ]
  },
  {
   "cell_type": "markdown",
   "metadata": {},
   "source": [
    "对标签$y$使用$K$维的one-hot向量$\\mathbf{y}\\in\\{0,1\\}^K$表示。对于类别$c$，其向量表示为\n",
    "$$\\mathbf{y}=\\left[I\\left(k=1\\right),I\\left(k=2\\right),\\dots,I\\left(k=K\\right)\\right]\\top$$\n",
    "其中，$I\\left(\\cdot\\right)$是指示函数。"
   ]
  },
  {
   "cell_type": "markdown",
   "metadata": {},
   "source": [
    "使用交叉熵损失函数，softmax回归模型的风险函数\n",
    "$$\\mathcal{L}\\left(W\\right)=-\\frac{1}{N}\\sum_{i=1}^N\\mathbf{y}_i\\cdot\\log\\hat{\\mathbf{y}}_i=-\\frac{1}{N}\\sum_{i=1}^N\\sum_{k=1}^K\\mathbf{y}_{ik}\\log\\hat{\\mathbf{y}}_{ik}$$\n",
    "其中，$\\mathbf{y}_{ik}$是第$i$个标签one-hot向量表示的第$k$个维度元素值。"
   ]
  },
  {
   "cell_type": "markdown",
   "metadata": {},
   "source": [
    "风险函数$\\mathcal{L}\\left(W\\right)$关于权值矩阵$W$的梯度为\n",
    "$$\\frac{\\partial\\mathcal{L}\\left(W\\right)}{\\partial W}=-\\frac{1}{N}\\sum_{i=1}^N\\hat{\\mathbf{x}}_i\\left(\\mathbf{y}_i-\\hat{\\mathbf{y}}_i\\right)^\\top$$"
   ]
  },
  {
   "cell_type": "markdown",
   "metadata": {},
   "source": [
    "采用梯度下降法，初始化$\\mathbf{W}=\\mathbf{0}$，进行迭代\n",
    "$$\\mathbf{W}_{t+1}\\gets\\mathbf{W}_t+\\alpha\\left(\\frac{1}{N}\\sum_{i=1}^N\\hat{\\mathbf{x}}_i\\left(y_i-\\hat{y}_i^{\\mathbf{W}_t}\\right)^\\top\\right)$$\n",
    "其中，$\\alpha$是学习率，$\\hat{y}_i^{\\mathbf{w}_t}$是当参数$\\mathbf{w}_t$时模型的输出。"
   ]
  },
  {
   "cell_type": "markdown",
   "metadata": {},
   "source": [
    "### 2_2_5_逻辑斯谛回归模型应用"
   ]
  },
  {
   "cell_type": "code",
   "execution_count": 2,
   "metadata": {},
   "outputs": [
    {
     "name": "stdout",
     "output_type": "stream",
     "text": [
      "Coefficients:[[ 0.38705175  1.35839989 -2.12059692 -0.95444452]\n",
      " [ 0.23787852 -1.36235758  0.5982662  -1.26506299]\n",
      " [-1.50915807 -1.29436243  2.14148142  2.29611791]], intercept [ 0.23950369  1.14559506 -1.0941717 ]\n",
      "Score: 0.97\n",
      "Coefficients:[[-0.38353372  0.86198376 -2.26983035 -0.97472053]\n",
      " [ 0.34380687 -0.37905055 -0.03125303 -0.86849329]\n",
      " [ 0.03972686 -0.48293322  2.30108338  1.84321382]], intercept [  8.75854734   2.49443506 -11.2529824 ]\n",
      "Score: 1.00\n"
     ]
    },
    {
     "data": {
      "image/png": "[encoded data removed]",
      "text/plain": [
       "<Figure size 432x288 with 1 Axes>"
      ]
     },
     "metadata": {
      "needs_background": "light"
     },
     "output_type": "display_data"
    }
   ],
   "source": [
    "import matplotlib.pyplot as plt\n",
    "import numpy as np\n",
    "from sklearn import datasets, linear_model\n",
    "from sklearn import model_selection\n",
    "\n",
    "def load_data():\n",
    "    iris=datasets.load_iris() \n",
    "    X_train=iris.data\n",
    "    y_train=iris.target\n",
    "    return model_selection.train_test_split(X_train, y_train,test_size=0.25,random_state=0,stratify=y_train)\n",
    "\n",
    "def test_LogisticRegression(*data):\n",
    "    X_train,X_test,y_train,y_test=data\n",
    "    regr = linear_model.LogisticRegression()\n",
    "    regr.fit(X_train, y_train)\n",
    "    print('Coefficients:%s, intercept %s'%(regr.coef_,regr.intercept_))\n",
    "    print('Score: %.2f' % regr.score(X_test, y_test))\n",
    "    \n",
    "def test_LogisticRegression_multinomial(*data):\n",
    "    X_train,X_test,y_train,y_test=data\n",
    "    regr = linear_model.LogisticRegression(multi_class='multinomial',solver='lbfgs')\n",
    "    regr.fit(X_train, y_train)\n",
    "    print('Coefficients:%s, intercept %s'%(regr.coef_,regr.intercept_))\n",
    "    print('Score: %.2f' % regr.score(X_test, y_test))\n",
    "    \n",
    "def test_LogisticRegression_C(*data):\n",
    "    X_train,X_test,y_train,y_test=data\n",
    "    Cs=np.logspace(-2,4,num=100)\n",
    "    scores=[]\n",
    "    for C in Cs:\n",
    "        regr = linear_model.LogisticRegression(C=C)\n",
    "        regr.fit(X_train, y_train)\n",
    "        scores.append(regr.score(X_test, y_test))\n",
    "    \n",
    "    fig=plt.figure()\n",
    "    ax=fig.add_subplot(1,1,1)\n",
    "    ax.plot(Cs,scores)\n",
    "    ax.set_xlabel(r\"C\")\n",
    "    ax.set_ylabel(r\"score\")\n",
    "    ax.set_xscale('log')\n",
    "    ax.set_title(\"LogisticRegression\")\n",
    "    plt.show()\n",
    "\n",
    "if __name__=='__main__':\n",
    "    X_train,X_test,y_train,y_test=load_data() \n",
    "    test_LogisticRegression(X_train,X_test,y_train,y_test) \n",
    "    test_LogisticRegression_multinomial(X_train,X_test,y_train,y_test) \n",
    "    test_LogisticRegression_C(X_train,X_test,y_train,y_test) "
   ]
  }
 ],
 "metadata": {
  "kernelspec": {
   "display_name": "Python 3",
   "language": "python",
   "name": "python3"
  },
  "language_info": {
   "codemirror_mode": {
    "name": "ipython",
    "version": 3
   },
   "file_extension": ".py",
   "mimetype": "text/x-python",
   "name": "python",
   "nbconvert_exporter": "python",
   "pygments_lexer": "ipython3",
   "version": "3.6.8"
  }
 },
 "nbformat": 4,
 "nbformat_minor": 1
}
