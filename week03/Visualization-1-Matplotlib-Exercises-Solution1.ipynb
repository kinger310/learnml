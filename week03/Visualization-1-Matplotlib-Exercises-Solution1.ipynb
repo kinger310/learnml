{
 "cells": [
  {
   "cell_type": "markdown",
   "metadata": {},
   "source": [
    "## 可视化第一课（matplotlib）练习\n",
    "\n",
    "####  作业提交说明：\n",
    "- 位置：作业文件统一放置于/0.Teacher/Exercise/Visualization1/下\n",
    "- 文件名：请先复制该notebook文件，并重新命名为(课程名)+(您姓名的全拼)，并按要求完成后保存\n",
    "- 时间：课程结束后的第二天前提交。\n",
    "- 注意：请勿抄袭，移动，修改，删除其他同学和原始空白的练习文件。"
   ]
  },
  {
   "cell_type": "code",
   "execution_count": null,
   "metadata": {},
   "outputs": [],
   "source": []
  },
  {
   "cell_type": "code",
   "execution_count": 2,
   "metadata": {
    "ExecuteTime": {
     "end_time": "2019-05-23T02:59:12.104321Z",
     "start_time": "2019-05-23T02:59:11.258606Z"
    }
   },
   "outputs": [],
   "source": [
    "%matplotlib inline\n",
    "import matplotlib as mpl\n",
    "from matplotlib import pyplot as plt\n",
    "import seaborn as sns\n",
    "import numpy as np"
   ]
  },
  {
   "cell_type": "markdown",
   "metadata": {},
   "source": [
    "## 练习1：航班乘客变化分析\n",
    "* 从seaborn库中载入flights数据并查看表头"
   ]
  },
  {
   "cell_type": "code",
   "execution_count": 2,
   "metadata": {
    "ExecuteTime": {
     "end_time": "2019-05-22T09:54:36.876811Z",
     "start_time": "2019-05-22T09:54:36.794641Z"
    }
   },
   "outputs": [
    {
     "data": {
      "text/html": [
       "<div>\n",
       "<style scoped>\n",
       "    .dataframe tbody tr th:only-of-type {\n",
       "        vertical-align: middle;\n",
       "    }\n",
       "\n",
       "    .dataframe tbody tr th {\n",
       "        vertical-align: top;\n",
       "    }\n",
       "\n",
       "    .dataframe thead th {\n",
       "        text-align: right;\n",
       "    }\n",
       "</style>\n",
       "<table border=\"1\" class=\"dataframe\">\n",
       "  <thead>\n",
       "    <tr style=\"text-align: right;\">\n",
       "      <th></th>\n",
       "      <th>year</th>\n",
       "      <th>month</th>\n",
       "      <th>passengers</th>\n",
       "    </tr>\n",
       "  </thead>\n",
       "  <tbody>\n",
       "    <tr>\n",
       "      <th>0</th>\n",
       "      <td>1949</td>\n",
       "      <td>January</td>\n",
       "      <td>112</td>\n",
       "    </tr>\n",
       "    <tr>\n",
       "      <th>1</th>\n",
       "      <td>1949</td>\n",
       "      <td>February</td>\n",
       "      <td>118</td>\n",
       "    </tr>\n",
       "    <tr>\n",
       "      <th>2</th>\n",
       "      <td>1949</td>\n",
       "      <td>March</td>\n",
       "      <td>132</td>\n",
       "    </tr>\n",
       "    <tr>\n",
       "      <th>3</th>\n",
       "      <td>1949</td>\n",
       "      <td>April</td>\n",
       "      <td>129</td>\n",
       "    </tr>\n",
       "    <tr>\n",
       "      <th>4</th>\n",
       "      <td>1949</td>\n",
       "      <td>May</td>\n",
       "      <td>121</td>\n",
       "    </tr>\n",
       "  </tbody>\n",
       "</table>\n",
       "</div>"
      ],
      "text/plain": [
       "   year     month  passengers\n",
       "0  1949   January         112\n",
       "1  1949  February         118\n",
       "2  1949     March         132\n",
       "3  1949     April         129\n",
       "4  1949       May         121"
      ]
     },
     "execution_count": 2,
     "metadata": {},
     "output_type": "execute_result"
    }
   ],
   "source": [
    "data = sns.load_dataset(\"flights\")\n",
    "data.head()\n",
    "# 年份，月份，乘客数"
   ]
  },
  {
   "cell_type": "markdown",
   "metadata": {},
   "source": [
    "* 分析年度乘客总量变化情况（折线图）"
   ]
  },
  {
   "cell_type": "code",
   "execution_count": 3,
   "metadata": {
    "ExecuteTime": {
     "end_time": "2019-05-22T09:54:37.135490Z",
     "start_time": "2019-05-22T09:54:36.879560Z"
    }
   },
   "outputs": [
    {
     "data": {
      "text/plain": [
       "<matplotlib.axes._subplots.AxesSubplot at 0x7f2302776320>"
      ]
     },
     "execution_count": 3,
     "metadata": {},
     "output_type": "execute_result"
    },
    {
     "data": {
      "image/png": "[encoded data removed]",
      "text/plain": [
       "<Figure size 432x288 with 1 Axes>"
      ]
     },
     "metadata": {
      "needs_background": "light"
     },
     "output_type": "display_data"
    }
   ],
   "source": [
    "data.groupby(\"year\")[[\"passengers\"]].sum().plot()"
   ]
  },
  {
   "cell_type": "markdown",
   "metadata": {},
   "source": [
    "* 分析乘客在一年中各月份的分布（柱状图）"
   ]
  },
  {
   "cell_type": "code",
   "execution_count": 4,
   "metadata": {
    "ExecuteTime": {
     "end_time": "2019-05-22T09:54:37.461799Z",
     "start_time": "2019-05-22T09:54:37.140113Z"
    },
    "scrolled": true
   },
   "outputs": [
    {
     "data": {
      "text/plain": [
       "<matplotlib.axes._subplots.AxesSubplot at 0x7f2300700780>"
      ]
     },
     "execution_count": 4,
     "metadata": {},
     "output_type": "execute_result"
    },
    {
     "data": {
      "image/png": "[encoded data removed]",
      "text/plain": [
       "<Figure size 432x288 with 1 Axes>"
      ]
     },
     "metadata": {
      "needs_background": "light"
     },
     "output_type": "display_data"
    }
   ],
   "source": [
    "data.groupby('month')['passengers'].sum().plot(kind='bar')"
   ]
  },
  {
   "cell_type": "markdown",
   "metadata": {},
   "source": [
    "## 练习2：鸢尾花花型尺寸分析\n",
    "\n",
    "* 从seaborn库中载入flights数据并查看表头"
   ]
  },
  {
   "cell_type": "code",
   "execution_count": 3,
   "metadata": {
    "ExecuteTime": {
     "end_time": "2019-05-23T02:59:18.332609Z",
     "start_time": "2019-05-23T02:59:18.239368Z"
    },
    "scrolled": true
   },
   "outputs": [
    {
     "data": {
      "text/html": [
       "<div>\n",
       "<style scoped>\n",
       "    .dataframe tbody tr th:only-of-type {\n",
       "        vertical-align: middle;\n",
       "    }\n",
       "\n",
       "    .dataframe tbody tr th {\n",
       "        vertical-align: top;\n",
       "    }\n",
       "\n",
       "    .dataframe thead th {\n",
       "        text-align: right;\n",
       "    }\n",
       "</style>\n",
       "<table border=\"1\" class=\"dataframe\">\n",
       "  <thead>\n",
       "    <tr style=\"text-align: right;\">\n",
       "      <th></th>\n",
       "      <th>sepal_length</th>\n",
       "      <th>sepal_width</th>\n",
       "      <th>petal_length</th>\n",
       "      <th>petal_width</th>\n",
       "      <th>species</th>\n",
       "    </tr>\n",
       "  </thead>\n",
       "  <tbody>\n",
       "    <tr>\n",
       "      <th>0</th>\n",
       "      <td>5.1</td>\n",
       "      <td>3.5</td>\n",
       "      <td>1.4</td>\n",
       "      <td>0.2</td>\n",
       "      <td>setosa</td>\n",
       "    </tr>\n",
       "    <tr>\n",
       "      <th>1</th>\n",
       "      <td>4.9</td>\n",
       "      <td>3.0</td>\n",
       "      <td>1.4</td>\n",
       "      <td>0.2</td>\n",
       "      <td>setosa</td>\n",
       "    </tr>\n",
       "    <tr>\n",
       "      <th>2</th>\n",
       "      <td>4.7</td>\n",
       "      <td>3.2</td>\n",
       "      <td>1.3</td>\n",
       "      <td>0.2</td>\n",
       "      <td>setosa</td>\n",
       "    </tr>\n",
       "    <tr>\n",
       "      <th>3</th>\n",
       "      <td>4.6</td>\n",
       "      <td>3.1</td>\n",
       "      <td>1.5</td>\n",
       "      <td>0.2</td>\n",
       "      <td>setosa</td>\n",
       "    </tr>\n",
       "    <tr>\n",
       "      <th>4</th>\n",
       "      <td>5.0</td>\n",
       "      <td>3.6</td>\n",
       "      <td>1.4</td>\n",
       "      <td>0.2</td>\n",
       "      <td>setosa</td>\n",
       "    </tr>\n",
       "  </tbody>\n",
       "</table>\n",
       "</div>"
      ],
      "text/plain": [
       "   sepal_length  sepal_width  petal_length  petal_width species\n",
       "0           5.1          3.5           1.4          0.2  setosa\n",
       "1           4.9          3.0           1.4          0.2  setosa\n",
       "2           4.7          3.2           1.3          0.2  setosa\n",
       "3           4.6          3.1           1.5          0.2  setosa\n",
       "4           5.0          3.6           1.4          0.2  setosa"
      ]
     },
     "execution_count": 3,
     "metadata": {},
     "output_type": "execute_result"
    }
   ],
   "source": [
    "data = sns.load_dataset(\"iris\")\n",
    "data.head()\n",
    "# 萼片长度，萼片宽度，花瓣长度，花瓣宽度，种类"
   ]
  },
  {
   "cell_type": "markdown",
   "metadata": {
    "collapsed": true
   },
   "source": [
    "* 萼片（sepal）和花瓣（petal）的大小关系（散点图）"
   ]
  },
  {
   "cell_type": "code",
   "execution_count": 4,
   "metadata": {
    "ExecuteTime": {
     "end_time": "2019-05-23T02:59:22.788399Z",
     "start_time": "2019-05-23T02:59:22.496436Z"
    }
   },
   "outputs": [
    {
     "data": {
      "image/png": "[encoded data removed]",
      "text/plain": [
       "<Figure size 576x432 with 1 Axes>"
      ]
     },
     "metadata": {
      "needs_background": "light"
     },
     "output_type": "display_data"
    }
   ],
   "source": [
    "mpl.rc('figure', figsize=(8,6))\n",
    "fig, axes = plt.subplots()\n",
    "\n",
    "def speal_petal(data, axes, title):\n",
    "    axes.scatter(data['sepal_length'], data['petal_length'])\n",
    "    axes.scatter(data['sepal_length'], data['petal_width'])\n",
    "    axes.scatter(data['sepal_width'], data['petal_length'])\n",
    "    axes.scatter(data['sepal_width'], data['petal_width'])\n",
    "    axes.set_title(title)\n",
    "#     fig.suptitle('sepal and petal')\n",
    "    \n",
    "speal_petal(data, axes, 'sepal and petal')"
   ]
  },
  {
   "cell_type": "markdown",
   "metadata": {},
   "source": [
    "* 不同种类（species）鸢尾花萼片和花瓣的大小关系（分类散点子图）"
   ]
  },
  {
   "cell_type": "code",
   "execution_count": 31,
   "metadata": {
    "ExecuteTime": {
     "end_time": "2019-05-22T10:24:22.585715Z",
     "start_time": "2019-05-22T10:24:21.679458Z"
    }
   },
   "outputs": [
    {
     "data": {
      "image/png": "[encoded data removed]",
      "text/plain": [
       "<Figure size 1296x360 with 3 Axes>"
      ]
     },
     "metadata": {
      "needs_background": "light"
     },
     "output_type": "display_data"
    }
   ],
   "source": [
    "mpl.rc('figure', figsize=(18,5))\n",
    "ax = []\n",
    "fig, ax = plt.subplots(1,3)\n",
    "species = data['species'].unique() \n",
    "for i in range(len(species)):\n",
    "    data_species = data.loc[data['species'] == species[i], :]\n",
    "    speal_petal(data_species, ax[i], species[i])\n",
    "\n",
    "# data_species = data.loc[data['species'] == species[i], :]\n",
    "# speal_petal(data_species,ax[1],species[1])\n",
    "\n",
    "    "
   ]
  },
  {
   "cell_type": "code",
   "execution_count": null,
   "metadata": {
    "ExecuteTime": {
     "start_time": "2019-05-23T02:56:33.725Z"
    }
   },
   "outputs": [],
   "source": [
    "\n",
    "mpl.rc('figure',figsize=(18,5))\n",
    "ax = []\n",
    "fig,ax = plt.subplots(1,3)\n",
    "species = data['species'].unique()\n",
    "\n",
    "\n",
    "for i in range(len(species)):\n",
    "    data_species = data.loc[data['species']==species[i],:]\n",
    "    speal_petal(data_species, ax[i],species[i])\n",
    "\n",
    "\n",
    "# for i in range(len(species)):\n",
    "#     data_species = data.loc[data['species'] == species[i], :]\n",
    "#     speal_petal(data_species, ax[i], species[i])\n",
    "    \n",
    "    "
   ]
  },
  {
   "cell_type": "markdown",
   "metadata": {},
   "source": [
    "* 不同种类鸢尾花萼片和花瓣大小的分布情况（柱状图或者箱式图）"
   ]
  },
  {
   "cell_type": "code",
   "execution_count": 32,
   "metadata": {
    "ExecuteTime": {
     "end_time": "2019-05-22T10:27:24.676456Z",
     "start_time": "2019-05-22T10:27:24.315837Z"
    }
   },
   "outputs": [
    {
     "data": {
      "text/plain": [
       "<matplotlib.axes._subplots.AxesSubplot at 0x7f23001c48d0>"
      ]
     },
     "execution_count": 32,
     "metadata": {},
     "output_type": "execute_result"
    },
    {
     "data": {
      "image/png": "[encoded data removed]",
      "text/plain": [
       "<Figure size 1296x360 with 1 Axes>"
      ]
     },
     "metadata": {
      "needs_background": "light"
     },
     "output_type": "display_data"
    }
   ],
   "source": [
    "data.loc[data['species'] == 'versicolor', :].plot.box(title='versicolor')"
   ]
  },
  {
   "cell_type": "code",
   "execution_count": null,
   "metadata": {
    "ExecuteTime": {
     "end_time": "2019-05-22T09:54:38.554388Z",
     "start_time": "2019-05-22T09:54:35.963Z"
    }
   },
   "outputs": [],
   "source": [
    "data.loc[data['species'] == 'setosa', :].plot.box(title='setosa')"
   ]
  },
  {
   "cell_type": "code",
   "execution_count": null,
   "metadata": {
    "ExecuteTime": {
     "end_time": "2019-05-22T09:54:38.556449Z",
     "start_time": "2019-05-22T09:54:35.968Z"
    }
   },
   "outputs": [],
   "source": [
    "data.loc[data['species'] == 'virginica', :].plot.box(title='virginica')"
   ]
  },
  {
   "cell_type": "markdown",
   "metadata": {},
   "source": [
    "## 练习3：餐厅小费情况分析\n"
   ]
  },
  {
   "cell_type": "code",
   "execution_count": null,
   "metadata": {
    "ExecuteTime": {
     "end_time": "2019-05-22T09:54:38.558499Z",
     "start_time": "2019-05-22T09:54:35.973Z"
    }
   },
   "outputs": [],
   "source": [
    "data = sns.load_dataset(\"tips\")\n",
    "data.head()\n",
    "# 总消费，小费，性别，吸烟与否，就餐星期，就餐时间，就餐人数"
   ]
  },
  {
   "cell_type": "markdown",
   "metadata": {
    "collapsed": true
   },
   "source": [
    "* 小费和总消费之间的关系（散点图）"
   ]
  },
  {
   "cell_type": "code",
   "execution_count": null,
   "metadata": {
    "ExecuteTime": {
     "end_time": "2019-05-22T09:54:38.560608Z",
     "start_time": "2019-05-22T09:54:35.978Z"
    }
   },
   "outputs": [],
   "source": [
    "# your code\n",
    "data.plot.scatter(x='total_bill',y='tip', title='total_bill and tip')"
   ]
  },
  {
   "cell_type": "markdown",
   "metadata": {},
   "source": [
    "* 男性顾客和女性顾客，谁更慷慨（分类箱式图）"
   ]
  },
  {
   "cell_type": "code",
   "execution_count": null,
   "metadata": {
    "ExecuteTime": {
     "end_time": "2019-05-22T09:54:38.562621Z",
     "start_time": "2019-05-22T09:54:35.984Z"
    }
   },
   "outputs": [],
   "source": [
    "plt.boxplot([data.loc[data.sex == 'Male', 'tip'], data.loc[data.sex == 'Female', 'tip']], labels=['Male', 'Female'])\n",
    "plt.title('Gender vs Tip')"
   ]
  },
  {
   "cell_type": "markdown",
   "metadata": {},
   "source": [
    "* 抽烟与否是否会对小费金额产生影响（分类箱式图）"
   ]
  },
  {
   "cell_type": "code",
   "execution_count": null,
   "metadata": {
    "ExecuteTime": {
     "end_time": "2019-05-22T09:54:38.564675Z",
     "start_time": "2019-05-22T09:54:35.989Z"
    }
   },
   "outputs": [],
   "source": [
    "plt.boxplot([data.loc[data.smoker == 'Yes', 'tip'], data.loc[data.smoker == 'No', 'tip']], labels=['Yes', 'No'])\n",
    "plt.title('Smoker vs Tip')"
   ]
  },
  {
   "cell_type": "markdown",
   "metadata": {},
   "source": [
    "* 工作日和周末，什么时候顾客给的小费更慷慨（分类箱式图）"
   ]
  },
  {
   "cell_type": "code",
   "execution_count": null,
   "metadata": {
    "ExecuteTime": {
     "end_time": "2019-05-22T09:54:38.566740Z",
     "start_time": "2019-05-22T09:54:35.994Z"
    }
   },
   "outputs": [],
   "source": [
    "    plt.boxplot([\n",
    "        data.loc[(data.day == 'Sun') | (data.day == 'Sat'), 'tip'], \n",
    "        data.loc[(data.day != 'Sun') & (data.day != 'Sat'), 'tip']\n",
    "    ], labels=['Weekend', 'Weekday'])\n",
    "    plt.title('Day vs Tip')"
   ]
  },
  {
   "cell_type": "markdown",
   "metadata": {},
   "source": [
    "* 午饭和晚饭，哪一顿顾客更愿意给小费（分类箱式图）"
   ]
  },
  {
   "cell_type": "code",
   "execution_count": null,
   "metadata": {
    "ExecuteTime": {
     "end_time": "2019-05-22T09:54:38.568812Z",
     "start_time": "2019-05-22T09:54:36.000Z"
    }
   },
   "outputs": [],
   "source": [
    "plt.boxplot([\n",
    "    data.loc[data.time == 'Lunch', 'tip'], \n",
    "    data.loc[data.time == 'Dinner', 'tip']\n",
    "], labels=['Lunch', 'Dinner'])\n",
    "plt.title('Time vs Tip')"
   ]
  },
  {
   "cell_type": "markdown",
   "metadata": {},
   "source": [
    "* 就餐人数是否会对慷慨度产生影响（分类箱式图）"
   ]
  },
  {
   "cell_type": "code",
   "execution_count": null,
   "metadata": {
    "ExecuteTime": {
     "end_time": "2019-05-22T09:54:38.570911Z",
     "start_time": "2019-05-22T09:54:36.006Z"
    }
   },
   "outputs": [],
   "source": [
    "p_count = data['size'].unique()\n",
    "p_count.sort()\n",
    "d = []\n",
    "l = []\n",
    "for i in p_count:\n",
    "    d.append(data.loc[data['size'] == i, 'tip'])\n",
    "    l.append(i)\n",
    "plt.boxplot(d, labels=l)\n",
    "plt.title('p_count vs Tip')"
   ]
  },
  {
   "cell_type": "markdown",
   "metadata": {},
   "source": [
    "* 性别+抽烟的组合因素对慷慨度的影响（分组柱状图）"
   ]
  },
  {
   "cell_type": "code",
   "execution_count": null,
   "metadata": {
    "ExecuteTime": {
     "end_time": "2019-05-22T09:54:38.572983Z",
     "start_time": "2019-05-22T09:54:36.011Z"
    }
   },
   "outputs": [],
   "source": [
    "plt.xticks(rotation=90)\n",
    "d = []\n",
    "l = []\n",
    "for gender in ['Male', 'Female']:\n",
    "    for isSmoker in ['Yes', 'No']:\n",
    "        d.append(data.loc[(data['sex'] == gender) & (data['smoker'] == isSmoker), 'tip'])\n",
    "        l.append(gender + ' ' + ('Non-' if isSmoker == 'No' else '') + 'Smoker')\n",
    "plt.boxplot(d, labels=l)\n",
    "plt.title('Sex&Smoker vs Tip')"
   ]
  },
  {
   "cell_type": "markdown",
   "metadata": {},
   "source": [
    "## 练习4：泰坦尼克号海难幸存状况分析\n",
    "* 载入数据集"
   ]
  },
  {
   "cell_type": "code",
   "execution_count": 7,
   "metadata": {
    "ExecuteTime": {
     "end_time": "2019-05-23T03:24:51.962470Z",
     "start_time": "2019-05-23T03:24:51.913263Z"
    }
   },
   "outputs": [
    {
     "data": {
      "text/html": [
       "<div>\n",
       "<style scoped>\n",
       "    .dataframe tbody tr th:only-of-type {\n",
       "        vertical-align: middle;\n",
       "    }\n",
       "\n",
       "    .dataframe tbody tr th {\n",
       "        vertical-align: top;\n",
       "    }\n",
       "\n",
       "    .dataframe thead th {\n",
       "        text-align: right;\n",
       "    }\n",
       "</style>\n",
       "<table border=\"1\" class=\"dataframe\">\n",
       "  <thead>\n",
       "    <tr style=\"text-align: right;\">\n",
       "      <th></th>\n",
       "      <th>survived</th>\n",
       "      <th>pclass</th>\n",
       "      <th>sex</th>\n",
       "      <th>age</th>\n",
       "      <th>sibsp</th>\n",
       "      <th>parch</th>\n",
       "      <th>fare</th>\n",
       "      <th>embarked</th>\n",
       "      <th>class</th>\n",
       "      <th>who</th>\n",
       "      <th>adult_male</th>\n",
       "      <th>deck</th>\n",
       "      <th>embark_town</th>\n",
       "      <th>alive</th>\n",
       "      <th>alone</th>\n",
       "    </tr>\n",
       "  </thead>\n",
       "  <tbody>\n",
       "    <tr>\n",
       "      <th>0</th>\n",
       "      <td>0</td>\n",
       "      <td>3</td>\n",
       "      <td>male</td>\n",
       "      <td>22.0</td>\n",
       "      <td>1</td>\n",
       "      <td>0</td>\n",
       "      <td>7.2500</td>\n",
       "      <td>S</td>\n",
       "      <td>Third</td>\n",
       "      <td>man</td>\n",
       "      <td>True</td>\n",
       "      <td>NaN</td>\n",
       "      <td>Southampton</td>\n",
       "      <td>no</td>\n",
       "      <td>False</td>\n",
       "    </tr>\n",
       "    <tr>\n",
       "      <th>1</th>\n",
       "      <td>1</td>\n",
       "      <td>1</td>\n",
       "      <td>female</td>\n",
       "      <td>38.0</td>\n",
       "      <td>1</td>\n",
       "      <td>0</td>\n",
       "      <td>71.2833</td>\n",
       "      <td>C</td>\n",
       "      <td>First</td>\n",
       "      <td>woman</td>\n",
       "      <td>False</td>\n",
       "      <td>C</td>\n",
       "      <td>Cherbourg</td>\n",
       "      <td>yes</td>\n",
       "      <td>False</td>\n",
       "    </tr>\n",
       "    <tr>\n",
       "      <th>2</th>\n",
       "      <td>1</td>\n",
       "      <td>3</td>\n",
       "      <td>female</td>\n",
       "      <td>26.0</td>\n",
       "      <td>0</td>\n",
       "      <td>0</td>\n",
       "      <td>7.9250</td>\n",
       "      <td>S</td>\n",
       "      <td>Third</td>\n",
       "      <td>woman</td>\n",
       "      <td>False</td>\n",
       "      <td>NaN</td>\n",
       "      <td>Southampton</td>\n",
       "      <td>yes</td>\n",
       "      <td>True</td>\n",
       "    </tr>\n",
       "    <tr>\n",
       "      <th>3</th>\n",
       "      <td>1</td>\n",
       "      <td>1</td>\n",
       "      <td>female</td>\n",
       "      <td>35.0</td>\n",
       "      <td>1</td>\n",
       "      <td>0</td>\n",
       "      <td>53.1000</td>\n",
       "      <td>S</td>\n",
       "      <td>First</td>\n",
       "      <td>woman</td>\n",
       "      <td>False</td>\n",
       "      <td>C</td>\n",
       "      <td>Southampton</td>\n",
       "      <td>yes</td>\n",
       "      <td>False</td>\n",
       "    </tr>\n",
       "    <tr>\n",
       "      <th>4</th>\n",
       "      <td>0</td>\n",
       "      <td>3</td>\n",
       "      <td>male</td>\n",
       "      <td>35.0</td>\n",
       "      <td>0</td>\n",
       "      <td>0</td>\n",
       "      <td>8.0500</td>\n",
       "      <td>S</td>\n",
       "      <td>Third</td>\n",
       "      <td>man</td>\n",
       "      <td>True</td>\n",
       "      <td>NaN</td>\n",
       "      <td>Southampton</td>\n",
       "      <td>no</td>\n",
       "      <td>True</td>\n",
       "    </tr>\n",
       "  </tbody>\n",
       "</table>\n",
       "</div>"
      ],
      "text/plain": [
       "   survived  pclass     sex   age  sibsp  parch     fare embarked  class  \\\n",
       "0         0       3    male  22.0      1      0   7.2500        S  Third   \n",
       "1         1       1  female  38.0      1      0  71.2833        C  First   \n",
       "2         1       3  female  26.0      0      0   7.9250        S  Third   \n",
       "3         1       1  female  35.0      1      0  53.1000        S  First   \n",
       "4         0       3    male  35.0      0      0   8.0500        S  Third   \n",
       "\n",
       "     who  adult_male deck  embark_town alive  alone  \n",
       "0    man        True  NaN  Southampton    no  False  \n",
       "1  woman       False    C    Cherbourg   yes  False  \n",
       "2  woman       False  NaN  Southampton   yes   True  \n",
       "3  woman       False    C  Southampton   yes  False  \n",
       "4    man        True  NaN  Southampton    no   True  "
      ]
     },
     "execution_count": 7,
     "metadata": {},
     "output_type": "execute_result"
    }
   ],
   "source": [
    "data = sns.load_dataset(\"titanic\")\n",
    "data.head()\n",
    "# 幸存与否，仓位等级，性别，年龄，堂兄弟姐妹数，父母子女数，票价，上船港口缩写，仓位等级，人员分类，是否成年男性，所在甲板，上船港口，是否幸存，是否单独乘船"
   ]
  },
  {
   "cell_type": "markdown",
   "metadata": {},
   "source": [
    "* 不同仓位等级中幸存和遇难的乘客比例（堆积柱状图）"
   ]
  },
  {
   "cell_type": "code",
   "execution_count": 8,
   "metadata": {
    "ExecuteTime": {
     "end_time": "2019-05-23T03:24:53.858432Z",
     "start_time": "2019-05-23T03:24:53.505536Z"
    }
   },
   "outputs": [
    {
     "data": {
      "image/png": "[encoded data removed]",
      "text/plain": [
       "<Figure size 576x432 with 1 Axes>"
      ]
     },
     "metadata": {
      "needs_background": "light"
     },
     "output_type": "display_data"
    }
   ],
   "source": [
    "# 不同仓位等级中幸存和遇难的乘客比例（堆积柱状图）\n",
    "mean_by_reg_co_day = data[['pclass', 'survived']].groupby('pclass')['survived'].value_counts()\n",
    "x = mean_by_reg_co_day.unstack()\n",
    "\n",
    "x['total'] = x[0] + x[1]\n",
    "x['die_prop'] = x[0] / x['total']\n",
    "x['survived_prop'] = x[1] / x['total']\n",
    "\n",
    "\n",
    "# 绘制堆积柱状图\n",
    "def stackedbarplot(x_data, y_data_list, y_data_names, colors, x_label, y_label, title):\n",
    "    _, ax = plt.subplots()\n",
    "    # 循环绘制堆积柱状图\n",
    "    for i in range(0, len(y_data_list)):\n",
    "        if i == 0:\n",
    "            ax.bar(x_data, y_data_list[i], color = colors[i], align = 'center', label = y_data_names[i])\n",
    "        else:\n",
    "            # 采用堆积的方式，除了第一个分类，后面的分类都从前一个分类的柱状图接着画\n",
    "            # 用归一化保证最终累积结果为1\n",
    "            ax.bar(x_data, y_data_list[i], color = colors[i], bottom = y_data_list[i - 1], align = 'center', label = y_data_names[i])\n",
    "    ax.set_ylabel(y_label)\n",
    "    ax.set_xlabel(x_label)\n",
    "    ax.set_title(title)\n",
    "    ax.legend(loc = 'upper right') # 设定图例位置\n",
    "\n",
    "# 调用绘图函数\n",
    "stackedbarplot(x_data = x.index.values\n",
    "               , y_data_list = [x['survived_prop'],x['die_prop'] ]\n",
    "               , y_data_names = ['survived','die']\n",
    "               , colors = ['#539caf', '#7663b0']\n",
    "               , x_label = 'pclass'\n",
    "               , y_label = 'Proportion of survived'\n",
    "               , title = 'the proportion of survived')"
   ]
  },
  {
   "cell_type": "markdown",
   "metadata": {
    "collapsed": true
   },
   "source": [
    "* 不同性别的幸存比例（堆积柱状图）"
   ]
  },
  {
   "cell_type": "code",
   "execution_count": null,
   "metadata": {
    "ExecuteTime": {
     "end_time": "2019-05-22T09:54:38.579491Z",
     "start_time": "2019-05-22T09:54:36.028Z"
    }
   },
   "outputs": [],
   "source": [
    "# 不同性别的幸存比例（堆积柱状图）\n",
    "mean_by_reg_co_day = data[['sex', 'survived']].groupby('sex')['survived'].value_counts()\n",
    "mean_by_reg_co_day = mean_by_reg_co_day.unstack()\n",
    "mean_by_reg_co_day['total'] = mean_by_reg_co_day[0] + mean_by_reg_co_day[1]\n",
    "mean_by_reg_co_day['die_prop'] = mean_by_reg_co_day[0] / mean_by_reg_co_day['total']\n",
    "mean_by_reg_co_day['survived_prop'] = mean_by_reg_co_day[1] / mean_by_reg_co_day['total']\n",
    "mean_by_reg_co_day\n",
    "\n",
    "\n",
    "# 调用绘图函数\n",
    "stackedbarplot(x_data = [0,1]\n",
    "               , y_data_list = [mean_by_reg_co_day['die_prop'], mean_by_reg_co_day['survived_prop']]\n",
    "               , y_data_names = ['Registered', 'Casual']\n",
    "               , colors = ['#539caf', '#7663b0']\n",
    "               , x_label = 'Day of week'\n",
    "               , y_label = 'Proportion of check outs'\n",
    "               , title = 'the proportion of survived')"
   ]
  },
  {
   "cell_type": "markdown",
   "metadata": {},
   "source": [
    "* 幸存和遇难乘客的票价分布（分类箱式图）"
   ]
  },
  {
   "cell_type": "code",
   "execution_count": null,
   "metadata": {
    "ExecuteTime": {
     "end_time": "2019-05-22T09:54:38.581592Z",
     "start_time": "2019-05-22T09:54:36.035Z"
    }
   },
   "outputs": [],
   "source": [
    "#幸存和遇难乘客的票价分布（分类箱式图）\n",
    "# 只需要指定分类的依据，就能自动绘制箱式图\n",
    "\n",
    "days = np.unique(data['survived'])\n",
    "bp_data = []\n",
    "for day in days:\n",
    "    bp_data.append(data[data['survived'] == day]['fare'].values)\n",
    "\n",
    "# 定义绘图函数\n",
    "def boxplot(x_data, y_data, base_color, median_color, x_label, y_label, title):\n",
    "    _, ax = plt.subplots()\n",
    "\n",
    "    # 设置样式\n",
    "    ax.boxplot(y_data\n",
    "               # 箱子是否颜色填充\n",
    "               , patch_artist = True\n",
    "               # 中位数线颜色\n",
    "               , medianprops = {'color': base_color}\n",
    "               # 箱子颜色设置，color：边框颜色，facecolor：填充颜色\n",
    "               , boxprops = {'color': base_color, 'facecolor': median_color}\n",
    "               # 猫须颜色whisker\n",
    "               , whiskerprops = {'color': median_color}\n",
    "               # 猫须界限颜色whisker cap\n",
    "               , capprops = {'color': base_color})\n",
    "\n",
    "    # 箱图与x_data保持一致\n",
    "    ax.set_xticklabels(x_data)\n",
    "    ax.set_ylabel(y_label)\n",
    "    ax.set_xlabel(x_label)\n",
    "    ax.set_title(title)\n",
    "\n",
    "# 调用绘图函数\n",
    "boxplot(x_data = days\n",
    "        , y_data = bp_data\n",
    "        , base_color = 'b'\n",
    "        , median_color = 'r'\n",
    "        , x_label = 'survived or not'\n",
    "        , y_label = 'fare'\n",
    "        , title = 'survived & fare')\n",
    "\n",
    "x = data.dropna(axis=0, how='any')\n",
    "days = np.unique(x['survived'])\n",
    "age_data = []\n",
    "for day in days:\n",
    "    age_data.append(x[x['survived'] == day]['age'].values)"
   ]
  },
  {
   "cell_type": "markdown",
   "metadata": {},
   "source": [
    "* 幸存和遇难乘客的年龄分布（分类箱式图）"
   ]
  },
  {
   "cell_type": "code",
   "execution_count": null,
   "metadata": {
    "ExecuteTime": {
     "end_time": "2019-05-22T09:54:38.583727Z",
     "start_time": "2019-05-22T09:54:36.041Z"
    }
   },
   "outputs": [],
   "source": [
    "# 幸存和遇难乘客的年龄分布（分类箱式图）\n",
    "boxplot(x_data = days\n",
    "        , y_data = age_data\n",
    "        , base_color = 'b'\n",
    "        , median_color = 'r'\n",
    "        , x_label = 'survived or not'\n",
    "        , y_label = 'age'\n",
    "        , title = 'survived & age')"
   ]
  },
  {
   "cell_type": "markdown",
   "metadata": {},
   "source": [
    "* 不同上船港口的乘客仓位等级分布（分组柱状图）"
   ]
  },
  {
   "cell_type": "code",
   "execution_count": null,
   "metadata": {
    "ExecuteTime": {
     "end_time": "2019-05-22T09:54:38.585872Z",
     "start_time": "2019-05-22T09:54:36.045Z"
    }
   },
   "outputs": [],
   "source": [
    "# 绘制分组柱状图的函数\n",
    "def groupedbarplot(x_data, y_data_list, y_data_names, colors, x_label, y_label, title):\n",
    "    _, ax = plt.subplots()\n",
    "    # 设置每一组柱状图的宽度\n",
    "    total_width = 0.8\n",
    "    # 设置每一个柱状图的宽度\n",
    "    ind_width = total_width / len(y_data_list)\n",
    "    # 计算每一个柱状图的中心偏移\n",
    "    alteration = np.arange(-total_width/2+ind_width/2, total_width/2+ind_width/2, ind_width)\n",
    "    # 分别绘制每一个柱状图\n",
    "    for i in range(0, len(y_data_list)):\n",
    "        # 横向散开绘制\n",
    "        ax.bar(x_data + alteration[i], y_data_list[i], color = colors[i], label = y_data_names[i], width = ind_width)\n",
    "    ax.set_ylabel(y_label)\n",
    "    ax.set_xlabel(x_label)\n",
    "    ax.set_title(title)\n",
    "    ax.legend(loc = 'upper right')\n",
    "\n",
    "    \n",
    "x = data.groupby(\"embark_town\")[\"pclass\"].value_counts()\n",
    "mean_by_reg_co_day = x.unstack()\n",
    "mean_by_reg_co_day\n",
    "\n",
    "\n",
    "# 调用绘图函数\n",
    "groupedbarplot(x_data = [0,1,2]\n",
    "               , y_data_list = [mean_by_reg_co_day[1], mean_by_reg_co_day[2], mean_by_reg_co_day[3]]\n",
    "               , y_data_names = ['1', '2','3']\n",
    "               , colors = ['#539caf', '#7663b0','#ffff11']\n",
    "               , x_label = 'embark_town'\n",
    "               , y_label = 'pclass'\n",
    "               , title = 'pclass and embark_town')"
   ]
  },
  {
   "cell_type": "markdown",
   "metadata": {},
   "source": [
    "* 幸存和遇难乘客堂兄弟姐妹的数量分布（分类箱式图）"
   ]
  },
  {
   "cell_type": "code",
   "execution_count": null,
   "metadata": {
    "ExecuteTime": {
     "end_time": "2019-05-22T09:54:38.587966Z",
     "start_time": "2019-05-22T09:54:36.050Z"
    }
   },
   "outputs": [],
   "source": [
    "survived = np.unique(data['survived'])\n",
    "bp_data = []\n",
    "for day in survived:\n",
    "    bp_data.append(data[data['survived'] == day]['sibsp'].values)\n",
    "    \n",
    "# 调用绘图函数\n",
    "boxplot(x_data = survived\n",
    "        , y_data = bp_data\n",
    "        , base_color = 'b'\n",
    "        , median_color = 'r'\n",
    "        , x_label = 'survived'\n",
    "        , y_label = 'sibsp'\n",
    "        , title = 'survived & sibsp')    \n"
   ]
  },
  {
   "cell_type": "markdown",
   "metadata": {},
   "source": [
    "* 幸存和遇难乘客父母子女的数量分布（分类箱式图）"
   ]
  },
  {
   "cell_type": "code",
   "execution_count": null,
   "metadata": {
    "ExecuteTime": {
     "end_time": "2019-05-22T09:54:38.590242Z",
     "start_time": "2019-05-22T09:54:36.054Z"
    }
   },
   "outputs": [],
   "source": [
    "survived = np.unique(data['survived'])\n",
    "bp_data = []\n",
    "for day in survived:\n",
    "    bp_data.append(data[data['survived'] == day]['parch'].values)\n",
    "    \n",
    "# 调用绘图函数\n",
    "boxplot(x_data = survived\n",
    "        , y_data = bp_data\n",
    "        , base_color = 'b'\n",
    "        , median_color = 'r'\n",
    "        , x_label = 'survived'\n",
    "        , y_label = 'parch'\n",
    "        , title = 'survived & parent and children count')   "
   ]
  },
  {
   "cell_type": "markdown",
   "metadata": {},
   "source": [
    "* 单独乘船与否和幸存之间有没有联系（堆积柱状图或者分组柱状图）"
   ]
  },
  {
   "cell_type": "code",
   "execution_count": null,
   "metadata": {
    "ExecuteTime": {
     "end_time": "2019-05-22T09:54:38.592512Z",
     "start_time": "2019-05-22T09:54:36.059Z"
    }
   },
   "outputs": [],
   "source": [
    "mean_by_reg_co_day = data[['alone', 'survived']].groupby('alone')['survived'].value_counts()\n",
    "x = mean_by_reg_co_day.unstack()\n",
    "\n",
    "x['total'] = x[0] + x[1]\n",
    "x['die_prop'] = x[0] / x['total']\n",
    "x['survived_prop'] = x[1] / x['total']\n",
    "\n",
    "\n",
    "\n",
    "# 调用绘图函数\n",
    "stackedbarplot(x_data = x.index.values\n",
    "               , y_data_list = [x['die_prop'], x['survived_prop']]\n",
    "               , y_data_names = ['die', 'survived']\n",
    "               , colors = ['#539caf', '#7663b0']\n",
    "               , x_label = 'alone'\n",
    "               , y_label = 'Proportion of survived'\n",
    "               , title = 'the proportion of survived & alone')"
   ]
  }
 ],
 "metadata": {
  "kernelspec": {
   "display_name": "Python 3",
   "language": "python",
   "name": "python3"
  },
  "language_info": {
   "codemirror_mode": {
    "name": "ipython",
    "version": 3
   },
   "file_extension": ".py",
   "mimetype": "text/x-python",
   "name": "python",
   "nbconvert_exporter": "python",
   "pygments_lexer": "ipython3",
   "version": "3.7.0"
  },
  "toc": {
   "base_numbering": 1,
   "nav_menu": {},
   "number_sections": true,
   "sideBar": true,
   "skip_h1_title": false,
   "title_cell": "Table of Contents",
   "title_sidebar": "Contents",
   "toc_cell": false,
   "toc_position": {},
   "toc_section_display": true,
   "toc_window_display": false
  },
  "varInspector": {
   "cols": {
    "lenName": 16,
    "lenType": 16,
    "lenVar": 40
   },
   "kernels_config": {
    "python": {
     "delete_cmd_postfix": "",
     "delete_cmd_prefix": "del ",
     "library": "var_list.py",
     "varRefreshCmd": "print(var_dic_list())"
    },
    "r": {
     "delete_cmd_postfix": ") ",
     "delete_cmd_prefix": "rm(",
     "library": "var_list.r",
     "varRefreshCmd": "cat(var_dic_list()) "
    }
   },
   "types_to_exclude": [
    "module",
    "function",
    "builtin_function_or_method",
    "instance",
    "_Feature"
   ],
   "window_display": false
  }
 },
 "nbformat": 4,
 "nbformat_minor": 2
}
