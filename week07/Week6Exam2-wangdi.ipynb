{
 "cells": [
  {
   "cell_type": "markdown",
   "metadata": {},
   "source": [
    "## 七月在线机器学习集训营八期第六周(机器学习)考试\n",
    "#### 考试说明:\n",
    "- 起止时间：请同学在2019年06月28日至07月01日期间完成，最晚提交时间下周一（07月1日12时之前）结束，<b>逾期不接受补考,该考试分数计入平时成绩</b>\n",
    "- 考试提交方式：请同学<font color=red><b>拷贝</b></font>该试卷后，将文件更名为同学姓名拼音-exam6（例如wangwei-exam6）后，移动至/0.Teacher/Exam/6/目录下后，再进行作答。\n",
    "- 注意事项：为确保同学们真正了解自身对本周课程的掌握程度，<font color=red><b>请勿翻阅抄袭，移动，更改</b></font>其它同学试卷。如发现按0分处理\n",
    "- 请同学在下方同学姓名处填写自己的姓名，批改人和最终得分处不用填写\n"
   ]
  },
  {
   "cell_type": "markdown",
   "metadata": {},
   "source": [
    "- 同学姓名: 王迪\n",
    "- 批改人： \n",
    "- 最终得分:"
   ]
  },
  {
   "cell_type": "markdown",
   "metadata": {},
   "source": [
    "<center><h1>####答卷开始####</h1></center>\n",
    "***"
   ]
  },
  {
   "cell_type": "markdown",
   "metadata": {},
   "source": [
    "## 简答题(共4题，每题10分，共计40分)"
   ]
  },
  {
   "cell_type": "markdown",
   "metadata": {},
   "source": [
    "#### 1. 请写出你了解的机器学习特征工程操作，以及它的意义（面试题）"
   ]
  },
  {
   "cell_type": "markdown",
   "metadata": {},
   "source": [
    "特征工程是一项从数据中提取特征，然后转换成适合机器学习模型的格式的科学工程。（甚至是一种艺术）\n",
    "\n",
    "特征工程包括三大块任务：数据采集，数据和特征处理，特征选择  \n",
    "\n",
    "一、数据采集，需要考虑数据的可获取性，有效性等  \n",
    "\n",
    "二、数据和特征处理\n",
    "\n",
    "数据处理主要分为数据清洗和数据采样。  \n",
    "数据清洗需要考虑缺失值和脏数据的处理。比如需要删除掉某些异常数据、噪声数据。采用何种策略填补缺省值。  \n",
    "数据采样要考虑正负样本的均衡性。采样方法有随机采样、分层采样、上采样（内插值），下采样（缩放）和过采样（oversampling）  \n",
    "\n",
    "特征处理\n",
    "\n",
    "根据特征的类型，对特征值进行处理。  \n",
    "数值型。1，对特征幅度进行处理，比如归一化、标准化方法。2. 离散化处理。将连续值切分（等距离切分、等分位数切分）  \n",
    "类别型。有one-hot编码、hash技巧等  \n",
    "时间型。时间可以处理为连续型（如持续时间长度，间隔时间长度等），也可处理为离散型（如周几、哪个时间段）  \n",
    "文本型。可将文本数据处理为稀疏矩阵等技巧  \n",
    "统计型。最大值、最小值、分位数、比例、次序等数据  \n",
    "组合特征。\n",
    "\n",
    "三、特征选择\n",
    "\n",
    "由于存在特征共线性、无用特征、过拟合等问题，需要进行特征选择。\n",
    "\n",
    "特征选择的方式：\n",
    "1. 过滤法,根据方差大小和与结果的相关度，排序留下最重要的那些特征。\n",
    "2. 包装法，每次选择或排除若干特征，选择最佳特征子集。搜索特征子集，评估模型效果，进而筛选出需要的特征子集。\n",
    "3. Embedded集成法/嵌入法：通过机器学习得到各个特征的权值系数。分析特征的重要性（比如L1正则）\n",
    "\n",
    "\n",
    "意义\n",
    "数据和特征决定了机器学的上限，而模型和算法只是逼近这个上限而已。\n",
    "\n",
    "正确的特征可以减少模型的复杂度，并因此使模型能输出更好的结果。\n",
    "\n",
    "\n"
   ]
  },
  {
   "cell_type": "markdown",
   "metadata": {},
   "source": [
    "#### 2.请写出上述特征工程操作的sklearn或者pandas实现方式\n"
   ]
  },
  {
   "cell_type": "markdown",
   "metadata": {},
   "source": [
    "数据清洗需要考虑缺失值和脏数据的处理。\n",
    "这里可以用pandas 的fillna方法填充缺失值。可以基于马氏距离检测离群点。\n",
    "\n",
    "数据采样。pandas里有sample方法\n",
    "\n",
    "特征处理。\n",
    "pandas的cut方法可以将数值型分段。get_dummy方法可以将类别型特征编成one-hot编码。\n",
    "pandas对时间、文本型数据也有比较好的支持。\n",
    "\n",
    "sklearn.preproccessing库的StandardScaler类可以对数值型做标准化处理；MinMaxScale做归一化处理。OneHotEncoder类也可以做one-hot编码\n",
    "\n",
    "\n",
    "特征选择。  \n",
    "Filter过滤法，sklearn.feature_selection库的VarianceThreshold类可以通过设定阈值筛选  \n",
    "卡方检验筛选或者互信息熵。sklearn.feature_selection库的SelectKBest类。\n",
    "\n",
    "Wrapper包装法/包装法  \n",
    "比如sklearn.feature_selection 类的 RFE。利用递归特征消除算法寻找最佳特征子集。\n",
    "\n",
    "Embedded集成法/嵌入法  \n",
    "比如基于L1、L2正则化的特征选择法。feature_selection库的SelectFromModel类结合sklearn.linear_model库的 LogisticRegression逻辑回归类\n",
    "\n",
    "比如基于树模型的特征选择法。\n",
    "\n"
   ]
  },
  {
   "cell_type": "markdown",
   "metadata": {},
   "source": [
    "#### 3.模型评估中的留一法，留出法，交叉验证分别是什么操作？"
   ]
  },
  {
   "cell_type": "markdown",
   "metadata": {},
   "source": [
    "留出法：直接将数据集$D$划分为两个互斥的集合，其中一个集合作为训练集$S$,另一个作为测试集$T$，在$S$上训练出模型后，用$T$来评估其测试误差，作为对泛化误差的估计。\n",
    "\n",
    "交叉验证法：将数据集$D$划分为$k$个大小相似的互斥子集，$D=D_1 \\cup D_2 \\cup \\cdots \\cup D_k$， 其中$D_i$从$D$中分层采样抽样出来。\n",
    "每次用$k-1$个子集的并集作为训练集，余下的子集作为测试集。这样得到$k$组训练测试集。\n",
    "\n",
    "\n",
    "留一法：假设$D$中有$m$个样本，若令$k=m$，则得到了交叉验证法的一个特例：留一法。但是留一法在数据集比较大时，计算开销较大。\n",
    "\n"
   ]
  },
  {
   "cell_type": "markdown",
   "metadata": {},
   "source": [
    "#### 4.如何理解模型的过拟合与欠拟合，以及如何解决？（面试题）"
   ]
  },
  {
   "cell_type": "markdown",
   "metadata": {},
   "source": [
    "过拟合模型在数据集上具有高方差（high variance）和低偏差（low bias）。对应表现为过拟合模型在训练集上效果较好，但是在测试集上表现较差。\n",
    "方差是模型响应训练数据而变化的程度，偏差是模型\n",
    "\n",
    "欠拟合模型在数据集上具有高偏差。对应表现为过拟合模型在训练集上效果就很差。\n",
    "\n",
    "解决欠拟合问题，往往需要添加新的特征，比如引入更复杂的模型（采用非线性模型、深度神经网络），另外，还可以采用boosting算法可以不断提升对残差的拟合。\n",
    "\n",
    "解决过拟合问题，一般可以进行正则化，提前停止法，还可以采用平均值法，bagging，降维等等。"
   ]
  },
  {
   "cell_type": "markdown",
   "metadata": {},
   "source": [
    "## 操作题(共1题，共计60分)"
   ]
  },
  {
   "cell_type": "markdown",
   "metadata": {},
   "source": [
    "### 信用卡欺诈项目(共6项，每项10分)"
   ]
  },
  {
   "cell_type": "markdown",
   "metadata": {},
   "source": [
    " #### 前期为数据导入,预览及粗略的预处理(此部分请勿修改，涉及的数据文件无需复制移动。实验题在下方)"
   ]
  },
  {
   "cell_type": "code",
   "execution_count": 1,
   "metadata": {
    "ExecuteTime": {
     "end_time": "2019-07-01T00:56:16.802611Z",
     "start_time": "2019-07-01T00:56:16.800073Z"
    },
    "scrolled": true
   },
   "outputs": [],
   "source": [
    "# import pandas as pd\n",
    "# pd.set_option('display.max_columns', 500)\n",
    "# import zipfile\n",
    "# with zipfile.ZipFile('http://ml8.julyedu.com:8901/edit/0.Teacher/Data/KaggleCredit2.zip', 'r') as z:\n",
    "#     f = z.open('KaggleCredit2.csv')\n",
    "#     data = pd.read_csv(f, index_col=0)\n",
    "# data.head()\n"
   ]
  },
  {
   "cell_type": "code",
   "execution_count": 2,
   "metadata": {
    "ExecuteTime": {
     "end_time": "2019-07-01T00:56:17.428024Z",
     "start_time": "2019-07-01T00:56:16.805220Z"
    }
   },
   "outputs": [
    {
     "data": {
      "text/html": [
       "<div>\n",
       "<style scoped>\n",
       "    .dataframe tbody tr th:only-of-type {\n",
       "        vertical-align: middle;\n",
       "    }\n",
       "\n",
       "    .dataframe tbody tr th {\n",
       "        vertical-align: top;\n",
       "    }\n",
       "\n",
       "    .dataframe thead th {\n",
       "        text-align: right;\n",
       "    }\n",
       "</style>\n",
       "<table border=\"1\" class=\"dataframe\">\n",
       "  <thead>\n",
       "    <tr style=\"text-align: right;\">\n",
       "      <th></th>\n",
       "      <th>SeriousDlqin2yrs</th>\n",
       "      <th>RevolvingUtilizationOfUnsecuredLines</th>\n",
       "      <th>age</th>\n",
       "      <th>NumberOfTime30-59DaysPastDueNotWorse</th>\n",
       "      <th>DebtRatio</th>\n",
       "      <th>MonthlyIncome</th>\n",
       "      <th>NumberOfOpenCreditLinesAndLoans</th>\n",
       "      <th>NumberOfTimes90DaysLate</th>\n",
       "      <th>NumberRealEstateLoansOrLines</th>\n",
       "      <th>NumberOfTime60-89DaysPastDueNotWorse</th>\n",
       "      <th>NumberOfDependents</th>\n",
       "    </tr>\n",
       "  </thead>\n",
       "  <tbody>\n",
       "    <tr>\n",
       "      <th>0</th>\n",
       "      <td>1</td>\n",
       "      <td>0.766127</td>\n",
       "      <td>45.0</td>\n",
       "      <td>2.0</td>\n",
       "      <td>0.802982</td>\n",
       "      <td>9120.0</td>\n",
       "      <td>13.0</td>\n",
       "      <td>0.0</td>\n",
       "      <td>6.0</td>\n",
       "      <td>0.0</td>\n",
       "      <td>2.0</td>\n",
       "    </tr>\n",
       "    <tr>\n",
       "      <th>1</th>\n",
       "      <td>0</td>\n",
       "      <td>0.957151</td>\n",
       "      <td>40.0</td>\n",
       "      <td>0.0</td>\n",
       "      <td>0.121876</td>\n",
       "      <td>2600.0</td>\n",
       "      <td>4.0</td>\n",
       "      <td>0.0</td>\n",
       "      <td>0.0</td>\n",
       "      <td>0.0</td>\n",
       "      <td>1.0</td>\n",
       "    </tr>\n",
       "    <tr>\n",
       "      <th>2</th>\n",
       "      <td>0</td>\n",
       "      <td>0.658180</td>\n",
       "      <td>38.0</td>\n",
       "      <td>1.0</td>\n",
       "      <td>0.085113</td>\n",
       "      <td>3042.0</td>\n",
       "      <td>2.0</td>\n",
       "      <td>1.0</td>\n",
       "      <td>0.0</td>\n",
       "      <td>0.0</td>\n",
       "      <td>0.0</td>\n",
       "    </tr>\n",
       "    <tr>\n",
       "      <th>3</th>\n",
       "      <td>0</td>\n",
       "      <td>0.233810</td>\n",
       "      <td>30.0</td>\n",
       "      <td>0.0</td>\n",
       "      <td>0.036050</td>\n",
       "      <td>3300.0</td>\n",
       "      <td>5.0</td>\n",
       "      <td>0.0</td>\n",
       "      <td>0.0</td>\n",
       "      <td>0.0</td>\n",
       "      <td>0.0</td>\n",
       "    </tr>\n",
       "    <tr>\n",
       "      <th>4</th>\n",
       "      <td>0</td>\n",
       "      <td>0.907239</td>\n",
       "      <td>49.0</td>\n",
       "      <td>1.0</td>\n",
       "      <td>0.024926</td>\n",
       "      <td>63588.0</td>\n",
       "      <td>7.0</td>\n",
       "      <td>0.0</td>\n",
       "      <td>1.0</td>\n",
       "      <td>0.0</td>\n",
       "      <td>0.0</td>\n",
       "    </tr>\n",
       "  </tbody>\n",
       "</table>\n",
       "</div>"
      ],
      "text/plain": [
       "   SeriousDlqin2yrs  RevolvingUtilizationOfUnsecuredLines   age  \\\n",
       "0                 1                              0.766127  45.0   \n",
       "1                 0                              0.957151  40.0   \n",
       "2                 0                              0.658180  38.0   \n",
       "3                 0                              0.233810  30.0   \n",
       "4                 0                              0.907239  49.0   \n",
       "\n",
       "   NumberOfTime30-59DaysPastDueNotWorse  DebtRatio  MonthlyIncome  \\\n",
       "0                                   2.0   0.802982         9120.0   \n",
       "1                                   0.0   0.121876         2600.0   \n",
       "2                                   1.0   0.085113         3042.0   \n",
       "3                                   0.0   0.036050         3300.0   \n",
       "4                                   1.0   0.024926        63588.0   \n",
       "\n",
       "   NumberOfOpenCreditLinesAndLoans  NumberOfTimes90DaysLate  \\\n",
       "0                             13.0                      0.0   \n",
       "1                              4.0                      0.0   \n",
       "2                              2.0                      1.0   \n",
       "3                              5.0                      0.0   \n",
       "4                              7.0                      0.0   \n",
       "\n",
       "   NumberRealEstateLoansOrLines  NumberOfTime60-89DaysPastDueNotWorse  \\\n",
       "0                           6.0                                   0.0   \n",
       "1                           0.0                                   0.0   \n",
       "2                           0.0                                   0.0   \n",
       "3                           0.0                                   0.0   \n",
       "4                           1.0                                   0.0   \n",
       "\n",
       "   NumberOfDependents  \n",
       "0                 2.0  \n",
       "1                 1.0  \n",
       "2                 0.0  \n",
       "3                 0.0  \n",
       "4                 0.0  "
      ]
     },
     "execution_count": 2,
     "metadata": {},
     "output_type": "execute_result"
    }
   ],
   "source": [
    "import pandas as pd\n",
    "pd.set_option('display.max_columns', 500)\n",
    "import zipfile\n",
    "# with zipfile.ZipFile('../../Data/KaggleCredit2.zip', 'r') as z:\n",
    "with zipfile.ZipFile('data/KaggleCredit2.zip', 'r') as z:\n",
    "    f = z.open('KaggleCredit2.csv')\n",
    "    data = pd.read_csv(f, index_col=0)\n",
    "data.head()"
   ]
  },
  {
   "cell_type": "code",
   "execution_count": 3,
   "metadata": {
    "ExecuteTime": {
     "end_time": "2019-07-01T00:56:17.434866Z",
     "start_time": "2019-07-01T00:56:17.430259Z"
    }
   },
   "outputs": [
    {
     "data": {
      "text/plain": [
       "(112915, 11)"
      ]
     },
     "execution_count": 3,
     "metadata": {},
     "output_type": "execute_result"
    }
   ],
   "source": [
    "data.shape"
   ]
  },
  {
   "cell_type": "code",
   "execution_count": 4,
   "metadata": {
    "ExecuteTime": {
     "end_time": "2019-07-01T00:56:17.466033Z",
     "start_time": "2019-07-01T00:56:17.438120Z"
    },
    "scrolled": true
   },
   "outputs": [
    {
     "data": {
      "text/plain": [
       "SeriousDlqin2yrs                           0\n",
       "RevolvingUtilizationOfUnsecuredLines       0\n",
       "age                                     4267\n",
       "NumberOfTime30-59DaysPastDueNotWorse       0\n",
       "DebtRatio                                  0\n",
       "MonthlyIncome                              0\n",
       "NumberOfOpenCreditLinesAndLoans            0\n",
       "NumberOfTimes90DaysLate                    0\n",
       "NumberRealEstateLoansOrLines               0\n",
       "NumberOfTime60-89DaysPastDueNotWorse       0\n",
       "NumberOfDependents                      4267\n",
       "dtype: int64"
      ]
     },
     "execution_count": 4,
     "metadata": {},
     "output_type": "execute_result"
    }
   ],
   "source": [
    "data.isnull().sum(axis=0)"
   ]
  },
  {
   "cell_type": "code",
   "execution_count": 5,
   "metadata": {
    "ExecuteTime": {
     "end_time": "2019-07-01T00:56:17.508099Z",
     "start_time": "2019-07-01T00:56:17.468974Z"
    }
   },
   "outputs": [
    {
     "name": "stderr",
     "output_type": "stream",
     "text": [
      "D:\\anaconda3\\lib\\site-packages\\ipykernel_launcher.py:2: UserWarning: Pandas doesn't allow columns to be created via a new attribute name - see https://pandas.pydata.org/pandas-docs/stable/indexing.html#attribute-access\n",
      "  \n"
     ]
    }
   ],
   "source": [
    "data.dropna(inplace=True)\n",
    "data.shapey = data['SeriousDlqin2yrs']\n",
    "X = data.drop('SeriousDlqin2yrs', axis=1)"
   ]
  },
  {
   "cell_type": "code",
   "execution_count": 6,
   "metadata": {
    "ExecuteTime": {
     "end_time": "2019-07-01T00:56:17.521978Z",
     "start_time": "2019-07-01T00:56:17.510221Z"
    }
   },
   "outputs": [
    {
     "data": {
      "text/plain": [
       "0.06742876076872101"
      ]
     },
     "execution_count": 6,
     "metadata": {},
     "output_type": "execute_result"
    }
   ],
   "source": [
    "y = data['SeriousDlqin2yrs']\n",
    "X = data.drop('SeriousDlqin2yrs', axis=1)\n",
    "y.mean()"
   ]
  },
  {
   "cell_type": "markdown",
   "metadata": {},
   "source": [
    "### 以下为操作要求，每题10分。\n",
    "### 注意：每题都要附加上对实验过程和结果的总结，否则没有分数"
   ]
  },
  {
   "cell_type": "markdown",
   "metadata": {
    "collapsed": true
   },
   "source": [
    "#### 1.把数据切分成训练集和测试集后，使用logistic regression建模，并且输出一下系数，分析重要度。  "
   ]
  },
  {
   "cell_type": "code",
   "execution_count": 7,
   "metadata": {
    "ExecuteTime": {
     "end_time": "2019-07-01T00:56:17.895992Z",
     "start_time": "2019-07-01T00:56:17.524304Z"
    }
   },
   "outputs": [],
   "source": [
    "from sklearn.preprocessing import StandardScaler\n",
    "import warnings\n",
    "warnings.filterwarnings(\"ignore\")"
   ]
  },
  {
   "cell_type": "markdown",
   "metadata": {},
   "source": [
    "#### 数据整体分析"
   ]
  },
  {
   "cell_type": "code",
   "execution_count": 8,
   "metadata": {
    "ExecuteTime": {
     "end_time": "2019-07-01T00:56:18.267515Z",
     "start_time": "2019-07-01T00:56:17.898854Z"
    },
    "scrolled": true
   },
   "outputs": [
    {
     "name": "stdout",
     "output_type": "stream",
     "text": [
      "<class 'pandas.core.frame.DataFrame'>\n",
      "Int64Index: 108648 entries, 0 to 112914\n",
      "Data columns (total 10 columns):\n",
      "RevolvingUtilizationOfUnsecuredLines    108648 non-null float64\n",
      "age                                     108648 non-null float64\n",
      "NumberOfTime30-59DaysPastDueNotWorse    108648 non-null float64\n",
      "DebtRatio                               108648 non-null float64\n",
      "MonthlyIncome                           108648 non-null float64\n",
      "NumberOfOpenCreditLinesAndLoans         108648 non-null float64\n",
      "NumberOfTimes90DaysLate                 108648 non-null float64\n",
      "NumberRealEstateLoansOrLines            108648 non-null float64\n",
      "NumberOfTime60-89DaysPastDueNotWorse    108648 non-null float64\n",
      "NumberOfDependents                      108648 non-null float64\n",
      "dtypes: float64(10)\n",
      "memory usage: 9.1 MB\n"
     ]
    }
   ],
   "source": [
    "X.info()"
   ]
  },
  {
   "cell_type": "code",
   "execution_count": 9,
   "metadata": {
    "ExecuteTime": {
     "end_time": "2019-07-01T00:56:18.410153Z",
     "start_time": "2019-07-01T00:56:18.270249Z"
    },
    "scrolled": false
   },
   "outputs": [
    {
     "data": {
      "text/html": [
       "<div>\n",
       "<style scoped>\n",
       "    .dataframe tbody tr th:only-of-type {\n",
       "        vertical-align: middle;\n",
       "    }\n",
       "\n",
       "    .dataframe tbody tr th {\n",
       "        vertical-align: top;\n",
       "    }\n",
       "\n",
       "    .dataframe thead th {\n",
       "        text-align: right;\n",
       "    }\n",
       "</style>\n",
       "<table border=\"1\" class=\"dataframe\">\n",
       "  <thead>\n",
       "    <tr style=\"text-align: right;\">\n",
       "      <th></th>\n",
       "      <th>RevolvingUtilizationOfUnsecuredLines</th>\n",
       "      <th>age</th>\n",
       "      <th>NumberOfTime30-59DaysPastDueNotWorse</th>\n",
       "      <th>DebtRatio</th>\n",
       "      <th>MonthlyIncome</th>\n",
       "      <th>NumberOfOpenCreditLinesAndLoans</th>\n",
       "      <th>NumberOfTimes90DaysLate</th>\n",
       "      <th>NumberRealEstateLoansOrLines</th>\n",
       "      <th>NumberOfTime60-89DaysPastDueNotWorse</th>\n",
       "      <th>NumberOfDependents</th>\n",
       "    </tr>\n",
       "  </thead>\n",
       "  <tbody>\n",
       "    <tr>\n",
       "      <th>count</th>\n",
       "      <td>108648.000000</td>\n",
       "      <td>108648.000000</td>\n",
       "      <td>108648.000000</td>\n",
       "      <td>108648.000000</td>\n",
       "      <td>1.086480e+05</td>\n",
       "      <td>108648.000000</td>\n",
       "      <td>108648.000000</td>\n",
       "      <td>108648.000000</td>\n",
       "      <td>108648.000000</td>\n",
       "      <td>108648.000000</td>\n",
       "    </tr>\n",
       "    <tr>\n",
       "      <th>mean</th>\n",
       "      <td>5.989695</td>\n",
       "      <td>51.361304</td>\n",
       "      <td>0.378636</td>\n",
       "      <td>0.306237</td>\n",
       "      <td>6.964368e+03</td>\n",
       "      <td>8.679055</td>\n",
       "      <td>0.213488</td>\n",
       "      <td>1.015325</td>\n",
       "      <td>0.188664</td>\n",
       "      <td>0.856574</td>\n",
       "    </tr>\n",
       "    <tr>\n",
       "      <th>std</th>\n",
       "      <td>259.792416</td>\n",
       "      <td>14.453571</td>\n",
       "      <td>3.525280</td>\n",
       "      <td>0.222924</td>\n",
       "      <td>1.492419e+04</td>\n",
       "      <td>5.128120</td>\n",
       "      <td>3.493366</td>\n",
       "      <td>1.077678</td>\n",
       "      <td>3.476195</td>\n",
       "      <td>1.149537</td>\n",
       "    </tr>\n",
       "    <tr>\n",
       "      <th>min</th>\n",
       "      <td>0.000000</td>\n",
       "      <td>0.000000</td>\n",
       "      <td>0.000000</td>\n",
       "      <td>0.000000</td>\n",
       "      <td>1.000000e+00</td>\n",
       "      <td>0.000000</td>\n",
       "      <td>0.000000</td>\n",
       "      <td>0.000000</td>\n",
       "      <td>0.000000</td>\n",
       "      <td>0.000000</td>\n",
       "    </tr>\n",
       "    <tr>\n",
       "      <th>25%</th>\n",
       "      <td>0.034319</td>\n",
       "      <td>41.000000</td>\n",
       "      <td>0.000000</td>\n",
       "      <td>0.133493</td>\n",
       "      <td>3.640000e+03</td>\n",
       "      <td>5.000000</td>\n",
       "      <td>0.000000</td>\n",
       "      <td>0.000000</td>\n",
       "      <td>0.000000</td>\n",
       "      <td>0.000000</td>\n",
       "    </tr>\n",
       "    <tr>\n",
       "      <th>50%</th>\n",
       "      <td>0.172905</td>\n",
       "      <td>51.000000</td>\n",
       "      <td>0.000000</td>\n",
       "      <td>0.278311</td>\n",
       "      <td>5.600000e+03</td>\n",
       "      <td>8.000000</td>\n",
       "      <td>0.000000</td>\n",
       "      <td>1.000000</td>\n",
       "      <td>0.000000</td>\n",
       "      <td>0.000000</td>\n",
       "    </tr>\n",
       "    <tr>\n",
       "      <th>75%</th>\n",
       "      <td>0.570881</td>\n",
       "      <td>62.000000</td>\n",
       "      <td>0.000000</td>\n",
       "      <td>0.440113</td>\n",
       "      <td>8.416000e+03</td>\n",
       "      <td>11.000000</td>\n",
       "      <td>0.000000</td>\n",
       "      <td>2.000000</td>\n",
       "      <td>0.000000</td>\n",
       "      <td>2.000000</td>\n",
       "    </tr>\n",
       "    <tr>\n",
       "      <th>max</th>\n",
       "      <td>50708.000000</td>\n",
       "      <td>103.000000</td>\n",
       "      <td>98.000000</td>\n",
       "      <td>0.999909</td>\n",
       "      <td>3.008750e+06</td>\n",
       "      <td>57.000000</td>\n",
       "      <td>98.000000</td>\n",
       "      <td>29.000000</td>\n",
       "      <td>98.000000</td>\n",
       "      <td>20.000000</td>\n",
       "    </tr>\n",
       "  </tbody>\n",
       "</table>\n",
       "</div>"
      ],
      "text/plain": [
       "       RevolvingUtilizationOfUnsecuredLines            age  \\\n",
       "count                         108648.000000  108648.000000   \n",
       "mean                               5.989695      51.361304   \n",
       "std                              259.792416      14.453571   \n",
       "min                                0.000000       0.000000   \n",
       "25%                                0.034319      41.000000   \n",
       "50%                                0.172905      51.000000   \n",
       "75%                                0.570881      62.000000   \n",
       "max                            50708.000000     103.000000   \n",
       "\n",
       "       NumberOfTime30-59DaysPastDueNotWorse      DebtRatio  MonthlyIncome  \\\n",
       "count                         108648.000000  108648.000000   1.086480e+05   \n",
       "mean                               0.378636       0.306237   6.964368e+03   \n",
       "std                                3.525280       0.222924   1.492419e+04   \n",
       "min                                0.000000       0.000000   1.000000e+00   \n",
       "25%                                0.000000       0.133493   3.640000e+03   \n",
       "50%                                0.000000       0.278311   5.600000e+03   \n",
       "75%                                0.000000       0.440113   8.416000e+03   \n",
       "max                               98.000000       0.999909   3.008750e+06   \n",
       "\n",
       "       NumberOfOpenCreditLinesAndLoans  NumberOfTimes90DaysLate  \\\n",
       "count                    108648.000000            108648.000000   \n",
       "mean                          8.679055                 0.213488   \n",
       "std                           5.128120                 3.493366   \n",
       "min                           0.000000                 0.000000   \n",
       "25%                           5.000000                 0.000000   \n",
       "50%                           8.000000                 0.000000   \n",
       "75%                          11.000000                 0.000000   \n",
       "max                          57.000000                98.000000   \n",
       "\n",
       "       NumberRealEstateLoansOrLines  NumberOfTime60-89DaysPastDueNotWorse  \\\n",
       "count                 108648.000000                         108648.000000   \n",
       "mean                       1.015325                              0.188664   \n",
       "std                        1.077678                              3.476195   \n",
       "min                        0.000000                              0.000000   \n",
       "25%                        0.000000                              0.000000   \n",
       "50%                        1.000000                              0.000000   \n",
       "75%                        2.000000                              0.000000   \n",
       "max                       29.000000                             98.000000   \n",
       "\n",
       "       NumberOfDependents  \n",
       "count       108648.000000  \n",
       "mean             0.856574  \n",
       "std              1.149537  \n",
       "min              0.000000  \n",
       "25%              0.000000  \n",
       "50%              0.000000  \n",
       "75%              2.000000  \n",
       "max             20.000000  "
      ]
     },
     "execution_count": 9,
     "metadata": {},
     "output_type": "execute_result"
    }
   ],
   "source": [
    "X.describe()"
   ]
  },
  {
   "cell_type": "markdown",
   "metadata": {},
   "source": [
    "#### 删除掉离群点"
   ]
  },
  {
   "cell_type": "code",
   "execution_count": 10,
   "metadata": {
    "ExecuteTime": {
     "end_time": "2019-07-01T00:56:18.612035Z",
     "start_time": "2019-07-01T00:56:18.413651Z"
    }
   },
   "outputs": [
    {
     "data": {
      "text/html": [
       "<div>\n",
       "<style scoped>\n",
       "    .dataframe tbody tr th:only-of-type {\n",
       "        vertical-align: middle;\n",
       "    }\n",
       "\n",
       "    .dataframe tbody tr th {\n",
       "        vertical-align: top;\n",
       "    }\n",
       "\n",
       "    .dataframe thead th {\n",
       "        text-align: right;\n",
       "    }\n",
       "</style>\n",
       "<table border=\"1\" class=\"dataframe\">\n",
       "  <thead>\n",
       "    <tr style=\"text-align: right;\">\n",
       "      <th></th>\n",
       "      <th>RevolvingUtilizationOfUnsecuredLines</th>\n",
       "      <th>age</th>\n",
       "      <th>NumberOfTime30-59DaysPastDueNotWorse</th>\n",
       "      <th>DebtRatio</th>\n",
       "      <th>MonthlyIncome</th>\n",
       "      <th>NumberOfOpenCreditLinesAndLoans</th>\n",
       "      <th>NumberOfTimes90DaysLate</th>\n",
       "      <th>NumberRealEstateLoansOrLines</th>\n",
       "      <th>NumberOfTime60-89DaysPastDueNotWorse</th>\n",
       "      <th>NumberOfDependents</th>\n",
       "    </tr>\n",
       "  </thead>\n",
       "  <tbody>\n",
       "    <tr>\n",
       "      <th>count</th>\n",
       "      <td>107395.000000</td>\n",
       "      <td>107395.000000</td>\n",
       "      <td>107395.000000</td>\n",
       "      <td>107395.000000</td>\n",
       "      <td>1.073950e+05</td>\n",
       "      <td>107395.000000</td>\n",
       "      <td>107395.000000</td>\n",
       "      <td>107395.000000</td>\n",
       "      <td>107395.000000</td>\n",
       "      <td>107395.000000</td>\n",
       "    </tr>\n",
       "    <tr>\n",
       "      <th>mean</th>\n",
       "      <td>0.562973</td>\n",
       "      <td>51.408492</td>\n",
       "      <td>0.249537</td>\n",
       "      <td>0.305123</td>\n",
       "      <td>6.947284e+03</td>\n",
       "      <td>8.644239</td>\n",
       "      <td>0.079361</td>\n",
       "      <td>1.003063</td>\n",
       "      <td>0.054798</td>\n",
       "      <td>0.844592</td>\n",
       "    </tr>\n",
       "    <tr>\n",
       "      <th>std</th>\n",
       "      <td>13.693150</td>\n",
       "      <td>14.468018</td>\n",
       "      <td>0.690212</td>\n",
       "      <td>0.221494</td>\n",
       "      <td>1.495111e+04</td>\n",
       "      <td>4.991891</td>\n",
       "      <td>0.396488</td>\n",
       "      <td>1.011977</td>\n",
       "      <td>0.258251</td>\n",
       "      <td>1.120570</td>\n",
       "    </tr>\n",
       "    <tr>\n",
       "      <th>min</th>\n",
       "      <td>0.000000</td>\n",
       "      <td>0.000000</td>\n",
       "      <td>0.000000</td>\n",
       "      <td>0.000000</td>\n",
       "      <td>1.000000e+00</td>\n",
       "      <td>0.000000</td>\n",
       "      <td>0.000000</td>\n",
       "      <td>0.000000</td>\n",
       "      <td>0.000000</td>\n",
       "      <td>0.000000</td>\n",
       "    </tr>\n",
       "    <tr>\n",
       "      <th>25%</th>\n",
       "      <td>0.033859</td>\n",
       "      <td>41.000000</td>\n",
       "      <td>0.000000</td>\n",
       "      <td>0.133273</td>\n",
       "      <td>3.642000e+03</td>\n",
       "      <td>5.000000</td>\n",
       "      <td>0.000000</td>\n",
       "      <td>0.000000</td>\n",
       "      <td>0.000000</td>\n",
       "      <td>0.000000</td>\n",
       "    </tr>\n",
       "    <tr>\n",
       "      <th>50%</th>\n",
       "      <td>0.169532</td>\n",
       "      <td>51.000000</td>\n",
       "      <td>0.000000</td>\n",
       "      <td>0.277817</td>\n",
       "      <td>5.600000e+03</td>\n",
       "      <td>8.000000</td>\n",
       "      <td>0.000000</td>\n",
       "      <td>1.000000</td>\n",
       "      <td>0.000000</td>\n",
       "      <td>0.000000</td>\n",
       "    </tr>\n",
       "    <tr>\n",
       "      <th>75%</th>\n",
       "      <td>0.560595</td>\n",
       "      <td>62.000000</td>\n",
       "      <td>0.000000</td>\n",
       "      <td>0.438548</td>\n",
       "      <td>8.400000e+03</td>\n",
       "      <td>11.000000</td>\n",
       "      <td>0.000000</td>\n",
       "      <td>2.000000</td>\n",
       "      <td>0.000000</td>\n",
       "      <td>2.000000</td>\n",
       "    </tr>\n",
       "    <tr>\n",
       "      <th>max</th>\n",
       "      <td>1179.000000</td>\n",
       "      <td>103.000000</td>\n",
       "      <td>13.000000</td>\n",
       "      <td>0.990234</td>\n",
       "      <td>3.008750e+06</td>\n",
       "      <td>34.000000</td>\n",
       "      <td>5.000000</td>\n",
       "      <td>7.000000</td>\n",
       "      <td>2.000000</td>\n",
       "      <td>5.000000</td>\n",
       "    </tr>\n",
       "  </tbody>\n",
       "</table>\n",
       "</div>"
      ],
      "text/plain": [
       "       RevolvingUtilizationOfUnsecuredLines            age  \\\n",
       "count                         107395.000000  107395.000000   \n",
       "mean                               0.562973      51.408492   \n",
       "std                               13.693150      14.468018   \n",
       "min                                0.000000       0.000000   \n",
       "25%                                0.033859      41.000000   \n",
       "50%                                0.169532      51.000000   \n",
       "75%                                0.560595      62.000000   \n",
       "max                             1179.000000     103.000000   \n",
       "\n",
       "       NumberOfTime30-59DaysPastDueNotWorse      DebtRatio  MonthlyIncome  \\\n",
       "count                         107395.000000  107395.000000   1.073950e+05   \n",
       "mean                               0.249537       0.305123   6.947284e+03   \n",
       "std                                0.690212       0.221494   1.495111e+04   \n",
       "min                                0.000000       0.000000   1.000000e+00   \n",
       "25%                                0.000000       0.133273   3.642000e+03   \n",
       "50%                                0.000000       0.277817   5.600000e+03   \n",
       "75%                                0.000000       0.438548   8.400000e+03   \n",
       "max                               13.000000       0.990234   3.008750e+06   \n",
       "\n",
       "       NumberOfOpenCreditLinesAndLoans  NumberOfTimes90DaysLate  \\\n",
       "count                    107395.000000            107395.000000   \n",
       "mean                          8.644239                 0.079361   \n",
       "std                           4.991891                 0.396488   \n",
       "min                           0.000000                 0.000000   \n",
       "25%                           5.000000                 0.000000   \n",
       "50%                           8.000000                 0.000000   \n",
       "75%                          11.000000                 0.000000   \n",
       "max                          34.000000                 5.000000   \n",
       "\n",
       "       NumberRealEstateLoansOrLines  NumberOfTime60-89DaysPastDueNotWorse  \\\n",
       "count                 107395.000000                         107395.000000   \n",
       "mean                       1.003063                              0.054798   \n",
       "std                        1.011977                              0.258251   \n",
       "min                        0.000000                              0.000000   \n",
       "25%                        0.000000                              0.000000   \n",
       "50%                        1.000000                              0.000000   \n",
       "75%                        2.000000                              0.000000   \n",
       "max                        7.000000                              2.000000   \n",
       "\n",
       "       NumberOfDependents  \n",
       "count       107395.000000  \n",
       "mean             0.844592  \n",
       "std              1.120570  \n",
       "min              0.000000  \n",
       "25%              0.000000  \n",
       "50%              0.000000  \n",
       "75%              2.000000  \n",
       "max              5.000000  "
      ]
     },
     "execution_count": 10,
     "metadata": {},
     "output_type": "execute_result"
    }
   ],
   "source": [
    "# 删除掉离群特征点\n",
    "def remove_outlier(df):\n",
    "    df_new = df.copy()\n",
    "    for col in ['RevolvingUtilizationOfUnsecuredLines',\n",
    "       'NumberOfTime30-59DaysPastDueNotWorse', 'DebtRatio',\n",
    "       'NumberOfOpenCreditLinesAndLoans', 'NumberOfTimes90DaysLate',\n",
    "       'NumberRealEstateLoansOrLines', 'NumberOfTime60-89DaysPastDueNotWorse',\n",
    "       'NumberOfDependents']:\n",
    "        rule1 = df_new[col] < df_new[col].quantile(q=0.999)\n",
    "        df_new = df_new[rule1]\n",
    "    return df_new\n",
    "\n",
    "X_ = remove_outlier(X)\n",
    "X_.describe()"
   ]
  },
  {
   "cell_type": "code",
   "execution_count": 11,
   "metadata": {
    "ExecuteTime": {
     "end_time": "2019-07-01T00:56:18.634551Z",
     "start_time": "2019-07-01T00:56:18.615424Z"
    }
   },
   "outputs": [],
   "source": [
    "y = y[X_.index].reset_index(drop=True)"
   ]
  },
  {
   "cell_type": "markdown",
   "metadata": {},
   "source": [
    "#### 年龄、收入分箱分析"
   ]
  },
  {
   "cell_type": "code",
   "execution_count": 12,
   "metadata": {
    "ExecuteTime": {
     "end_time": "2019-07-01T00:56:18.696975Z",
     "start_time": "2019-07-01T00:56:18.637928Z"
    },
    "scrolled": true
   },
   "outputs": [
    {
     "data": {
      "text/plain": [
       "IntervalIndex([(20.999, 44.0], (44.0, 58.0], (58.0, 103.0]],\n",
       "              closed='right',\n",
       "              dtype='interval[float64]')"
      ]
     },
     "execution_count": 12,
     "metadata": {},
     "output_type": "execute_result"
    }
   ],
   "source": [
    "# 注意到age有为0的，给以平均值\n",
    "X.loc[X.age == 0, \"age\"] = X.age.mean()\n",
    "\n",
    "cat_age = pd.qcut(X.age, [0, .33, .67, 1.])\n",
    "cat_age.cat.categories\n",
    "# 对age数值型特征 进行三分箱，大约为；[20-40, 40-60, 60+]；对应青年、中年、老年用户"
   ]
  },
  {
   "cell_type": "code",
   "execution_count": 13,
   "metadata": {
    "ExecuteTime": {
     "end_time": "2019-07-01T00:56:18.736352Z",
     "start_time": "2019-07-01T00:56:18.703371Z"
    },
    "scrolled": false
   },
   "outputs": [
    {
     "data": {
      "text/plain": [
       "IntervalIndex([(0.999, 3640.0], (3640.0, 5600.0], (5600.0, 8416.0], (8416.0, 3008750.0]],\n",
       "              closed='right',\n",
       "              dtype='interval[float64]')"
      ]
     },
     "execution_count": 13,
     "metadata": {},
     "output_type": "execute_result"
    }
   ],
   "source": [
    "cat_income = pd.qcut(X.MonthlyIncome, [0, .25, 0.5, .75, 1.])\n",
    "cat_income.cat.categories\n",
    "# 对月收入进行四分箱。\n",
    "# [0,3500], [3500, 5500], [5500, 8500], [8500,+] 分别对应低收入、中低收入、中高收入、高收入群体"
   ]
  },
  {
   "cell_type": "markdown",
   "metadata": {},
   "source": [
    "#### 年龄、收入变换为分类型特征"
   ]
  },
  {
   "cell_type": "code",
   "execution_count": 14,
   "metadata": {
    "ExecuteTime": {
     "start_time": "2019-07-01T00:56:18.745Z"
    },
    "scrolled": true
   },
   "outputs": [
    {
     "data": {
      "text/html": [
       "<div>\n",
       "<style scoped>\n",
       "    .dataframe tbody tr th:only-of-type {\n",
       "        vertical-align: middle;\n",
       "    }\n",
       "\n",
       "    .dataframe tbody tr th {\n",
       "        vertical-align: top;\n",
       "    }\n",
       "\n",
       "    .dataframe thead th {\n",
       "        text-align: right;\n",
       "    }\n",
       "</style>\n",
       "<table border=\"1\" class=\"dataframe\">\n",
       "  <thead>\n",
       "    <tr style=\"text-align: right;\">\n",
       "      <th></th>\n",
       "      <th>age_20-40</th>\n",
       "      <th>age_40-60</th>\n",
       "      <th>age_60+</th>\n",
       "      <th>month_income_0-3500</th>\n",
       "      <th>month_income_3500-5500</th>\n",
       "      <th>month_income_5500-8500</th>\n",
       "      <th>month_income_8500+</th>\n",
       "    </tr>\n",
       "  </thead>\n",
       "  <tbody>\n",
       "    <tr>\n",
       "      <th>0</th>\n",
       "      <td>0</td>\n",
       "      <td>1</td>\n",
       "      <td>0</td>\n",
       "      <td>0</td>\n",
       "      <td>0</td>\n",
       "      <td>0</td>\n",
       "      <td>1</td>\n",
       "    </tr>\n",
       "    <tr>\n",
       "      <th>1</th>\n",
       "      <td>1</td>\n",
       "      <td>0</td>\n",
       "      <td>0</td>\n",
       "      <td>1</td>\n",
       "      <td>0</td>\n",
       "      <td>0</td>\n",
       "      <td>0</td>\n",
       "    </tr>\n",
       "    <tr>\n",
       "      <th>2</th>\n",
       "      <td>1</td>\n",
       "      <td>0</td>\n",
       "      <td>0</td>\n",
       "      <td>1</td>\n",
       "      <td>0</td>\n",
       "      <td>0</td>\n",
       "      <td>0</td>\n",
       "    </tr>\n",
       "    <tr>\n",
       "      <th>3</th>\n",
       "      <td>1</td>\n",
       "      <td>0</td>\n",
       "      <td>0</td>\n",
       "      <td>1</td>\n",
       "      <td>0</td>\n",
       "      <td>0</td>\n",
       "      <td>0</td>\n",
       "    </tr>\n",
       "    <tr>\n",
       "      <th>4</th>\n",
       "      <td>0</td>\n",
       "      <td>1</td>\n",
       "      <td>0</td>\n",
       "      <td>0</td>\n",
       "      <td>0</td>\n",
       "      <td>0</td>\n",
       "      <td>1</td>\n",
       "    </tr>\n",
       "  </tbody>\n",
       "</table>\n",
       "</div>"
      ],
      "text/plain": [
       "   age_20-40  age_40-60  age_60+  month_income_0-3500  month_income_3500-5500  \\\n",
       "0          0          1        0                    0                       0   \n",
       "1          1          0        0                    1                       0   \n",
       "2          1          0        0                    1                       0   \n",
       "3          1          0        0                    1                       0   \n",
       "4          0          1        0                    0                       0   \n",
       "\n",
       "   month_income_5500-8500  month_income_8500+  \n",
       "0                       0                   1  \n",
       "1                       0                   0  \n",
       "2                       0                   0  \n",
       "3                       0                   0  \n",
       "4                       0                   1  "
      ]
     },
     "execution_count": 14,
     "metadata": {},
     "output_type": "execute_result"
    }
   ],
   "source": [
    "def data_preprocessing(df):\n",
    "    num_attr=df[['age','MonthlyIncome']]\n",
    "    X_cat = pd.DataFrame(columns=['age','month_income'])\n",
    "    X_cat['age'] = pd.cut(num_attr['age'],[0,40,60,120],labels=['20-40','40-60','60+'])\n",
    "    X_cat['month_income'] = pd.cut(num_attr['MonthlyIncome'],[0,3500,5500,8500,10000000],labels=['0-3500','3500-5500','5500-8500','8500+'])\n",
    "    cat_attr=pd.get_dummies(X_cat)\n",
    "    return cat_attr\n",
    "\n",
    "X_cat=data_preprocessing(X_)\n",
    "X_cat.head()"
   ]
  },
  {
   "cell_type": "markdown",
   "metadata": {},
   "source": [
    "#### 其他变量标准化"
   ]
  },
  {
   "cell_type": "code",
   "execution_count": 15,
   "metadata": {
    "ExecuteTime": {
     "start_time": "2019-07-01T00:56:18.749Z"
    },
    "scrolled": true
   },
   "outputs": [
    {
     "data": {
      "text/html": [
       "<div>\n",
       "<style scoped>\n",
       "    .dataframe tbody tr th:only-of-type {\n",
       "        vertical-align: middle;\n",
       "    }\n",
       "\n",
       "    .dataframe tbody tr th {\n",
       "        vertical-align: top;\n",
       "    }\n",
       "\n",
       "    .dataframe thead th {\n",
       "        text-align: right;\n",
       "    }\n",
       "</style>\n",
       "<table border=\"1\" class=\"dataframe\">\n",
       "  <thead>\n",
       "    <tr style=\"text-align: right;\">\n",
       "      <th></th>\n",
       "      <th>RevolvingUtilizationOfUnsecuredLines</th>\n",
       "      <th>NumberOfTime30-59DaysPastDueNotWorse</th>\n",
       "      <th>DebtRatio</th>\n",
       "      <th>NumberOfOpenCreditLinesAndLoans</th>\n",
       "      <th>NumberOfTimes90DaysLate</th>\n",
       "      <th>NumberRealEstateLoansOrLines</th>\n",
       "      <th>NumberOfTime60-89DaysPastDueNotWorse</th>\n",
       "      <th>NumberOfDependents</th>\n",
       "    </tr>\n",
       "  </thead>\n",
       "  <tbody>\n",
       "    <tr>\n",
       "      <th>0</th>\n",
       "      <td>0.014836</td>\n",
       "      <td>2.536137</td>\n",
       "      <td>2.247741</td>\n",
       "      <td>0.872571</td>\n",
       "      <td>-0.200162</td>\n",
       "      <td>4.937818</td>\n",
       "      <td>-0.212188</td>\n",
       "      <td>1.031094</td>\n",
       "    </tr>\n",
       "    <tr>\n",
       "      <th>1</th>\n",
       "      <td>0.028787</td>\n",
       "      <td>-0.361538</td>\n",
       "      <td>-0.827322</td>\n",
       "      <td>-0.930361</td>\n",
       "      <td>-0.200162</td>\n",
       "      <td>-0.991196</td>\n",
       "      <td>-0.212188</td>\n",
       "      <td>0.138687</td>\n",
       "    </tr>\n",
       "    <tr>\n",
       "      <th>2</th>\n",
       "      <td>0.006953</td>\n",
       "      <td>1.087299</td>\n",
       "      <td>-0.993300</td>\n",
       "      <td>-1.331013</td>\n",
       "      <td>2.321997</td>\n",
       "      <td>-0.991196</td>\n",
       "      <td>-0.212188</td>\n",
       "      <td>-0.753720</td>\n",
       "    </tr>\n",
       "    <tr>\n",
       "      <th>3</th>\n",
       "      <td>-0.024039</td>\n",
       "      <td>-0.361538</td>\n",
       "      <td>-1.214813</td>\n",
       "      <td>-0.730035</td>\n",
       "      <td>-0.200162</td>\n",
       "      <td>-0.991196</td>\n",
       "      <td>-0.212188</td>\n",
       "      <td>-0.753720</td>\n",
       "    </tr>\n",
       "    <tr>\n",
       "      <th>4</th>\n",
       "      <td>0.025142</td>\n",
       "      <td>1.087299</td>\n",
       "      <td>-1.265036</td>\n",
       "      <td>-0.329383</td>\n",
       "      <td>-0.200162</td>\n",
       "      <td>-0.003027</td>\n",
       "      <td>-0.212188</td>\n",
       "      <td>-0.753720</td>\n",
       "    </tr>\n",
       "  </tbody>\n",
       "</table>\n",
       "</div>"
      ],
      "text/plain": [
       "   RevolvingUtilizationOfUnsecuredLines  NumberOfTime30-59DaysPastDueNotWorse  \\\n",
       "0                              0.014836                              2.536137   \n",
       "1                              0.028787                             -0.361538   \n",
       "2                              0.006953                              1.087299   \n",
       "3                             -0.024039                             -0.361538   \n",
       "4                              0.025142                              1.087299   \n",
       "\n",
       "   DebtRatio  NumberOfOpenCreditLinesAndLoans  NumberOfTimes90DaysLate  \\\n",
       "0   2.247741                         0.872571                -0.200162   \n",
       "1  -0.827322                        -0.930361                -0.200162   \n",
       "2  -0.993300                        -1.331013                 2.321997   \n",
       "3  -1.214813                        -0.730035                -0.200162   \n",
       "4  -1.265036                        -0.329383                -0.200162   \n",
       "\n",
       "   NumberRealEstateLoansOrLines  NumberOfTime60-89DaysPastDueNotWorse  \\\n",
       "0                      4.937818                             -0.212188   \n",
       "1                     -0.991196                             -0.212188   \n",
       "2                     -0.991196                             -0.212188   \n",
       "3                     -0.991196                             -0.212188   \n",
       "4                     -0.003027                             -0.212188   \n",
       "\n",
       "   NumberOfDependents  \n",
       "0            1.031094  \n",
       "1            0.138687  \n",
       "2           -0.753720  \n",
       "3           -0.753720  \n",
       "4           -0.753720  "
      ]
     },
     "execution_count": 15,
     "metadata": {},
     "output_type": "execute_result"
    }
   ],
   "source": [
    "\n",
    "def standardize(df):\n",
    "    scaler = StandardScaler()\n",
    "    scaler.fit(df)\n",
    "    arr = scaler.transform(df)\n",
    "    return pd.DataFrame(arr, columns=df.columns)\n",
    "\n",
    "\n",
    "\n",
    "X_num = standardize(X_[['RevolvingUtilizationOfUnsecuredLines',\n",
    "       'NumberOfTime30-59DaysPastDueNotWorse', 'DebtRatio',\n",
    "       'NumberOfOpenCreditLinesAndLoans', 'NumberOfTimes90DaysLate',\n",
    "       'NumberRealEstateLoansOrLines', 'NumberOfTime60-89DaysPastDueNotWorse',\n",
    "       'NumberOfDependents']])\n",
    "X_num.head()"
   ]
  },
  {
   "cell_type": "code",
   "execution_count": 16,
   "metadata": {
    "ExecuteTime": {
     "start_time": "2019-07-01T00:56:18.752Z"
    }
   },
   "outputs": [
    {
     "name": "stdout",
     "output_type": "stream",
     "text": [
      "(107395, 8)\n",
      "(107395, 7)\n"
     ]
    }
   ],
   "source": [
    "print(X_num.shape)\n",
    "print(X_cat.shape)"
   ]
  },
  {
   "cell_type": "markdown",
   "metadata": {},
   "source": [
    "#### 组合处理后的数值型、类别型特征"
   ]
  },
  {
   "cell_type": "code",
   "execution_count": 17,
   "metadata": {
    "ExecuteTime": {
     "start_time": "2019-07-01T00:56:18.755Z"
    }
   },
   "outputs": [],
   "source": [
    "X_new = pd.concat([X_num.reset_index(drop=True), X_cat.reset_index(drop=True)], axis=1)"
   ]
  },
  {
   "cell_type": "markdown",
   "metadata": {},
   "source": [
    "#### 开始训练模型"
   ]
  },
  {
   "cell_type": "code",
   "execution_count": 18,
   "metadata": {
    "ExecuteTime": {
     "start_time": "2019-07-01T00:56:18.757Z"
    }
   },
   "outputs": [],
   "source": [
    "from sklearn.model_selection import train_test_split\n",
    "X_train, X_test, y_train, y_test = train_test_split(X_new, y, test_size=0.33, random_state=42)"
   ]
  },
  {
   "cell_type": "code",
   "execution_count": 19,
   "metadata": {
    "ExecuteTime": {
     "start_time": "2019-07-01T00:56:18.760Z"
    },
    "scrolled": false
   },
   "outputs": [
    {
     "data": {
      "text/plain": [
       "LogisticRegression(C=1.0, class_weight='balanced', dual=False,\n",
       "          fit_intercept=True, intercept_scaling=1, max_iter=100,\n",
       "          multi_class='warn', n_jobs=None, penalty='l2', random_state=None,\n",
       "          solver='warn', tol=0.0001, verbose=0, warm_start=False)"
      ]
     },
     "execution_count": 19,
     "metadata": {},
     "output_type": "execute_result"
    }
   ],
   "source": [
    "# 考虑样本不平衡问题\n",
    "from sklearn.linear_model import LogisticRegression\n",
    "lr_model = LogisticRegression(class_weight='balanced')\n",
    "lr_model.fit(X_train, y_train)"
   ]
  },
  {
   "cell_type": "code",
   "execution_count": 20,
   "metadata": {
    "ExecuteTime": {
     "start_time": "2019-07-01T00:56:18.763Z"
    },
    "scrolled": false
   },
   "outputs": [
    {
     "name": "stdout",
     "output_type": "stream",
     "text": [
      "[[ 0.02286012  0.49193208  0.24043842  0.01324506  0.5249304  -0.09487894\n",
      "   0.2921626   0.06488568  0.37062551  0.06680945 -0.52687605  0.14417785\n",
      "  -0.04379487 -0.19778421 -0.25029235]]\n",
      "[-0.34769357]\n"
     ]
    }
   ],
   "source": [
    "print(lr_model.coef_)\n",
    "print(lr_model.intercept_)"
   ]
  },
  {
   "cell_type": "code",
   "execution_count": 21,
   "metadata": {
    "ExecuteTime": {
     "start_time": "2019-07-01T00:56:18.766Z"
    },
    "scrolled": true
   },
   "outputs": [
    {
     "name": "stdout",
     "output_type": "stream",
     "text": [
      "Index(['RevolvingUtilizationOfUnsecuredLines',\n",
      "       'NumberOfTime30-59DaysPastDueNotWorse', 'DebtRatio',\n",
      "       'NumberOfOpenCreditLinesAndLoans', 'NumberOfTimes90DaysLate',\n",
      "       'NumberRealEstateLoansOrLines', 'NumberOfTime60-89DaysPastDueNotWorse',\n",
      "       'NumberOfDependents', 'age_20-40', 'age_40-60', 'age_60+',\n",
      "       'month_income_0-3500', 'month_income_3500-5500',\n",
      "       'month_income_5500-8500', 'month_income_8500+'],\n",
      "      dtype='object')\n"
     ]
    }
   ],
   "source": [
    "print(X_train.columns)"
   ]
  },
  {
   "cell_type": "markdown",
   "metadata": {},
   "source": [
    "由上可以知道，NumberOfTime30-59DaysPastDueNotWorse，NumberOfTimes90DaysLate，age_60+，age_20-40，NumberOfTime60-89DaysPastDueNotWorse等特征比较重要"
   ]
  },
  {
   "cell_type": "markdown",
   "metadata": {},
   "source": [
    "####  模型评估"
   ]
  },
  {
   "cell_type": "code",
   "execution_count": 22,
   "metadata": {
    "ExecuteTime": {
     "start_time": "2019-07-01T00:56:18.769Z"
    },
    "scrolled": false
   },
   "outputs": [
    {
     "data": {
      "text/plain": [
       "array([0.83198999, 0.83051907, 0.8321173 , 0.8323836 , 0.82696317])"
      ]
     },
     "execution_count": 22,
     "metadata": {},
     "output_type": "execute_result"
    }
   ],
   "source": [
    "from sklearn.model_selection import cross_val_score\n",
    "cross_val_score(lr_model, X_train, y_train, cv=5, scoring='accuracy')"
   ]
  },
  {
   "cell_type": "code",
   "execution_count": 23,
   "metadata": {
    "ExecuteTime": {
     "start_time": "2019-07-01T00:56:18.772Z"
    },
    "scrolled": true
   },
   "outputs": [
    {
     "data": {
      "text/plain": [
       "array([0.79022833, 0.81692512, 0.80641439, 0.80532066, 0.79735062])"
      ]
     },
     "execution_count": 23,
     "metadata": {},
     "output_type": "execute_result"
    }
   ],
   "source": [
    "cross_val_score(lr_model, X_train, y_train, cv=5, scoring='roc_auc')"
   ]
  },
  {
   "cell_type": "markdown",
   "metadata": {},
   "source": [
    "#### 2.使用决策树/SVM/KNN...等sklearn分类算法进行分类，尝试了解参数含义，调整不同的参数。"
   ]
  },
  {
   "cell_type": "code",
   "execution_count": 24,
   "metadata": {
    "ExecuteTime": {
     "start_time": "2019-07-01T00:56:18.775Z"
    }
   },
   "outputs": [],
   "source": [
    "from sklearn.model_selection import GridSearchCV\n",
    "from sklearn.tree import DecisionTreeClassifier\n",
    "from sklearn.svm import LinearSVC\n",
    "from sklearn.neighbors import KNeighborsClassifier"
   ]
  },
  {
   "cell_type": "markdown",
   "metadata": {},
   "source": [
    "#### 决策树"
   ]
  },
  {
   "cell_type": "code",
   "execution_count": 25,
   "metadata": {
    "ExecuteTime": {
     "start_time": "2019-07-01T00:56:18.778Z"
    },
    "scrolled": true
   },
   "outputs": [
    {
     "name": "stdout",
     "output_type": "stream",
     "text": [
      "{'class_weight': 'balanced', 'max_depth': 4} 0.8185185701333904\n"
     ]
    }
   ],
   "source": [
    "param_grid={\"max_depth\":[2, 4, 8], \"class_weight\": ['balanced']}  \n",
    "# max_depth 树的深度\n",
    "dt = GridSearchCV(DecisionTreeClassifier(),param_grid=param_grid,cv=5,scoring='roc_auc')\n",
    "dt.fit(X_train, y_train)\n",
    "print(dt.best_params_, dt.best_score_)"
   ]
  },
  {
   "cell_type": "markdown",
   "metadata": {},
   "source": [
    "#### SVM"
   ]
  },
  {
   "cell_type": "code",
   "execution_count": 26,
   "metadata": {
    "ExecuteTime": {
     "start_time": "2019-07-01T00:56:18.781Z"
    },
    "scrolled": true
   },
   "outputs": [],
   "source": [
    "param_grid={\"C\":[0.1, 1, 10], \"dual\": [True,False],\"class_weight\":['balanced']} \n",
    "# C :惩罚系数 dual:是否使用对偶形式来优化算法 class_weight:样本权重\n",
    "svm = GridSearchCV(LinearSVC(),param_grid=param_grid,cv=5,scoring='roc_auc')\n",
    "svm.fit(X_train, y_train)\n",
    "print(svm.best_params_, svm.best_score_)"
   ]
  },
  {
   "cell_type": "raw",
   "metadata": {},
   "source": [
    "{'C': 0.1, 'class_weight': 'balanced', 'dual': False} 0.8012059162314854"
   ]
  },
  {
   "cell_type": "markdown",
   "metadata": {},
   "source": [
    "#### KNN"
   ]
  },
  {
   "cell_type": "code",
   "execution_count": 27,
   "metadata": {
    "ExecuteTime": {
     "start_time": "2019-07-01T00:56:18.786Z"
    }
   },
   "outputs": [],
   "source": [
    "param_grid={\"n_neighbors\":[3, 5], \"weights\": ['distance'],\"metric\":['euclidean']}\n",
    "# n_neighbors:KNN算法的K值\n",
    "#weights：每个样本的近邻样本的权重  \"distance\"，则权重和距离成反比例\n",
    "#metric：距离，欧氏距离\n",
    "knn = GridSearchCV(KNeighborsClassifier(),param_grid=param_grid,cv=5,scoring='roc_auc')\n",
    "knn.fit(X_train, y_train)\n",
    "print(svm.best_params_, svm.best_score_)"
   ]
  },
  {
   "cell_type": "markdown",
   "metadata": {},
   "source": [
    "结论：\n",
    "决策树的AUC最高,且训练时间上，SVM和KNN的训练时间比LR和决策树多，并且可解释性上也比LR和决策树差。  \n",
    "所以在此样本集上，LR和决策树效果要比SVM、KNN好。  \n",
    "因为正负样本不平衡，应当用AUC来评估模型。  "
   ]
  },
  {
   "cell_type": "markdown",
   "metadata": {},
   "source": [
    "#### 3.在测试集上进行预测，计算准确度"
   ]
  },
  {
   "cell_type": "code",
   "execution_count": 28,
   "metadata": {
    "ExecuteTime": {
     "start_time": "2019-07-01T00:56:18.789Z"
    }
   },
   "outputs": [
    {
     "data": {
      "text/plain": [
       "0.7499452565707556"
      ]
     },
     "execution_count": 28,
     "metadata": {},
     "output_type": "execute_result"
    }
   ],
   "source": [
    "from sklearn.metrics import accuracy_score, roc_auc_score\n",
    "#LR\n",
    "accuracy_score(y_test, lr_model.predict(X_test))\n",
    "roc_auc_score(y_test, lr_model.predict(X_test))"
   ]
  },
  {
   "cell_type": "code",
   "execution_count": 29,
   "metadata": {
    "ExecuteTime": {
     "start_time": "2019-07-01T00:56:18.792Z"
    }
   },
   "outputs": [
    {
     "data": {
      "text/plain": [
       "0.7559380244490705"
      ]
     },
     "execution_count": 29,
     "metadata": {},
     "output_type": "execute_result"
    }
   ],
   "source": [
    "#决策树\n",
    "accuracy_score(y_test, lr_model.predict(X_test))\n",
    "roc_auc_score(y_test,dt.best_estimator_.predict(X_test))"
   ]
  },
  {
   "cell_type": "markdown",
   "metadata": {},
   "source": [
    "####  4.查看sklearn的官方说明，了解混淆矩阵等评估标准，并对此例进行评估。"
   ]
  },
  {
   "cell_type": "code",
   "execution_count": 30,
   "metadata": {
    "ExecuteTime": {
     "start_time": "2019-07-01T00:56:18.795Z"
    }
   },
   "outputs": [
    {
     "data": {
      "text/plain": [
       "array([[28089,  5098],\n",
       "       [  781,  1473]], dtype=int64)"
      ]
     },
     "execution_count": 30,
     "metadata": {},
     "output_type": "execute_result"
    }
   ],
   "source": [
    "from sklearn.metrics import confusion_matrix\n",
    "con_matrix = confusion_matrix(y_test, lr_model.predict(X_test))\n",
    "con_matrix"
   ]
  },
  {
   "cell_type": "markdown",
   "metadata": {},
   "source": [
    " 预测  非欺诈   欺诈\n",
    " \n",
    " 真实非欺诈 28089  5098\n",
    " 真实欺诈  781    1473"
   ]
  },
  {
   "cell_type": "markdown",
   "metadata": {
    "collapsed": true
   },
   "source": [
    "召回率 tpr = 65.3%，说明还有近35%的欺诈者没有被召回。"
   ]
  },
  {
   "cell_type": "markdown",
   "metadata": {},
   "source": [
    "####  5.银行通常会有更严格的要求，因为fraud带来的后果通常比较严重，一般我们会调整模型的标准。 请尝试调整阈值，并观察，记录这些变化。\n",
    "> 比如在logistic regression当中，一般我们的概率判定边界为0.5，但是我们可以把阈值设定低一些，来提高模型的“敏感度”   \n",
    "试试看把阈值设定为0.3，再看看这个时候的混淆矩阵等评估指标。"
   ]
  },
  {
   "cell_type": "code",
   "execution_count": 31,
   "metadata": {
    "ExecuteTime": {
     "start_time": "2019-07-01T00:56:18.799Z"
    }
   },
   "outputs": [
    {
     "data": {
      "text/plain": [
       "array([[13189, 19998],\n",
       "       [  179,  2075]], dtype=int64)"
      ]
     },
     "execution_count": 31,
     "metadata": {},
     "output_type": "execute_result"
    }
   ],
   "source": [
    "def my_matrix(x_test,y_test,threshold):\n",
    "    y_pred = lr_model.predict_proba(x_test)[:,1]>threshold\n",
    "    con_matrix = confusion_matrix(y_test,y_pred)\n",
    "    return con_matrix\n",
    "\n",
    "my_matrix(X_test,y_test,threshold=0.3)\n"
   ]
  },
  {
   "cell_type": "markdown",
   "metadata": {},
   "source": [
    "召回率 tpr = 85.2%，相对于0.5的阈值，召回率提升了20个百分点。降低阈值可以提高模型的召回率，也即所谓的敏感度。"
   ]
  },
  {
   "cell_type": "markdown",
   "metadata": {},
   "source": [
    "#### 6.尝试对不同特征的重要度进行排序，通过特征选择的方式，对特征进行筛选。并重新建模，观察此时的模型准确率等评估指标。"
   ]
  },
  {
   "cell_type": "code",
   "execution_count": 32,
   "metadata": {
    "ExecuteTime": {
     "start_time": "2019-07-01T00:56:18.802Z"
    },
    "scrolled": true
   },
   "outputs": [
    {
     "data": {
      "text/plain": [
       "RFE(estimator=LogisticRegression(C=1.0, class_weight='balanced', dual=False,\n",
       "          fit_intercept=True, intercept_scaling=1, max_iter=100,\n",
       "          multi_class='warn', n_jobs=None, penalty='l2', random_state=None,\n",
       "          solver='warn', tol=0.0001, verbose=0, warm_start=False),\n",
       "  n_features_to_select=5, step=1, verbose=0)"
      ]
     },
     "execution_count": 32,
     "metadata": {},
     "output_type": "execute_result"
    }
   ],
   "source": [
    "from sklearn.feature_selection import RFE\n",
    "lr = LogisticRegression(class_weight='balanced')\n",
    "rfe = RFE(lr,n_features_to_select=5)\n",
    "rfe.fit(X_train,y_train)"
   ]
  },
  {
   "cell_type": "code",
   "execution_count": 33,
   "metadata": {
    "ExecuteTime": {
     "start_time": "2019-07-01T00:56:18.805Z"
    },
    "scrolled": true
   },
   "outputs": [
    {
     "data": {
      "text/plain": [
       "[(1, 'NumberOfTime30-59DaysPastDueNotWorse'),\n",
       " (1, 'NumberOfTime60-89DaysPastDueNotWorse'),\n",
       " (1, 'NumberOfTimes90DaysLate'),\n",
       " (1, 'age_60+'),\n",
       " (1, 'month_income_0-3500'),\n",
       " (2, 'age_20-40'),\n",
       " (3, 'DebtRatio'),\n",
       " (4, 'month_income_8500+'),\n",
       " (5, 'month_income_5500-8500'),\n",
       " (6, 'NumberRealEstateLoansOrLines'),\n",
       " (7, 'NumberOfDependents'),\n",
       " (8, 'age_40-60'),\n",
       " (9, 'month_income_3500-5500'),\n",
       " (10, 'RevolvingUtilizationOfUnsecuredLines'),\n",
       " (11, 'NumberOfOpenCreditLinesAndLoans')]"
      ]
     },
     "execution_count": 33,
     "metadata": {},
     "output_type": "execute_result"
    }
   ],
   "source": [
    "sorted(list(zip(rfe.ranking_,X_train.columns)))"
   ]
  },
  {
   "cell_type": "markdown",
   "metadata": {},
   "source": [
    "较重要的特征是(1, 'NumberOfTime30-59DaysPastDueNotWorse'),\n",
    " (1, 'NumberOfTime60-89DaysPastDueNotWorse'),\n",
    " (1, 'NumberOfTimes90DaysLate'),\n",
    " (1, 'age_60+'),\n",
    " (1, 'month_income_0-3500')\n",
    "与之前的观察基本吻合"
   ]
  },
  {
   "cell_type": "markdown",
   "metadata": {},
   "source": [
    "***\n",
    "<center><h1>####答卷结束####</h1></center>"
   ]
  },
  {
   "cell_type": "code",
   "execution_count": null,
   "metadata": {},
   "outputs": [],
   "source": []
  },
  {
   "cell_type": "markdown",
   "metadata": {},
   "source": [
    "### 本周课程意见反馈(非必答)\n",
    "请同学围绕以下两点进行回答：\n",
    "- 自身总结：您自己在本周课程的学习，收获，技能掌握等方面进行总结，包括自身在哪些方面存在哪些不足，欠缺，困惑。作为将来回顾学习路径时的依据。\n",
    "- 课程反馈：也可以就知识点，进度，难易度，教学方式，考试方式等等进行意见反馈，督促我们进行更有效的改进，为大家提供更优质的服务。"
   ]
  }
 ],
 "metadata": {
  "kernelspec": {
   "display_name": "Python 3",
   "language": "python",
   "name": "python3"
  },
  "language_info": {
   "codemirror_mode": {
    "name": "ipython",
    "version": 3
   },
   "file_extension": ".py",
   "mimetype": "text/x-python",
   "name": "python",
   "nbconvert_exporter": "python",
   "pygments_lexer": "ipython3",
   "version": "3.7.3"
  },
  "toc": {
   "base_numbering": 1,
   "nav_menu": {},
   "number_sections": true,
   "sideBar": true,
   "skip_h1_title": false,
   "title_cell": "Table of Contents",
   "title_sidebar": "Contents",
   "toc_cell": false,
   "toc_position": {},
   "toc_section_display": true,
   "toc_window_display": false
  }
 },
 "nbformat": 4,
 "nbformat_minor": 2
}
