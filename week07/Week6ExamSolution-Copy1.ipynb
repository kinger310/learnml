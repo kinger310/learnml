{
 "cells": [
  {
   "cell_type": "markdown",
   "metadata": {},
   "source": [
    "## 简答题(共4题，每题5分，共计20分)"
   ]
  },
  {
   "cell_type": "markdown",
   "metadata": {},
   "source": [
    "#### 1. 请写出你了解的机器学习特征工程操作，以及它的意义（面试题）"
   ]
  },
  {
   "cell_type": "markdown",
   "metadata": {},
   "source": [
    "##### 特征工程\n",
    "\n",
    "- 1.数值幅度缩放:log,MinMax,Z-score\n",
    "- 2.统计结果作为新特征\n",
    "- 3.缺失值处理\n",
    "- 4.高次特征和交叉特征   \n",
    "   - 通过生成高次项特征增加维度 PolynomialFeatures专门产生多项式的，并且多项式包含的是相互影响的特征集。\n",
    "   比如：一个输入样本是２维的。形式如[a,b] ,则二阶多项式的特征集如下[1,a,b,a^2,ab,b^2]\n",
    "- 5.离散化、分箱、分桶   \n",
    "   - 等距离cut：按等间距切分 等频qcut：百分比切分\n",
    "- 6.独热向量编码\n",
    "- 7.时间日期型   \n",
    "   - 可以得到其他维度的时间特征\n",
    "- 8.组合特征\n",
    "\n",
    "##### 特征选择\n",
    "- 1.过滤式/Filter（较少使用） 根据每一列与target的相关性选择\n",
    "- 2.包裹式/wrapper RFE,递归去除列评估结果\n",
    "- 3.嵌入式/Embedded\n",
    "\n",
    "#### 意义总结：\n",
    "特征工程是从原始数据中去除噪音、提取有用信息的过程，提取后的特征能够最大限度地反映数据的统计特性，对最终的预测和分类有更强的表现力"
   ]
  },
  {
   "cell_type": "markdown",
   "metadata": {},
   "source": [
    "#### 2.请写出上述特征工程操作的sklearn或者pandas实现方式"
   ]
  },
  {
   "cell_type": "markdown",
   "metadata": {},
   "source": [
    "#### 1.幅度缩放\n",
    "```\n",
    "df.Age.apply(np.log)\n",
    "sklearn:MinMaxScaler\n",
    "sklearn:StandardScaler\n",
    "```\n",
    "#### 2.统计结果作为特征：\n",
    "```\n",
    "df_train.loc[:,'FamilySize'] = df_train['SibSp'] + df_train['Parch'] + 1 \n",
    "df_train.sample(10)\n",
    "```\n",
    "#### 3.缺失值处理\n",
    "```\n",
    "df_train['Age'] = df_train['Age'].fillna(df_train['Age'].mean())\n",
    "```\n",
    "#### 4.高次特征和交叉特征\n",
    "```\n",
    "from sklearn.preprocessing import PolynomialFeatures\n",
    "poly = PolynomialFeatures(degree=2)\n",
    "poly.fit_transform(df_train[['SibSp','Parch']])\n",
    "```\n",
    "#### 5.归一化\n",
    "```\n",
    "Normalizer()\n",
    "```\n",
    "#### 6.独热向量编码\n",
    "\n",
    "```\n",
    "pandas.get_dummies()\n",
    "skelarn:OneHotEncoder\n",
    "```\n",
    "\n",
    "#### 7.日期时间\n",
    "```\n",
    "pandas:to_datetime\n",
    "dt.month dt.dayofweek dt.dayofyear\n",
    "```\n",
    "\n",
    "#### 8.文本\n",
    "````\n",
    "sklearn:CountVectorizer\n",
    "sklearn:TfidfVectorizer\n",
    "gensim:word2vec\n",
    "````\n",
    "\n",
    "\n",
    "#### 特征选择：\n",
    "#### 1.过滤式/Filter（较少使用）\n",
    "根据每一列与target的相关性选择\n",
    "```\n",
    "from sklearn.feature_selection import SelectPercentile\n",
    "import numpy as np\n",
    "select = SelectPercentile(percentile=70)\n",
    "```\n",
    "#### 2.包裹式/wrapper\n",
    "RFE,递归去除列评估结果\n",
    "```\n",
    "from sklearn.feature_selection import RFE\n",
    "select = RFE(RandomForestClassifier(n_estimators=100, random_state=42), n_features_to_select=40)\n",
    "#select = RFE(LogisticRegression(penalty=\"l1\"), n_features_to_select=40)\n",
    "```\n",
    "\n",
    "#### 3.嵌入式/Embedded\n",
    "```\n",
    "from sklearn.feature_selection import SelectFromModel\n",
    "select = SelectFromModel(RandomForestClassifier(n_estimators=100, random_state=42), threshold=\"median\")\n",
    "```"
   ]
  },
  {
   "cell_type": "markdown",
   "metadata": {},
   "source": [
    "#### 3.模型评估中的留一法，留出法，交叉验证分别是什么操作？"
   ]
  },
  {
   "cell_type": "markdown",
   "metadata": {},
   "source": [
    "#### 留一法：\n",
    "就是每次只留下一个样本做测试集，其它样本做训练集，如果有k个样本，则需要训练k次，测试k次。\n",
    "\n",
    "#### 留出法：\n",
    "把D划分为两部分：训练集S和测试集T，在S上训练，在T上做测试。\n",
    "\n",
    "#### 交叉验证:\n",
    "将训练集划分为K折，取一部分作为测试集，其他K-1部分作为训练集，对训练集训练后，然后切换训练集-测试集，从K-1的部分中选取一个测试机，剩下的作为训练集，然后在训练模型，这样循环完毕K折，得到的结果求平均。\n",
    "\n",
    "#### 步骤：\n",
    "1、 将全部训练集 S分成 k个不相交的子集，假设 S中的训练样例个数为 m，那么每一个子 集有 m/k 个训练样例，，相应的子集称作 {s1,s2,…,sk}。   \n",
    "2、每次从分好的子集中里面，拿出一个作为测试集，其它k-1个作为训练集   \n",
    "3、根据训练训练出模型或者假设函数。   \n",
    "4、 把这个模型放到测试集上，得到分类率。   \n",
    "5、计算k次求得的分类率的平均值，作为该模型或者假设函数的真实分类率。 "
   ]
  },
  {
   "cell_type": "markdown",
   "metadata": {},
   "source": [
    "#### 4.如何理解模型的过拟合与欠拟合，以及如何解决？（面试题）"
   ]
  },
  {
   "cell_type": "markdown",
   "metadata": {},
   "source": [
    "#### 欠拟合：\n",
    "模型表达能力弱，不能完全拟合数据集。\n",
    "#### 解决欠拟合：\n",
    "增加维度特征，可以通过多项式高次特征、统计等方式增加新的维度\n",
    "\n",
    "#### 过拟合：\n",
    "模型过于拟合训练集，导致对于一些噪声误差数据也进行了拟合，这样的模型泛化能力较差。说直白就是对训练集进行了”死记硬背“，会导致到了测试集上无法拟合。\n",
    "#### 解决过拟合:\n",
    "对某些模型来讲最粗暴的方式就是直接增加训练集的大小   \n",
    "在代价函数后面添加正则化项（L1、L2正则），例如lasso和ridge等   \n",
    "bagging方式中的投票机制和bootstrap，例如随机森林等,让每棵树只看到一部分样本   \n",
    "树模型中可以对树的深度、叶子结点个数等参数进行限制，防止模型过拟合   \n",
    "树模型的剪枝操作   \n",
    "神经网络中的dropout等   "
   ]
  },
  {
   "cell_type": "markdown",
   "metadata": {},
   "source": [
    "## 操作题(共1题，共计80分)"
   ]
  },
  {
   "cell_type": "markdown",
   "metadata": {},
   "source": [
    "### 信用卡欺诈项目(共7项，前5项每题10分，6，7题每题15分)"
   ]
  },
  {
   "cell_type": "markdown",
   "metadata": {},
   "source": [
    " #### 前期数据导入,预览及处理(此部分勿修改，涉及的数据文件无需复制移动)"
   ]
  },
  {
   "cell_type": "code",
   "execution_count": 41,
   "metadata": {
    "ExecuteTime": {
     "end_time": "2019-07-02T13:34:04.234666Z",
     "start_time": "2019-07-02T13:34:04.023451Z"
    }
   },
   "outputs": [
    {
     "data": {
      "text/html": [
       "<div>\n",
       "<style scoped>\n",
       "    .dataframe tbody tr th:only-of-type {\n",
       "        vertical-align: middle;\n",
       "    }\n",
       "\n",
       "    .dataframe tbody tr th {\n",
       "        vertical-align: top;\n",
       "    }\n",
       "\n",
       "    .dataframe thead th {\n",
       "        text-align: right;\n",
       "    }\n",
       "</style>\n",
       "<table border=\"1\" class=\"dataframe\">\n",
       "  <thead>\n",
       "    <tr style=\"text-align: right;\">\n",
       "      <th></th>\n",
       "      <th>SeriousDlqin2yrs</th>\n",
       "      <th>RevolvingUtilizationOfUnsecuredLines</th>\n",
       "      <th>age</th>\n",
       "      <th>NumberOfTime30-59DaysPastDueNotWorse</th>\n",
       "      <th>DebtRatio</th>\n",
       "      <th>MonthlyIncome</th>\n",
       "      <th>NumberOfOpenCreditLinesAndLoans</th>\n",
       "      <th>NumberOfTimes90DaysLate</th>\n",
       "      <th>NumberRealEstateLoansOrLines</th>\n",
       "      <th>NumberOfTime60-89DaysPastDueNotWorse</th>\n",
       "      <th>NumberOfDependents</th>\n",
       "    </tr>\n",
       "  </thead>\n",
       "  <tbody>\n",
       "    <tr>\n",
       "      <th>0</th>\n",
       "      <td>1</td>\n",
       "      <td>0.766127</td>\n",
       "      <td>45.0</td>\n",
       "      <td>2.0</td>\n",
       "      <td>0.802982</td>\n",
       "      <td>9120.0</td>\n",
       "      <td>13.0</td>\n",
       "      <td>0.0</td>\n",
       "      <td>6.0</td>\n",
       "      <td>0.0</td>\n",
       "      <td>2.0</td>\n",
       "    </tr>\n",
       "    <tr>\n",
       "      <th>1</th>\n",
       "      <td>0</td>\n",
       "      <td>0.957151</td>\n",
       "      <td>40.0</td>\n",
       "      <td>0.0</td>\n",
       "      <td>0.121876</td>\n",
       "      <td>2600.0</td>\n",
       "      <td>4.0</td>\n",
       "      <td>0.0</td>\n",
       "      <td>0.0</td>\n",
       "      <td>0.0</td>\n",
       "      <td>1.0</td>\n",
       "    </tr>\n",
       "    <tr>\n",
       "      <th>2</th>\n",
       "      <td>0</td>\n",
       "      <td>0.658180</td>\n",
       "      <td>38.0</td>\n",
       "      <td>1.0</td>\n",
       "      <td>0.085113</td>\n",
       "      <td>3042.0</td>\n",
       "      <td>2.0</td>\n",
       "      <td>1.0</td>\n",
       "      <td>0.0</td>\n",
       "      <td>0.0</td>\n",
       "      <td>0.0</td>\n",
       "    </tr>\n",
       "    <tr>\n",
       "      <th>3</th>\n",
       "      <td>0</td>\n",
       "      <td>0.233810</td>\n",
       "      <td>30.0</td>\n",
       "      <td>0.0</td>\n",
       "      <td>0.036050</td>\n",
       "      <td>3300.0</td>\n",
       "      <td>5.0</td>\n",
       "      <td>0.0</td>\n",
       "      <td>0.0</td>\n",
       "      <td>0.0</td>\n",
       "      <td>0.0</td>\n",
       "    </tr>\n",
       "    <tr>\n",
       "      <th>4</th>\n",
       "      <td>0</td>\n",
       "      <td>0.907239</td>\n",
       "      <td>49.0</td>\n",
       "      <td>1.0</td>\n",
       "      <td>0.024926</td>\n",
       "      <td>63588.0</td>\n",
       "      <td>7.0</td>\n",
       "      <td>0.0</td>\n",
       "      <td>1.0</td>\n",
       "      <td>0.0</td>\n",
       "      <td>0.0</td>\n",
       "    </tr>\n",
       "  </tbody>\n",
       "</table>\n",
       "</div>"
      ],
      "text/plain": [
       "   SeriousDlqin2yrs  RevolvingUtilizationOfUnsecuredLines   age  \\\n",
       "0                 1                              0.766127  45.0   \n",
       "1                 0                              0.957151  40.0   \n",
       "2                 0                              0.658180  38.0   \n",
       "3                 0                              0.233810  30.0   \n",
       "4                 0                              0.907239  49.0   \n",
       "\n",
       "   NumberOfTime30-59DaysPastDueNotWorse  DebtRatio  MonthlyIncome  \\\n",
       "0                                   2.0   0.802982         9120.0   \n",
       "1                                   0.0   0.121876         2600.0   \n",
       "2                                   1.0   0.085113         3042.0   \n",
       "3                                   0.0   0.036050         3300.0   \n",
       "4                                   1.0   0.024926        63588.0   \n",
       "\n",
       "   NumberOfOpenCreditLinesAndLoans  NumberOfTimes90DaysLate  \\\n",
       "0                             13.0                      0.0   \n",
       "1                              4.0                      0.0   \n",
       "2                              2.0                      1.0   \n",
       "3                              5.0                      0.0   \n",
       "4                              7.0                      0.0   \n",
       "\n",
       "   NumberRealEstateLoansOrLines  NumberOfTime60-89DaysPastDueNotWorse  \\\n",
       "0                           6.0                                   0.0   \n",
       "1                           0.0                                   0.0   \n",
       "2                           0.0                                   0.0   \n",
       "3                           0.0                                   0.0   \n",
       "4                           1.0                                   0.0   \n",
       "\n",
       "   NumberOfDependents  \n",
       "0                 2.0  \n",
       "1                 1.0  \n",
       "2                 0.0  \n",
       "3                 0.0  \n",
       "4                 0.0  "
      ]
     },
     "execution_count": 41,
     "metadata": {},
     "output_type": "execute_result"
    }
   ],
   "source": [
    "import pandas as pd\n",
    "pd.set_option('display.max_columns', 500)\n",
    "import zipfile\n",
    "with zipfile.ZipFile('../Data/KaggleCredit2.zip', 'r') as z:\n",
    "    f = z.open('KaggleCredit2.csv')\n",
    "    data = pd.read_csv(f, index_col=0)\n",
    "data.head()"
   ]
  },
  {
   "cell_type": "code",
   "execution_count": 42,
   "metadata": {
    "ExecuteTime": {
     "end_time": "2019-07-02T13:34:05.265076Z",
     "start_time": "2019-07-02T13:34:05.258717Z"
    }
   },
   "outputs": [
    {
     "data": {
      "text/plain": [
       "(112915, 11)"
      ]
     },
     "execution_count": 42,
     "metadata": {},
     "output_type": "execute_result"
    }
   ],
   "source": [
    "data.shape"
   ]
  },
  {
   "cell_type": "code",
   "execution_count": 43,
   "metadata": {
    "ExecuteTime": {
     "end_time": "2019-07-02T13:34:06.612970Z",
     "start_time": "2019-07-02T13:34:06.586249Z"
    },
    "scrolled": true
   },
   "outputs": [
    {
     "data": {
      "text/plain": [
       "SeriousDlqin2yrs                           0\n",
       "RevolvingUtilizationOfUnsecuredLines       0\n",
       "age                                     4267\n",
       "NumberOfTime30-59DaysPastDueNotWorse       0\n",
       "DebtRatio                                  0\n",
       "MonthlyIncome                              0\n",
       "NumberOfOpenCreditLinesAndLoans            0\n",
       "NumberOfTimes90DaysLate                    0\n",
       "NumberRealEstateLoansOrLines               0\n",
       "NumberOfTime60-89DaysPastDueNotWorse       0\n",
       "NumberOfDependents                      4267\n",
       "dtype: int64"
      ]
     },
     "execution_count": 43,
     "metadata": {},
     "output_type": "execute_result"
    }
   ],
   "source": [
    "data.isnull().sum(axis=0)"
   ]
  },
  {
   "cell_type": "code",
   "execution_count": 44,
   "metadata": {
    "ExecuteTime": {
     "end_time": "2019-07-02T13:34:07.856373Z",
     "start_time": "2019-07-02T13:34:07.810754Z"
    }
   },
   "outputs": [
    {
     "name": "stderr",
     "output_type": "stream",
     "text": [
      "/jxy8/jxy/.local/lib/python3.5/site-packages/ipykernel_launcher.py:2: UserWarning: Pandas doesn't allow columns to be created via a new attribute name - see https://pandas.pydata.org/pandas-docs/stable/indexing.html#attribute-access\n",
      "  \n"
     ]
    }
   ],
   "source": [
    "data.dropna(inplace=True)\n",
    "data.shapey = data['SeriousDlqin2yrs']\n",
    "X = data.drop('SeriousDlqin2yrs', axis=1)"
   ]
  },
  {
   "cell_type": "code",
   "execution_count": 45,
   "metadata": {
    "ExecuteTime": {
     "end_time": "2019-07-02T13:34:09.148668Z",
     "start_time": "2019-07-02T13:34:09.131520Z"
    }
   },
   "outputs": [
    {
     "data": {
      "text/plain": [
       "0.06742876076872101"
      ]
     },
     "execution_count": 45,
     "metadata": {},
     "output_type": "execute_result"
    }
   ],
   "source": [
    "y = data['SeriousDlqin2yrs']\n",
    "X = data.drop('SeriousDlqin2yrs', axis=1)\n",
    "y.mean()"
   ]
  },
  {
   "cell_type": "code",
   "execution_count": 46,
   "metadata": {
    "ExecuteTime": {
     "end_time": "2019-07-02T13:34:12.069641Z",
     "start_time": "2019-07-02T13:34:12.042483Z"
    }
   },
   "outputs": [
    {
     "name": "stdout",
     "output_type": "stream",
     "text": [
      "<class 'pandas.core.frame.DataFrame'>\n",
      "Int64Index: 108648 entries, 0 to 112914\n",
      "Data columns (total 10 columns):\n",
      "RevolvingUtilizationOfUnsecuredLines    108648 non-null float64\n",
      "age                                     108648 non-null float64\n",
      "NumberOfTime30-59DaysPastDueNotWorse    108648 non-null float64\n",
      "DebtRatio                               108648 non-null float64\n",
      "MonthlyIncome                           108648 non-null float64\n",
      "NumberOfOpenCreditLinesAndLoans         108648 non-null float64\n",
      "NumberOfTimes90DaysLate                 108648 non-null float64\n",
      "NumberRealEstateLoansOrLines            108648 non-null float64\n",
      "NumberOfTime60-89DaysPastDueNotWorse    108648 non-null float64\n",
      "NumberOfDependents                      108648 non-null float64\n",
      "dtypes: float64(10)\n",
      "memory usage: 9.1 MB\n"
     ]
    }
   ],
   "source": [
    "X.info()"
   ]
  },
  {
   "cell_type": "code",
   "execution_count": 47,
   "metadata": {
    "ExecuteTime": {
     "end_time": "2019-07-02T13:34:14.472267Z",
     "start_time": "2019-07-02T13:34:14.465582Z"
    }
   },
   "outputs": [
    {
     "data": {
      "text/plain": [
       "0    1\n",
       "1    0\n",
       "2    0\n",
       "3    0\n",
       "4    0\n",
       "Name: SeriousDlqin2yrs, dtype: int64"
      ]
     },
     "execution_count": 47,
     "metadata": {},
     "output_type": "execute_result"
    }
   ],
   "source": [
    "y.head()"
   ]
  },
  {
   "cell_type": "markdown",
   "metadata": {},
   "source": [
    "\n",
    "\n",
    "\n",
    "\n",
    "\n",
    "\n",
    "\n",
    "\n",
    "\n",
    "\n",
    "#### 以下为操作题"
   ]
  },
  {
   "cell_type": "markdown",
   "metadata": {
    "collapsed": true
   },
   "source": [
    "- 1.把数据切分成训练集和测试集"
   ]
  },
  {
   "cell_type": "code",
   "execution_count": 48,
   "metadata": {
    "ExecuteTime": {
     "end_time": "2019-07-02T13:34:18.805942Z",
     "start_time": "2019-07-02T13:34:18.779655Z"
    }
   },
   "outputs": [
    {
     "name": "stdout",
     "output_type": "stream",
     "text": [
      "(76053, 10) (32595, 10) (76053,) (32595,)\n"
     ]
    }
   ],
   "source": [
    "from sklearn.model_selection import train_test_split \n",
    "\n",
    "train_x,test_x,train_y,test_y  = train_test_split(X,y,test_size=0.3)\n",
    "print(train_x.shape,test_x.shape,train_y.shape,test_y.shape,)"
   ]
  },
  {
   "cell_type": "markdown",
   "metadata": {},
   "source": [
    "- 2.使用logistic regression建模，并且输出一下系数，分析重要度。   "
   ]
  },
  {
   "cell_type": "code",
   "execution_count": 49,
   "metadata": {
    "ExecuteTime": {
     "end_time": "2019-07-02T13:34:24.307072Z",
     "start_time": "2019-07-02T13:34:23.706289Z"
    }
   },
   "outputs": [
    {
     "name": "stderr",
     "output_type": "stream",
     "text": [
      "/jxy8/jxy/.local/lib/python3.5/site-packages/sklearn/linear_model/logistic.py:432: FutureWarning: Default solver will be changed to 'lbfgs' in 0.22. Specify a solver to silence this warning.\n",
      "  FutureWarning)\n"
     ]
    },
    {
     "name": "stdout",
     "output_type": "stream",
     "text": [
      "<bound method BaseEstimator.get_params of LogisticRegression(C=1.0, class_weight=None, dual=False, fit_intercept=True,\n",
      "                   intercept_scaling=1, l1_ratio=None, max_iter=100,\n",
      "                   multi_class='warn', n_jobs=None, penalty='l2',\n",
      "                   random_state=None, solver='warn', tol=0.0001, verbose=0,\n",
      "                   warm_start=False)>\n"
     ]
    }
   ],
   "source": [
    "from sklearn.linear_model import LogisticRegression\n",
    "lr = LogisticRegression()\n",
    "lr.fit(train_x,train_y)\n",
    "lr.predict(test_x)\n",
    "print(lr.get_params)\n"
   ]
  },
  {
   "cell_type": "markdown",
   "metadata": {},
   "source": [
    "- 3.使用决策树/SVM/KNN...等sklearn分类算法进行分类，尝试了解参数含义，调整不同的参数。"
   ]
  },
  {
   "cell_type": "code",
   "execution_count": 50,
   "metadata": {
    "ExecuteTime": {
     "end_time": "2019-07-02T13:34:26.767983Z",
     "start_time": "2019-07-02T13:34:26.402487Z"
    }
   },
   "outputs": [
    {
     "data": {
      "text/plain": [
       "DecisionTreeClassifier(class_weight=None, criterion='gini', max_depth=5,\n",
       "                       max_features=None, max_leaf_nodes=None,\n",
       "                       min_impurity_decrease=0.0, min_impurity_split=None,\n",
       "                       min_samples_leaf=1, min_samples_split=2,\n",
       "                       min_weight_fraction_leaf=0.0, presort=False,\n",
       "                       random_state=0, splitter='best')"
      ]
     },
     "execution_count": 50,
     "metadata": {},
     "output_type": "execute_result"
    }
   ],
   "source": [
    "# 决策树\n",
    "from sklearn.tree import DecisionTreeClassifier\n",
    "# 参数 \n",
    "#  criterion：树结点分裂标准，可选Gini/entropy\n",
    "#  max_depth：树的最大深度\n",
    "#  random_state：The minimum number of samples required to split an internal node\n",
    "tree = DecisionTreeClassifier(criterion='entropy', max_depth=3, random_state=0)\n",
    "tree.fit(train_x, train_y)\n",
    "\n",
    "#default CART\n",
    "tree_Gini = DecisionTreeClassifier(max_depth=5, random_state=0)\n",
    "tree_Gini.fit(train_x, train_y)\n"
   ]
  },
  {
   "cell_type": "code",
   "execution_count": 51,
   "metadata": {
    "ExecuteTime": {
     "end_time": "2019-07-02T13:35:58.073312Z",
     "start_time": "2019-07-02T13:34:30.733571Z"
    }
   },
   "outputs": [
    {
     "name": "stderr",
     "output_type": "stream",
     "text": [
      "/jxy8/jxy/.local/lib/python3.5/site-packages/sklearn/svm/base.py:193: FutureWarning: The default value of gamma will change from 'auto' to 'scale' in version 0.22 to account better for unscaled features. Set gamma explicitly to 'auto' or 'scale' to avoid this warning.\n",
      "  \"avoid this warning.\", FutureWarning)\n"
     ]
    },
    {
     "data": {
      "text/plain": [
       "SVC(C=2.0, cache_size=200, class_weight=None, coef0=0.0,\n",
       "    decision_function_shape='ovr', degree=3, gamma='auto_deprecated',\n",
       "    kernel='rbf', max_iter=-1, probability=False, random_state=0,\n",
       "    shrinking=True, tol=0.001, verbose=False)"
      ]
     },
     "execution_count": 51,
     "metadata": {},
     "output_type": "execute_result"
    }
   ],
   "source": [
    "# SVM\n",
    "from sklearn.svm import SVC\n",
    "# C:误差项的惩罚参数c\n",
    "# kernel:核函数\n",
    "svm = SVC(kernel='linear', C=1.0, random_state=0)\n",
    "svm.fit(train_x.head(500), train_y.head(500))\n",
    "\n",
    "svm_rbf = SVC(kernel='rbf', C=2.0, random_state=0)\n",
    "svm_rbf.fit(train_x.head(500), train_y.head(500)) \n"
   ]
  },
  {
   "cell_type": "code",
   "execution_count": 52,
   "metadata": {
    "ExecuteTime": {
     "end_time": "2019-07-02T13:35:58.207725Z",
     "start_time": "2019-07-02T13:35:58.077486Z"
    }
   },
   "outputs": [
    {
     "data": {
      "text/plain": [
       "KNeighborsClassifier(algorithm='auto', leaf_size=30, metric='minkowski',\n",
       "                     metric_params=None, n_jobs=None, n_neighbors=5, p=2,\n",
       "                     weights='uniform')"
      ]
     },
     "execution_count": 52,
     "metadata": {},
     "output_type": "execute_result"
    }
   ],
   "source": [
    "# KNN\n",
    "from sklearn.neighbors import KNeighborsClassifier\n",
    "# n_neighbors ：分组\n",
    "# p：Power parameter for the Minkowski metric.\n",
    "# metric：the distance metric to use for the tree.\n",
    "knn = KNeighborsClassifier(n_neighbors=5, p=2, metric='minkowski')\n",
    "knn.fit(train_x, train_y)"
   ]
  },
  {
   "cell_type": "markdown",
   "metadata": {},
   "source": [
    "- 4.在测试集上进行预测，计算准确度"
   ]
  },
  {
   "cell_type": "code",
   "execution_count": 23,
   "metadata": {
    "ExecuteTime": {
     "end_time": "2019-07-02T04:47:10.515157Z",
     "start_time": "2019-07-02T04:47:07.197816Z"
    }
   },
   "outputs": [
    {
     "name": "stdout",
     "output_type": "stream",
     "text": [
      "LR: 0.93\n",
      "DT: 0.93\n",
      "CART: 0.93\n",
      "SVM: 0.91\n",
      "svm_rbf: 0.93\n",
      "KNN: 0.93\n"
     ]
    }
   ],
   "source": [
    "from sklearn.metrics import accuracy_score\n",
    "# 逻辑回归\n",
    "pred_y_LR = lr.predict(test_x)\n",
    "print('LR: %.2f' % accuracy_score(test_y, pred_y_LR))\n",
    "\n",
    "# 决策树\n",
    "pred_y_DT = tree.predict(test_x)\n",
    "print('DT: %.2f' % accuracy_score(test_y, pred_y_DT))\n",
    "\n",
    "# 决策树CART\n",
    "pred_y_CART = tree_Gini.predict(test_x)\n",
    "print('CART: %.2f' % accuracy_score(test_y, pred_y_CART))\n",
    "\n",
    "\n",
    "# SVM\n",
    "pred_y_SVM = svm.predict(test_x)\n",
    "print('SVM: %.2f' % accuracy_score(test_y, pred_y_SVM))\n",
    "\n",
    "pred_y_SVM_rbf = svm_rbf.predict(test_x)\n",
    "print('svm_rbf: %.2f' % accuracy_score(test_y, pred_y_SVM_rbf))\n",
    "\n",
    "#KNN\n",
    "pred_y_KNN = knn.predict(test_x)\n",
    "print('KNN: %.2f' % accuracy_score(test_y, pred_y_KNN))\n",
    "\n"
   ]
  },
  {
   "cell_type": "markdown",
   "metadata": {},
   "source": [
    "- 5.查看sklearn的官方说明，了解混淆矩阵等评估标准，并对此例进行评估。"
   ]
  },
  {
   "cell_type": "code",
   "execution_count": 24,
   "metadata": {
    "ExecuteTime": {
     "end_time": "2019-07-02T04:47:10.565900Z",
     "start_time": "2019-07-02T04:47:10.518667Z"
    }
   },
   "outputs": [
    {
     "name": "stdout",
     "output_type": "stream",
     "text": [
      "混淆矩阵：\n",
      " [[30320    59]\n",
      " [ 2134    82]]\n"
     ]
    }
   ],
   "source": [
    "# 混淆矩阵是预测值与实际值得交叉情况。列代表预测的数据类别，行代表实际的类别\n",
    "from sklearn.metrics import confusion_matrix\n",
    "from sklearn import metrics\n",
    "\n",
    "matrix = confusion_matrix(test_y, pred_y_LR)\n",
    "TP = matrix[0,0]\n",
    "FP = matrix[0,1]\n",
    "FN = matrix[1,0]\n",
    "TN = matrix[1,1]\n",
    "print('混淆矩阵：\\n',matrix)\n",
    "# 结果中，30318表示预测为正样本并且实际为正样本的数量。第一行第二列表示预测为负样本，实际为正样本的数量是75\n",
    "# 第二行第一列表示实际为负样本预测为正样本的数量是2094，第二行第二列表示实际为负样本预测为负样本的数量为108"
   ]
  },
  {
   "cell_type": "code",
   "execution_count": 25,
   "metadata": {
    "ExecuteTime": {
     "end_time": "2019-07-02T04:47:10.812831Z",
     "start_time": "2019-07-02T04:47:10.568501Z"
    }
   },
   "outputs": [
    {
     "name": "stdout",
     "output_type": "stream",
     "text": [
      "LR:\n",
      "               precision    recall  f1-score   support\n",
      "\n",
      "           0       0.93      1.00      0.97     30379\n",
      "           1       0.58      0.04      0.07      2216\n",
      "\n",
      "    accuracy                           0.93     32595\n",
      "   macro avg       0.76      0.52      0.52     32595\n",
      "weighted avg       0.91      0.93      0.90     32595\n",
      "\n",
      "DT:\n",
      "               precision    recall  f1-score   support\n",
      "\n",
      "           0       0.94      1.00      0.97     30379\n",
      "           1       0.60      0.10      0.17      2216\n",
      "\n",
      "    accuracy                           0.93     32595\n",
      "   macro avg       0.77      0.55      0.57     32595\n",
      "weighted avg       0.92      0.93      0.91     32595\n",
      "\n",
      "CART:\n",
      "               precision    recall  f1-score   support\n",
      "\n",
      "           0       0.94      0.99      0.97     30379\n",
      "           1       0.55      0.21      0.30      2216\n",
      "\n",
      "    accuracy                           0.93     32595\n",
      "   macro avg       0.75      0.60      0.63     32595\n",
      "weighted avg       0.92      0.93      0.92     32595\n",
      "\n",
      "SVM:\n",
      "               precision    recall  f1-score   support\n",
      "\n",
      "           0       0.94      0.97      0.95     30379\n",
      "           1       0.23      0.11      0.15      2216\n",
      "\n",
      "    accuracy                           0.91     32595\n",
      "   macro avg       0.58      0.54      0.55     32595\n",
      "weighted avg       0.89      0.91      0.90     32595\n",
      "\n",
      "SVM_rbf:\n",
      "               precision    recall  f1-score   support\n",
      "\n",
      "           0       0.93      1.00      0.96     30379\n",
      "           1       0.08      0.00      0.01      2216\n",
      "\n",
      "    accuracy                           0.93     32595\n",
      "   macro avg       0.50      0.50      0.48     32595\n",
      "weighted avg       0.87      0.93      0.90     32595\n",
      "\n",
      "KNN:\n",
      "               precision    recall  f1-score   support\n",
      "\n",
      "           0       0.93      1.00      0.96     30379\n",
      "           1       0.30      0.02      0.03      2216\n",
      "\n",
      "    accuracy                           0.93     32595\n",
      "   macro avg       0.62      0.51      0.50     32595\n",
      "weighted avg       0.89      0.93      0.90     32595\n",
      "\n"
     ]
    }
   ],
   "source": [
    "from sklearn.metrics import classification_report\n",
    "print(\"LR:\\n\",classification_report(test_y, pred_y_LR))\n",
    "print(\"DT:\\n\",classification_report(test_y, pred_y_DT))\n",
    "\n",
    "print(\"CART:\\n\",classification_report(test_y, pred_y_CART))\n",
    "\n",
    "print(\"SVM:\\n\",classification_report(test_y, pred_y_SVM))\n",
    "\n",
    "print(\"SVM_rbf:\\n\",classification_report(test_y, pred_y_SVM_rbf))\n",
    "\n",
    "print(\"KNN:\\n\",classification_report(test_y, pred_y_KNN))\n",
    "\n"
   ]
  },
  {
   "cell_type": "markdown",
   "metadata": {},
   "source": [
    "- 6.银行通常会有更严格的要求，因为fraud带来的后果通常比较严重，一般我们会调整模型的标准。   \n",
    "比如在logistic regression当中，一般我们的概率判定边界为0.5，但是我们可以把阈值设定低一些，来提高模型的“敏感度”   \n",
    "试试看把阈值设定为0.3，再看看这个时候的混淆矩阵等评估指标。"
   ]
  },
  {
   "cell_type": "code",
   "execution_count": 28,
   "metadata": {
    "ExecuteTime": {
     "end_time": "2019-07-02T04:52:18.171668Z",
     "start_time": "2019-07-02T04:52:18.105358Z"
    },
    "run_control": {
     "marked": false
    }
   },
   "outputs": [
    {
     "name": "stdout",
     "output_type": "stream",
     "text": [
      "thredhold = 0.3 LR:\n",
      "               precision    recall  f1-score   support\n",
      "\n",
      "           0       0.94      0.99      0.96     30379\n",
      "           1       0.52      0.09      0.15      2216\n",
      "\n",
      "    accuracy                           0.93     32595\n",
      "   macro avg       0.73      0.54      0.56     32595\n",
      "weighted avg       0.91      0.93      0.91     32595\n",
      "\n"
     ]
    },
    {
     "data": {
      "text/plain": [
       "array([0.10701581, 0.02688398, 0.08725215, ..., 0.01721289, 0.0137342 ,\n",
       "       0.1119375 ])"
      ]
     },
     "execution_count": 28,
     "metadata": {},
     "output_type": "execute_result"
    }
   ],
   "source": [
    "from sklearn.linear_model import LogisticRegression\n",
    "\n",
    "lr_proba = lr.predict_proba(test_x)\n",
    "proba = lr_proba[:,1] > 0.3\n",
    "print(\"thredhold = 0.3 LR:\\n\",classification_report(test_y, proba))\n",
    "lr_proba[:,1]"
   ]
  },
  {
   "cell_type": "code",
   "execution_count": 33,
   "metadata": {
    "ExecuteTime": {
     "end_time": "2019-07-02T04:53:27.760119Z",
     "start_time": "2019-07-02T04:53:27.714106Z"
    }
   },
   "outputs": [
    {
     "name": "stdout",
     "output_type": "stream",
     "text": [
      "[[0.77944647 0.22055353]\n",
      " [0.98247978 0.01752022]\n",
      " [0.98247978 0.01752022]\n",
      " ...\n",
      " [0.98247978 0.01752022]\n",
      " [0.98247978 0.01752022]\n",
      " [0.98247978 0.01752022]]\n",
      "thredhold = 0.3 DT:\n",
      "               precision    recall  f1-score   support\n",
      "\n",
      "           0       0.95      0.98      0.96     30379\n",
      "           1       0.47      0.30      0.37      2216\n",
      "\n",
      "    accuracy                           0.93     32595\n",
      "   macro avg       0.71      0.64      0.67     32595\n",
      "weighted avg       0.92      0.93      0.92     32595\n",
      "\n"
     ]
    }
   ],
   "source": [
    "tree_proba = tree.predict_proba(test_x)\n",
    "print(tree_proba)\n",
    "tree_proba = tree_proba[:,1] > 0.3\n",
    "print(\"thredhold = 0.3 DT:\\n\",classification_report(test_y, tree_proba))\n"
   ]
  },
  {
   "cell_type": "markdown",
   "metadata": {},
   "source": [
    "- 7.尝试对不同特征的重要度进行排序，通过特征选择的方式，对特征进行筛选。并重新建模，观察此时的模型准确率等评估指标。"
   ]
  },
  {
   "cell_type": "code",
   "execution_count": 39,
   "metadata": {
    "ExecuteTime": {
     "end_time": "2019-07-02T05:03:11.028253Z",
     "start_time": "2019-07-02T05:03:10.991696Z"
    }
   },
   "outputs": [
    {
     "name": "stdout",
     "output_type": "stream",
     "text": [
      "特征得分： [3.70073112e-01 8.72174369e+02 1.22526212e+03 2.56484919e+02\n",
      " 3.71053102e+01 9.48652301e+01 1.02283377e+03 3.88522040e+01\n",
      " 7.36301511e+02 1.71194067e+02]\n",
      "筛选前的维度： (76053, 10)\n",
      "筛选后的维度： (76053, 7)\n"
     ]
    },
    {
     "data": {
      "text/plain": [
       "array([0, 4, 7, 5, 9, 3, 8, 1, 6, 2])"
      ]
     },
     "execution_count": 39,
     "metadata": {},
     "output_type": "execute_result"
    }
   ],
   "source": [
    "# filter \n",
    "from sklearn.feature_selection import SelectPercentile\n",
    "import numpy as np\n",
    "select = SelectPercentile(percentile=70)\n",
    "select.fit(train_x, train_y)\n",
    "# transform training set:\n",
    "X_train_selected = select.transform(train_x)\n",
    "print('特征得分：',select.scores_)\n",
    "print('筛选前的维度：',train_x.shape)\n",
    "print('筛选后的维度：',X_train_selected.shape)\n",
    "np.argsort(select.scores_)"
   ]
  },
  {
   "cell_type": "code",
   "execution_count": 40,
   "metadata": {
    "ExecuteTime": {
     "end_time": "2019-07-02T05:03:12.826035Z",
     "start_time": "2019-07-02T05:03:12.440869Z"
    }
   },
   "outputs": [
    {
     "name": "stderr",
     "output_type": "stream",
     "text": [
      "/jxy8/jxy/.local/lib/python3.5/site-packages/sklearn/linear_model/logistic.py:432: FutureWarning: Default solver will be changed to 'lbfgs' in 0.22. Specify a solver to silence this warning.\n",
      "  FutureWarning)\n"
     ]
    },
    {
     "name": "stdout",
     "output_type": "stream",
     "text": [
      "LR:\n",
      "               precision    recall  f1-score   support\n",
      "\n",
      "           0       1.00      0.00      0.00     30379\n",
      "           1       0.07      1.00      0.13      2216\n",
      "\n",
      "    accuracy                           0.07     32595\n",
      "   macro avg       0.53      0.50      0.06     32595\n",
      "weighted avg       0.94      0.07      0.01     32595\n",
      "\n"
     ]
    },
    {
     "data": {
      "text/plain": [
       "array([[   11, 30368],\n",
       "       [    0,  2216]])"
      ]
     },
     "execution_count": 40,
     "metadata": {},
     "output_type": "execute_result"
    }
   ],
   "source": [
    "# 基于以上筛选，对筛选后的特征进行建模并评估\n",
    "from sklearn.linear_model import LogisticRegression\n",
    "\n",
    "# 整理测试集，手动过滤特征集0, 4, 7, 5, 9, 3, 8\n",
    "X_test_selected = test_x.drop([test_x.columns[6],test_x.columns[1],test_x.columns[2]],axis=1)\n",
    "    \n",
    "lr_selected = LogisticRegression()\n",
    "\n",
    "lr_selected.fit(X_train_selected,train_y)\n",
    "pred = lr_selected.predict(X_test_selected)\n",
    "print(\"LR:\\n\",classification_report(test_y, pred))\n",
    "matrix2 = confusion_matrix(test_y, pred)\n",
    "matrix2"
   ]
  },
  {
   "cell_type": "code",
   "execution_count": null,
   "metadata": {},
   "outputs": [],
   "source": []
  },
  {
   "cell_type": "code",
   "execution_count": null,
   "metadata": {},
   "outputs": [],
   "source": []
  }
 ],
 "metadata": {
  "kernelspec": {
   "display_name": "Python 3",
   "language": "python",
   "name": "python3"
  },
  "language_info": {
   "codemirror_mode": {
    "name": "ipython",
    "version": 3
   },
   "file_extension": ".py",
   "mimetype": "text/x-python",
   "name": "python",
   "nbconvert_exporter": "python",
   "pygments_lexer": "ipython3",
   "version": "3.7.3"
  },
  "toc": {
   "base_numbering": 1,
   "nav_menu": {},
   "number_sections": true,
   "sideBar": true,
   "skip_h1_title": false,
   "title_cell": "Table of Contents",
   "title_sidebar": "Contents",
   "toc_cell": false,
   "toc_position": {},
   "toc_section_display": true,
   "toc_window_display": false
  }
 },
 "nbformat": 4,
 "nbformat_minor": 2
}
